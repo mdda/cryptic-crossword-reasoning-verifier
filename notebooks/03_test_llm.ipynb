{
 "cells": [
  {
   "cell_type": "markdown",
   "id": "c10ed47d-2114-47fa-b528-51c875f23255",
   "metadata": {
    "editable": true,
    "slideshow": {
     "slide_type": ""
    },
    "tags": []
   },
   "source": [
    "## Testing Plan\n",
    "\n",
    "* Simple LLM interface : Send query, get result\n",
    "* Single-shot and 5-shot\n",
    "* Run over a shuffled version of the test set (and shown, with timing)"
   ]
  },
  {
   "cell_type": "code",
   "execution_count": 1,
   "id": "19438f61-1dac-4c9a-8eb4-56924d42290f",
   "metadata": {
    "editable": true,
    "slideshow": {
     "slide_type": ""
    },
    "tags": []
   },
   "outputs": [],
   "source": [
    "import os\n",
    "import json, re\n",
    "import random\n",
    "import time, datetime, pytz\n",
    "\n",
    "tz = pytz.timezone('Asia/Singapore')"
   ]
  },
  {
   "cell_type": "code",
   "execution_count": 2,
   "id": "7da97d6c-1a69-472d-82b4-78ce396cb1be",
   "metadata": {
    "editable": true,
    "slideshow": {
     "slide_type": ""
    },
    "tags": []
   },
   "outputs": [],
   "source": [
    "%load_ext autoreload\n",
    "%autoreload 2"
   ]
  },
  {
   "cell_type": "code",
   "execution_count": 3,
   "id": "4c959544-d41a-4a02-bfe8-0ebc59736dc2",
   "metadata": {
    "editable": true,
    "slideshow": {
     "slide_type": ""
    },
    "tags": []
   },
   "outputs": [
    {
     "data": {
      "text/plain": [
       "(26156, 26157)"
      ]
     },
     "execution_count": 3,
     "metadata": {},
     "output_type": "execute_result"
    }
   ],
   "source": [
    "from solver.dataset import load_cryptonite_dataset, get_shuffled_idx\n",
    "\n",
    "data_train =load_cryptonite_dataset('train') # Needed for multi-shot examples for ~GPT4 etc\n",
    "shuffled_idx_train = get_shuffled_idx(data_train, seed=42)\n",
    "\n",
    "data_val =load_cryptonite_dataset('val')\n",
    "shuffled_idx_val = get_shuffled_idx(data_val, seed=42)\n",
    "\n",
    "data_test=load_cryptonite_dataset('test')\n",
    "shuffled_idx_test = get_shuffled_idx(data_test, seed=42)\n",
    "\n",
    "len(data_val), len(data_test)"
   ]
  },
  {
   "cell_type": "code",
   "execution_count": 4,
   "id": "1ba26525-ced6-404b-8843-16e5ed466e94",
   "metadata": {
    "editable": true,
    "slideshow": {
     "slide_type": ""
    },
    "tags": []
   },
   "outputs": [],
   "source": [
    "def log_file_name(t, stub):  # stub='gemini'\n",
    "  pth=f\"./experiments/zero-shot/{stub}\"\n",
    "  os.makedirs(pth, exist_ok=True)\n",
    "  #dt = time.strftime('%Y-%B-%d', time.gmtime(c['date']/1000)) #  %Y-%m-%d %H:%M:%S\n",
    "  dt = time.strftime('%Y-%m-%d_%H-%M-%S', time.gmtime(t)) # Suitable for filename\n",
    "  return f'{pth}/{dt}.log'"
   ]
  },
  {
   "cell_type": "code",
   "execution_count": 49,
   "id": "9e3e08f7",
   "metadata": {
    "editable": true,
    "slideshow": {
     "slide_type": ""
    },
    "tags": []
   },
   "outputs": [],
   "source": [
    "def run_samples(fn_get_model_response, stub, data_set, shuffled_idx, samples=10):\n",
    "  t0=time.time()\n",
    "  log_file = log_file_name(t0, stub)\n",
    "  flog = open(log_file, 'a')\n",
    "\n",
    "  pos, cnt = 0, 0\n",
    "  for idx in range(samples):\n",
    "    item = data_set[shuffled_idx[idx]]  \n",
    "    ans_model = fn_get_model_response(item, flog=flog)\n",
    "    ans_data  = item['answer'].upper()\n",
    "    print(f'Correct:\"{ans_data}\", Model:\"{ans_model}\"')\n",
    "    #print(test_item)\n",
    "    if type(ans_model) is str and ans_model==ans_data:\n",
    "      pos+=1\n",
    "    if type(ans_model) is list and len(ans_model)>0:\n",
    "      if type(ans_model[0]) is str and ans_model[0]==ans_data:\n",
    "        pos+=1\n",
    "    if type(ans_model) is tuple:  #  and len(ans_model)>0\n",
    "      if type(ans_model[0]) is list and len(ans_model[0])>0:\n",
    "        if type(ans_model[0][0]) is str and ans_model[0][0]==ans_data:\n",
    "          pos+=1\n",
    "    cnt+=1\n",
    "    \n",
    "    elapsed=(time.time()-t0)\n",
    "    remaining=elapsed/cnt*(samples-cnt)\n",
    "    eta_local = datetime.datetime.now(tz)+datetime.timedelta(seconds=remaining)\n",
    "    print(f\"@{idx:4d} : {pos:4d}/{samples:4d} correct={100.*pos/cnt:5.2f}% ({elapsed/cnt:5.2f}s/iter ETA:{eta_local.strftime('%Y-%m-%d %H:%M:%S %Z')})\") # Remaining:{remaining:5.0f}s \n",
    "  \n",
    "  flog.close()\n",
    "  print(f\"DONE : {100.*pos/cnt:7.2f}% correct in '{log_file}', \")"
   ]
  },
  {
   "cell_type": "code",
   "execution_count": 8,
   "id": "bd735ee8",
   "metadata": {
    "editable": true,
    "lines_to_next_cell": 1,
    "slideshow": {
     "slide_type": ""
    },
    "tags": []
   },
   "outputs": [],
   "source": [
    "# Now let's compute the percentage correct from the log-file itself\n",
    "#time.strftime('%Y-%B-%d', time.gmtime(1561766400000/1000))\n",
    "def compute_score_from_logs(flog_arr, data_set, shuffled_idx, track_candidates=False):\n",
    "  overlaid, overlaid_candidates = dict(), dict()\n",
    "  for flog in flog_arr:\n",
    "    with open(flog, 'r') as fin:\n",
    "      for line in fin.readlines():\n",
    "        if not '#RESULT#' in line: \n",
    "          continue\n",
    "        if ':*:' in line:\n",
    "          if track_candidates:\n",
    "            _,idx_shuffled, idx_orig, ans, candidates = line.split(':*:')\n",
    "          else:\n",
    "            _,idx_shuffled, idx_orig, ans = line.split(':*:')\n",
    "        else: # older version\n",
    "          _,idx_shuffled, idx_orig, ans = line.split(':')\n",
    "        idx_shuffled=int(idx_shuffled)\n",
    "        overlaid[idx_shuffled]=ans.upper().strip()\n",
    "        if track_candidates:\n",
    "          overlaid_candidates[idx_shuffled]=candidates.upper().strip()\n",
    "  # Now that we have the 'final' ans in overlaid, let's score them\n",
    "  res_arr=[]\n",
    "  pos, cnt = 0, 0\n",
    "  pos_q, cnt_q = 0, 0\n",
    "  pos_c, cnt_c = 0, 0  # Candidates maximum\n",
    "  for idx, ans_model in overlaid.items():\n",
    "    item = data_set[shuffled_idx[idx]]  \n",
    "    ans_data  = item['answer'].upper()\n",
    "    #print(f'@{idx: <4d} Model:\"{ans_model}\", Correct:\"{ans_data}\"')\n",
    "    \n",
    "    correct = (ans_model==ans_data)\n",
    "    if correct:\n",
    "      pos+=1\n",
    "    cnt+=1\n",
    "    if item['quick']:\n",
    "      if correct:\n",
    "        pos_q+=1\n",
    "      cnt_q+=1\n",
    "    res_arr.append( (correct, item['quick']) )\n",
    "    if track_candidates:\n",
    "      candidates = [c.strip() for c in overlaid_candidates[idx].split(',')]\n",
    "      found=False\n",
    "      for c in candidates:\n",
    "        if c==ans_model: continue # Skip the candidate that we already know\n",
    "        if c==ans_data:\n",
    "          found=True\n",
    "          break\n",
    "      if found:\n",
    "        pos_c+=1\n",
    "      if len(candidates)>0:\n",
    "        cnt_c+=1\n",
    "    \n",
    "  print(f\"Overall : {pos:4d}/{cnt:4d} correct={100.*pos/cnt:5.2f}%\")\n",
    "  if cnt_q>0: \n",
    "    print(f\"  Quick : {pos_q:4d}/{cnt_q:4d} correct={100.*pos_q/cnt_q:5.2f}%\")\n",
    "  print(f\"   Hard : {pos-pos_q:4d}/{cnt-cnt_q:4d} correct={100.*(pos-pos_q)/(cnt-cnt_q):5.2f}%\")\n",
    "  if track_candidates:\n",
    "    print(f\"Candidates : {pos_c:4d}/{cnt_c:4d} correct={100.*pos_c/cnt_c:5.2f}%  << Uplift available\")\n",
    "  return res_arr\n",
    "# ## Test the Gemini Model 'zero-shot'"
   ]
  },
  {
   "cell_type": "markdown",
   "id": "8f3fc95f",
   "metadata": {},
   "source": [
    "### Gemini specific"
   ]
  },
  {
   "cell_type": "code",
   "execution_count": 67,
   "id": "8a7e0a57-51ab-4a8f-92fa-56470e53175e",
   "metadata": {
    "editable": true,
    "slideshow": {
     "slide_type": ""
    },
    "tags": []
   },
   "outputs": [],
   "source": [
    "prompt_basic=\"\"\"\n",
    "A Cryptic crossword question involves using the descriptive clue to yield an answer that matches the letter pattern.  \n",
    "The clue will provide a definition of the answer, as well as some 'wordplay' that can also be used to confirm the answer.  \n",
    "For example:\n",
    "\n",
    "clue: \"arrived with an artist, to get optical device (6)\"\n",
    "pattern: answer is 6 letters long\n",
    "definition: arrived with an artist, to get {optical device}\n",
    "wordplay: CAME (arrived) + RA (artist, short form)\n",
    "\n",
    "```json\n",
    "{\n",
    "\"answer\": \"CAMERA\"\n",
    "}\n",
    "```\n",
    "\n",
    "Please answer the following cryptic crossword clue, reasoning through the wordplay step-by-step, and give the answer in the JSON format as above:\n",
    "\n",
    "\"\"\".lstrip()"
   ]
  },
  {
   "cell_type": "code",
   "execution_count": 68,
   "id": "8ddf1a26-050b-4ce2-baeb-b309e7136b7d",
   "metadata": {
    "editable": true,
    "slideshow": {
     "slide_type": ""
    },
    "tags": []
   },
   "outputs": [],
   "source": [
    "from solver.llm import get_model #, CacheableLLM\n",
    "base_model = get_model() "
   ]
  },
  {
   "cell_type": "code",
   "execution_count": 71,
   "id": "827addb5-af82-4289-b71f-2d6aa727bb4a",
   "metadata": {
    "editable": true,
    "slideshow": {
     "slide_type": ""
    },
    "tags": []
   },
   "outputs": [],
   "source": [
    "def get_gemini_response(test_item, flog=None):\n",
    "  prompt=(\n",
    "    prompt_basic+\n",
    "     f'''clue: \"{test_item['clue']}\"'''\n",
    "  )\n",
    "  #print(prompt)\n",
    "  response = base_model.generate_content([prompt])\n",
    "  #print(response)\n",
    "  #print(f\"{response.finish_reason=}\")\n",
    "  #print(f\"{type(response.candidates[0].finish_reason)=}\")\n",
    "  #print(f\"{response.candidates[0].finish_reason.name=}\")\n",
    "  response_text='BLOCKED'\n",
    "  if len(response.candidates)>0 and response.candidates[0].finish_reason.name=='STOP':\n",
    "    response_text = response.text\n",
    "  ans='#NOTFOUND#'\n",
    "  for line in response_text.split('\\n'):\n",
    "    # Parse the ```json``` section for \"answer\":\n",
    "    if '\"answer\"' in line:\n",
    "      arr = line.split(':')\n",
    "      if len(arr)==2:\n",
    "        ans=arr[1].replace('\"', '').replace(':', '').strip().upper()  # Cannot contain quotes or ':'\n",
    "        break\n",
    "  if flog is not None:\n",
    "    flog.write('\\n---PROMPT---\\n')\n",
    "    flog.write(prompt)\n",
    "    flog.write('\\n---RESPONSE---\\n')\n",
    "    flog.write(response_text)\n",
    "    flog.write(f\"\\n---#RESULT#---:*:{test_item['idx_shuffled']}:*:{test_item['idx_orig']}:*:{ans}\\n\")\n",
    "  \n",
    "  return ans\n",
    "\n",
    "if False:\n",
    "  idx=0\n",
    "  test_item = data_test[shuffled_idx[idx]]\n",
    "  print(test_item)\n",
    "  print( get_gemini_response(test_item), test_item['answer'].upper() )"
   ]
  },
  {
   "cell_type": "code",
   "execution_count": 72,
   "id": "4b289eb5-cab6-415e-aff9-ea45b8a237ea",
   "metadata": {
    "editable": true,
    "slideshow": {
     "slide_type": ""
    },
    "tags": []
   },
   "outputs": [],
   "source": [
    "#run_samples(get_gemini_response, 'gemini', data_val, shuffled_idx_val, samples=515)\n",
    "#run_samples(get_gemini_response, 'gemini', data_val, shuffled_idx_val[500:], samples=500)\n",
    "#run_samples(get_gemini_response, 'gemini', data_val, shuffled_idx_val[950:], samples=50)"
   ]
  },
  {
   "cell_type": "code",
   "execution_count": null,
   "id": "28034d13-7785-4108-9bf4-132c1cf0e11c",
   "metadata": {
    "editable": true,
    "slideshow": {
     "slide_type": ""
    },
    "tags": []
   },
   "outputs": [],
   "source": [
    "#run_samples(get_gemini_response, 'gemini', data_test, shuffled_idx_test, samples=1000)"
   ]
  },
  {
   "cell_type": "code",
   "execution_count": 74,
   "id": "beac4e27-fad9-46c4-9938-8039e91ae35e",
   "metadata": {
    "editable": true,
    "slideshow": {
     "slide_type": ""
    },
    "tags": []
   },
   "outputs": [
    {
     "name": "stdout",
     "output_type": "stream",
     "text": [
      "Overall :   33/1000 correct= 3.30%\n",
      "  Quick :    8/  80 correct=10.00%\n",
      "   Hard :   25/ 920 correct= 2.72%\n"
     ]
    }
   ],
   "source": [
    "compute_score_from_logs([\n",
    "  #'./experiments/zero-shot/gemini/2024-05-14_03-39-46.log',\n",
    "  './experiments/zero-shot/gemini/2024-05-21_09-25-14.log', # Failed after 512 examples\n",
    "  './experiments/zero-shot/gemini/2024-05-21_10-07-37.log', # Failed after +468 examples\n",
    "  './experiments/zero-shot/gemini/2024-05-21_11-11-00.log', # Tail end\n",
    "], data_val, shuffled_idx_val)"
   ]
  },
  {
   "cell_type": "code",
   "execution_count": 77,
   "id": "9b679b8b-11d6-4221-b2af-90ed38194ab3",
   "metadata": {
    "editable": true,
    "lines_to_next_cell": 2,
    "slideshow": {
     "slide_type": ""
    },
    "tags": []
   },
   "outputs": [
    {
     "name": "stdout",
     "output_type": "stream",
     "text": [
      "Overall :   30/1000 correct= 3.00%\n",
      "  Quick :    7/  76 correct= 9.21%\n",
      "   Hard :   23/ 924 correct= 2.49%\n"
     ]
    }
   ],
   "source": [
    "compute_score_from_logs([\n",
    "  './experiments/zero-shot/gemini/2024-05-14_03-39-46.log', # Has ':' as delimiter...\n",
    "], data_test, shuffled_idx_test)"
   ]
  },
  {
   "cell_type": "code",
   "execution_count": null,
   "id": "2b09065d-5aa9-4bd1-975c-ad218ed74d67",
   "metadata": {
    "editable": true,
    "slideshow": {
     "slide_type": ""
    },
    "tags": []
   },
   "outputs": [],
   "source": [
    "# gemini : cryptonite.val  # 4-5sec per response\n",
    "#Overall :   33/1000 correct= 3.30%\n",
    "#  Quick :    8/  80 correct=10.00%\n",
    "#   Hard :   25/ 920 correct= 2.72%\n",
    "\n",
    "# gemini : cryptonite.test\n",
    "#Overall :   30/1000 correct= 3.00%\n",
    "#  Quick :    7/  76 correct= 9.21%\n",
    "#   Hard :   23/ 924 correct= 2.49%"
   ]
  },
  {
   "cell_type": "markdown",
   "id": "789cf5fb-7488-4018-b1be-826235151211",
   "metadata": {},
   "source": [
    "## Gemini Multi-shot Response"
   ]
  },
  {
   "cell_type": "code",
   "execution_count": 73,
   "id": "b7e7d201-56b2-437e-9d91-bf4bef9066a0",
   "metadata": {},
   "outputs": [
    {
     "name": "stdout",
     "output_type": "stream",
     "text": [
      "Redis server is available and running.\n"
     ]
    }
   ],
   "source": [
    "from solver.llm import get_model, RetryingLLM # , CacheableLLM\n",
    "base_model = get_model(model_name=\"gemini-1.5-flash-001\") \n",
    "base_model = RetryingLLM( base_model )  # Robustify Gemini Model..."
   ]
  },
  {
   "cell_type": "code",
   "execution_count": 89,
   "id": "23340ff6-1d30-4fac-9b94-b2198e6cf7f5",
   "metadata": {},
   "outputs": [
    {
     "name": "stdout",
     "output_type": "stream",
     "text": [
      "{'publisher': 'Telegraph', 'date': 1210291200000, 'author': None, 'number': '25', 'orientation': 'across', 'clue': 'one may have special tie on - - a nob, ob standing out? (7)', 'answer': 'etonian', 'enumeration': '(7)', 'quick': False, 'sub_publisher': None, 'idx_orig': 8117, 'idx_shuffled': 0}\n",
      "KNOTLESS ETONIAN\n"
     ]
    }
   ],
   "source": [
    "def get_gemini_multishot_response(test_item, flog=None):\n",
    "  prompt_arr=[]\n",
    "  prompt_arr.append(\"\"\"\n",
    "**Instructions**  \n",
    "You are an expert crossword solver. \n",
    "Given a clue please provide the best possible answer succinctly. Do not produce extra text.\n",
    "The number of characters in the answer is given in brackets and must be strictly adhered to. \n",
    "e.g. Clue: Daily update(4) // means the answer should have 4 characters.\n",
    "\"\"\".lstrip())\n",
    "  \n",
    "  prompt_arr.append(f\"\"\"\n",
    "**Examples**\n",
    "Clue: brawny greek character on sleigh catching cold (7) // MUSCLED\n",
    "Clue: argument after diamonds say found in luggage (8) // SUITCASE\n",
    "Clue: eirenic type, as leading athlete accepting last in race (10) // PEACEMAKER\n",
    "Clue: asian leaders (but only one european) assembled in italian town (11) // ALESSANDRIA\n",
    "Clue: winning, through living with aristocracy (5,5) // UPPER CRUST\n",
    "\"\"\".lstrip())\n",
    "    \n",
    "  prompt_arr.append(f\"\"\"\n",
    "**Task**\n",
    "Clue: {test_item['clue']} // \"\"\".lstrip()\n",
    "  )\n",
    "  #print(prompt_arr)\n",
    "  #return\n",
    "  response = base_model.generate_content(prompt_arr)\n",
    "  response_text='BLOCKED'\n",
    "  if len(response.candidates)>0 and response.candidates[0].finish_reason.name=='STOP':\n",
    "    response_text = response.text\n",
    "  #ans='#NOTFOUND#'\n",
    "  #print(response_text)\n",
    "  ans=response_text.strip().upper()\n",
    "  #for line in response_text.split('\\n'):\n",
    "  #  # Parse the ```json``` section for \"answer\":\n",
    "  #  if '\"answer\"' in line:\n",
    "  #    arr = line.split(':')\n",
    "  #    if len(arr)==2:\n",
    "  #      ans=arr[1].replace('\"', '').replace(':', '').strip().upper()  # Cannot contain quotes or ':'\n",
    "  #      break\n",
    "  if flog is not None:\n",
    "    flog.write('\\n---PROMPT---\\n')\n",
    "    flog.write('\\n'.join(prompt_arr))\n",
    "    flog.write('\\n---RESPONSE---\\n')\n",
    "    flog.write(response_text)\n",
    "    flog.write(f\"\\n---#RESULT#---:*:{test_item['idx_shuffled']}:*:{test_item['idx_orig']}:*:{ans}\\n\")\n",
    "  \n",
    "  return ans\n",
    "\n",
    "if True:\n",
    "  idx=0\n",
    "  test_item = data_test[shuffled_idx_test[idx]]\n",
    "  print(test_item)\n",
    "  print( get_gemini_multishot_response(test_item), test_item['answer'].upper() )"
   ]
  },
  {
   "cell_type": "code",
   "execution_count": 95,
   "id": "a4568084-e0f1-4477-824e-8402c7619b64",
   "metadata": {},
   "outputs": [],
   "source": [
    "#run_samples(get_gemini_multishot_response, 'gemini-flash-001', data_val, shuffled_idx_val, samples=1000)\n",
    "#val :  DONE :    6.60% correct in './experiments/zero-shot/gemini-flash-001/2024-11-25_17-49-34.log', \n",
    "#run_samples(get_gemini_multishot_response, 'gemini-flash-001', data_test, shuffled_idx_test, samples=1000)\n",
    "#test : DONE :    6.50% correct in './experiments/zero-shot/gemini-flash-001/2024-11-25_18-01-01.log', "
   ]
  },
  {
   "cell_type": "code",
   "execution_count": 93,
   "id": "078ca087-e255-4c8f-80c9-1a95210739ca",
   "metadata": {},
   "outputs": [
    {
     "name": "stdout",
     "output_type": "stream",
     "text": [
      "Overall :   66/1000 correct= 6.60%\n",
      "  Quick :   10/  80 correct=12.50%\n",
      "   Hard :   56/ 920 correct= 6.09%\n"
     ]
    }
   ],
   "source": [
    "compute_score_from_logs([\n",
    "  './experiments/zero-shot/gemini-flash-001/2024-11-25_17-49-34.log', \n",
    "], data_val, shuffled_idx_val)"
   ]
  },
  {
   "cell_type": "code",
   "execution_count": 96,
   "id": "6c0b26b3-e9f2-4108-a17f-148941304d9d",
   "metadata": {},
   "outputs": [
    {
     "name": "stdout",
     "output_type": "stream",
     "text": [
      "Overall :   65/1000 correct= 6.50%\n",
      "  Quick :    9/  76 correct=11.84%\n",
      "   Hard :   56/ 924 correct= 6.06%\n"
     ]
    }
   ],
   "source": [
    "compute_score_from_logs([\n",
    "  './experiments/zero-shot/gemini-flash-001/2024-11-25_18-01-01.log'\n",
    "], data_test, shuffled_idx_test)"
   ]
  },
  {
   "cell_type": "markdown",
   "id": "6c44e85d-ce3f-4526-9ede-6b648fff0cae",
   "metadata": {},
   "source": [
    "### GPT4-Turbo specific"
   ]
  },
  {
   "cell_type": "code",
   "execution_count": 115,
   "id": "1946c3ab-0cc2-446a-83eb-af115dbfa7cb",
   "metadata": {},
   "outputs": [
    {
     "data": {
      "text/plain": [
       "'Silent circuits hum—  \\nBoundless thoughts in coded light—  \\nDreams born of machine.'"
      ]
     },
     "execution_count": 115,
     "metadata": {},
     "output_type": "execute_result"
    }
   ],
   "source": [
    "from solver.llm import get_model_openai\n",
    "openai_client = get_model_openai()\n",
    "completion = openai_client.chat.completions.create(\n",
    "  model=\"gpt-4o\",\n",
    "  messages=[\n",
    "    {\"role\": \"user\", \"content\": \"write a haiku about ai\"}\n",
    "  ]\n",
    ")\n",
    "completion.choices[0].message.content"
   ]
  },
  {
   "cell_type": "code",
   "execution_count": 116,
   "id": "717e4b9f-c14d-48e7-88c0-6e11785dd6d0",
   "metadata": {},
   "outputs": [
    {
     "data": {
      "text/plain": [
       "ChatCompletion(id='chatcmpl-AXYx0u8t5GoH13S66Sxb8jtdxMi2K', choices=[Choice(finish_reason='stop', index=0, logprobs=None, message=ChatCompletionMessage(content='Silent circuits hum—  \\nBoundless thoughts in coded light—  \\nDreams born of machine.', refusal=None, role='assistant', audio=None, function_call=None, tool_calls=None))], created=1732562538, model='gpt-4o-2024-08-06', object='chat.completion', service_tier=None, system_fingerprint='fp_7f6be3efb0', usage=CompletionUsage(completion_tokens=19, prompt_tokens=13, total_tokens=32, completion_tokens_details=CompletionTokensDetails(accepted_prediction_tokens=0, audio_tokens=0, reasoning_tokens=0, rejected_prediction_tokens=0), prompt_tokens_details=PromptTokensDetails(audio_tokens=0, cached_tokens=0)))"
      ]
     },
     "execution_count": 116,
     "metadata": {},
     "output_type": "execute_result"
    }
   ],
   "source": [
    "completion"
   ]
  },
  {
   "cell_type": "code",
   "execution_count": 61,
   "id": "2ed99be3-fd21-4cd4-934f-9a50202e3759",
   "metadata": {},
   "outputs": [
    {
     "name": "stdout",
     "output_type": "stream",
     "text": [
      "Clue: shoot the messenger (6) // RUNNER\n",
      "Clue: damp flu circulating -- one should protect against dirt on an estate (7) // MUDFLAP\n",
      "Clue: eirenic type, as leading athlete accepting last in race (10) // PEACEMAKER\n",
      "Clue: tried, having cheated in the past (3,1,2) // HAD A GO\n",
      "Clue: asian leaders (but only one european) assembled in italian town (11) // ALESSANDRIA\n",
      "Clue: brawny greek character on sleigh catching cold (7) // MUSCLED\n",
      "Clue: this explained baffling script, getting half of team in favour (7,5) // ROSETTA STONE\n",
      "Clue: bride asked to reveal thoughts (5) // IDEAS\n",
      "Clue: argument after diamonds say found in luggage (8) // SUITCASE\n",
      "Clue: superficial polish an anglican cleric always displays (6) // VENEER\n",
      "Clue: opera on box including one english standard (9) // NORMATIVE\n",
      "Clue: one seeking political change -- once soldiers get precedence (8) // REFORMER\n",
      "Clue: book a restaurant? can be achieved (8) // GETTABLE\n",
      "Clue: one cutting in or abandoning one on world tour (5) // BITER\n",
      "Clue: associate informally with rustic bigwig (6) // HOBNOB\n",
      "Clue: churchman briefly cut biographical verse (8) // CLERIHEW\n",
      "Clue: winning, through living with aristocracy (5,5) // UPPER CRUST\n",
      "Clue: aircraft pioneer has not succeeded in brute to bring down (2,9) // DE HAVILLAND\n",
      "Clue: coat regularly cut in bear with red hair? (7) // CARROTY\n",
      "Clue: have at one time to break into circle, extremely rash (9) // OVERHASTY\n"
     ]
    }
   ],
   "source": [
    "for idx in range(20):\n",
    "  data_item=data_train[shuffled_idx_train[idx]]\n",
    "  print(f\"Clue: {data_item['clue']} // {data_item['answer'].upper()}\")"
   ]
  },
  {
   "cell_type": "code",
   "execution_count": 64,
   "id": "bf5db686-6ee3-489b-891b-47bbefe5e60e",
   "metadata": {},
   "outputs": [
    {
     "name": "stdout",
     "output_type": "stream",
     "text": [
      "{'publisher': 'Telegraph', 'date': 1210291200000, 'author': None, 'number': '25', 'orientation': 'across', 'clue': 'one may have special tie on - - a nob, ob standing out? (7)', 'answer': 'etonian', 'enumeration': '(7)', 'quick': False, 'sub_publisher': None, 'idx_orig': 8117, 'idx_shuffled': 0}\n",
      "BOWTIEO ETONIAN\n"
     ]
    }
   ],
   "source": [
    "def get_gpt4_multishot_response(test_item, flog=None):\n",
    "  system_content = \"\"\"\n",
    "You are an expert crossword solver. \n",
    "Given a clue please provide the best possible answer succinctly. Do not produce extra text.**\n",
    "The number of characters in the answer is given in brackets and must be strictly adhered to. \n",
    "e.g. Clue: Daily update(4) // means the answer should have 4 characters.\"\"\".replace(\"\\n\", \"\").replace(\"**\", \"\\n\")\n",
    "\n",
    "  prompt_content = f\"\"\"\n",
    "Clue: brawny greek character on sleigh catching cold (7) // MUSCLED\n",
    "Clue: argument after diamonds say found in luggage (8) // SUITCASE\n",
    "Clue: eirenic type, as leading athlete accepting last in race (10) // PEACEMAKER\n",
    "Clue: asian leaders (but only one european) assembled in italian town (11) // ALESSANDRIA\n",
    "Clue: winning, through living with aristocracy (5,5) // UPPER CRUST\n",
    "Clue: {test_item['clue']} // \"\"\".lstrip()\n",
    "  \n",
    "  completion = openai_client.chat.completions.create(\n",
    "    model=\"gpt-4o\",\n",
    "    messages=[\n",
    "      { \"role\":\"system\",  \"content\": system_content },\n",
    "      { \"role\":\"user\",    \"content\": prompt_content },\n",
    "    ]\n",
    "  )\n",
    "  \n",
    "  response_text='BLOCKED'\n",
    "  if len(completion.choices)>0:  #  and response.candidates[0].finish_reason.name=='STOP'\n",
    "    response_text = completion.choices[0].message.content\n",
    "  response_text = response_text.strip().upper()\n",
    "  ans = response_text\n",
    "  #for line in response_text.split('\\n'):\n",
    "  #  # Parse the ```json``` section for \"answer\":\n",
    "  #  if '\"answer\"' in line:\n",
    "  #    arr = line.split(':')\n",
    "  #    if len(arr)==2:\n",
    "  #      ans=arr[1].replace('\"', '').replace(':', '').strip().upper()  # Cannot contain quotes or ':'\n",
    "  #      break\n",
    "  if flog is not None:\n",
    "    flog.write('\\n---PROMPT---\\n')\n",
    "    flog.write(prompt_content)\n",
    "    flog.write('\\n---RESPONSE---\\n')\n",
    "    flog.write(response_text)\n",
    "    flog.write(f\"\\n---#RESULT#---:*:{test_item['idx_shuffled']}:*:{test_item['idx_orig']}:*:{ans}\\n\")\n",
    "  \n",
    "  return ans\n",
    "\n",
    "if True:\n",
    "  idx=0\n",
    "  test_item = data_test[shuffled_idx_test[idx]]\n",
    "  print(test_item)\n",
    "  print( get_gpt4_multishot_response(test_item), test_item['answer'].upper() )  "
   ]
  },
  {
   "cell_type": "code",
   "execution_count": 121,
   "id": "46fe2dd3-d1ab-4ddb-bd03-8db05d7a7104",
   "metadata": {},
   "outputs": [],
   "source": [
    "# run_samples(get_gpt4_multishot_response, 'gpt-4o', data_val, shuffled_idx_val, samples=1000)\n",
    "# val :  DONE :   29.80% correct in './experiments/zero-shot/gpt-4o/2024-11-25_17-29-22.log',\n",
    "#run_samples(get_gpt4_multishot_response, 'gpt-4o', data_test, shuffled_idx_test, samples=1000)\n",
    "# test : DONE :   27.60% correct in './experiments/zero-shot/gpt-4o/2024-11-25_16-24-28.log', "
   ]
  },
  {
   "cell_type": "code",
   "execution_count": 11,
   "id": "3436bcbf-3918-4c8b-953f-7d6d3a8a9663",
   "metadata": {},
   "outputs": [
    {
     "name": "stdout",
     "output_type": "stream",
     "text": [
      "Overall :  298/1000 correct=29.80%\n",
      "  Quick :   36/  80 correct=45.00%\n",
      "   Hard :  262/ 920 correct=28.48%\n"
     ]
    }
   ],
   "source": [
    "arr=compute_score_from_logs([\n",
    "  './experiments/zero-shot/gpt-4o/2024-11-25_17-29-22.log',\n",
    "], data_val, shuffled_idx_val)"
   ]
  },
  {
   "cell_type": "code",
   "execution_count": 9,
   "id": "a2289e79-b625-4caf-ae94-cbfc92b18a02",
   "metadata": {},
   "outputs": [
    {
     "name": "stdout",
     "output_type": "stream",
     "text": [
      "Overall :  276/1000 correct=27.60%\n",
      "  Quick :   36/  76 correct=47.37%\n",
      "   Hard :  240/ 924 correct=25.97%\n"
     ]
    }
   ],
   "source": [
    "arr=compute_score_from_logs([\n",
    "  './experiments/zero-shot/gpt-4o/2024-11-25_16-24-28.log',   \n",
    "], data_test, shuffled_idx_test)"
   ]
  },
  {
   "cell_type": "code",
   "execution_count": 12,
   "id": "1a3467c0-1387-48f8-809f-088e14d56ace",
   "metadata": {},
   "outputs": [],
   "source": [
    "if False:\n",
    "  with open(\"./paper/2024-09-28_ICLR/IRT/val_gpt4o.txt\", 'wt') as f:\n",
    "    f.write(f\"correct,is_quick\\n\")  \n",
    "    for a in arr:\n",
    "      f.write(f\"{a[0]:d},{a[1]:d}\\n\")"
   ]
  },
  {
   "cell_type": "markdown",
   "id": "778bce83-c5b8-41a1-abeb-a470b9c74f27",
   "metadata": {},
   "source": [
    "## Test Gemma2-9B-it multi-shot"
   ]
  },
  {
   "cell_type": "code",
   "execution_count": 98,
   "id": "d688af88-a564-4bc0-a836-c623d9d44df8",
   "metadata": {},
   "outputs": [],
   "source": [
    "from omegaconf import OmegaConf\n",
    "conf = OmegaConf.load('config.yaml')"
   ]
  },
  {
   "cell_type": "code",
   "execution_count": 99,
   "id": "9412b610-177d-4dc3-8c88-97c5ac78c772",
   "metadata": {},
   "outputs": [],
   "source": [
    "from together import Together\n",
    "from solver.llm import FakeGeminiResponse, gemma2it_prompt\n",
    "\n",
    "class ModelGemma2it_together(object):\n",
    "  client = None\n",
    "  def __init__(self):\n",
    "    self.client = Together(api_key=conf.APIKey.TOGETHER_AI)\n",
    "    \n",
    "  # See other notes in 0_explore_dataset.py\n",
    "  def generate_single(self, input_templated, temperature=0.5, max_new_tokens=256):\n",
    "    response = self.client.completions.create(\n",
    "      model=\"google/gemma-2-9b-it\", \n",
    "      prompt=input_templated,\n",
    "      max_tokens=max_new_tokens,\n",
    "      temperature=temperature,\n",
    "      #top_p=0.7, #top_k=50, #repetition_penalty=1,\n",
    "      stop=[\"<end_of_turn>\",\"<eos>\"],  #stream=True,\n",
    "    )\n",
    "    return response.choices[0].text\n",
    "    \n",
    "  def generate_content(self, prompt_parts):\n",
    "    prompts = gemma2it_prompt('', ''.join(prompt_parts), 'NOTTRAINING')\n",
    "    output_txt = self.generate_single(prompts['prompt_test'])\n",
    "    return FakeGeminiResponse(output_txt) "
   ]
  },
  {
   "cell_type": "code",
   "execution_count": 100,
   "id": "c0554959-86be-45d6-806e-a096caf1f63d",
   "metadata": {},
   "outputs": [],
   "source": [
    "base_model = ModelGemma2it_together()"
   ]
  },
  {
   "cell_type": "code",
   "execution_count": 102,
   "id": "1fb01862-33ed-42ea-a2a5-26334c6dcca5",
   "metadata": {},
   "outputs": [],
   "source": [
    "#t0=time.time()\n",
    "#print( base_model.generate_content([\"What is 2+2?\"]).text )\n",
    "#print(f\"{(time.time()-t0):.2f}sec\")\n",
    "# 0.42sec"
   ]
  },
  {
   "cell_type": "code",
   "execution_count": 104,
   "id": "bc2f40bd-8df7-4fe1-a147-1a924752c355",
   "metadata": {},
   "outputs": [
    {
     "name": "stdout",
     "output_type": "stream",
     "text": [
      "{'publisher': 'Telegraph', 'date': 1210291200000, 'author': None, 'number': '25', 'orientation': 'across', 'clue': 'one may have special tie on - - a nob, ob standing out? (7)', 'answer': 'etonian', 'enumeration': '(7)', 'quick': False, 'sub_publisher': None, 'idx_orig': 8117, 'idx_shuffled': 0}\n",
      "TASSEL ETONIAN\n"
     ]
    }
   ],
   "source": [
    "def get_gemma2_9B_it_multishot_response(test_item, flog=None):\n",
    "  prompt_arr=[]\n",
    "  prompt_arr.append(\"\"\"\n",
    "**Instructions**  \n",
    "You are an expert crossword solver. \n",
    "Given a clue please provide the best possible answer succinctly. Do not produce extra text.\n",
    "The number of characters in the answer is given in brackets and must be strictly adhered to. \n",
    "e.g. Clue: Daily update(4) // means the answer should have 4 characters.\n",
    "\"\"\".lstrip())\n",
    "  \n",
    "  prompt_arr.append(f\"\"\"\n",
    "**Examples**\n",
    "Clue: brawny greek character on sleigh catching cold (7) // MUSCLED\n",
    "Clue: argument after diamonds say found in luggage (8) // SUITCASE\n",
    "Clue: eirenic type, as leading athlete accepting last in race (10) // PEACEMAKER\n",
    "Clue: asian leaders (but only one european) assembled in italian town (11) // ALESSANDRIA\n",
    "Clue: winning, through living with aristocracy (5,5) // UPPER CRUST\n",
    "\"\"\".lstrip())\n",
    "    \n",
    "  prompt_arr.append(f\"\"\"\n",
    "**Task**\n",
    "Clue: {test_item['clue']} // \"\"\".lstrip()\n",
    "  )\n",
    "  #print(prompt_arr)\n",
    "  #return\n",
    "  response = base_model.generate_content(prompt_arr)\n",
    "  response_text='BLOCKED'\n",
    "  if len(response.candidates)>0 and response.candidates[0].finish_reason.name=='STOP':\n",
    "    response_text = response.text\n",
    "  #ans='#NOTFOUND#'\n",
    "  #print(response_text)\n",
    "  ans=response_text.strip().upper()\n",
    "  #for line in response_text.split('\\n'):\n",
    "  #  # Parse the ```json``` section for \"answer\":\n",
    "  #  if '\"answer\"' in line:\n",
    "  #    arr = line.split(':')\n",
    "  #    if len(arr)==2:\n",
    "  #      ans=arr[1].replace('\"', '').replace(':', '').strip().upper()  # Cannot contain quotes or ':'\n",
    "  #      break\n",
    "  if flog is not None:\n",
    "    flog.write('\\n---PROMPT---\\n')\n",
    "    flog.write('\\n'.join(prompt_arr))\n",
    "    flog.write('\\n---RESPONSE---\\n')\n",
    "    flog.write(response_text)\n",
    "    flog.write(f\"\\n---#RESULT#---:*:{test_item['idx_shuffled']}:*:{test_item['idx_orig']}:*:{ans}\\n\")\n",
    "  \n",
    "  return ans\n",
    "\n",
    "if True:\n",
    "  idx=0\n",
    "  test_item = data_test[shuffled_idx_test[idx]]\n",
    "  print(test_item)\n",
    "  print( get_gemma2_9B_it_multishot_response(test_item), test_item['answer'].upper() )"
   ]
  },
  {
   "cell_type": "code",
   "execution_count": 112,
   "id": "948ce450-2ff2-4596-bb41-0c9dd40c352c",
   "metadata": {},
   "outputs": [],
   "source": [
    "#run_samples(get_gemma2_9B_it_multishot_response, 'gemma2-9B-it', data_val, shuffled_idx_val, samples=1000)\n",
    "#val :  DONE :    5.70% correct in './experiments/zero-shot/gemma2-9B-it/2024-11-25_18-28-26.log', \n",
    "#run_samples(get_gemma2_9B_it_multishot_response, 'gemma2-9B-it', data_test, shuffled_idx_test, samples=1000) # Internet went down\n",
    "#run_samples(get_gemma2_9B_it_multishot_response, 'gemma2-9B-it', data_test, shuffled_idx_test[944:], samples=57)\n",
    "#run_samples(get_gemma2_9B_it_multishot_response, 'gemma2-9B-it', data_test, shuffled_idx_test[990:], samples=15)\n",
    "#test : In sections..."
   ]
  },
  {
   "cell_type": "code",
   "execution_count": 113,
   "id": "9f2d1db4-296d-49c9-aa8c-1692ed9181a2",
   "metadata": {},
   "outputs": [
    {
     "name": "stdout",
     "output_type": "stream",
     "text": [
      "Overall :   57/1000 correct= 5.70%\n",
      "  Quick :    9/  80 correct=11.25%\n",
      "   Hard :   48/ 920 correct= 5.22%\n"
     ]
    }
   ],
   "source": [
    "compute_score_from_logs([\n",
    "  './experiments/zero-shot/gemma2-9B-it/2024-11-25_18-28-26.log', \n",
    "], data_val, shuffled_idx_val)"
   ]
  },
  {
   "cell_type": "code",
   "execution_count": 114,
   "id": "bfac9986-e231-4645-8e8b-bcff6c5425f4",
   "metadata": {},
   "outputs": [
    {
     "name": "stdout",
     "output_type": "stream",
     "text": [
      "Overall :   45/1000 correct= 4.50%\n",
      "  Quick :    8/  76 correct=10.53%\n",
      "   Hard :   37/ 924 correct= 4.00%\n"
     ]
    }
   ],
   "source": [
    "compute_score_from_logs([\n",
    "  './experiments/zero-shot/gemma2-9B-it/2024-11-25_18-50-17.log',   # Up to 945  Model:\"HOGARTH AND\"\n",
    "  './experiments/zero-shot/gemma2-9B-it/2024-11-25_19-18-14.log',  \n",
    "  './experiments/zero-shot/gemma2-9B-it/2024-11-25_19-21-02.log', \n",
    "], data_test, shuffled_idx_test)"
   ]
  },
  {
   "cell_type": "markdown",
   "id": "43bf8281-427e-410a-ab47-cd43d1b3d584",
   "metadata": {},
   "source": [
    "## Run now with LocalLLM (Fine-tuned on cryptonite.train)"
   ]
  },
  {
   "cell_type": "code",
   "execution_count": null,
   "id": "162dfb41-c064-4f4f-9102-782824b743ed",
   "metadata": {
    "editable": true,
    "slideshow": {
     "slide_type": ""
    },
    "tags": []
   },
   "outputs": [],
   "source": [
    "import os\n",
    "from unsloth import FastLanguageModel\n",
    "import torch\n",
    "\n",
    "HFCOMPANY=os.environ.get(\"HFCOMPANY\", \"cryptic-wordplay-formalizer\")\n",
    "\n",
    "max_seq_length = 512\n",
    "dtype = None\n",
    "load_in_4bit = True\n",
    "\"DONE\", HFCOMPANY"
   ]
  },
  {
   "cell_type": "code",
   "execution_count": null,
   "id": "163437e2-71d3-4f95-a425-20fe1603ab5a",
   "metadata": {
    "editable": true,
    "slideshow": {
     "slide_type": ""
    },
    "tags": []
   },
   "outputs": [],
   "source": [
    "model, tokenizer = None, None\n",
    "def load_model_and_tokenizer(model_name):\n",
    "  global model, tokenizer\n",
    "  model, tokenizer = None, None\n",
    "\n",
    "  model, tokenizer = FastLanguageModel.from_pretrained(\n",
    "    model_name = model_name,\n",
    "    max_seq_length = max_seq_length,\n",
    "    dtype = dtype,\n",
    "    load_in_4bit = load_in_4bit,\n",
    "  )\n",
    "  \n",
    "  FastLanguageModel.for_inference(model) # Faster inference\n",
    "  print(\"LOADED\")"
   ]
  },
  {
   "cell_type": "markdown",
   "id": "e97d9350",
   "metadata": {},
   "source": [
    "## Use the (Sam Pretrained) Local LLM with answer-only pretraining"
   ]
  },
  {
   "cell_type": "code",
   "execution_count": null,
   "id": "3f69c140-b52f-4db7-9176-8fcd30d6187b",
   "metadata": {
    "editable": true,
    "slideshow": {
     "slide_type": ""
    },
    "tags": []
   },
   "outputs": [],
   "source": [
    "load_model_and_tokenizer(f\"{HFCOMPANY}/llama3_cryptonite_1_epoch\")"
   ]
  },
  {
   "cell_type": "code",
   "execution_count": null,
   "id": "b8c008ee-f947-474a-95da-661486be779d",
   "metadata": {
    "editable": true,
    "slideshow": {
     "slide_type": ""
    },
    "tags": []
   },
   "outputs": [],
   "source": [
    "def get_local_llm_response(example, flog=None):\n",
    "  clue = example['clue']\n",
    "  answer = example['answer']\n",
    "  enumeration = example['enumeration']\n",
    "  orientation = example['orientation']\n",
    "  \n",
    "  system = f\"\"\"You are a Master Cryptic Crossword player take the following clue and think carefully to come up with the correct answer\"\"\"\n",
    "  user = f'''CLUE: {clue} \\n ORIENTATION: the word is {enumeration} letters long and goes {orientation}\\n'''.lstrip()\n",
    "  assistant = f'''ANSWER: {answer}'''\n",
    "\n",
    "  text = f'''<|begin_of_text|><|start_header_id|>system<|end_header_id|>\\n{system}<|eot_id|>\\n<|start_header_id|>user<|end_header_id|>\n",
    "\n",
    "{user}<|eot_id|><|start_header_id|>assistant<|end_header_id|>\\n{assistant}<|eot_id|><|end_of_text|>'''\n",
    "  prompt = f'''<|begin_of_text|><|start_header_id|>system<|end_header_id|>\\n{system}<|eot_id|>\\n<|start_header_id|>user<|end_header_id|>\n",
    "\n",
    "{user}<|eot_id|><|start_header_id|>assistant<|end_header_id|>\\n'''\n",
    "  \n",
    "  #prompt=(\n",
    "  #  prompt_basic+\n",
    "  #   f'''clue: \"{test_item['clue']}\"'''\n",
    "  #)\n",
    "  #print(prompt)\n",
    "  inputs = tokenizer([prompt], return_tensors=\"pt\").to(\"cuda\")\n",
    "  outputs = model.generate(**inputs, max_new_tokens=64, use_cache=True, pad_token_id=tokenizer.eos_token_id)\n",
    "  \n",
    "  response_text =  tokenizer.batch_decode(outputs)[0] \n",
    "  #print(response_text)\n",
    "  # ANSWER: anorak<|eot_id|><|end_of_text|>\n",
    "\n",
    "  ans='#NOTFOUND#'\n",
    "  for line in response_text.split('\\n'):\n",
    "    # Parse the ```json``` section for \"answer\":\n",
    "    if 'ANSWER:' in line:\n",
    "      arr = line.split('ANSWER:')\n",
    "      if len(arr)==2:\n",
    "        ans=arr[1].replace('\"', '').replace(':', '').strip().upper()  # Cannot contain quotes or ':'\n",
    "        if '<' in ans:  # Parse off the end-of-response tokens\n",
    "          ans = ans[:ans.index('<')]\n",
    "        break\n",
    "  if flog is not None:\n",
    "    flog.write('\\n---PROMPT---\\n')\n",
    "    flog.write(prompt)\n",
    "    flog.write('\\n---RESPONSE---\\n')\n",
    "    flog.write(response_text)\n",
    "    flog.write(f\"\\n---#RESULT#---:*:{example['idx_shuffled']}:*:{example['idx_orig']}:*:{ans}\\n\")\n",
    "  \n",
    "  return ans\n",
    "\n",
    "if True:\n",
    "  idx=0\n",
    "  item = data_val[shuffled_idx_val[idx]]\n",
    "  print(item)\n",
    "  print( get_local_llm_response(item), item['answer'].upper() )"
   ]
  },
  {
   "cell_type": "code",
   "execution_count": null,
   "id": "6365bada-c36f-4bd5-967d-5e099c37b645",
   "metadata": {
    "editable": true,
    "slideshow": {
     "slide_type": ""
    },
    "tags": []
   },
   "outputs": [],
   "source": [
    "run_samples(get_local_llm_response, 'llama3_cryptonite_1_epoch', data_val, shuffled_idx_val, samples=1000)"
   ]
  },
  {
   "cell_type": "code",
   "execution_count": null,
   "id": "3b93072e-6447-47fa-9c4e-a8341b524243",
   "metadata": {
    "editable": true,
    "scrolled": true,
    "slideshow": {
     "slide_type": ""
    },
    "tags": []
   },
   "outputs": [],
   "source": [
    "run_samples(get_local_llm_response, 'llama3_cryptonite_1_epoch', data_test, shuffled_idx_test, samples=1000)\n",
    "# cell cleared to avoid revealing test data"
   ]
  },
  {
   "cell_type": "code",
   "execution_count": null,
   "id": "712f91b6",
   "metadata": {
    "editable": true,
    "slideshow": {
     "slide_type": ""
    },
    "tags": []
   },
   "outputs": [],
   "source": [
    "compute_score_from_logs([\n",
    "  #'./experiments/zero-shot/llama3_cryptonite_1_epoch/2024-05-21_08-19-31.log', # 2/10 0q 2h run for code testing\n",
    "  #'./experiments/zero-shot/llama3_cryptonite_1_epoch/2024-05-21_08-21-40.log',  # 195/1000 23/80q 171/920h\n",
    "  './experiments/zero-shot/llama3_cryptonite_1_epoch/2024-05-21_08-49-41.log', \n",
    "], data_val, shuffled_idx_val)"
   ]
  },
  {
   "cell_type": "code",
   "execution_count": null,
   "id": "e937ad0a",
   "metadata": {
    "editable": true,
    "lines_to_next_cell": 0,
    "slideshow": {
     "slide_type": ""
    },
    "tags": []
   },
   "outputs": [],
   "source": [
    "compute_score_from_logs([\n",
    "  #'./experiments/zero-shot/llama3_cryptonite_1_epoch/2024-05-21_07-30-10.log',  # 17/100 2q 15h,\n",
    "  #'./experiments/zero-shot/llama3_cryptonite_1_epoch/2024-05-21_07-32-23.log',  # 156/1000 25/76q 131/924h\n",
    "  './experiments/zero-shot/llama3_cryptonite_1_epoch/2024-05-21_08-37-41.log',   # 143/1000 23/76q 120/924h\n",
    "], data_test, shuffled_idx_test)"
   ]
  },
  {
   "cell_type": "code",
   "execution_count": null,
   "id": "680050ec",
   "metadata": {
    "lines_to_next_cell": 2
   },
   "outputs": [],
   "source": [
    "# llama3-8B-FT : cryptonite val:   # 0.6-0.7 sec per response\n",
    "#Overall :  188/1000 correct=18.80%\n",
    "#  Quick :   25/  80 correct=31.25%\n",
    "#   Hard :  163/ 920 correct=17.72%\n",
    "\n",
    "# llama3-8B-FT : cryptonite test:\n",
    "#Overall :  143/1000 correct=14.30%\n",
    "#  Quick :   23/  76 correct=30.26%\n",
    "#   Hard :  120/ 924 correct=12.99%"
   ]
  },
  {
   "cell_type": "markdown",
   "id": "601b86cb",
   "metadata": {},
   "source": [
    "## Use the Local LLM with answer+candidates pretraining"
   ]
  },
  {
   "cell_type": "code",
   "execution_count": null,
   "id": "35af11d7-1b6a-44a2-94ee-9d3ddb96c26e",
   "metadata": {},
   "outputs": [],
   "source": [
    "load_model_and_tokenizer(f\"{HFCOMPANY}/llama3_cryptonite_candidates_1_epoch\")"
   ]
  },
  {
   "cell_type": "code",
   "execution_count": null,
   "id": "fa23fba2",
   "metadata": {},
   "outputs": [],
   "source": [
    "def get_local_llm_response_with_candidates(example, flog=None):\n",
    "  clue = example['clue']\n",
    "  answer = example['answer']\n",
    "  enumeration = example['enumeration']\n",
    "  orientation = example['orientation']\n",
    "\n",
    "  system = f\"\"\"You are a Master Cryptic Crossword solver. Take the following clue and think carefully to come up with 5 candidate answers, and then pick the best answer from those candidates\"\"\"\n",
    "  user   = f'''CLUE: {clue}\\nORIENTATION: the answer is {enumeration} letters long and goes {orientation}\\n'''.lstrip()\n",
    "\n",
    "  prompt = f'''<|begin_of_text|><|start_header_id|>system<|end_header_id|>\\n{system}<|eot_id|>\\n<|start_header_id|>user<|end_header_id|>\n",
    "\n",
    "{user}<|eot_id|><|start_header_id|>assistant<|end_header_id|>\\n'''\n",
    "\n",
    "  inputs = tokenizer([prompt], return_tensors=\"pt\").to(\"cuda\")\n",
    "  outputs = model.generate(**inputs, max_new_tokens=64, use_cache=True, pad_token_id=tokenizer.eos_token_id)\n",
    "  \n",
    "  response_text =  tokenizer.batch_decode(outputs)[0] \n",
    "  #print(response_text)\n",
    "  # ??? CANDIDATES: ???\n",
    "  # ANSWER: anorak<|eot_id|><|end_of_text|>\n",
    "\n",
    "  ans, candidates = '#NOTFOUND#', '#NOTFOUND#'\n",
    "  for line in response_text.split('\\n'):\n",
    "    # Parse the ```json``` section for \"answer\":\n",
    "    if 'CANDIDATES:' in line:\n",
    "      arr = line.split('CANDIDATES:')\n",
    "      if len(arr)==2:\n",
    "        candidates = arr[1].replace('\"', '').replace(':', '').strip().upper()\n",
    "        if '<' in candidates:  # Parse off the end-of-response tokens : SHOULD NOT HAPPEN!\n",
    "          candidates = candidates[:candidates.index('<')]\n",
    "    if 'ANSWER:' in line:\n",
    "      arr = line.split('ANSWER:')\n",
    "      if len(arr)==2:\n",
    "        ans=arr[1].replace('\"', '').replace(':', '').strip().upper()  # Cannot contain quotes or ':'\n",
    "        if '<' in ans:  # Parse off the end-of-response tokens\n",
    "          ans = ans[:ans.index('<')]\n",
    "        break\n",
    "  if flog is not None:\n",
    "    flog.write('\\n---PROMPT---\\n')\n",
    "    flog.write(prompt)\n",
    "    flog.write('\\n---RESPONSE---\\n')\n",
    "    flog.write(response_text)\n",
    "    flog.write(f\"\\n---#RESULT#---:*:{example['idx_shuffled']}:*:{example['idx_orig']}:*:{ans}:*:{candidates}\\n\")\n",
    "  \n",
    "  return ans\n",
    "\n",
    "if True:\n",
    "  idx=0\n",
    "  item = data_val[shuffled_idx_val[idx]]\n",
    "  print(item)\n",
    "  print( get_local_llm_response_with_candidates(item), item['answer'].upper() )"
   ]
  },
  {
   "cell_type": "code",
   "execution_count": null,
   "id": "83bff7a2-e605-4dd3-849d-e3ea37aad55a",
   "metadata": {
    "editable": true,
    "slideshow": {
     "slide_type": ""
    },
    "tags": []
   },
   "outputs": [],
   "source": [
    "#run_samples(get_local_llm_response_with_candidates, 'llama3_cryptonite_candidates_1_epoch', data_val, shuffled_idx_val, samples=10)\n",
    "run_samples(get_local_llm_response_with_candidates, 'llama3_cryptonite_candidates_1_epoch', data_val, shuffled_idx_val, samples=1000)"
   ]
  },
  {
   "cell_type": "code",
   "execution_count": null,
   "id": "3628d562-018d-49a6-bab6-74023482d505",
   "metadata": {},
   "outputs": [],
   "source": [
    "run_samples(get_local_llm_response_with_candidates, 'llama3_cryptonite_candidates_1_epoch', data_test, shuffled_idx_test, samples=1000)"
   ]
  },
  {
   "cell_type": "code",
   "execution_count": null,
   "id": "fed85ca2-64d6-42ec-9fe2-8c8ab88e411a",
   "metadata": {
    "editable": true,
    "slideshow": {
     "slide_type": ""
    },
    "tags": []
   },
   "outputs": [],
   "source": [
    "compute_score_from_logs([\n",
    "  #'./experiments/zero-shot/llama3_cryptonite_candidates_1_epoch/2024-05-22_13-26-08.log',  # 0/10 trial run\n",
    "  './experiments/zero-shot/llama3_cryptonite_candidates_1_epoch/2024-05-22_13-29-23.log',\n",
    "], data_val, shuffled_idx_val, track_candidates=True)"
   ]
  },
  {
   "cell_type": "code",
   "execution_count": null,
   "id": "fda1504d",
   "metadata": {},
   "outputs": [],
   "source": [
    "compute_score_from_logs([\n",
    "  './experiments/zero-shot/llama3_cryptonite_candidates_1_epoch/2024-05-22_14-38-58.log',\n",
    "], data_test, shuffled_idx_test, track_candidates=True)"
   ]
  },
  {
   "cell_type": "code",
   "execution_count": null,
   "id": "1e9ce8aa",
   "metadata": {},
   "outputs": [],
   "source": [
    "# answer+candidates model : val\n",
    "#Overall :   70/1000 correct= 7.00%\n",
    "#  Quick :   11/  80 correct=13.75%\n",
    "#   Hard :   59/ 920 correct= 6.41%\n",
    "#Candidates :   24/1000 correct= 2.40%  << Uplift available\n",
    "\n",
    "# answer+candidates model : test\n",
    "#Overall :   65/1000 correct= 6.50%\n",
    "#  Quick :    8/  76 correct=10.53%\n",
    "#   Hard :   57/ 924 correct= 6.17%\n",
    "#Candidates :   23/1000 correct= 2.30%  << Uplift available"
   ]
  },
  {
   "cell_type": "markdown",
   "id": "1a5d9b03",
   "metadata": {},
   "source": [
    "## Use the (new) Local LLM with answer pretraining to generate multiple answer guesses"
   ]
  },
  {
   "cell_type": "code",
   "execution_count": 7,
   "id": "a3968da6-36c1-49d6-af99-76d94bbb346d",
   "metadata": {},
   "outputs": [
    {
     "name": "stdout",
     "output_type": "stream",
     "text": [
      "Loading as_lower_case=True embeddings took 0.0243s\n",
      "304658 ['a', 'aaronical', 'abaca', 'abacuses', 'abalone', 'abandoning', 'abased', 'abashment', 'abating', 'abattoir']\n"
     ]
    }
   ],
   "source": [
    "## Look at the crossword words dataset\n",
    "from solver.corpora import CrosswordDictionary\n",
    "crossword_dictionary = CrosswordDictionary(None)\n",
    "print(len(crossword_dictionary.wordlist), crossword_dictionary.wordlist[0:100:10])"
   ]
  },
  {
   "cell_type": "code",
   "execution_count": null,
   "id": "8f3b690f",
   "metadata": {},
   "outputs": [],
   "source": [
    "##load_model_and_tokenizer(f\"{HFCOMPANY}/llama3_cryptonite_1_epoch\")\n",
    "#load_model_and_tokenizer(f\"./llama3.1-it_answer_guesser_1200_steps\")\n",
    "#load_model_and_tokenizer(f\"./llama3.1-it_answer_guesser_1200_steps_resp-only\") # BASE-CASE\n",
    "#load_model_and_tokenizer(f\"./llama3.1-it_answer_guesser_1200_steps_resp-only_expert\")\n",
    "#load_model_and_tokenizer(f\"./llama3-it_answer_guesser_1200_steps_resp-only\")\n",
    "#load_model_and_tokenizer(f\"./gemma2-9B_answer_guesser_1200_steps_resp-only\")\n",
    "#load_model_and_tokenizer(f\"./gemma2-2B_answer_guesser_1200_steps_resp-only\")\n",
    "#load_model_and_tokenizer(f\"./llama3.1-base_answer_guesser_1200_steps_resp-only\")\n",
    "#load_model_and_tokenizer(f\"./llama3.1-it_answer_guesser_1200_steps_resp-only_r32\")\n",
    "\n",
    "# Base ICLR clue->answer\n",
    "load_model_and_tokenizer(f\"./gemma2-9B_answer_guesser_3678_steps_resp-only\")\n",
    "\n",
    "#load_model_and_tokenizer(f\"./gemma2-9B_answer_guesser_1200_steps_resp-only_upper\")\n",
    "\n",
    "#load_model_and_tokenizer(f\"./llama3.1-it_answer_guesser_1200_steps_resp-only_do-over-v1\")"
   ]
  },
  {
   "cell_type": "code",
   "execution_count": 8,
   "id": "f4b16737-72ea-46e2-96fc-e329bfc51be8",
   "metadata": {},
   "outputs": [
    {
     "name": "stdout",
     "output_type": "stream",
     "text": [
      "Redis server is available and running.\n"
     ]
    }
   ],
   "source": [
    "import solver.dataset\n",
    "from solver import llm\n",
    "from solver import pattern_to_re"
   ]
  },
  {
   "cell_type": "code",
   "execution_count": null,
   "id": "aec50351-c5cb-4110-aec1-9edf4adebac6",
   "metadata": {},
   "outputs": [],
   "source": [
    "#llm_prompt_style = llm.llama3_prompt\n",
    "llm_prompt_style = llm.alpaca_prompt\n",
    "\n",
    "upper_case_too=False\n",
    "#upper_case_too=True\n",
    "\n",
    "def get_answer_response_multiple(data_item, flog=None, \n",
    "                                 responses=20, \n",
    "                                 num_return_sequences=16, remaining_attempts=5,   # 5*16=80>>20\n",
    "                                 #num_return_sequences=8, remaining_attempts=1,   # for do-over training\n",
    "                                 reject_clue_fragments=True, debug=False, \n",
    "                                 upper_case_too=upper_case_too,\n",
    "                                 temperature=0.5):  # 0.5 Ok for Llama3, and higher @1 for Gemma2\n",
    "                                 #temperature=1.0):  #1.0 may be more suitable for Gemma2 diversity\n",
    "  clue_no_def = data_item['clue'].replace('{','').replace('}','').strip()\n",
    "  enumeration = data_item['enumeration']\n",
    "  orientation = data_item['orientation']\n",
    "\n",
    "  prompts = llm.prompt_answer_guesser(llm_prompt_style, clue_no_def, enumeration, orientation, '')  # Don't send answer...\n",
    "  prompt = prompts['prompt_test']\n",
    "  if debug or True:\n",
    "    print(f\"{orientation}: {clue_no_def}\")  # includes enumeration\n",
    "\n",
    "  inputs = tokenizer([prompt], return_tensors=\"pt\").to(\"cuda\")\n",
    "  prompt_length = inputs['input_ids'].shape[1]\n",
    "\n",
    "  def eot_truncate(ans, eot):\n",
    "    if eot in ans:\n",
    "      pos = ans.index(eot)\n",
    "      ans = ans[:pos]\n",
    "    return ans\n",
    "\n",
    "  clue_no_def_words_uc = clue_no_def.upper().split(' ')\n",
    "  pattern = enumeration.replace('(', '').replace(')', '')\n",
    "  pattern_re = pattern_to_re(pattern)\n",
    "\n",
    "  answers_valid, answers_in_clue, answers_wrong_pattern, answers_logprob = [], [], [], dict()\n",
    "  while len(answers_valid)<responses and remaining_attempts>0:\n",
    "    #outputs = model.generate(**inputs, max_new_tokens=40,  # Old version - just for tokens\n",
    "    output_stuff = model.generate(**inputs, max_new_tokens=40,  \n",
    "                             use_cache=True, pad_token_id=tokenizer.eos_token_id, \n",
    "                             temperature=temperature, do_sample=True, \n",
    "                             num_return_sequences=num_return_sequences,\n",
    "                             return_dict_in_generate=True,   # New line here \n",
    "                             #output_logits=True, # New line here - returns a large array\n",
    "                             output_scores=True,  # New line here - returns just the processed logits(?) of the tokens output\n",
    "                            )\n",
    "    #print(dir(output_stuff))\n",
    "\n",
    "    if False:\n",
    "      # Works with output_logits=True\n",
    "      #print(f\"{output_stuff.logits[0].shape=}\") #output_stuff.logits[0].shape=torch.Size([16, 256000])\n",
    "      #print(f\"{output_stuff['logits'][0]=}\")\n",
    "      #print(f\"{output_stuff.logits[0]=}\")\n",
    "  \n",
    "      print(f\"{prompt_length=}\")\n",
    "      print(f\"{len(output_stuff.scores)=}\")       # len(output_stuff.scores)=4   # This is the number of output token steps [t]\n",
    "      print(f\"{output_stuff.scores[0].shape=}\")   # output_stuff.scores[0].shape=torch.Size([16, 256000])  [B, vocab]\n",
    "      print(f\"{len(output_stuff['sequences'])=}\") # len(output_stuff['sequences'])=16 [B}\n",
    "      print(f\"{output_stuff['sequences'][0].shape=}\")  # output_stuff['sequences'][0].shape=torch.Size([57]) [t]\n",
    "\n",
    "    # Return only new(ish) tokens : Need to back off a little... (since 'answer: ' is in prompt)\n",
    "    outputs = output_stuff['sequences'] # ?\n",
    "    #print(outputs[0, prompt_length-10:])  # Search for <EOS>...  ==1 !?!\n",
    "    # tensor([ 39736, 235292,   7285,    109,   6176,  10567, 235292,    108,  13072, 235292,  27765,   8479,    108,      1], device='cuda:0')\n",
    "    response_text_arr =  tokenizer.batch_decode(outputs[:, prompt_length-10:])\n",
    "    #return {}  # For time-trials\n",
    "    \n",
    "    for response_idx, response_text in enumerate(response_text_arr):\n",
    "      #print(f\"RESPONSE:{response_idx}\\n{response_text}\\n\")\n",
    "\n",
    "      logprobs = []\n",
    "      with torch.no_grad():\n",
    "        for timestep, scores in enumerate(output_stuff.scores):\n",
    "          response_timestep_scores = scores[response_idx]  # This is the scores (~logits) for this timestep\n",
    "          #print(f\"{response_timestep_scores.shape=}\")\n",
    "          response_timestep_logprobs = torch.log_softmax(response_timestep_scores, dim=-1)\n",
    "          output_token = outputs[response_idx, prompt_length+timestep]\n",
    "          logprobs.append( response_timestep_logprobs[output_token].item() )\n",
    "          if output_token==1: \n",
    "            #print(f\"Got <eos> at {timestep=}\")\n",
    "            break # This is <eos>\n",
    "      response_logprob = sum(logprobs) / len(logprobs)\n",
    "      #print(f\"{response_logprob=}\")\n",
    "      \n",
    "      fields, count_found, finished = { 'answer:':None, }, 0, False\n",
    "      for line in response_text.split('\\n'):\n",
    "        line = line.strip()\n",
    "        #print(f'{line=}')\n",
    "        for k,v in fields.items():\n",
    "          if line.startswith(k) and v is None:\n",
    "            #print(f'Got:{k}')\n",
    "            ans = line[len(k):].strip()\n",
    "            ans = eot_truncate(ans, '<|end_of_text|>')\n",
    "            ans = eot_truncate(ans, '<|eot_id|>')\n",
    "            if '#' in ans: # This is for the do-over stuff\n",
    "              if 'No' in ans[ans.find('#'):]: # This is a rejection\n",
    "                #print(f\"Discarding '{ans}'\")\n",
    "                break # i.e. ignore this line\n",
    "              ans = eot_truncate(ans, '#')  \n",
    "            #print(f\"Accepting '{ans}'\")\n",
    "            fields[k]=ans.strip()\n",
    "            count_found+=1\n",
    "            if count_found==len(fields):\n",
    "              finished=True\n",
    "            break\n",
    "        if finished:\n",
    "          break\n",
    "      answer = fields['answer:']\n",
    "      if answer is not None and len(answer)>0:\n",
    "        answer = answer.upper()\n",
    "        if upper_case_too:  # The answer needs 'de-spacing'\n",
    "          #tmp=answer\n",
    "          answer = llm.from_upper_tokens(answer)\n",
    "          #print(f\"'{tmp}' -> '{answer}'\")\n",
    "        found=False\n",
    "        if reject_clue_fragments:\n",
    "          for w in clue_no_def_words_uc:\n",
    "            if answer in w:\n",
    "              found=True\n",
    "          if found:\n",
    "            answers_in_clue.append(answer)\n",
    "            if debug:\n",
    "              print(f\"Rejecting '{answer}' - in clue\")\n",
    "        if not found:\n",
    "          # CHECK THAT IT FITS THE PATTERN...\n",
    "          if re.match(pattern_re, answer):\n",
    "            answers_valid.append(answer)\n",
    "            answers_logprob[answer]=response_logprob  # This will overwrite - the logprobs are deterministic given previous sequence\n",
    "          else:\n",
    "            answers_wrong_pattern.append(answer)\n",
    "            if debug:\n",
    "              print(f\"Rejecting '{answer}' - doesn't match pattern {enumeration}\")\n",
    "    #print(f\"{len(answers_valid)=}\")\n",
    "    remaining_attempts-=1\n",
    "\n",
    "  if flog is not None:\n",
    "    flog.write('\\n---PROMPT---\\n')\n",
    "    flog.write(prompt)\n",
    "    flog.write('\\n---RESPONSE---\\n')\n",
    "    flog.write(response_text)   # This is just the last response text...\n",
    "    solver.dataset.write_log_result(flog, data_item['idx_shuffled'], data_item['idx_orig'], dict(\n",
    "      clue=clue_no_def,\n",
    "      pattern=pattern,\n",
    "      answers_valid=answers_valid[:responses],  # Restrict the number of responses to that requested\n",
    "      answers_wrong_pattern=answers_wrong_pattern,\n",
    "      answers_in_clue=answers_in_clue,\n",
    "      answers_logprob=answers_logprob,\n",
    "    ))\n",
    "  \n",
    "  return answers_valid, answers_wrong_pattern, answers_in_clue, answers_logprob"
   ]
  },
  {
   "cell_type": "code",
   "execution_count": null,
   "id": "d79b4037",
   "metadata": {},
   "outputs": [],
   "source": [
    "if True:  # Check 1 validation example\n",
    "  idx=3\n",
    "  data_item = data_val[shuffled_idx_val[idx]]\n",
    "  answers_valid, answers_wrong_pattern, answers_in_clue, answers_logprob = get_answer_response_multiple(data_item, debug=True)\n",
    "  print(f\"\"\"  answer: gold='{ data_item['answer'].upper() }'\"\"\" )  \n",
    "  print(f\"\"\"          model:'{ ','.join(answers_valid) }'\"\"\")\n",
    "  print(f\"\"\"          answers_wrong_pattern:'{ ','.join(answers_wrong_pattern) }'\"\"\")\n",
    "  print(f\"\"\"          answers_in_clue:'{ ','.join(answers_in_clue) }'\"\"\")\n",
    "  for k in sorted(answers_logprob.keys(), key=lambda k:-answers_logprob[k]):\n",
    "    print(f\"\"\"          answers_logprob[{k}]->{answers_logprob[k]:.4f}\"\"\")"
   ]
  },
  {
   "cell_type": "code",
   "execution_count": null,
   "id": "e9b50024",
   "metadata": {},
   "outputs": [],
   "source": [
    "if False:  # For running a time-trial\n",
    "  n=1\n",
    "  for _ in range(8):\n",
    "    t0=time.time()\n",
    "    get_answer_response_multiple(data_item, responses=1, num_return_sequences=n)\n",
    "    print(f\"n={n:4d} : {(time.time()-t0):.4f}secs overall, {(time.time()-t0)/n:.4f}secs per sample\")\n",
    "    n*=2\n",
    "\"\"\"\n",
    "across: little bird to dart across sill (10)\n",
    "n=   1 : 0.6424secs overall, 0.6424secs per sample\n",
    "n=   2 : 1.5656secs overall, 0.7828secs per sample\n",
    "n=   4 : 1.6869secs overall, 0.4217secs per sample\n",
    "n=   8 : 1.8867secs overall, 0.2358secs per sample\n",
    "n=  16 : 2.3012secs overall, 0.1438secs per sample\n",
    "n=  32 : 3.1910secs overall, 0.0997secs per sample\n",
    "n=  64 : 4.6393secs overall, 0.0725secs per sample\n",
    "n= 128 : 7.9338secs overall, 0.0620secs per sample\n",
    "\"\"\";"
   ]
  },
  {
   "cell_type": "code",
   "execution_count": null,
   "id": "a0fde156",
   "metadata": {},
   "outputs": [],
   "source": [
    "run_samples(get_answer_response_multiple, 'gemma2-9B_answer_guesser_3678_steps_resp-only_t-1.0_dumbranker', \n",
    "            data_test, shuffled_idx_test, samples=515)\n",
    "#run_samples(get_answer_response_multiple, 'gemma2-9B_answer_guesser_3678_steps_resp-only_t-1.0_dumbranker', \n",
    "#            data_val, shuffled_idx_val, samples=1000) # Only ran for 515"
   ]
  },
  {
   "cell_type": "code",
   "execution_count": 9,
   "id": "7096ea4e",
   "metadata": {},
   "outputs": [],
   "source": [
    "import solver.dataset\n",
    "def compute_multiple_answer_scoring_from_logs(overlaid, data_set, shuffled_idx, \n",
    "                                              whole_list=False, most_popular=False, \n",
    "                                              only_valid_answers=False, logprobs=False,\n",
    "                                              valid_responses_max=20, debug=True):\n",
    "  # Now that we have the 'final' ans in overlaid, let's score them\n",
    "  pos, cnt = 0, 0\n",
    "  pos_q, cnt_q = 0, 0  # Quick (not hard)\n",
    "  \n",
    "  for idx, model_outputs in overlaid.items():\n",
    "    #if idx>=200: break  # Doesn't change the answer much (phew!)\n",
    "    item = data_set[shuffled_idx[idx]]  \n",
    "    ans_data  = item['answer'].upper()\n",
    "    #print(f'@{idx: <4d} Model:\"{ans_model}\", Correct:\"{ans_data}\"')\n",
    "    model_data = model_outputs[0]\n",
    "    model_answers=model_data['answers_valid']\n",
    "\n",
    "    model_answers=model_answers[:valid_responses_max]  # cut off the list... (should be done above)\n",
    "    if only_valid_answers:\n",
    "      model_answers = [ answer for answer in model_answers if crossword_dictionary.includes(answer, split_phrase=True) ]\n",
    "    \n",
    "    correct=None\n",
    "    if whole_list:\n",
    "      correct = (ans_data in model_answers) # Search list\n",
    "    if most_popular:  # Idea: Is the most popular one the right one?\n",
    "      # https://www.geeksforgeeks.org/python-find-most-frequent-element-in-a-list/\n",
    "      if len(model_answers)>0: \n",
    "        most_frequent = max(set(model_answers), key=model_answers.count)\n",
    "        correct = (ans_data == most_frequent)\n",
    "    if logprobs and 'answers_logprob' in model_data:\n",
    "      answers_logprob = model_data['answers_logprob']\n",
    "      logprobs_sorted = sorted(answers_logprob.keys(), key=lambda k:-answers_logprob[k])\n",
    "      if len(logprobs_sorted)>0:\n",
    "        correct = (ans_data == logprobs_sorted[0])\n",
    "    if correct is None:  # Nothing done yet - just use the first model_answer (if available)\n",
    "      correct = (len(model_answers)>0 and model_answers[0]==ans_data) # Single value\n",
    "      \n",
    "    if correct: pos+=1\n",
    "    cnt+=1\n",
    "    if item['quick']:\n",
    "      if correct: pos_q+=1\n",
    "      cnt_q+=1\n",
    "\n",
    "  if debug:\n",
    "    print(f\"Overall : {pos:4d}/{cnt:4d} correct={100.*pos/cnt:5.2f}%\")\n",
    "    if cnt_q>0: \n",
    "      print(f\"  Quick : {pos_q:4d}/{cnt_q:4d} correct={100.*pos_q/cnt_q:5.2f}%\")\n",
    "    print(f\"   Hard : {pos-pos_q:4d}/{cnt-cnt_q:4d} correct={100.*(pos-pos_q)/(cnt-cnt_q):5.2f}%\")\n",
    "\n",
    "  return pos, cnt, pos_q, cnt_q"
   ]
  },
  {
   "cell_type": "code",
   "execution_count": 10,
   "id": "af97a6fe-dd52-4980-8eeb-523935f7f3a6",
   "metadata": {},
   "outputs": [],
   "source": [
    "pth='./experiments/zero-shot/'\n",
    "log_outputs_for_analysis = [\n",
    "  # all against test set...\n",
    "  pth+'llama3.1-it_answer_guesser_1200_steps/2024-08-31_18-10-17.log', # 11.10% correct\n",
    "  pth+'llama3.1-it_answer_guesser_1200_steps_resp-only/2024-09-01_08-01-53.log', # 13.30% correct - 26.6% whole list BASE-CASE\n",
    "  pth+'llama3.1-it_answer_guesser_1200_steps_resp-only_expert/2024-09-02_16-42-35.log', # 13.20% correct - 25.4% whole list\n",
    "  pth+'llama3-it_answer_guesser_1200_steps_resp-only/2024-09-03_08-08-45.log', # 13.00% correct\n",
    "  pth+'gemma2-9B_answer_guesser_1200_steps_resp-only/2024-09-03_05-56-00.log', # 16.80% correct - 37.3% whole list\n",
    "  pth+'gemma2-2B_answer_guesser_1200_steps_resp-only/2024-09-03_12-46-30.log', # 8.00% correct - 23.3% whole list\n",
    "  pth+'gemma2-9B_answer_guesser_1200_steps_resp-only_t-1.0/2024-09-03_13-37-23.log',  # 12.30% - 43.4% whole list\n",
    "  pth+'llama3.1-base_answer_guesser_1200_steps_resp-only/2024-09-04_02-57-01.log', # 13.80% correct - 26.40% whole list\n",
    "  pth+'llama3.1-it_answer_guesser_1200_steps_resp-only_r32/2024-09-04_14-10-44.log', # 13.20% correct - 26.20% whole list\n",
    "  pth+'llama3.1-it_answer_guesser_1200_steps_resp-only_do-over-v1/2024-09-04_17-29-40.log',   # 15.20% correct = 29.30% whole list\n",
    "\n",
    "  pth+'gemma2-9B_answer_guesser_1200_steps_resp-only_upper/2024-09-16_17-23-24.log', # 9.00% correct - 26.1% whole list\n",
    "\n",
    "  # NB: test set...\n",
    "  pth+'gemma2-9B_answer_guesser_3678_steps_resp-only/2024-09-06_13-37-15.log',       # 21.20% correct - 40.0% whole list\n",
    "  pth+'gemma2-9B_answer_guesser_3678_steps_resp-only_t-1.0/2024-09-06_15-59-09.log', # 15.90% correct - 44.20% whole list\n",
    "\n",
    "  # NB: validation set...\n",
    "  pth+'gemma2-9B_answer_guesser_3678_steps_resp-only_t-1.0/2024-09-26_05-20-39.log', # *val* 21.70% correct\n",
    "\n",
    "  # NB: validation set... has 515 (with logprobs)\n",
    "  pth+'gemma2-9B_answer_guesser_3678_steps_resp-only_t-1.0_dumbranker/2024-11-26_19-13-40.log', # 21.30% correct - 38.4% whole list\n",
    "  # | gemma2-9B_answer_guesser_3678_steps_resp-only_t-1.0_dumbranker | 21.39% | 33.33% | 20.42% || 38.54% | 46.15% | 37.92% || 23.89% | 35.90% | 22.92% |\n",
    "\n",
    "  pth+'gemma2-9B_answer_guesser_3678_steps_resp-only_t-1.0_dumbranker/2024-11-27_07-29-10.log', # TBA\n",
    "]"
   ]
  },
  {
   "cell_type": "code",
   "execution_count": 11,
   "id": "a63dffdc",
   "metadata": {},
   "outputs": [
    {
     "name": "stdout",
     "output_type": "stream",
     "text": [
      "Examining whole list=False\n",
      "Overall :  217/1000 correct=21.70%\n",
      "  Quick :   23/  80 correct=28.75%\n",
      "   Hard :  194/ 920 correct=21.09%\n",
      "Examining whole list=True\n",
      "Overall :  385/1000 correct=38.50%\n",
      "  Quick :   33/  80 correct=41.25%\n",
      "   Hard :  352/ 920 correct=38.26%\n"
     ]
    }
   ],
   "source": [
    "# original llama3-7B-base for 1 epoch = 14.30%\n",
    "overlaid = solver.dataset.read_log_results([log_outputs_for_analysis[-1]]) # Just the last entry\n",
    "for whole_list in [False, True]:\n",
    "  print(f\"Examining whole list={whole_list}\")\n",
    "  compute_multiple_answer_scoring_from_logs( overlaid, data_test, shuffled_idx_test, whole_list=whole_list)\n",
    "  #compute_multiple_answer_scoring_from_logs( overlaid, data_val, shuffled_idx_val, whole_list=whole_list)  \n",
    "#compute_multiple_answer_scoring_from_logs( overlaid, data_val, shuffled_idx_val, logprobs=True)  "
   ]
  },
  {
   "cell_type": "code",
   "execution_count": 13,
   "id": "1ed3da11-647e-468a-ba79-1a70d5264292",
   "metadata": {},
   "outputs": [
    {
     "name": "stdout",
     "output_type": "stream",
     "text": [
      "| llama3.1-it_answer_guesser_1200_steps                        | 11.10% | 19.74% | 10.39% || 24.10% | 39.47% | 22.84% || 13.80% | 26.32% | 12.77% |\n",
      "| llama3.1-it_answer_guesser_1200_steps_resp-only              | 13.30% | 26.32% | 12.23% || 25.80% | 46.05% | 24.13% || 17.60% | 39.47% | 15.80% |\n",
      "| llama3.1-it_answer_guesser_1200_steps_resp-only_expert       | 13.20% | 28.95% | 11.90% || 24.60% | 46.05% | 22.84% || 15.80% | 32.89% | 14.39% |\n",
      "| llama3-it_answer_guesser_1200_steps_resp-only                | 13.00% | 31.58% | 11.47% || 24.50% | 44.74% | 22.84% || 15.80% | 32.89% | 14.39% |\n",
      "| gemma2-9B_answer_guesser_1200_steps_resp-only                | 16.80% | 34.21% | 15.37% || 35.50% | 60.53% | 33.44% || 22.90% | 43.42% | 21.21% |\n",
      "| gemma2-2B_answer_guesser_1200_steps_resp-only                |  8.00% | 14.47% |  7.47% || 21.60% | 28.95% | 21.00% || 11.60% | 18.42% | 11.04% |\n",
      "| gemma2-9B_answer_guesser_1200_steps_resp-only_t-1.0          | 12.30% | 27.63% | 11.04% || 40.80% | 69.74% | 38.42% || 24.40% | 50.00% | 22.29% |\n",
      "| llama3.1-base_answer_guesser_1200_steps_resp-only            | 13.80% | 32.89% | 12.23% || 25.60% | 47.37% | 23.81% || 16.40% | 35.53% | 14.83% |\n",
      "| llama3.1-it_answer_guesser_1200_steps_resp-only_r32          | 13.20% | 28.95% | 11.90% || 25.20% | 47.37% | 23.38% || 16.10% | 30.26% | 14.94% |\n",
      "| llama3.1-it_answer_guesser_1200_steps_resp-only_do-over-v1   | 15.20% | 30.26% | 13.96% || 28.50% | 50.00% | 26.73% || 19.00% | 43.42% | 16.99% |\n",
      "| gemma2-9B_answer_guesser_1200_steps_resp-only_upper          |  9.00% | 28.95% |  7.36% || 24.70% | 52.63% | 22.40% || 12.90% | 32.89% | 11.26% |\n",
      "| gemma2-9B_answer_guesser_3678_steps_resp-only                | 21.20% | 47.37% | 19.05% || 37.70% | 65.79% | 35.39% || 24.70% | 55.26% | 22.19% |\n",
      "| gemma2-9B_answer_guesser_3678_steps_resp-only_t-1.0          | 15.90% | 38.16% | 14.07% || 44.10% | 69.74% | 41.99% || 25.50% | 55.26% | 23.05% |\n",
      "| gemma2-9B_answer_guesser_3678_steps_resp-only_t-1.0          |  0.00% |  0.00% |  0.00% ||  0.00% |  0.00% |  0.00% ||  0.00% |  0.00% |  0.00% |\n"
     ]
    }
   ],
   "source": [
    "# Now do whole list with 'all kinds of outputs'\n",
    "def compute_with_args(overlaid, **kwargs):\n",
    "  return compute_multiple_answer_scoring_from_logs( overlaid, data_test, shuffled_idx_test, debug=False, **kwargs)\n",
    "  #return compute_multiple_answer_scoring_from_logs( overlaid, data_val, shuffled_idx_val, debug=False, **kwargs)\n",
    "def as_pcts(pos, cnt, pos_q, cnt_q):\n",
    "  return f\"{100.*pos/cnt:5.2f}% | {100.*pos_q/cnt_q+0.000001:5.2f}% | {100.*(pos-pos_q)/(cnt-cnt_q):5.2f}%\"\n",
    "  \n",
    "#for f in [log_outputs_for_analysis[-1]]:\n",
    "for f in log_outputs_for_analysis:\n",
    "  overlaid = solver.dataset.read_log_results([f])\n",
    "  res1 = compute_with_args(overlaid)  # Raw score (includes potentially invalid guesses = base-line)\n",
    "  #res1 = compute_with_args(overlaid, whole_list=True, only_valid_answers=False) \n",
    "  res2 = compute_with_args(overlaid, whole_list=True, only_valid_answers=False)    # Does the correct answer appear at all\n",
    "  #res2 = compute_with_args(overlaid, most_popular=True, only_valid_answers=False)  \n",
    "  #res3 = compute_with_args(overlaid, most_popular=True, only_valid_answers=True)  # Restricting to valid = ~+2% for better ones\n",
    "  res3 = compute_with_args(overlaid, logprobs=True)  # Choose highest logprob answer (for ICLR reranker ablation)\n",
    "  f_pretty=f.split('/')[-2]\n",
    "  print(f\"| {f_pretty:60s} | {as_pcts(*res1)} || {as_pcts(*res2)} || { as_pcts(*res3)} |\")"
   ]
  },
  {
   "cell_type": "code",
   "execution_count": 56,
   "id": "61337bac-029a-4631-bcc2-5ce6167890bd",
   "metadata": {},
   "outputs": [
    {
     "data": {
      "text/plain": [
       "58"
      ]
     },
     "execution_count": 56,
     "metadata": {},
     "output_type": "execute_result"
    }
   ],
   "source": [
    "#len('llama3.1-it_answer_guesser_1200_steps_resp-only_do-over-v1')"
   ]
  },
  {
   "cell_type": "markdown",
   "id": "53bca529-445e-4fea-a400-9b2d2bde7f43",
   "metadata": {},
   "source": [
    "### Create a graph as n goes 1..20"
   ]
  },
  {
   "cell_type": "code",
   "execution_count": 12,
   "id": "7a7859a9-8ab4-44f1-ab60-0846d6d67c43",
   "metadata": {},
   "outputs": [],
   "source": [
    "import numpy as np \n",
    "\n",
    "import matplotlib\n",
    "import matplotlib.pyplot as plt"
   ]
  },
  {
   "cell_type": "code",
   "execution_count": 37,
   "id": "192f22d0-1f48-4dc2-a5ae-9f146570b21c",
   "metadata": {},
   "outputs": [
    {
     "name": "stdout",
     "output_type": "stream",
     "text": [
      "Doing Validation set statistics\n",
      "Examining whole_list=False, most_popular=True\n",
      "1, 21.70, 28.75, 21.09\n",
      "2, 21.50, 28.75, 20.87\n",
      "3, 22.30, 27.50, 21.85\n",
      "4, 23.20, 27.50, 22.83\n",
      "5, 22.90, 28.75, 22.39\n",
      "6, 23.50, 28.75, 23.04\n",
      "7, 23.40, 30.00, 22.83\n",
      "8, 23.70, 28.75, 23.26\n",
      "9, 23.50, 30.00, 22.93\n",
      "10, 23.70, 28.75, 23.26\n",
      "11, 23.90, 30.00, 23.37\n",
      "12, 24.50, 31.25, 23.91\n",
      "13, 24.30, 28.75, 23.91\n",
      "14, 24.10, 27.50, 23.80\n",
      "15, 24.00, 28.75, 23.59\n",
      "16, 23.80, 28.75, 23.37\n",
      "17, 24.30, 30.00, 23.80\n",
      "18, 24.20, 30.00, 23.70\n",
      "19, 24.50, 30.00, 24.02\n",
      "20, 24.40, 30.00, 23.91\n",
      "Examining whole_list=True, most_popular=False\n",
      "1, 21.70, 28.75, 21.09\n",
      "2, 26.00, 32.50, 25.43\n",
      "3, 28.50, 32.50, 28.15\n",
      "4, 30.80, 35.00, 30.43\n",
      "5, 32.10, 36.25, 31.74\n",
      "6, 32.70, 36.25, 32.39\n",
      "7, 34.00, 38.75, 33.59\n",
      "8, 34.60, 38.75, 34.24\n",
      "9, 35.40, 40.00, 35.00\n",
      "10, 36.00, 40.00, 35.65\n",
      "11, 36.30, 40.00, 35.98\n",
      "12, 36.60, 40.00, 36.30\n",
      "13, 36.90, 40.00, 36.63\n",
      "14, 37.10, 40.00, 36.85\n",
      "15, 37.40, 41.25, 37.07\n",
      "16, 37.60, 41.25, 37.28\n",
      "17, 38.00, 41.25, 37.72\n",
      "18, 38.20, 41.25, 37.93\n",
      "19, 38.30, 41.25, 38.04\n",
      "20, 38.50, 41.25, 38.26\n",
      "Doing Test set statistics\n",
      "Examining whole_list=False, most_popular=True\n",
      "1, 15.90, 38.16, 14.07\n",
      "2, 15.70, 38.16, 13.85\n",
      "3, 18.00, 42.11, 16.02\n",
      "4, 19.70, 51.32, 17.10\n",
      "5, 20.10, 53.95, 17.32\n",
      "6, 21.40, 52.63, 18.83\n",
      "7, 22.20, 53.95, 19.59\n",
      "8, 22.80, 55.26, 20.13\n",
      "9, 23.00, 51.32, 20.67\n",
      "10, 23.00, 50.00, 20.78\n",
      "11, 23.30, 52.63, 20.89\n",
      "12, 23.30, 51.32, 21.00\n",
      "13, 23.50, 51.32, 21.21\n",
      "14, 23.90, 52.63, 21.54\n",
      "15, 24.10, 52.63, 21.75\n",
      "16, 24.40, 52.63, 22.08\n",
      "17, 24.50, 52.63, 22.19\n",
      "18, 24.30, 51.32, 22.08\n",
      "19, 23.90, 51.32, 21.65\n",
      "20, 23.50, 51.32, 21.21\n",
      "Examining whole_list=True, most_popular=False\n",
      "1, 15.90, 38.16, 14.07\n",
      "2, 22.60, 52.63, 20.13\n",
      "3, 26.40, 56.58, 23.92\n",
      "4, 29.20, 57.89, 26.84\n",
      "5, 31.90, 60.53, 29.55\n",
      "6, 33.20, 64.47, 30.63\n",
      "7, 34.70, 64.47, 32.25\n",
      "8, 36.00, 64.47, 33.66\n",
      "9, 37.30, 64.47, 35.06\n",
      "10, 38.50, 65.79, 36.26\n",
      "11, 39.20, 65.79, 37.01\n",
      "12, 39.50, 65.79, 37.34\n",
      "13, 39.90, 67.11, 37.66\n",
      "14, 40.80, 67.11, 38.64\n",
      "15, 41.40, 67.11, 39.29\n",
      "16, 42.10, 67.11, 40.04\n",
      "17, 42.80, 68.42, 40.69\n",
      "18, 43.20, 68.42, 41.13\n",
      "19, 44.00, 69.74, 41.88\n",
      "20, 44.10, 69.74, 41.99\n"
     ]
    }
   ],
   "source": [
    "#for whole_list, most_popular in [(False, True), (True, False)]:\n",
    "def get_graph(overlaid, whole_list, most_popular, data_set, shuffled_idx):\n",
    "  print(f\"Examining {whole_list=}, {most_popular=}\")\n",
    "  arr=[]\n",
    "  for n in range(1, 20+1):\n",
    "    pos, cnt, pos_q, cnt_q = compute_multiple_answer_scoring_from_logs( overlaid, data_set, shuffled_idx, \n",
    "                                              whole_list=whole_list, most_popular=most_popular, \n",
    "                                              valid_responses_max=n, debug=False)  \n",
    "    #print(f\"{n}, {pos}, {cnt}, {pos_q}, {cnt_q}, {pos-pos_q}, {cnt-cnt_q}\")\n",
    "    print(f\"{n}, {pos/cnt*100.:.2f}, {pos_q/cnt_q*100.:.2f}, {(pos-pos_q)/(cnt-cnt_q)*100.:.2f}\")    \n",
    "    arr.append([ pos/cnt*100., pos_q/cnt_q*100., (pos-pos_q)/(cnt-cnt_q)*100.] )\n",
    "  return np.array(arr)\n",
    "\n",
    "\n",
    "print(\"Doing Validation set statistics\")\n",
    "overlaid = solver.dataset.read_log_results([log_outputs_for_analysis[-1]]) # Just the last entry = val\n",
    "arr_val_freq   = get_graph( overlaid, False, True, data_val, shuffled_idx_val )\n",
    "arr_val_exists = get_graph( overlaid, True, False, data_val, shuffled_idx_val )\n",
    "\n",
    "print(\"Doing Test set statistics\")\n",
    "overlaid = solver.dataset.read_log_results([log_outputs_for_analysis[-2]]) # Just the last-but-one entry = test\n",
    "arr_test_freq   = get_graph( overlaid, False, True, data_test, shuffled_idx_test )\n",
    "arr_test_exists = get_graph( overlaid, True, False, data_test, shuffled_idx_test )"
   ]
  },
  {
   "cell_type": "code",
   "execution_count": 57,
   "id": "9b0dbf15-911b-4e74-9fc6-c0bc2bad0823",
   "metadata": {},
   "outputs": [],
   "source": [
    "n_vals = np.linspace(1,20,20)\n",
    "\n",
    "def add_to_ax(ax):\n",
    "  ax.ylabel(\"Probability (pct)\")\n",
    "  ax.xticks(n_vals)\n",
    "  ax.xlabel(\"Number of answer candidates\")\n",
    "  ax.grid()\n",
    "  ax.legend(loc=\"lower right\")"
   ]
  },
  {
   "cell_type": "code",
   "execution_count": 67,
   "id": "77cdd108-790b-4b0c-a7b8-0651612872ed",
   "metadata": {},
   "outputs": [],
   "source": [
    "def make_all_plots(plt):\n",
    "  plt.figure(figsize=(12,4))\n",
    "\n",
    "  plt.subplot(1, 2, 1)\n",
    "  plt.plot(n_vals, arr_val_exists[:,:1], marker='x', label=\"Validation\")\n",
    "  plt.plot(n_vals, arr_test_exists[:,:1], marker='o', label=\"Test\")\n",
    "  plt.title(\"(a) Is the gold answer in the candidate list?\")\n",
    "  add_to_ax(plt)\n",
    "\n",
    "  plt.subplot(1, 2, 2)\n",
    "  plt.plot(n_vals, arr_val_freq[:,:1], marker='x', label=\"Validation\")\n",
    "  plt.plot(n_vals, arr_test_freq[:,:1], marker='o', label=\"Test\")\n",
    "  plt.title(\"(b) Is the highest frequency candidate the gold answer?\")\n",
    "  add_to_ax(plt)\n",
    "  \n",
    "  #fig.tight_layout()\n",
    "  return plt  "
   ]
  },
  {
   "cell_type": "code",
   "execution_count": 68,
   "id": "4109ac90-fb72-41b8-9ab8-9efff3f21bde",
   "metadata": {
    "lines_to_next_cell": 0
   },
   "outputs": [
    {
     "data": {
      "image/png": "[encoded data removed]",
      "text/plain": [
       "<Figure size 1200x400 with 2 Axes>"
      ]
     },
     "metadata": {},
     "output_type": "display_data"
    }
   ],
   "source": [
    "latex_pdf_graphic = {\n",
    "  \"pgf.texsystem\": \"pdflatex\",\n",
    "  'font.family': 'serif',\n",
    "  'font.size' : 11,\n",
    "  'text.usetex': True,\n",
    "  'pgf.rcfonts': False,\n",
    "}\n",
    "\n",
    "with matplotlib.rc_context():\n",
    "  matplotlib.rcParams.update(latex_pdf_graphic)\n",
    "  plt = make_all_plots(plt)\n",
    "  plt.savefig(#'./experiments/formalisation_heatmap.pdf', \n",
    "              './paper/2024-09-28_ICLR/answer_candidates_scoring.pdf', \n",
    "              bbox_inches='tight', pad_inches=0.1,\n",
    "             )\n",
    "  plt.show()\n",
    "  plt.close('all')"
   ]
  },
  {
   "cell_type": "code",
   "execution_count": null,
   "id": "8398df41-d56d-4de5-852b-c3f2c35e633a",
   "metadata": {
    "lines_to_next_cell": 2
   },
   "outputs": [],
   "source": []
  },
  {
   "cell_type": "code",
   "execution_count": null,
   "id": "8b239dfd",
   "metadata": {},
   "outputs": [],
   "source": [
    "PAUSE"
   ]
  },
  {
   "cell_type": "markdown",
   "id": "3408119b",
   "metadata": {},
   "source": [
    "### Generate some candidates, etc, for 'Do-over training'"
   ]
  },
  {
   "cell_type": "code",
   "execution_count": null,
   "id": "1805cc09",
   "metadata": {},
   "outputs": [],
   "source": [
    "data_train =load_cryptonite_dataset('train')\n",
    "shuffled_idx_train = get_shuffled_idx(data_train, seed=42)\n",
    "\n",
    "if True:\n",
    "  run_samples(get_answer_response_multiple, \n",
    "              'llama3.1-it_answer_guesser_1200_steps_resp-only_train', \n",
    "              #'gemma2-9B_answer_guesser_1200_steps_resp-only_train', \n",
    "              data_train, shuffled_idx_train, samples=10000, )\n",
    "  #ABOVE :    num_return_sequences=8, remaining_attempts=1)  # Only do loop once...  (8 total results)\n",
    "  # Takes ~25mins for 1000"
   ]
  },
  {
   "cell_type": "code",
   "execution_count": null,
   "id": "d5b09d50",
   "metadata": {},
   "outputs": [],
   "source": [
    "import random\n",
    "\n",
    "def get_some_entries(arr, max_entries=4):\n",
    "  if len(arr)==0: return []\n",
    "  random.shuffle(arr)  # in-place!\n",
    "  return arr[:min(max_entries, random.randint(1, len(arr)))]  # At least 1 entry\n",
    "\n",
    "def make_do_over_dataset(flog_arr, fout, n_do_overs=4, ):\n",
    "  overlaid = solver.dataset.read_log_results(flog_arr)\n",
    "\n",
    "  with open(fout, 'w', encoding='utf8') as fout_file:\n",
    "    for idx, model_outputs in overlaid.items():\n",
    "      #item = data_set[shuffled_idx[idx]]  \n",
    "      item = data_train[shuffled_idx_train[idx]]  \n",
    "      ans_data  = item['answer'].upper()\n",
    "      #print(f'@{idx: <4d} Model:\"{ans_model}\", Correct:\"{ans_data}\"')\n",
    "      model_data = model_outputs[0]\n",
    "      a_invalid       = set( model_data['answers_valid'] )  \n",
    "      a_invalid.discard(ans_data) # Strip out the correct answer(s)\n",
    "      a_wrong_pattern = set( model_data['answers_wrong_pattern'] )\n",
    "      a_in_clue       = set( model_data['answers_in_clue'] )\n",
    "      \n",
    "      for _ in range(n_do_overs): # Try to get this many out, if possible\n",
    "        answers=[]\n",
    "        a_wrong = get_some_entries(list(a_invalid)+list(a_wrong_pattern)+list(a_in_clue))\n",
    "        # Now have some incorrect answers, let's write them out with annotations\n",
    "        for a in a_wrong:\n",
    "          reason=None \n",
    "          if a in a_invalid: \n",
    "            reason='wordplay'\n",
    "            a_invalid.discard(a)\n",
    "          if a in a_wrong_pattern: \n",
    "            reason='pattern'\n",
    "            a_wrong_pattern.discard(a)\n",
    "          if a in a_in_clue:\n",
    "            reason='given'\n",
    "            a_in_clue.discard(a)\n",
    "          answers.append(a+' # No : '+reason)\n",
    "        # Finally\n",
    "        answers.append(ans_data)  # Correct!  +' '\n",
    "        #print('\\n'.join(answers)+'\\n')\n",
    "\n",
    "        item.update(dict(answers=answers))\n",
    "        json.dump(item, fout_file, ensure_ascii=False)\n",
    "        fout_file.write('\\n')\n",
    "  \n",
    "        if len(a_wrong)==0:  # There are no entries left to choose...\n",
    "          break\n",
    "      #if idx>5: break  # Just do first few\n",
    "\n",
    "#split='do-over-llama3.1-it-v1' # 0...1000\n",
    "split='do-over-llama3.1-it-v2'  # 1000...9000\n",
    "#split='do-over-gemma2-v1'\n",
    "make_do_over_dataset([\n",
    "  #'./experiments/zero-shot/llama3.1-it_answer_guesser_1200_steps_resp-only_train/2024-09-04_15-43-52.log', \n",
    "  './experiments/zero-shot/llama3.1-it_answer_guesser_1200_steps_resp-only_train/2024-09-05_03-00-19.log', \n",
    "  #'./experiments/zero-shot/gemma2-9B_answer_guesser_1200_steps_resp-only_train/2024-09-03_15-50-31.log',\n",
    "], f'./data_orig/cryptonite-{split}.jsonl' )\n",
    "\"DONE\""
   ]
  },
  {
   "cell_type": "code",
   "execution_count": null,
   "id": "10c998b3",
   "metadata": {
    "lines_to_next_cell": 0
   },
   "outputs": [],
   "source": [
    "#for s in [set([]), set(['AS']), set(['AS','BF','CE', 'DW']), ]:\n",
    "#  print(s, get_some_entries(s))\n",
    "# random.shuffle(list({'AS'}))\n",
    "# {'AS', 'BF', 'CE', 'DW'}.update({'AS'})"
   ]
  },
  {
   "cell_type": "code",
   "execution_count": null,
   "id": "75da66c8",
   "metadata": {},
   "outputs": [],
   "source": []
  },
  {
   "cell_type": "code",
   "execution_count": null,
   "id": "0c042eb6",
   "metadata": {},
   "outputs": [],
   "source": []
  },
  {
   "cell_type": "code",
   "execution_count": null,
   "id": "a966cdd6",
   "metadata": {
    "lines_to_next_cell": 2
   },
   "outputs": [],
   "source": []
  }
 ],
 "metadata": {
  "jupytext": {
   "cell_metadata_filter": "-all",
   "formats": "cache-notebooks//ipynb,py:light"
  },
  "kernelspec": {
   "display_name": "Python 3 (ipykernel)",
   "language": "python",
   "name": "python3"
  },
  "language_info": {
   "codemirror_mode": {
    "name": "ipython",
    "version": 3
   },
   "file_extension": ".py",
   "mimetype": "text/x-python",
   "name": "python",
   "nbconvert_exporter": "python",
   "pygments_lexer": "ipython3",
   "version": "3.12.5"
  }
 },
 "nbformat": 4,
 "nbformat_minor": 5
}

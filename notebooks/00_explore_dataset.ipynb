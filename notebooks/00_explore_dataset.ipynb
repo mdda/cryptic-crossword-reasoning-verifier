{
 "cells": [
  {
   "cell_type": "code",
   "execution_count": 3,
   "id": "45284f92-0efb-4c50-97e9-e2ddb0c25985",
   "metadata": {
    "lines_to_next_cell": 2
   },
   "outputs": [
    {
     "name": "stdout",
     "output_type": "stream",
     "text": [
      "total 170980\n",
      "-rw-rw-r--. 1    932146 Sep  4 18:19 cryptonite-do-over-gemma2-v1.jsonl\n",
      "-rw-rw-r--. 1    948751 Sep  5 00:16 cryptonite-do-over-llama3.1-it-v1.jsonl\n",
      "-rw-rw-r--. 1   9557825 Sep  5 14:50 cryptonite-do-over-llama3.1-it-v2.jsonl\n",
      "-rw-rw-r--. 1   5923182 Mar 10  2021 cryptonite-test.jsonl\n",
      "-rw-rw-r--. 1 106518543 Mar 10  2021 cryptonite-train.jsonl\n",
      "-rw-rw-r--. 1   5917865 Mar 10  2021 cryptonite-val.jsonl\n",
      "-rw-r--r--. 1  45270048 Oct 17  2021 guardian_2020_10_08.json\n"
     ]
    }
   ],
   "source": [
    "! ls -l -Gg data_orig  # No username for anonymity"
   ]
  },
  {
   "cell_type": "code",
   "execution_count": 14,
   "id": "8d8e0c97-9f0c-4f66-aa1d-7d4d59310838",
   "metadata": {
    "editable": true,
    "slideshow": {
     "slide_type": ""
    },
    "tags": []
   },
   "outputs": [],
   "source": [
    "import os\n",
    "import time\n",
    "import json, re\n",
    "import numpy as np"
   ]
  },
  {
   "cell_type": "code",
   "execution_count": 39,
   "id": "72256e21-2c49-454c-b360-1d860106f012",
   "metadata": {
    "editable": true,
    "slideshow": {
     "slide_type": ""
    },
    "tags": []
   },
   "outputs": [
    {
     "name": "stdout",
     "output_type": "stream",
     "text": [
      "The autoreload extension is already loaded. To reload it, use:\n",
      "  %reload_ext autoreload\n"
     ]
    }
   ],
   "source": [
    "%load_ext autoreload\n",
    "%autoreload 2"
   ]
  },
  {
   "cell_type": "code",
   "execution_count": 6,
   "id": "16a283be-e7d4-4c48-a1a8-1d580d554307",
   "metadata": {
    "editable": true,
    "slideshow": {
     "slide_type": ""
    },
    "tags": []
   },
   "outputs": [
    {
     "name": "stdout",
     "output_type": "stream",
     "text": [
      "{\"publisher\":\"Times\",\"date\":971654400000,\"author\":\"\",\"number\":10,\"orientation\":\"across\",\"clue\":\"its birds are gregarious (7)\",\"answer\":\"feather\",\"enumeration\":\"(7)\",\"quick\":false,\"sub_publisher\":\"The Times\"}\n",
      "{\"publisher\":\"Times\",\"date\":971654400000,\"author\":\"\",\"number\":22,\"orientation\":\"across\",\"clue\":\"dreadful lie about politician's drive (5)\",\"answer\":\"impel\",\"enumeration\":\"(5)\",\"quick\":false,\"sub_publisher\":\"The Times\"}\n"
     ]
    }
   ],
   "source": [
    "! head -2 data_orig/cryptonite-val.jsonl"
   ]
  },
  {
   "cell_type": "code",
   "execution_count": 10,
   "id": "527894ed-28c3-4b8e-b8e7-a04d1da45c26",
   "metadata": {
    "editable": true,
    "slideshow": {
     "slide_type": ""
    },
    "tags": []
   },
   "outputs": [
    {
     "data": {
      "text/plain": [
       "(470804, 26156, 26157)"
      ]
     },
     "execution_count": 10,
     "metadata": {},
     "output_type": "execute_result"
    }
   ],
   "source": [
    "from solver.dataset import load_cryptonite_dataset # , get_shuffled_idx\n",
    "\n",
    "data_train=load_cryptonite_dataset('train')\n",
    "data_val  =load_cryptonite_dataset('val')\n",
    "data_test =load_cryptonite_dataset('test')\n",
    "len(data_train),len(data_val),len(data_test)  # (470804, 26156, 26157)"
   ]
  },
  {
   "cell_type": "code",
   "execution_count": 11,
   "id": "c874da17-b804-4873-a6cf-6e715db19deb",
   "metadata": {
    "editable": true,
    "scrolled": true,
    "slideshow": {
     "slide_type": ""
    },
    "tags": []
   },
   "outputs": [
    {
     "name": "stdout",
     "output_type": "stream",
     "text": [
      "Telegraph : SAMSON AGONISTES immensely strong man is on stage playing in a tragedy (6,9) :: (6,9)\n",
      "Telegraph : ASK          question disguise mike dropped (3) :: (3)\n",
      "Telegraph : CHANTICLEER  caught catherine, upset about large rooster (11) :: (11)\n",
      "Telegraph : PUBLISHER    one producing books in bar shirley almost battered (9) :: (9)\n",
      "Telegraph : AT FIRST     initially, a series of races encircling trees (2,5) :: (2,5)\n",
      "Telegraph : RAMILLIES    gathers round one after start of mock battle (9) :: (9)\n",
      "Telegraph : JAM TOMORROW argue after major tom stupidly suggests better things ahead (3,8) :: (3,8)\n",
      "Telegraph : NUN          sister in on understanding (3) :: (3)\n",
      "Telegraph : IVAN THE TERRIBLE i haven't, by implication, being a russian ruler (4,3,8) :: (4,3,8)\n",
      "Telegraph : SMOKE ALARM  ask rommel, nervously, about a warning device (5,5) :: (5,5)\n",
      "Telegraph : BRASSERIES   supporters row in restaurants (10) :: (10)\n",
      "Telegraph : HARD DONE BY and her body, sadly, badly treated (4,4,2) :: (4,4,2)\n",
      "Telegraph : TERENCE      recent changes by english dramatist (7) :: (7)\n",
      "Telegraph : TOUCAN       bird out, flying about, with a tail of green (6) :: (6)\n",
      "Telegraph : REWARD       sappers fought, we hear, in desert (6) :: (6)\n",
      "Telegraph : RAWALPINDI   bleak on mountain overlooking most of asian country's ancient city (10) :: (10)\n",
      "Telegraph : GOUT         painful affliction in end of leg revealed (4) :: (4)\n",
      "Telegraph : USURER       loan shark certain to be found in ancient city on the euphrates (6) :: (6)\n",
      "Telegraph : SCANDAL      disgraceful event in examination – boy shown up (7) :: (7)\n",
      "Telegraph : DOUBLE UP    letter opener for post – share with another (6,2) :: (6,2)\n",
      "Telegraph : DOVER SOLE   daughter having no more, only fish (5,4) :: (5,4)\n",
      "Telegraph : TILLAGE      husbandry up to the time of decline (7) :: (7)\n",
      "Telegraph : RULER        person in charge lost, initially, in street in paris by river (5) :: (5)\n",
      "Telegraph : SEPARATE     split peas, absurd price (8) :: (8)\n",
      "Telegraph : NADIR        all-time low in florida, numbers receding (5) :: (5)\n",
      "Telegraph : TROUNCE      thump counter agitatedly (7) :: (7)\n",
      "Telegraph : NUMBER TWO   deputy, without feeling, wrote anyhow (6,3) :: (6,3)\n",
      "Telegraph : ADHERE       departs at this stage after a fix (6) :: (6)\n",
      "Telegraph : REDSTART     bird being studied heard before dawn (8) :: (8)\n",
      "Telegraph : SEVERAL      more than just a few cut, almost all (7) :: (7)\n",
      "Telegraph : ONE STEP AT A TIME gradually ease temptation in resort (3,4,2,1,4) :: (3,4,2,1,4)\n",
      "Telegraph : BASIL        short account covering a southern herb (5) :: (5)\n",
      "Telegraph : EXTRACT      passage coming from another court (7) :: (7)\n",
      "Telegraph : PROPER       in favour of exercises prior to run? correct (6) :: (6)\n",
      "Telegraph : RUN TO SEED  manage diocese in spot echoing decline (3,2,4) :: (3,2,4)\n",
      "Telegraph : GRUESOME     macabre morgues upset english (8) :: (8)\n",
      "Telegraph : DINETTE      eating area diane cleared, mostly (7) :: (7)\n",
      "Telegraph : ISLAND       one's to touch down in cuba, say (6) :: (6)\n",
      "Telegraph : TORTE        wrong base for cake (5) :: (5)\n",
      "Times [Quick] : CAMP         assemblage of tents originally pitched by river (4) :: (4)\n",
      "Times [Quick] : ALLIANCE     union everyone in church accepts first of all (8) :: (8)\n",
      "Times [Quick] : HEDGEROW     evade argument for shrubby border (8) :: (8)\n",
      "Times [Quick] : FAME         notes about mike's celebrity status (4) :: (4)\n",
      "Times [Quick] : WARN         alert knight on board connected with conflict (4) :: (4)\n",
      "Times [Quick] : PASTORAL     rustic friend entertaining old times proprietor (8) :: (8)\n",
      "Times [Quick] : WEIRDO       oddball's party by dam (6) :: (6)\n",
      "Times [Quick] : OUTLAY       expenditure always dogging dismissed liberal (6) :: (6)\n",
      "Times [Quick] : DOMINION     power duke has over lackey (8) :: (8)\n",
      "Times [Quick] : DOG EARED    shabby and worn — like the setter, perhaps? (3,5) :: (3,5)\n",
      "Times [Quick] : SKYE         island involved in risky enterprise (4) :: (4)\n",
      "Times [Quick] : AVERAGE      mean to declare how long one has lived (7) :: (7)\n",
      "Times [Quick] : PAGAN        heathen taking cooking vessel across georgia (5) :: (5)\n",
      "Times [Quick] : AYR          scottish port employing lawyers regularly (3) :: (3)\n",
      "Times [Quick] : LOWESTOFT    most inferior of teashops initially in suffolk resort (9) :: (9)\n",
      "Times [Quick] : AFFRONT      insult a female over appearance (7) :: (7)\n",
      "Times [Quick] : COMMA        fellow graduate catching minute butterfly (5) :: (5)\n",
      "Times [Quick] : PROVENDER    professional salesperson's alternative spelling for animal feed (9) :: (9)\n",
      "Times [Quick] : ROSETTE      what we learn by accepting standard award (7) :: (7)\n",
      "Times [Quick] : AMATORY      loving declaration of conservative, for one? (7) :: (7)\n",
      "Times [Quick] : IGLOO        crossing head of glacier i look at old inuit house (5) :: (5)\n",
      "Times [Quick] : BONUS        primarily bear responsibility for extra dividend (5) :: (5)\n",
      "Times [Quick] : MUD          managing director crosses union leader, getting bad name (3) :: (3)\n",
      "Times : APRICOT      jam producer needing place to sleep on all fools' day? (7) :: (7)\n",
      "Times : HACKSAW      nags wife, grabbing a sharp tool (7) :: (7)\n",
      "Times : IN THE SOUP  where turtle may be found heading for the rocks? (2,3,4) :: (2,3,4)\n",
      "Times : AGAIN        maugham, oddly neglected, fashionable once more (5) :: (5)\n",
      "Times : REPREHENSIBLE pilsner beer he brewed? it's very bad (13) :: (13)\n",
      "Times : DIPSTICK     idiot that tells you oil is running out? (8) :: (8)\n",
      "Times : RANDOM       chance to secure release of son in exchange for diamonds (6) :: (6)\n",
      "Times : I BEAMS      one looks radiant, finding such supporters (1,5) :: (1,5)\n",
      "Times : MAN EATER    mum entertaining an english woman of voracious appetite (3,5) :: (3,5)\n",
      "Times : NO OIL PAINTING rather unattractive, unlike the mona lisa? (2,3,8) :: (2,3,8)\n",
      "Times : ODIUM        hate old allegations coming back to bite one (5) :: (5)\n",
      "Times : LANDSLIDE    stupidly deal in lsd? it's a disaster (9) :: (9)\n",
      "Times : EJECTED      doleful daughter departs, made redundant (7) :: (7)\n",
      "Times : SINLESS      son getting out more? that's good (7) :: (7)\n",
      "Times : AS IF        muslim boy's expression of disbelief? (2,2) :: (2,2)\n",
      "Times : RAT TRAP     gin some sailor knocked over (3,4) :: (3,4)\n",
      "Times : CHEEP        dictator's vulgar tweet (5) :: (5)\n",
      "Times : TWOPENCE     town regularly unlocked church for a small sum (8) :: (8)\n",
      "Times : HOPPER       american painter with only one good leg? (6) :: (6)\n",
      "Times : CLASSMATE    charlie supported by female assistant, a chum from school (9) :: (9)\n",
      "Times : STABBED      posh girl hits back, being wounded (7) :: (7)\n",
      "Times : WINDERMERE   men weirder somehow here in lake district (10) :: (10)\n",
      "Times : ADRIAN MOLE  diarist is a mad loner, i suspect (6,4) :: (6,4)\n",
      "Times : EARNINGS     revenue wants head dismissed (8) :: (8)\n",
      "Times : TAG LINE     game children play on train, ending in a joke (3,4) :: (3,4)\n",
      "Times : BALLED       everyone asleep, perhaps, curled up (6) :: (6)\n",
      "Times : IBSEN        dramatist whines biography is holding him up (5) :: (5)\n",
      "Times : MEWS         what cat does in the street? (4) :: (4)\n"
     ]
    }
   ],
   "source": [
    "# Look for entries for a specific date : 971654400000\n",
    "dt=1563753600000\n",
    "for c in data_train:\n",
    "  if c['date']!=dt: continue\n",
    "  #print(c)\n",
    "  print(f\"{c['publisher']}{' [Quick]' if c['quick'] else ''} : {c['answer'].upper():12s} {c['clue']} :: {c['enumeration']}\")\n",
    "# This proves that individual puzzles are split across the 3 data splits...  Not great!"
   ]
  },
  {
   "cell_type": "code",
   "execution_count": 12,
   "id": "e1ba1731-8cb3-4c9b-861d-69b80d44d12a",
   "metadata": {
    "editable": true,
    "slideshow": {
     "slide_type": ""
    },
    "tags": []
   },
   "outputs": [
    {
     "name": "stdout",
     "output_type": "stream",
     "text": [
      "{'publisher': 'Telegraph', 'date': 1563753600000, 'author': None, 'number': '3i', 'orientation': 'down', 'clue': \"bleak on mountain overlooking most of asian country's ancient city (10)\", 'answer': 'rawalpindi', 'enumeration': '(10)', 'quick': False, 'sub_publisher': None}\n"
     ]
    },
    {
     "data": {
      "text/plain": [
       "69"
      ]
     },
     "execution_count": 12,
     "metadata": {},
     "output_type": "execute_result"
    }
   ],
   "source": [
    "# Find the max across and down numbers\n",
    "clue_number_max=0\n",
    "for c in data_train:\n",
    "  clue_number=c['number']\n",
    "  try: \n",
    "    clue_number_max=max(clue_number_max, int(clue_number))\n",
    "  except Exception as e:\n",
    "    print(c)\n",
    "clue_number_max"
   ]
  },
  {
   "cell_type": "code",
   "execution_count": 16,
   "id": "b9246365-bc36-4338-8ddd-aeae1d91f1bd",
   "metadata": {
    "editable": true,
    "slideshow": {
     "slide_type": ""
    },
    "tags": []
   },
   "outputs": [
    {
     "name": "stdout",
     "output_type": "stream",
     "text": [
      "Telegraph       : DELVE        dig in, like derek trotter on the big day (5)\n",
      "Telegraph       : DELVE        model venue for collecting rummage (5)\n",
      "Telegraph       : DELVE        search into books for information about dig (5)\n",
      "Telegraph       : DELVE        model very content during search (5)\n",
      "Telegraph       : DELVE        model vegan collecting rummage (5)\n",
      "Times           : DELVE        leaders of life-saving volunteers go into river and probe deeply (5)\n",
      "Telegraph       : DELVE        cancel, with victory for et's research (5)\n",
      "Times           : DELVE        go deeply inside model — very deficient (5)\n",
      "Times           : DELVE        fish around? there's large volume in river (5)\n",
      "Telegraph       : DELVE        rummage among model vegetables (5)\n",
      "Telegraph       : DELVE        fish -- 55 found in river (5)\n",
      "Telegraph       : DELVE        research done, primarily, on most of magical beings (5)\n",
      "Times           : DELVE        research key wwii triumph (5)\n",
      "Times           : DELVE        investigate key vote, centre having fallen away (5)\n",
      "Times [Quick]   : DELVE        some wood elves do a lot of digging (5)\n"
     ]
    }
   ],
   "source": [
    "for c in data_train:\n",
    "  #dt = time.strftime('%Y-%B-%d', time.gmtime(c['date']/1000)) #  %Y-%m-%d %H:%M:%S\n",
    "  #if c['date']!=dt: continue\n",
    "  if c['answer'].upper()=='DELVE': # 'DEPOSIT':\n",
    "    print(f\"{c['publisher']+(' [Quick]' if c['quick'] else ''):15s} : {c['answer'].upper():12s} {c['clue']}\") #  {dt}\n",
    "# Telegraph       : DELVE        research done, primarily, on most of magical beings (5) 2018-August-14 (15 clues overall in train set)"
   ]
  },
  {
   "cell_type": "markdown",
   "id": "eb99cdcf-a0f9-44a2-8d52-aeb125be5470",
   "metadata": {},
   "source": [
    "## Now for the LLMs!"
   ]
  },
  {
   "cell_type": "code",
   "execution_count": 33,
   "id": "29dab9fc-cf35-4bbc-bcf6-9d7c270cd826",
   "metadata": {},
   "outputs": [
    {
     "data": {
      "text/plain": [
       "'DONE'"
      ]
     },
     "execution_count": 33,
     "metadata": {},
     "output_type": "execute_result"
    }
   ],
   "source": [
    "#! pip install -U google-generativeai\n",
    "\"DONE\""
   ]
  },
  {
   "cell_type": "code",
   "execution_count": 1,
   "id": "12de6586-3572-4c69-ba43-3577fbbc0779",
   "metadata": {},
   "outputs": [],
   "source": [
    "import vertexai\n",
    "from vertexai.generative_models import GenerativeModel"
   ]
  },
  {
   "cell_type": "code",
   "execution_count": 2,
   "id": "bbc43138-d1cd-472a-8740-638e8b0d7bfe",
   "metadata": {},
   "outputs": [
    {
     "ename": "AttributeError",
     "evalue": "type object 'GenerativeModel' has no attribute 'list'",
     "output_type": "error",
     "traceback": [
      "\u001b[0;31m---------------------------------------------------------------------------\u001b[0m",
      "\u001b[0;31mAttributeError\u001b[0m                            Traceback (most recent call last)",
      "Cell \u001b[0;32mIn[2], line 2\u001b[0m\n\u001b[1;32m      1\u001b[0m \u001b[38;5;66;03m# List available generative models\u001b[39;00m\n\u001b[0;32m----> 2\u001b[0m models \u001b[38;5;241m=\u001b[39m \u001b[43mGenerativeModel\u001b[49m\u001b[38;5;241;43m.\u001b[39;49m\u001b[43mlist\u001b[49m()\n\u001b[1;32m      4\u001b[0m \u001b[38;5;66;03m# Print the model names and supported generation types\u001b[39;00m\n\u001b[1;32m      5\u001b[0m \u001b[38;5;28;01mfor\u001b[39;00m model \u001b[38;5;129;01min\u001b[39;00m models:\n",
      "\u001b[0;31mAttributeError\u001b[0m: type object 'GenerativeModel' has no attribute 'list'"
     ]
    }
   ],
   "source": [
    "if False:\n",
    "  # List available generative models\n",
    "  models = GenerativeModel.list()\n",
    "  \n",
    "  # Print the model names and supported generation types\n",
    "  for model in models:\n",
    "    print(f\"Model name: {model.name}\")\n",
    "    print(f\"Supported generation types: {', '.join(model.supported_generation_types)}\")"
   ]
  },
  {
   "cell_type": "markdown",
   "id": "c88777bc-e137-47ea-bae4-8572ab0bde7a",
   "metadata": {},
   "source": [
    "#### Can we find where the definition is within the clue?"
   ]
  },
  {
   "cell_type": "code",
   "execution_count": 34,
   "id": "9d8e9ab9-83a6-46f5-976c-1a69f92fc546",
   "metadata": {},
   "outputs": [],
   "source": [
    "from solver.llm import get_model\n",
    "model = get_model()"
   ]
  },
  {
   "cell_type": "code",
   "execution_count": 35,
   "id": "5b30cb38-98cb-4d6b-9c04-2b381c085992",
   "metadata": {},
   "outputs": [],
   "source": [
    "#convo = model.start_chat(history=[])\n",
    "#convo.send_message(\"\")\n",
    "#print(convo.last.text)"
   ]
  },
  {
   "cell_type": "code",
   "execution_count": 36,
   "id": "d7d07c90-de3b-4de3-88fd-d1c847793d43",
   "metadata": {
    "lines_to_next_cell": 0
   },
   "outputs": [
    {
     "name": "stdout",
     "output_type": "stream",
     "text": [
      "The task is to judge how related pairs of text are to each other.\n",
      "For each line separately, return a score between 1 (left and right texts are unrelated) to 100 (left and right texts are very related) :\n",
      "---\n",
      "1: \"PRIMER\" : \"demure\"\n",
      "2: \"PRIMER\" : \"demure queen's\"\n",
      "3: \"PRIMER\" : \"demure queen's first\"\n",
      "4: \"PRIMER\" : \"queen's first coat\"\n",
      "5: \"PRIMER\" : \"first coat\"\n",
      "6: \"PRIMER\" : \"coat\"\n",
      "---\n",
      "For each one, answer in the form :\n",
      "LINE#: SCORE\n",
      "## Relatedness Scores:\n",
      "\n",
      "1: \"PRIMER\" : \"demure\" - **SCORE: 5** \n",
      "\n",
      "* \"Demure\" could be a characteristic associated with a primer, but the connection is weak and relies on interpretation. \n",
      "\n",
      "2: \"PRIMER\" : \"demure queen's\" - **SCORE: 15**\n",
      "\n",
      "* This builds on the previous connection, adding \"queen's\" which might suggest a specific type of primer (e.g., for royalty). \n",
      "\n",
      "3: \"PRIMER\" : \"demure queen's first\" - **SCORE: 25**\n",
      "\n",
      "* Adding \"first\" strengthens the connection further, suggesting a primer specifically for a \"demure queen's\" first use of something. \n",
      "\n",
      "4: \"PRIMER\" : \"queen's first coat\" - **SCORE: 40**\n",
      "\n",
      "* Now, \"coat\" is introduced, suggesting the primer is related to applying a coating of some sort. \n",
      "\n",
      "5: \"PRIMER\" : \"first coat\" - **SCORE: 60**\n",
      "\n",
      "* The reference to \"demure queen\" is dropped, but the focus on \"first coat\" remains, directly indicating the primer's purpose. \n",
      "\n",
      "6: \"PRIMER\" : \"coat\" - **SCORE: 80**\n",
      "\n",
      "* This is the most direct relationship. \"Primer\" is literally a type of coating. \n",
      "\n"
     ]
    }
   ],
   "source": [
    "def split_clue(ans, clue):\n",
    "  idx, res, clue_words = 1, [], clue.split(' ')\n",
    "  #for i in range(1, len(clue_words)+1):\n",
    "  for i in range(1, min(4,len(clue_words)+1)):\n",
    "    res.append(f\"\"\"{idx}: \"{ans}\" : \\\"{' '.join([clue_words[j] for j in range(0,i)])}\\\"\"\"\")\n",
    "    idx+=1\n",
    "  #for i in range(len(clue_words)-4, len(clue_words)):\n",
    "  for i in range(1, len(clue_words)):\n",
    "    res.append(f\"\"\"{idx}: \"{ans}\" : \\\"{' '.join([clue_words[j] for j in range(i,len(clue_words))])}\\\"\"\"\")\n",
    "    idx+=1\n",
    "  return res\n",
    "\n",
    "prompt_parts = [\n",
    "  \"The task is to judge how related pairs of text are to each other.\",\n",
    "  \"For each line separately, return a score between 1 (left and right texts are unrelated) to 100 (left and right texts are very related) :\",\n",
    "  \"---\",\n",
    "  #*split_clue(\"CLOY\", \"get rather rich, though reticent about source of loot\"),\n",
    "  #*split_clue(\"WEIRDO\", \"oddball's party by dam\"),\n",
    "  *split_clue(\"PRIMER\", \"demure queen's first coat\"),\n",
    "  \"---\",\n",
    "  \"For each one, answer in the form :\",\n",
    "  \"LINE#: SCORE\",\n",
    "]\n",
    "print('\\n'.join(prompt_parts))\n",
    "response = model.generate_content([ p+\"\\n\" for p in prompt_parts ])\n",
    "print(response.text)"
   ]
  },
  {
   "cell_type": "code",
   "execution_count": null,
   "id": "5706d1ff-8fa7-4d50-b281-14c8ff047de1",
   "metadata": {
    "lines_to_next_cell": 2
   },
   "outputs": [],
   "source": []
  },
  {
   "cell_type": "code",
   "execution_count": 37,
   "id": "3f987d9b-e91e-4f6c-a3a3-1cc47a6bd388",
   "metadata": {
    "lines_to_next_cell": 2
   },
   "outputs": [
    {
     "name": "stdout",
     "output_type": "stream",
     "text": [
      "The task is to determine the level of connection between the text before and the text after the '|' character. \n",
      "Use the following scale:\n",
      "- 1 (no connection)\n",
      "- 2\n",
      "- 3\n",
      "- 4\n",
      "- 5 (strong connection)\n",
      "input: primer | demur\n",
      "output: 1\n",
      "input: primer | coat\n",
      "output: 4\n",
      "input: primer | first coat\n",
      "output: 5\n",
      "input: primer | demur queen's\n",
      "output: 1\n",
      "input: primer | queen's first coat\n",
      "output: 3\n",
      "input: wierdo | oddball's\n",
      "output: \n",
      "4\n"
     ]
    }
   ],
   "source": [
    "prompt_parts = [\n",
    "  \"The task is to determine the level of connection between the text before and the text after the '|' character. \",\n",
    "  \"Use the following scale:\",\n",
    "  \"- 1 (no connection)\",\n",
    "  \"- 2\",\n",
    "  \"- 3\",\n",
    "  \"- 4\",\n",
    "  \"- 5 (strong connection)\",\n",
    "  \"input: primer | demur\",\n",
    "  \"output: 1\",\n",
    "  \"input: primer | coat\",\n",
    "  \"output: 4\",\n",
    "  \"input: primer | first coat\",\n",
    "  \"output: 5\",\n",
    "  \"input: primer | demur queen's\",\n",
    "  \"output: 1\",\n",
    "  \"input: primer | queen's first coat\",\n",
    "  \"output: 3\",\n",
    "#  \"input: cloy | get rather rich\",  # 4\n",
    "#  \"input: cloy | source of loot\",  # 1\n",
    "  \"input: wierdo | oddball's\",  # 5\n",
    "#  \"input: wierdo | dam\",  # 1\n",
    "# stupidly deal in lsd? it's a disaster (9)\", 'answer': 'landslide'\n",
    "#  \"input: landslide | stupidly deal\",  # 1\n",
    "#  \"input: landslide | disaster\",  # 4\n",
    "  \"output: \",\n",
    "]\n",
    "\n",
    "print('\\n'.join(prompt_parts))\n",
    "response = model.generate_content(prompt_parts)\n",
    "print(response.text)"
   ]
  },
  {
   "cell_type": "code",
   "execution_count": 38,
   "id": "95c51b05-0391-46ca-945a-d4bd3ae31833",
   "metadata": {},
   "outputs": [
    {
     "name": "stdout",
     "output_type": "stream",
     "text": [
      "Classify the degree by which the left and right parts of the text in each item are connected [0 (none), 1, 2, 3, 4, 5 (strongly)]:\n",
      "cloy | get rather rich\n",
      "cloy | source of loot\n",
      "wierdo | dam\n",
      "wierdo | oddball's\n",
      "primer | demur\n",
      "primer | queen's first coat\n",
      "primer | first coat\n",
      "primer | coat\n",
      "## Classifying the Degree of Text Connection\n",
      "\n",
      "Here's a breakdown of the degree of connection between the left and right parts of each text, using your scale of 0 (none) to 5 (strongly):\n",
      "\n",
      "**1. cloy | get rather rich**\n",
      "\n",
      "* **Degree of Connection:** 1\n",
      "* **Explanation:** There is a weak connection due to the shared theme of wealth and abundance. \"Cloy\" can imply being overly rich or indulgent, while \"get rather rich\" is a more direct statement about acquiring wealth. However, the connection is not strong as the words don't directly modify or relate to each other.\n",
      "\n",
      "**2. cloy | source of loot**\n",
      "\n",
      "* **Degree of Connection:** 2\n",
      "* **Explanation:** The connection is slightly stronger than the previous item. \"Cloy\" can still imply excessive richness, and \"source of loot\" suggests a place or means of acquiring wealth, potentially in a large or excessive manner. The connection is stronger due to the shared theme and the closer semantic relationship between the words.\n",
      "\n",
      "**3. weirdo | dam**\n",
      "\n",
      "* **Degree of Connection:** 0\n",
      "* **Explanation:** There is no clear connection between \"weirdo\" and \"dam.\" \"Weirdo\" refers to a strange or eccentric person, while \"dam\" is a barrier constructed across a river or stream. The words have no shared meaning or theme, and their combination is nonsensical.\n",
      "\n",
      "**4. weirdo | oddball's**\n",
      "\n",
      "* **Degree of Connection:** 4\n",
      "* **Explanation:** This connection is strong. \"Weirdo\" and \"oddball\" are synonyms, both referring to someone who is strange or unconventional. The possessive \"oddball's\" further strengthens the connection by suggesting that the \"weirdo\" belongs to the category of \"oddballs.\"\n",
      "\n",
      "**5. primer | demur**\n",
      "\n",
      "* **Degree of Connection:** 1\n",
      "* **Explanation:** The connection is weak. \"Primer\" can refer to a preparatory coat or a small introductory book, while \"demur\" means to object or hesitate. There is a slight connection through the idea of preparation or introduction, but it's not a strong or direct relationship.\n",
      "\n",
      "**6. primer | queen's first coat**\n",
      "\n",
      "* **Degree of Connection:** 3\n",
      "* **Explanation:** This connection is moderate. \"Primer\" can refer to a preparatory coat, which aligns with the idea of a \"queen's first coat\" being the initial layer of paint or covering on a surface. The connection is strengthened by the shared theme of preparation and the specific reference to a queen's attire.\n",
      "\n",
      "**7. primer | first coat**\n",
      "\n",
      "* **Degree of Connection:** 5\n",
      "* **Explanation:** The connection is very strong. Both \"primer\" and \"first coat\" directly refer to the initial layer of paint or covering applied to a surface. They are essentially synonyms in this context, making the connection clear and direct.\n",
      "\n",
      "**8. primer | coat**\n",
      "\n",
      "* **Degree of Connection:** 4\n",
      "* **Explanation:** This connection is strong. While not directly synonymous, \"primer\" and \"coat\" are closely related. A primer is a specific type of coat used as the initial layer, making the connection clear and relevant within the context of painting or covering a surface. \n",
      "\n"
     ]
    }
   ],
   "source": [
    "# https://ai.google.dev/docs/prompt_intro#entity-input\n",
    "\n",
    "prompt_parts = [\n",
    "#  \"Classify whether the left and right parts of the text in each item are [not connected, somewhat connected, strongly connected].\",\n",
    "  \"Classify the degree by which the left and right parts of the text in each item are connected [0 (none), 1, 2, 3, 4, 5 (strongly)]:\",\n",
    "  \"cloy | get rather rich\",\n",
    "  \"cloy | source of loot\", \n",
    "  \"wierdo | dam\",\n",
    "  \"wierdo | oddball's\",\n",
    "  \"primer | demur\",\n",
    "  \"primer | queen's first coat\",\n",
    "  \"primer | first coat\",\n",
    "  \"primer | coat\",\n",
    "]\n",
    "print('\\n'.join(prompt_parts))\n",
    "response = model.generate_content(prompt_parts)\n",
    "print(response.text)"
   ]
  },
  {
   "cell_type": "code",
   "execution_count": 39,
   "id": "acdcbcaf-ead5-4ac4-a553-cc5fbaabcf77",
   "metadata": {
    "lines_to_next_cell": 0
   },
   "outputs": [
    {
     "name": "stdout",
     "output_type": "stream",
     "text": [
      "Classify the degree by which the left and right parts of the text in each item ('left | right') are connected [0 (none), 1, 2, 3, 4, 5 (strongly)]:\n",
      "weirdo | oddball's\n",
      "weirdo | oddball's party\n",
      "weirdo | party by dam\n",
      "weirdo | by dam\n",
      "weirdo | dam\n",
      "---\n",
      "## Degree of Connection Between Left and Right Parts:\n",
      "\n",
      "Here's my classification of the degree of connection between the left and right parts of the text in each item, using a scale of 0 (none) to 5 (strongly):\n",
      "\n",
      "**1. weirdo | oddball:** 5 (Strongly)\n",
      "\n",
      "- These words are synonyms, meaning they have the same or very similar meanings.\n",
      "- They both refer to someone who is unusual or eccentric.\n",
      "\n",
      "**2. weirdo | oddball's party:** 4 (High)\n",
      "\n",
      "- There is a strong association between \"weirdo\" and \"oddball's party\" because both terms are related to unusual or eccentric individuals.\n",
      "- It is likely that an \"oddball's party\" would be attended by people who are considered \"weirdos.\"\n",
      "\n",
      "**3. weirdo | party by dam:** 2 (Medium)\n",
      "\n",
      "- There is a weaker connection between these two terms.\n",
      "- \"Weirdo\" still refers to someone who is unusual, but \"party by dam\" is more of a specific location or event.\n",
      "- It is possible that a \"weirdo\" might attend a party by a dam, but it is not as likely as them attending an \"oddball's party.\"\n",
      "\n",
      "**4. weirdo | by dam:** 1 (Low)\n",
      "\n",
      "- This connection is even weaker.\n",
      "- \"Weirdo\" still refers to someone who is unusual, but \"by dam\" is just a prepositional phrase indicating location.\n",
      "- There is no inherent connection between being a \"weirdo\" and being located \"by a dam.\"\n",
      "\n",
      "**5. weirdo | dam:** 0 (None)\n",
      "\n",
      "- There is no connection between these two terms.\n",
      "- \"Weirdo\" refers to a person, while \"dam\" is a physical structure.\n",
      "- They are completely unrelated concepts. \n",
      "\n"
     ]
    }
   ],
   "source": [
    "def split_clue_direct(ans, clue, max_w=3):\n",
    "  res, clue_words = [], clue.split(' ')\n",
    "  #for i in range(1, len(clue_words)+1):\n",
    "  for i in range(1, min(max_w,len(clue_words)+1)):\n",
    "    res.append(f\"\"\"{ans} | {' '.join([clue_words[j] for j in range(0,i)])}\"\"\")\n",
    "  #for i in range(1, len(clue_words)):\n",
    "  for i in range(max(len(clue_words)-max_w,0), len(clue_words)):\n",
    "    res.append(f\"\"\"{ans} | {' '.join([clue_words[j] for j in range(i,len(clue_words))])}\"\"\")\n",
    "  return res\n",
    "\n",
    "prompt_parts = [\n",
    "  #\"Classify the degree by which the left and right parts of the text in each item are connected [0 (none), 1, 2, 3, 4, 5 (strongly)]:\",\n",
    "  #\"Classify the degree by which the left and right parts of the text in each item (separated by '|') are connected [0 (none), 1, 2, 3, 4, 5 (strongly)]:\",\n",
    "  \"Classify the degree by which the left and right parts of the text in each item ('left | right') are connected [0 (none), 1, 2, 3, 4, 5 (strongly)]:\",\n",
    "  #*split_clue_direct(\"cloy\", \"get rather rich, though reticent about source of loot\"),\n",
    "  *split_clue_direct(\"weirdo\", \"oddball's party by dam\"),\n",
    "  #*split_clue_direct(\"primer\", \"demure queen's first coat\"),\n",
    "]\n",
    "print('\\n'.join(prompt_parts))\n",
    "print('---')\n",
    "response = model.generate_content(prompt_parts)\n",
    "print(response.text)"
   ]
  },
  {
   "cell_type": "code",
   "execution_count": null,
   "id": "c10246fb-b7f0-4516-9453-469072d2e275",
   "metadata": {},
   "outputs": [],
   "source": [
    "ENOUGH WITH THE LLMs FOR NOW"
   ]
  },
  {
   "cell_type": "markdown",
   "id": "0d87da79-0a35-481e-ae86-f1d9f33da3ab",
   "metadata": {
    "lines_to_next_cell": 2
   },
   "source": [
    "### Is the answer even in the various data sources?"
   ]
  },
  {
   "cell_type": "code",
   "execution_count": 17,
   "id": "e3d05333-d278-4865-8eb3-03df77e9268a",
   "metadata": {},
   "outputs": [],
   "source": [
    "if False: # Moved to solver.corpora\n",
    "  # Load mthes - which has strange ASCII 13/10 line endings (open readme with scite...)\n",
    "  pth = './share/ilash/common/Packages/Moby/mthes/'\n",
    "  \n",
    "  mthes_refs=dict()\n",
    "  with open(f\"{pth}/mobythes.aur\", 'r') as f:\n",
    "    #mthes = f.readlines()\n",
    "    mthes = [ l.rstrip('\\n') for l in f.readlines() ]    # ','+\n",
    "    for idx,line in enumerate(mthes):\n",
    "      for w in line.split(','):\n",
    "        w=w.strip()\n",
    "        if w not in mthes_refs:\n",
    "          mthes_refs[w]=[]\n",
    "        mthes_refs[w].append(idx)\n",
    "  len(mthes), mthes[0], len(mthes_refs)"
   ]
  },
  {
   "cell_type": "code",
   "execution_count": 18,
   "id": "02a40539-4dd9-4d54-8c9a-de8de913ba4c",
   "metadata": {},
   "outputs": [],
   "source": [
    "from solver.corpora import Thesaurus\n",
    "thesaurus = Thesaurus()"
   ]
  },
  {
   "cell_type": "code",
   "execution_count": 19,
   "id": "d5dca05d-ae0b-4306-b8c1-4aa79dbb355e",
   "metadata": {
    "lines_to_next_cell": 2
   },
   "outputs": [
    {
     "data": {
      "text/plain": [
       "'27, 704, 1950, 3470, 3601, 4342, 4343, 4482, 4489, 7015, 7408, 7600, 7850, 7853, 10242, 10966, 11146, 12135, 13118, 13326, 13716, 15704, 15956, 18190, 18452, 19346, 20261, 20263, 20279, 21262, 22453, 22901, 24695, 24931, 24976, 26483, 26608, 26609, 26701, 26905, 27616, 27984, 28993, 29431, 30021'"
      ]
     },
     "execution_count": 19,
     "metadata": {},
     "output_type": "execute_result"
    }
   ],
   "source": [
    "def word_to_idx(w):\n",
    "  #return mthes_refs[w]\n",
    "  return ', '.join([str(r) for r in thesaurus.refs.get(w, [])])\n",
    "\n",
    "#[ l for l in thesaurus.main if ',cloy,' in l ]\n",
    "#word_to_idx('cloy')\n",
    "#[ l for l in thesaurus.main if ',play a part,' in l ]\n",
    "#word_to_idx('play a part')\n",
    "#word_to_idx('wierdo') # Missing\n",
    "word_to_idx('primer') # Many\n",
    "#word_to_idx('rat race'.lower()) # Many\n",
    "#word_to_idx('RAT TRAP'.lower()) # None  # BRASSERIES, SMOKE ALARM, RAT TRAP\n",
    "#word_to_idx('optical'.lower()) # 3\n",
    "#word_to_idx('camera'.lower()) # ~10"
   ]
  },
  {
   "cell_type": "code",
   "execution_count": 20,
   "id": "dbbc1679-4c9b-4696-bb6f-6221f40d63d6",
   "metadata": {},
   "outputs": [
    {
     "data": {
      "text/plain": [
       "22"
      ]
     },
     "execution_count": 20,
     "metadata": {},
     "output_type": "execute_result"
    }
   ],
   "source": [
    "set_a = set(thesaurus.refs['primer'])\n",
    "#set_b = set(thesaurus.refs['queen'])  # Intersection=none\n",
    "#set_b = set(thesaurus.refs['first coat'])  # NONE\n",
    "set_b = set(thesaurus.refs['coat'])  # Intersection=Many=22\n",
    "\n",
    "len(set_a.intersection(set_b))"
   ]
  },
  {
   "cell_type": "code",
   "execution_count": 27,
   "id": "b5db6cf9-398a-4256-9704-7e992e1c53ed",
   "metadata": {
    "editable": true,
    "slideshow": {
     "slide_type": ""
    },
    "tags": []
   },
   "outputs": [
    {
     "name": "stdout",
     "output_type": "stream",
     "text": [
      "Times : SHAKE UP     arab chief's spoken of at university in drastic reorganisation (5,2)\n",
      "Times : ?? EPHESUS   expedition's beginning various pushes to find site of ancient temple (7)\n",
      "Times : REIGN        control whether or not it's good inside (5)\n",
      "Times : SCAR         mark's second motor (4)\n",
      "Times : ?? MAISONETTE is person starting tea held by friend in house (10)\n",
      "Times : GALA         a convict backing a festivity (4)\n",
      "Times : APPRENTICE   learner without a quiet fee about branch of medicine (10)\n",
      "Times : ?? CELLARS   rooms made for tradesmen, by the sound of it (7)\n",
      "Times : ?? MOATED    ditched cereal in sea (6)\n",
      "Times : TATTLE       story about race is gossip (6)\n",
      "Times : TRANSPLANTATION time administered position without scheme for conveying (15)\n",
      "Times : ?? CHOLIC    bilious and fashionable, about to look back (6)\n",
      "Times : ?? ANGERS    loss of head in crises annoys (6)\n",
      "Times : ?? TANAGRA   place in ireland without horse for ancient city (7)\n",
      "Times : ROUT         nonsense about the tory defeat (4)\n",
      "Times : HELICOPTER   machine having a screw up (10)\n",
      "Times : APSE         copy about a second for part of church (4)\n",
      "Times : ADMIRATION   mad one mixed up and a share for wonder (10)\n",
      "Times : ?? ALAS      a girl not satisfactory, unfortunately (4)\n",
      "Times : ?? SOPS      message containing quiet concessions (4)\n",
      "Times : NEEDED       wanted to make a joint numb, we hear (6)\n",
      "Times : TOTALITARIANISM allowing no opposition cruelly limits a territorial army ration (15)\n",
      "Times : ESCORT       homer in established attendance (6)\n",
      "Times : LAWN TENNIS  game in which a number follow the cloth, backing evil (4,6)\n",
      "Times : ?? AVIATRICES female flyers like holding six a moment (10)\n",
      "Times : ?? CATALOGUES lists got as a clue for a change (10)\n",
      "Times : CESSPIT      place for filthy water makes the dumps dry in reverse (7)\n",
      "Times : SAVANNA      grassland has almost to preserve a girl (7)\n",
      "Times : METACARPAL   contacted a motoring friend concerned with part of body (10)\n",
      "Times : CAMERA       arrived with an artist, to get optical device (6)\n",
      "Times : ?? ARDOUR    zeal making a rector sullen (6)\n",
      "Times : ?? STET      make original restoration (4)\n",
      "Times : BRIO         one is embraced by a relative in vivacity (4)\n",
      "Telegraph : ?? STOCK IN HAND whip out one's trading reserve? (5,2,4)\n",
      "Telegraph : RICH         abundant teaching given by the church (4)\n",
      "Telegraph : ?? RIVER THAMES outflow of capital (5,6)\n",
      "Telegraph : WEAR         durham river erosion (4)\n",
      "Telegraph : ASSUMED      fancied medusa's form (7)\n",
      "Telegraph : BRIEFED      given instruction in law (7)\n",
      "Telegraph : RELAY        the last runners try to be first in this race (5)\n",
      "Telegraph : GATE         punish student spectators (4)\n",
      "Telegraph : DEAR         it's not cheap, love (4)\n",
      "Telegraph : SOUND        safe stretch of water (5)\n",
      "Telegraph : ?? ITALICS   type that has the right inclination (7)\n",
      "Telegraph : ?? SEANCES   meetings that seek spiritual guidance (7)\n",
      "Telegraph : GOOD         priestley's companions weren't bad (4)\n",
      "Telegraph : DETRIMENTAL  tired out intellectual is not helpful (11)\n",
      "Telegraph : TOIL         hard work one gets upset a great deal about (4)\n",
      "Telegraph : CHEF         french master responsible for courses (4)\n",
      "Telegraph : INTEGER      being at home, possibly greet a number (7)\n",
      "Telegraph : HEAL         make hale? (4)\n",
      "Telegraph : ?? NO ENTRY  a sign that visitors aren't welcome (2,5)\n",
      "Telegraph : ?? THE RED CROSS relief organisation for the hot and peevish? (3,3,5)\n",
      "Telegraph : ?? LAUGHING GAS reason for a patient being in stitches? (8,3)\n",
      "Telegraph : PSITTACOSIS  strictly for the birds? not this complaint (11)\n",
      "Telegraph : DEMOS        the populace protests (5)\n",
      "Telegraph : ?? BARNS     farm buildings in which i leave the children (5)\n",
      "Telegraph : ?? SCALENE   a number in view having unequal sides (7)\n",
      "Telegraph : DECIMAL      the point of medical treatment (7)\n",
      "Telegraph : FREE         exempt from being unemployed (4)\n",
      "Telegraph : SNUG         comfortably placed with arms raised (4)\n",
      "Telegraph : BASS         scottish rock singer (4)\n",
      "Times : LOW SPIRITS  depression caused by shortage of drink (3,7)\n",
      "Times : ICON         one firm, northern, becomes an object of admiration (4)\n",
      "Times : RELIABLE     dependable about being under an obligation? (8)\n",
      "Times : AILING       barrier put up right from the start for the sick (6)\n",
      "Times : AS WELL      complicated laws restricting the spanish too (2,4)\n",
      "Times : HERB         woman's given second-best ingredient for recipe? (4)\n",
      "Times : ?? NAKED FLAME exposed lover - could it have led to hot water? (5,5)\n",
      "Times : APPARENTLY   clearly aren't in use (10)\n",
      "Times : YOKE         part of garment could be yellow, we hear (4)\n",
      "Times : BACKHAND     support worker that's shot? (8)\n",
      "Times : ENDING       no time for nurse's work - that's final! (6)\n",
      "Times : ?? SPRANG    jumped up, getting the latest information, and phoned (6)\n",
      "Times : OUTPOSTS     unfashionable jobs in far distant territories (8)\n",
      "Times : ?? THE TEMPEST stormy scenes at the rsc (3,7)\n",
      "Times : OVERSLEEP    deliveries bound, we're told, to start being late? (9)\n",
      "Times : IMBALANCE    main cable broken causing a lack of stability (9)\n",
      "Times : ICE PACK     diamonds - cards that may be of use for a flush (3,4)\n",
      "Times : ?? ILLEGALLY one left, given support by comrade in a criminal manner (9)\n",
      "Times : OWNER        one has shown error inside (5)\n",
      "Times : BLACKBALL    reject potter's last objective (9)\n",
      "Times : ?? DAY CENTRE noon, perhaps, in senior citizens' club (3,6)\n",
      "Times : ?? MAKE NOTES what a forger's apprentice may do (4,5)\n",
      "Times : TADPOLE      put small amount on european swimmer (7)\n",
      "Times : AMPLE        current measure getting on top of the french liberal (5)\n",
      "Times : ANGST        unusual stag night at first, feeling worried? (5)\n",
      "Times : DROOP        fall in love? on the contrary, wilt (5)\n",
      "Telegraph : SECOND THOUGHTS instant ideas for change of plan (6,8)\n",
      "Telegraph : OVERAWE      girl in love we profoundly impress (7)\n",
      "Telegraph : ?? TEMPURA   japanese dish made from pate and rum (7)\n",
      "Telegraph : TICKET AGENT he may be commissioned to allow you into royal court (6,5)\n",
      "Telegraph : NERVES       give courage to squadron leader in anxiety (6)\n",
      "Telegraph : DISTANCE     in social event, sit out, showing aloofness (8)\n",
      "Telegraph : ?? FUSS OVER agitate about fine american vessel that's capsized (4,4)\n",
      "Telegraph : ?? RIMINI    border in one italian town (6)\n",
      "Telegraph : ?? LEAVE TAKING saying goodbye, going on holiday (5,6)\n",
      "Telegraph : ?? COS       lettuce has price reduced (3)\n",
      "Telegraph : ?? ESPARTO   source of paper for a poster to be reprinted (7)\n",
      "Telegraph : CANTINA      two containers used by a spanish bar (7)\n"
     ]
    },
    {
     "data": {
      "text/plain": [
       "0.66"
      ]
     },
     "execution_count": 27,
     "metadata": {},
     "output_type": "execute_result"
    }
   ],
   "source": [
    "# Check whether final answers in the training set are in the thesauraus _at all_?\n",
    "def count_found_words(arr, found_fn, debug=False):\n",
    "  cnt,pos=0,0\n",
    "  for c in arr:\n",
    "    found = found_fn( c if type(c) is str else c['answer'] )\n",
    "    if debug:\n",
    "      print( f\"{c['publisher']}{' [Quick]' if c['quick'] else ''} : \"\n",
    "        +f\"{('' if found else '?? ')+c['answer'].upper():12s} {c['clue']}\")      \n",
    "    if found: pos+=1\n",
    "    cnt+=1\n",
    "  return pos/cnt\n",
    "\n",
    "def findable_in_thesaurus(w):\n",
    "  return w.lower() in thesaurus.refs\n",
    "\n",
    "base_idx=11000\n",
    "count_found_words( data_train[base_idx:base_idx+100], findable_in_thesaurus, debug=True)"
   ]
  },
  {
   "cell_type": "code",
   "execution_count": 64,
   "id": "5fcfad4c-c4cc-489f-b1ab-ecbfc553bd6e",
   "metadata": {},
   "outputs": [
    {
     "name": "stdout",
     "output_type": "stream",
     "text": [
      "Loading as_lower_case=True embeddings took 0.0219s\n",
      "304658 ['a', 'aaronical', 'abaca', 'abacuses', 'abalone', 'abandoning', 'abased', 'abashment', 'abating', 'abattoir']\n"
     ]
    }
   ],
   "source": [
    "# Look at the crossword words dataset\n",
    "from solver.corpora import CrosswordDictionary\n",
    "crossword_dictionary = CrosswordDictionary(None)\n",
    "print(len(crossword_dictionary.wordlist), crossword_dictionary.wordlist[0:100:10])"
   ]
  },
  {
   "cell_type": "code",
   "execution_count": 68,
   "id": "932e7847-4372-4f3f-b7ab-80cfcc6de246",
   "metadata": {},
   "outputs": [
    {
     "name": "stdout",
     "output_type": "stream",
     "text": [
      "Times : SHAKE UP     arab chief's spoken of at university in drastic reorganisation (5,2)\n",
      "Times : EPHESUS      expedition's beginning various pushes to find site of ancient temple (7)\n",
      "Times : REIGN        control whether or not it's good inside (5)\n",
      "Times : SCAR         mark's second motor (4)\n",
      "Times : MAISONETTE   is person starting tea held by friend in house (10)\n",
      "Times : GALA         a convict backing a festivity (4)\n",
      "Times : APPRENTICE   learner without a quiet fee about branch of medicine (10)\n",
      "Times : CELLARS      rooms made for tradesmen, by the sound of it (7)\n",
      "Times : MOATED       ditched cereal in sea (6)\n",
      "Times : TATTLE       story about race is gossip (6)\n",
      "Times : TRANSPLANTATION time administered position without scheme for conveying (15)\n",
      "Times : CHOLIC       bilious and fashionable, about to look back (6)\n",
      "Times : ANGERS       loss of head in crises annoys (6)\n",
      "Times : TANAGRA      place in ireland without horse for ancient city (7)\n",
      "Times : ROUT         nonsense about the tory defeat (4)\n",
      "Times : HELICOPTER   machine having a screw up (10)\n",
      "Times : APSE         copy about a second for part of church (4)\n",
      "Times : ADMIRATION   mad one mixed up and a share for wonder (10)\n",
      "Times : ALAS         a girl not satisfactory, unfortunately (4)\n",
      "Times : SOPS         message containing quiet concessions (4)\n"
     ]
    },
    {
     "data": {
      "text/plain": [
       "1.0"
      ]
     },
     "execution_count": 68,
     "metadata": {},
     "output_type": "execute_result"
    }
   ],
   "source": [
    "# Check whether final answers in the training set are in the crossword words dataset _at all_?\n",
    "def findable_in_UKCD(w):\n",
    "  found = crossword_dictionary.includes(w, split_phrase=True)\n",
    "  #if not found: print(w)\n",
    "  return found\n",
    "\n",
    "base_idx=11000\n",
    "count_found_words( data_train[base_idx:base_idx+20], findable_in_UKCD, debug=True)"
   ]
  },
  {
   "cell_type": "code",
   "execution_count": 72,
   "id": "4fcc6a36-57a0-473e-bee8-75ec9a7ec957",
   "metadata": {},
   "outputs": [
    {
     "data": {
      "text/plain": [
       "0.9927910553011444"
      ]
     },
     "execution_count": 72,
     "metadata": {},
     "output_type": "execute_result"
    }
   ],
   "source": [
    "count_found_words( data_train, findable_in_UKCD)  # searching list takes a while (large dataset) - converted to set lookup\n",
    "# 0.9674301832609749 - and the missing ones are typically oddball multi-word entries\n",
    "# 0.9927910553011444 - split_phrase=True"
   ]
  },
  {
   "cell_type": "code",
   "execution_count": 73,
   "id": "5609c54a-135b-49dc-b846-97e7ff69038d",
   "metadata": {},
   "outputs": [
    {
     "data": {
      "text/plain": [
       "0.9947239639088545"
      ]
     },
     "execution_count": 73,
     "metadata": {},
     "output_type": "execute_result"
    }
   ],
   "source": [
    "count_found_words( data_val, findable_in_UKCD)  \n",
    "# 0.9947239639088545 - split_phrase=True"
   ]
  },
  {
   "cell_type": "code",
   "execution_count": 76,
   "id": "2684ed50-711c-4f26-bb81-0b486c9064cf",
   "metadata": {},
   "outputs": [
    {
     "name": "stdout",
     "output_type": "stream",
     "text": [
      "Loading combined tsv took 10.2s\n",
      "4493721 ['EXODIA', '4ALE', 'LIKE CLOCKWORK', 'ONBLAST', 'WEAKNESS', 'DOG NEW', 'WOODENDUMMY', 'WHENIWASYOUNGERI', 'PUNCHEDTAPE', 'SAWB']\n"
     ]
    }
   ],
   "source": [
    "# Look at the crosswordQA clue->answer dataset (regular-style clues)\n",
    "from solver.corpora import CrosswordQA\n",
    "crossword_qa = CrosswordQA(None)\n",
    "print(len(crossword_qa.combined), list(crossword_qa.wordlist_set)[0:100:10])"
   ]
  },
  {
   "cell_type": "code",
   "execution_count": 81,
   "id": "dfab5a47-55ef-4a44-82d7-5be585a41f62",
   "metadata": {},
   "outputs": [
    {
     "data": {
      "text/plain": [
       "False"
      ]
     },
     "execution_count": 81,
     "metadata": {},
     "output_type": "execute_result"
    }
   ],
   "source": [
    "#'LIKE CLOCKWORK' in crossword_qa.wordlist_set # Listed above\n",
    "#'LIKECLOCKWORK' in crossword_qa.wordlist_set  # Also in there\n",
    "'CHOLIC' in crossword_qa.wordlist_set   # Strangely missing"
   ]
  },
  {
   "cell_type": "code",
   "execution_count": 80,
   "id": "c191f48d-b39e-4536-8824-e01276db8afc",
   "metadata": {},
   "outputs": [
    {
     "name": "stdout",
     "output_type": "stream",
     "text": [
      "Times : SHAKE UP     arab chief's spoken of at university in drastic reorganisation (5,2)\n",
      "Times : EPHESUS      expedition's beginning various pushes to find site of ancient temple (7)\n",
      "Times : REIGN        control whether or not it's good inside (5)\n",
      "Times : SCAR         mark's second motor (4)\n",
      "Times : MAISONETTE   is person starting tea held by friend in house (10)\n",
      "Times : GALA         a convict backing a festivity (4)\n",
      "Times : APPRENTICE   learner without a quiet fee about branch of medicine (10)\n",
      "Times : CELLARS      rooms made for tradesmen, by the sound of it (7)\n",
      "Times : MOATED       ditched cereal in sea (6)\n",
      "Times : TATTLE       story about race is gossip (6)\n",
      "Times : TRANSPLANTATION time administered position without scheme for conveying (15)\n",
      "Times : ?? CHOLIC    bilious and fashionable, about to look back (6)\n",
      "Times : ANGERS       loss of head in crises annoys (6)\n",
      "Times : TANAGRA      place in ireland without horse for ancient city (7)\n",
      "Times : ROUT         nonsense about the tory defeat (4)\n",
      "Times : HELICOPTER   machine having a screw up (10)\n",
      "Times : APSE         copy about a second for part of church (4)\n",
      "Times : ADMIRATION   mad one mixed up and a share for wonder (10)\n",
      "Times : ALAS         a girl not satisfactory, unfortunately (4)\n",
      "Times : SOPS         message containing quiet concessions (4)\n"
     ]
    },
    {
     "data": {
      "text/plain": [
       "0.95"
      ]
     },
     "execution_count": 80,
     "metadata": {},
     "output_type": "execute_result"
    }
   ],
   "source": [
    "# Check whether final answers in the training set are in the crosswordQA dataset _at all_?\n",
    "def findable_in_crosswordQA(w):\n",
    "  found = crossword_qa.includes(w, split_phrase=True)\n",
    "  #if not found: print(w)\n",
    "  return found\n",
    "\n",
    "base_idx=11000\n",
    "count_found_words( data_train[base_idx:base_idx+20], findable_in_crosswordQA, debug=True)"
   ]
  },
  {
   "cell_type": "code",
   "execution_count": 84,
   "id": "ebb881b9-8c70-41cd-a1c5-6a3fb1d11a86",
   "metadata": {},
   "outputs": [
    {
     "data": {
      "text/plain": [
       "0.991765150678414"
      ]
     },
     "execution_count": 84,
     "metadata": {},
     "output_type": "execute_result"
    }
   ],
   "source": [
    "count_found_words( data_train, findable_in_crosswordQA)\n",
    "# 0.991765150678414  # These are very slightly lower than the crossword_dictionary (UKCD) above"
   ]
  },
  {
   "cell_type": "code",
   "execution_count": 82,
   "id": "7765469c-a61b-467a-8b3c-0c2c60191bfb",
   "metadata": {},
   "outputs": [
    {
     "data": {
      "text/plain": [
       "0.9918183208441658"
      ]
     },
     "execution_count": 82,
     "metadata": {},
     "output_type": "execute_result"
    }
   ],
   "source": [
    "count_found_words( data_val, findable_in_crosswordQA)\n",
    "# 0.9918183208441658"
   ]
  },
  {
   "cell_type": "code",
   "execution_count": null,
   "id": "44074beb-db87-42f3-8b9e-d451e8db8795",
   "metadata": {},
   "outputs": [],
   "source": []
  },
  {
   "cell_type": "code",
   "execution_count": 45,
   "id": "e2762a4d-a731-4bd8-9dc4-9a78f94e3d11",
   "metadata": {},
   "outputs": [
    {
     "name": "stdout",
     "output_type": "stream",
     "text": [
      "Times : SHAKE UP     ?? arab chief's spoken of at university in drastic reorganisation (5,2) :: ?? reorganisation\n",
      "Times : REIGN        ?? control whether or not it's good inside (5) :: ?? whether\n",
      "Times : TRANSPLANTATION ?? time administered position without scheme for conveying (15) :: ?? administered conveying\n",
      "Times : NEEDED       ?? wanted to make a joint numb, we hear (6) :: ?? we\n",
      "Times : LAWN TENNIS  ?? game in which a number follow the cloth, backing evil (4,6) :: ?? which\n",
      "Times : CESSPIT      ?? place for filthy water makes the dumps dry in reverse (7) :: ?? makes\n",
      "Times : METACARPAL   ?? contacted a motoring friend concerned with part of body (10) :: ?? contacted\n",
      "Times : CAMERA       ?? arrived with an artist, to get optical device (6) :: ?? arrived\n",
      "Telegraph : WEAR         ?? durham river erosion (4) :: ?? durham\n",
      "Telegraph : ASSUMED      ?? fancied medusa's form (7) :: ?? medusa\n",
      "Telegraph : RELAY        ?? the last runners try to be first in this race (5) :: ?? runners\n",
      "Telegraph : GATE         ?? punish student spectators (4) :: ?? spectators\n",
      "Telegraph : GOOD         ?? priestley's companions weren't bad (4) :: ?? priestley werent\n",
      "Telegraph : TOIL         ?? hard work one gets upset a great deal about (4) :: ?? gets\n",
      "Telegraph : CHEF         ?? french master responsible for courses (4) :: ?? french\n",
      "Telegraph : DEMOS        ?? the populace protests (5) :: ?? protests\n",
      "Telegraph : BASS         ?? scottish rock singer (4) :: ?? scottish\n",
      "Times : ICON         ?? one firm, northern, becomes an object of admiration (4) :: ?? becomes\n",
      "Times : AS WELL      ?? complicated laws restricting the spanish too (2,4) :: ?? spanish\n",
      "Times : APPARENTLY   ?? clearly aren't in use (10) :: ?? arent\n",
      "Times : YOKE         ?? part of garment could be yellow, we hear (4) :: ?? could we\n",
      "Times : OUTPOSTS     ?? unfashionable jobs in far distant territories (8) :: ?? jobs territories\n",
      "Times : OVERSLEEP    ?? deliveries bound, we're told, to start being late? (9) :: ?? deliveries were\n",
      "Times : TADPOLE      ?? put small amount on european swimmer (7) :: ?? european\n",
      "Times : AMPLE        ?? current measure getting on top of the french liberal (5) :: ?? french\n",
      "Telegraph : SECOND THOUGHTS ?? instant ideas for change of plan (6,8) :: ?? ideas\n",
      "Telegraph : OVERAWE      ?? girl in love we profoundly impress (7) :: ?? we\n",
      "Telegraph : CANTINA      ?? two containers used by a spanish bar (7) :: ?? containers spanish\n",
      "Telegraph : CREEPER      ?? say, virginia's soft shoe (7) :: ?? virginia\n",
      "Telegraph : GEM          ?? pearl margaret picked up (3) :: ?? margaret\n",
      "Telegraph : HECATOMB     ?? both came out for big sacrifice (8) :: ?? came\n",
      "Times : EMBARGO      ?? doctor in english ship showing restraint (7) :: ?? english\n",
      "Times : EXEMPTION    ?? discharge drunk - exit one mp! (9) :: ?? mp\n",
      "Times : NADIR        ?? pen a dirge conveying deep despair (5) :: ?? conveying\n",
      "Times : CHOPPER      ?? aircraft taken by lizzie borden (7) :: ?? lizzie borden\n",
      "Times : LEADING STRINGS ?? reins in first racehorses (7,7) :: ?? racehorses\n",
      "Telegraph : TRAWL        ?? fishermen may use it to seek suitable candidates (5) :: ?? fishermen\n",
      "Telegraph : ADVENTURE    ?? tavern due to be refurbished? it should be exciting! (9) :: ?? refurbished\n",
      "Telegraph : GAPING       ?? open-mouthed at joke about pious pole (6) :: ?? mouthed\n",
      "Telegraph : IDIOM        ?? peculiar term diane found in offshore isle (5) :: ?? diane\n",
      "Telegraph : AWAIT        ?? look forward to seeing a caroller? (5) :: ?? caroller\n",
      "Telegraph : RUNABOUT     ?? dismiss cricketing jack for getting a little motor (8) :: ?? cricketing\n",
      "Times : BRING        ?? fetch second-rate jewellery? (5) :: ?? jewellery\n",
      "Times : ENVISAGE     ?? imagine official document's in penge? not at first (8) :: ?? penge\n",
      "Times : CATAPLASM    ?? pasta tossed with clam dressing (9) :: ?? tossed\n",
      "Times : PENTHOUSE    ?? after parking, gush, shown round old, luxury property (9) :: ?? parking\n",
      "Times : BASIS        ?? foundation exists to support scholars (5) :: ?? exists scholars\n",
      "Times : NOISE        ?? racket is wound up after leader absconds (5) :: ?? absconds\n",
      "Telegraph : SENIOR       ?? older spaniard embraces one (6) :: ?? spaniard embraces\n",
      "Telegraph : ELAPSE       ?? slip by england's opener, run out (6) :: ?? england\n",
      "Telegraph : TORPEDO      ?? threat to health from low tars? (7) :: ?? tars\n",
      "Telegraph : DURABLE      ?? firm turning over italian island, mostly rough (7) :: ?? italian\n",
      "Telegraph : TOURIST      ?? one who does in a package (7) :: ?? does\n",
      "Times : BRIDAL       ?? book place in cumbria said to be suitable for newlyweds (6) :: ?? cumbria newlyweds\n",
      "Times : RED FACED    ?? to cowboys, native americans seemed so embarrassed (3,5) :: ?? cowboys americans seemed\n",
      "Times : HARMONIC     ?? tone phil extracted from orchestra (8) :: ?? phil\n",
      "Times : ARREST       ?? stop what we hear is good equivalent for a change (6) :: ?? we\n",
      "Times : CHARITY      ?? pecksniff girl shy about her appeal (7) :: ?? pecksniff\n",
      "Times : YULETIDE     ?? i duly tee off in depths of winter (8) :: ?? tee\n",
      "Times : REAPER       ?? farmworker's back broken by jerks (6) :: ?? farmworker jerks\n",
      "Times : RICOTTA      ?? girl out of bed that may be served with biscuits (7) :: ?? served biscuits\n",
      "Times : FORENSIC     ?? conifers growing wild may be referred to court (8) :: ?? referred\n",
      "Times : CREATIVE     ?? full of ideas, and responsive, putting up chapter (8) :: ?? ideas\n",
      "Times : INDIGENT     ?? poor country exiling a chap (8) :: ?? exiling\n",
      "Times : UNISON       ?? one needs all players directed to the same pitch (6) :: ?? players\n",
      "Telegraph : ASSETS       ?? when companies raise capital (6) :: ?? companies\n",
      "Telegraph : HAMPER       ?? a poor actor gets by with a big basket (6) :: ?? gets\n",
      "Telegraph : MILORD       ?? an english gentleman is bland about gold (6) :: ?? english\n",
      "Telegraph : STRAIGHTEN   ?? eliminate all crooks! (10) :: ?? crooks\n",
      "Telegraph : SISTER       ?? the nurse in charge of some wards is terribly stern (6) :: ?? wards\n",
      "Telegraph : SPACIOUS     ?? with money in the bag, promises to pay can be wide-ranging (8) :: ?? promises\n",
      "Times : LEATHER      ?? morocco, perhaps, where european gets in a flap (7) :: ?? morocco european gets\n",
      "Times : SWISH        ?? smart chap escapes from stockholm (5) :: ?? escapes stockholm\n",
      "Times : SPLEEN       ?? ill-humour observed round edges of pool (6) :: ?? humour\n",
      "Times : TERSE        ?? brief accepted by barrister selectively (5) :: ?? selectively\n",
      "Times : INGOT        ?? became depressed by trendy bar (5) :: ?? became\n",
      "Times : LABYRINTH    ?? workroom overlooks your hint for solving puzzle - (9) :: ?? overlooks your\n",
      "Times : MAIZE        ?? - maybe staple puzzle that absorbs one (5) :: ?? absorbs\n",
      "Times : NEPOTISM     ?? i post men abroad - jobs for the boys? (8) :: ?? jobs boys\n",
      "Times : ESTRANGE     ?? is french class split up? (8) :: ?? french\n",
      "Times : AXIAL        ?? a team with a learner on the centre line (5) :: ?? centre\n",
      "Times : RUMBA        ?? after game, doctor takes a number of steps (5) :: ?? takes\n",
      "Times : CHEAP        ?? contemptible bloke swallows drug (5) :: ?? swallows\n",
      "Telegraph : NIGHT OWL    ?? hooter not heard in the daytime? (5,3) :: ?? heard\n",
      "Telegraph : ADMONISH     ?? simon had suffered rebuke (8) :: ?? simon suffered\n",
      "Telegraph : SPARED       ?? voluntarily parted with fancy drapes (6) :: ?? drapes\n",
      "Telegraph : UNBELIEF     ?? one in paris willingly be included despite lack of faith (8) :: ?? paris\n",
      "Telegraph : SOUVENIR     ?? our vines producing something worth keeping (8) :: ?? our vines\n",
      "Telegraph : STANDARD     ?? usual colours (8) :: ?? colours\n",
      "Telegraph : UNCONCERN    ?? indifference over a continental business (9) :: ?? continental\n",
      "Telegraph : GOLF CLUB    ?? spoon possibly found at nineteenth hole (4,4) :: ?? nineteenth\n",
      "Telegraph : RAPPORT      ?? knock on left side evokes sympathy (7) :: ?? evokes\n",
      "Telegraph : SWEETLY      ?? yet lew's performing in a melodious way (7) :: ?? lew\n",
      "Times : OFF THE RECORD ?? article's wrong at first - journalõs not for publication (3,3,6) :: ?? journals\n",
      "Times : LEADING LIGHT ?? eg, gandhi till shot (7,5) :: ?? eg gandhi\n",
      "Times : BIRTHPLACE   ?? small british chapel built for the queen, london, 1926 (10) :: ?? british london\n",
      "Times : TYKE         ?? somewhat cheeky toddler needing to be brought up (4) :: ?? brought\n",
      "Telegraph : NETTLE       ?? number brought over and let loose in plant (6) :: ?? brought\n",
      "Telegraph : TOURNAMENT   ?? what we're called in explosive jousting event? (10) :: ?? were jousting\n",
      "Telegraph : STANZA       ?? verse produced by extremely smart ww1 soldier, unfinished (6) :: ?? ww\n",
      "Telegraph : MUST         ?? greek character on street has to (4) :: ?? greek\n",
      "Times : THRUSH       ?? incomplete article on career gets the bird (6) :: ?? gets\n",
      "Times : CELERITY     ?? with speed it has burrowed into the vegetable (8) :: ?? burrowed\n",
      "Times : HEEDING      ?? noting a bird is cut out in the editing (7) :: ?? noting\n",
      "Times : OVERDUE      ?? more than time to change ends? (7) :: ?? ends\n",
      "Times : RECUR        ?? decimals are apt to do so (5) :: ?? decimals\n",
      "Times : BALDERDASH   ?? her bad lads scattered garbage (10) :: ?? lads\n",
      "Times : HERO         ?? some other one taken for chap we revere (4) :: ?? we\n",
      "Telegraph : INBRED       ?? it's natural in staple food, we hear (6) :: ?? we\n",
      "Telegraph : CLING        ?? many fish act like limpets (5) :: ?? limpets\n",
      "Telegraph : OBSERVER     ?? he sees robes are laid out before clergyman returns (8) :: ?? sees laid\n",
      "Telegraph : ABBREVIATION ?? ufo, for example, gyrating above britain (12) :: ?? ufo britain\n",
      "Telegraph : SNIDE        ?? coming from denis, such remarks aren't nice (5) :: ?? denis remarks arent\n",
      "Telegraph : ALSO         ?? further chaos in laos (4) :: ?? laos\n",
      "Times : INEPT        ?? unskilful writer backward in italian (5) :: ?? unskilful italian\n",
      "Times : VADE MECUM   ?? state admin division with latin handbook (4,5) :: ?? admin latin\n",
      "Times : BUFFALO      ?? north american bison in new york port (7) :: ?? american york\n",
      "Times : EARLY        ?? primitive energy associated with lear's uncle (5) :: ?? lear\n",
      "Times : LARGHETTO    ?? fat duke leaves segregated area rather slowly (9) :: ?? leaves\n",
      "Times : BIOLOGICAL CLOCK ?? innate mechanism mentioned by a rational grandfather? (10,5) :: ?? mentioned\n",
      "Times : USAGE        ?? american spy rejecting books? it's the customary practice (5) :: ?? american\n",
      "Times : BOMBSHELL    ?? terrible shock for attractive blonde (9) :: ?? blonde\n",
      "Times : DEFER        ?? shy creatures consuming food originally put on ice (5) :: ?? creatures\n",
      "Telegraph : CHALET       ?? conversation around the french house (6) :: ?? french\n",
      "Telegraph : QUICKSAND    ?? swallowing grains (9) :: ?? grains\n",
      "Telegraph : MILK TOOTH   ?? two white things which youngster cuts (4,5) :: ?? which cuts\n",
      "Telegraph : COERCE       ?? force company to speak irish (6) :: ?? irish\n",
      "Telegraph : TIGHTROPE    ?? at a stretch, one could be depressed by circus act (9) :: ?? could\n",
      "Telegraph : OBSERVANT    ?? keen-eyed old boy, a hired hand (9) :: ?? eyed\n",
      "Telegraph : JACKAL       ?? sailor takes a liking at first to wild animal (6) :: ?? takes\n",
      "Times : ALLOTMENT    ?? plot involving every male in part of bible? tricky, at first! (9) :: ?? bible\n",
      "Times : TAPIR        ?? boar almost trapped by returning rogue animal (5) :: ?? trapped\n",
      "Times : SUCK         ?? behave like hoover, perhaps, and be unpopular in the us (4) :: ?? hoover us\n",
      "Times : IBIS         ?? flier originally introducing bombers in service (4) :: ?? introducing bombers\n",
      "Times : ACCESSORIES  ?? associates with extras (11) :: ?? extras\n"
     ]
    },
    {
     "data": {
      "text/plain": [
       "'69.00% Found, 60.87% of those clues valid'"
      ]
     },
     "execution_count": 45,
     "metadata": {},
     "output_type": "execute_result"
    }
   ],
   "source": [
    "# How many of the clues themselves in the training set have all their words are in the thesauraus _at all_?\n",
    "cnt, found, clue_ok = 0, 0, 0\n",
    "for c in data_train[base_idx:base_idx+500]: # :[:100]\n",
    "  if c['answer'].lower() in thesaurus.refs:\n",
    "    found+=1\n",
    "    # Strip out punctuation\n",
    "    clue = c['clue']\n",
    "    clue = clue.replace(\"-\", \" \")  # Remove hypenation\n",
    "    clue = clue.replace(\"'s\", \"\")  # Remove possessives\n",
    "    clue = ''.join([ ch for ch in clue if ch.lower() in 'abcdefghijklmnopqrstuvwxyz '])\n",
    "    clue_fails=[]\n",
    "    for w in clue.split(' '):\n",
    "      if w in 'is was am are has this the who': \n",
    "        continue\n",
    "      if w not in thesaurus.refs:\n",
    "        clue_fails.append(w)\n",
    "    if len(clue_fails)>0:\n",
    "      print(f\"{c['publisher']}{' [Quick]' if c['quick'] else ''} : {c['answer'].upper():12s} ?? {c['clue']} :: ?? {' '.join(clue_fails)}\")\n",
    "      pass\n",
    "    else:\n",
    "      clue_ok+=1\n",
    "      \n",
    "  cnt+=1\n",
    "f\"{found/cnt*100:.2f}% Found, {clue_ok/found*100:.2f}% of those clues valid\""
   ]
  },
  {
   "cell_type": "code",
   "execution_count": 46,
   "id": "9e98b89e-9326-4e40-bcd4-704fdba63dec",
   "metadata": {},
   "outputs": [
    {
     "name": "stdout",
     "output_type": "stream",
     "text": [
      "['ara', 'etty', 'lely', 'pra', 'ra']\n"
     ]
    }
   ],
   "source": [
    "from solver.corpora import Abbreviations\n",
    "\n",
    "abbreviations=Abbreviations()\n",
    "#abbr.phrase_to_short['asian'] # case-sensitive\n",
    "print(abbreviations.phrase_to_short['artist']) # case-sensitive"
   ]
  },
  {
   "cell_type": "markdown",
   "id": "7774d825-bbc0-46df-a9ad-047e00638a92",
   "metadata": {},
   "source": [
    "### How many answers are in the training set already?\n",
    "\n",
    "* Surprising answer : NONE!\n",
    "* i.e. all the derivations in the val/test sets are novel\n"
   ]
  },
  {
   "cell_type": "code",
   "execution_count": 47,
   "id": "bf5ebeee-6350-47a1-be74-08c3143fdc83",
   "metadata": {},
   "outputs": [
    {
     "data": {
      "text/plain": [
       "(470804, 80837)"
      ]
     },
     "execution_count": 47,
     "metadata": {},
     "output_type": "execute_result"
    }
   ],
   "source": [
    "answer_set = set([ c['answer'].lower() for c in data_train ])\n",
    "len(data_train), len(answer_set)"
   ]
  },
  {
   "cell_type": "code",
   "execution_count": 48,
   "id": "870c5935-e3d7-44f8-bc02-aa1481cf3b2a",
   "metadata": {},
   "outputs": [
    {
     "data": {
      "text/plain": [
       "'0.00% of validation answers (total=26156) found in training set'"
      ]
     },
     "execution_count": 48,
     "metadata": {},
     "output_type": "execute_result"
    }
   ],
   "source": [
    "cnt, in_training = 0, 0\n",
    "for c in data_val:\n",
    "  if c['answer'].lower() in answer_set:\n",
    "    in_training+=1\n",
    "  cnt+=1\n",
    "f\"{in_training/cnt*100:.2f}% of validation answers (total={cnt}) found in training set\""
   ]
  },
  {
   "cell_type": "code",
   "execution_count": 49,
   "id": "78c03c04-ca8f-429c-a113-4735fe24d85d",
   "metadata": {},
   "outputs": [
    {
     "data": {
      "text/plain": [
       "True"
      ]
     },
     "execution_count": 49,
     "metadata": {},
     "output_type": "execute_result"
    }
   ],
   "source": [
    "'weirdo' in answer_set"
   ]
  },
  {
   "cell_type": "code",
   "execution_count": null,
   "id": "b0b949f9-d18a-4844-a96f-bce6d1908a0b",
   "metadata": {},
   "outputs": [],
   "source": [
    "PAUSE - next cells require LLM"
   ]
  },
  {
   "cell_type": "markdown",
   "id": "11be3cf2-6f9a-4839-a363-642e6e168e29",
   "metadata": {},
   "source": [
    "### Can we do any sort of reasoning about letters using Gemini?"
   ]
  },
  {
   "cell_type": "code",
   "execution_count": 50,
   "id": "ec907f84-074c-4552-be70-5319c8064097",
   "metadata": {},
   "outputs": [
    {
     "name": "stdout",
     "output_type": "stream",
     "text": [
      "\n",
      "Consider the word formed by combining the letters ' B O N C E '.\n",
      "Please give :\n",
      "- the number of letters in the word\n",
      "- dictionary definitions corresponding to as many senses of the word as possible (each definition up to 10 words long)\n",
      "\n",
      "---\n",
      "## Word Analysis: BONCE\n",
      "\n",
      "**Number of letters:** 5\n",
      "\n",
      "**Dictionary Definitions:**\n",
      "\n",
      "1. **Verb (informal):** To bounce, especially repeatedly or clumsily.\n",
      "2. **Noun (informal):** A clumsy bounce.\n",
      "3. **Noun (slang):** The head.\n",
      "4. **Verb (slang):** To hit someone on the head.\n",
      "\n",
      "**Note:** \n",
      "\n",
      "* Some dictionaries may not include the slang definitions.\n",
      "* The word \"bonce\" is typically used in informal contexts.\n"
     ]
    }
   ],
   "source": [
    "prompt_parts = [\n",
    "#Consider the word formed by combining the letters ' F O L L Y '.\n",
    "#Consider the word formed by combining the letters ' C L O Y '.\n",
    "#Consider the word formed by combining the letters ' W I E R D O '.\n",
    "#Consider the word formed by combining the letters ' D O '.\n",
    "\"\"\"\n",
    "Consider the word formed by combining the letters ' B O N C E '.\n",
    "Please give :\n",
    "- the number of letters in the word\n",
    "- dictionary definitions corresponding to as many senses of the word as possible (each definition up to 10 words long)\n",
    "\"\"\",\n",
    "#- what does the word mean in an architectual context\n",
    "#- what does the word mean in a hairdressing context\n",
    "]\n",
    "print('\\n'.join(prompt_parts))\n",
    "print('---')\n",
    "response = model.generate_content(prompt_parts)\n",
    "print(response.text)"
   ]
  },
  {
   "cell_type": "code",
   "execution_count": 51,
   "id": "7f9c1e2b-5605-4984-86fb-80a21231d4fc",
   "metadata": {},
   "outputs": [
    {
     "name": "stdout",
     "output_type": "stream",
     "text": [
      "\n",
      "Please give dictionary definitions corresponding to as many senses of the given as possible (each definition up to 10 words long), in the YAML format:\n",
      "```\n",
      "'word':\n",
      "- definition1\n",
      "- definition2\n",
      "```\n",
      "\n",
      "Word requiring definitions in YAML format: \"bonce\"\n",
      "\n",
      "***\n"
     ]
    },
    {
     "ename": "AttributeError",
     "evalue": "Content has no parts.",
     "output_type": "error",
     "traceback": [
      "\u001b[0;31m---------------------------------------------------------------------------\u001b[0m",
      "\u001b[0;31mAttributeError\u001b[0m                            Traceback (most recent call last)",
      "Cell \u001b[0;32mIn[51], line 18\u001b[0m\n\u001b[1;32m     16\u001b[0m \u001b[38;5;28mprint\u001b[39m(\u001b[38;5;124m'\u001b[39m\u001b[38;5;124m***\u001b[39m\u001b[38;5;124m'\u001b[39m)\n\u001b[1;32m     17\u001b[0m response \u001b[38;5;241m=\u001b[39m model\u001b[38;5;241m.\u001b[39mgenerate_content(prompt_parts)\n\u001b[0;32m---> 18\u001b[0m \u001b[38;5;28mprint\u001b[39m(\u001b[43mresponse\u001b[49m\u001b[38;5;241;43m.\u001b[39;49m\u001b[43mtext\u001b[49m)\n",
      "File \u001b[0;32m~/env311/lib64/python3.11/site-packages/vertexai/generative_models/_generative_models.py:1643\u001b[0m, in \u001b[0;36mGenerationResponse.text\u001b[0;34m(self)\u001b[0m\n\u001b[1;32m   1641\u001b[0m \u001b[38;5;28;01mif\u001b[39;00m \u001b[38;5;129;01mnot\u001b[39;00m \u001b[38;5;28mself\u001b[39m\u001b[38;5;241m.\u001b[39mcandidates:\n\u001b[1;32m   1642\u001b[0m     \u001b[38;5;28;01mraise\u001b[39;00m \u001b[38;5;167;01mValueError\u001b[39;00m(\u001b[38;5;124m\"\u001b[39m\u001b[38;5;124mResponse has no candidates (and no text).\u001b[39m\u001b[38;5;124m\"\u001b[39m)\n\u001b[0;32m-> 1643\u001b[0m \u001b[38;5;28;01mreturn\u001b[39;00m \u001b[38;5;28;43mself\u001b[39;49m\u001b[38;5;241;43m.\u001b[39;49m\u001b[43mcandidates\u001b[49m\u001b[43m[\u001b[49m\u001b[38;5;241;43m0\u001b[39;49m\u001b[43m]\u001b[49m\u001b[38;5;241;43m.\u001b[39;49m\u001b[43mtext\u001b[49m\n",
      "File \u001b[0;32m~/env311/lib64/python3.11/site-packages/vertexai/generative_models/_generative_models.py:1700\u001b[0m, in \u001b[0;36mCandidate.text\u001b[0;34m(self)\u001b[0m\n\u001b[1;32m   1698\u001b[0m \u001b[38;5;129m@property\u001b[39m\n\u001b[1;32m   1699\u001b[0m \u001b[38;5;28;01mdef\u001b[39;00m \u001b[38;5;21mtext\u001b[39m(\u001b[38;5;28mself\u001b[39m) \u001b[38;5;241m-\u001b[39m\u001b[38;5;241m>\u001b[39m \u001b[38;5;28mstr\u001b[39m:\n\u001b[0;32m-> 1700\u001b[0m     \u001b[38;5;28;01mreturn\u001b[39;00m \u001b[38;5;28;43mself\u001b[39;49m\u001b[38;5;241;43m.\u001b[39;49m\u001b[43mcontent\u001b[49m\u001b[38;5;241;43m.\u001b[39;49m\u001b[43mtext\u001b[49m\n",
      "File \u001b[0;32m~/env311/lib64/python3.11/site-packages/vertexai/generative_models/_generative_models.py:1771\u001b[0m, in \u001b[0;36mContent.text\u001b[0;34m(self)\u001b[0m\n\u001b[1;32m   1769\u001b[0m     \u001b[38;5;28;01mraise\u001b[39;00m \u001b[38;5;167;01mValueError\u001b[39;00m(\u001b[38;5;124m\"\u001b[39m\u001b[38;5;124mMultiple content parts are not supported.\u001b[39m\u001b[38;5;124m\"\u001b[39m)\n\u001b[1;32m   1770\u001b[0m \u001b[38;5;28;01mif\u001b[39;00m \u001b[38;5;129;01mnot\u001b[39;00m \u001b[38;5;28mself\u001b[39m\u001b[38;5;241m.\u001b[39mparts:\n\u001b[0;32m-> 1771\u001b[0m     \u001b[38;5;28;01mraise\u001b[39;00m \u001b[38;5;167;01mAttributeError\u001b[39;00m(\u001b[38;5;124m\"\u001b[39m\u001b[38;5;124mContent has no parts.\u001b[39m\u001b[38;5;124m\"\u001b[39m)\n\u001b[1;32m   1772\u001b[0m \u001b[38;5;28;01mreturn\u001b[39;00m \u001b[38;5;28mself\u001b[39m\u001b[38;5;241m.\u001b[39mparts[\u001b[38;5;241m0\u001b[39m]\u001b[38;5;241m.\u001b[39mtext\n",
      "\u001b[0;31mAttributeError\u001b[0m: Content has no parts."
     ]
    }
   ],
   "source": [
    "prompt_parts = [\n",
    "\"\"\"\n",
    "Please give dictionary definitions corresponding to as many senses of the given as possible (each definition up to 10 words long), in the YAML format:\n",
    "```\n",
    "'word':\n",
    "- definition1\n",
    "- definition2\n",
    "```\n",
    "\n",
    "Word requiring definitions in YAML format: \"bonce\"\n",
    "\"\"\",\n",
    "#- what does the word mean in an architectual context\n",
    "#- what does the word mean in a hairdressing context\n",
    "]\n",
    "print('\\n'.join(prompt_parts))\n",
    "print('***')\n",
    "response = model.generate_content(prompt_parts)\n",
    "print(response.text)"
   ]
  },
  {
   "cell_type": "code",
   "execution_count": null,
   "id": "115ffa6d-1a53-465f-84f8-646df222e7d7",
   "metadata": {
    "lines_to_next_cell": 2
   },
   "outputs": [],
   "source": [
    "#defn, ans = 'optical device|camera'.split('|')\n",
    "defn, ans = 'object|remonstrate'.split('|')  # https://www.fifteensquared.net/2024/01/25/independent-11635-by-filbert/\n",
    "\n",
    "prompt_parts = [\n",
    "f\"\"\"\n",
    "Would the answer \"{ans}\" be sufficiently similar to \"{defn}\" to be a crossword answer?  Please classify {{YES, NO}}?\n",
    "\"\"\",\n",
    "#In what strong senses can the term \"optical device\" be said to be related to \"camera\"?\n",
    "#Are the two terms \"spacial\" and \"optical device\" directly connected or related?  Please answer {YES,NO}:\n",
    "#Is the term \"camel\" connected to the term \"optical device\"?  Please answer {YES,NO}:\n",
    "#- what does the word mean in an architectual context\n",
    "#- what does the word mean in a hairdressing context\n",
    "]\n",
    "print('\\n'.join(prompt_parts))\n",
    "print('***')\n",
    "response = model.generate_content(prompt_parts)\n",
    "print(response.text)"
   ]
  },
  {
   "cell_type": "markdown",
   "id": "624a86fd-40a0-43e9-bd3f-956a7b1fd86c",
   "metadata": {},
   "source": [
    "## Can the model identify where the definition part of the clue is?"
   ]
  },
  {
   "cell_type": "code",
   "execution_count": 64,
   "id": "7d50f18e-fb14-4dea-aee9-7cc327441d56",
   "metadata": {
    "lines_to_next_cell": 0
   },
   "outputs": [
    {
     "name": "stdout",
     "output_type": "stream",
     "text": [
      "The domain is : solving crosswords.  \n",
      "The overall task will require several steps.\n",
      "The part of the solution being determined here is : Which 'clue words' gives rise to the RESULT?\n",
      "\n",
      "Each question is in the form 'RESULT : clue words', and the required answer is the words that are relevant.\n",
      "Therefore, the given answer will have the same meaning as RESULT, and consist only of words from 'clue words'.\n",
      "\n",
      "The following are examples, please complete the one at the end:\n",
      "\n",
      "Q. OBSERVANT : keen-eyed old boy, a hired hand\n",
      "A. keen-eyed\n",
      "\n",
      "Q. STANZA : verse produced by extremely smart ww1 soldier, unfinished\n",
      "A. verse\n",
      "\n",
      "Q. NADIR : pen a dirge conveying deep despair\n",
      "A. deep despair\n",
      "\n",
      "Q. DEFER : shy creatures consuming food originally put on ice\n",
      "A. put on ice\n",
      "\n",
      "Q. THRUSH : incomplete article on career gets the bird\n",
      "A. bird\n",
      "\n",
      "Q. CAMERA : arrived with an artist, to get optical device\n",
      "A.\n",
      "***\n",
      "get optical device.\n"
     ]
    }
   ],
   "source": [
    "examples = f'''\n",
    "Q. OBSERVANT : keen-eyed old boy, a hired hand\n",
    "A. keen-eyed\n",
    "\n",
    "Q. STANZA : verse produced by extremely smart ww1 soldier, unfinished\n",
    "A. verse\n",
    "\n",
    "Q. NADIR : pen a dirge conveying deep despair\n",
    "A. deep despair\n",
    "\n",
    "Q. DEFER : shy creatures consuming food originally put on ice\n",
    "A. put on ice\n",
    "\n",
    "Q. THRUSH : incomplete article on career gets the bird\n",
    "A. bird\n",
    "'''\n",
    "\n",
    "prompt_parts = [ \n",
    "  f\"\"\"\n",
    "The domain is : solving crosswords.  \n",
    "The overall task will require several steps.\n",
    "The part of the solution being determined here is : Which 'clue words' gives rise to the RESULT?\n",
    "\n",
    "Each question is in the form 'RESULT : clue words', and the required answer is the words that are relevant.\n",
    "Therefore, the given answer will have the same meaning as RESULT, and consist only of words from 'clue words'.\n",
    "\n",
    "The following are examples, please complete the one at the end:\n",
    "\"\"\".strip(),\n",
    "    examples,\n",
    "#Please give the answer to the following question, following the format from the examples above:\n",
    "f\"\"\"\n",
    "Q. CAMERA : arrived with an artist, to get optical device\n",
    "A. \n",
    "\"\"\".strip(),\n",
    "]\n",
    "print('\\n'.join(prompt_parts))\n",
    "print('***')\n",
    "response = model.generate_content(prompt_parts)\n",
    "print(response.text)"
   ]
  },
  {
   "cell_type": "code",
   "execution_count": null,
   "id": "1e1b8deb-24f2-4e9e-a9fd-9cf47eab2e35",
   "metadata": {
    "lines_to_next_cell": 2
   },
   "outputs": [],
   "source": []
  },
  {
   "cell_type": "code",
   "execution_count": null,
   "id": "db4d4b62-5e7e-4873-9ac3-6b8da0031d10",
   "metadata": {
    "lines_to_next_cell": 2
   },
   "outputs": [],
   "source": [
    "ODDMENTS"
   ]
  },
  {
   "cell_type": "code",
   "execution_count": 23,
   "id": "3eee62f0-d949-4523-8676-b34ff67d234d",
   "metadata": {
    "lines_to_next_cell": 2
   },
   "outputs": [
    {
     "name": "stdout",
     "output_type": "stream",
     "text": [
      "\n",
      "The following are examples of solving a puzzle:\n",
      "---\n",
      "Word sequence S='head decapitated long ago'.\n",
      "Elements:\n",
      "Meaning phrase: long ago\n",
      "Action words: decapitated\n",
      "Proof: \n",
      "meaning('long ago')==ONCE\n",
      "wordplay(\n",
      "  action('decapitated')==REMOVELETTER\n",
      "  meaning('head')==BONCE \n",
      ")==ONCE\n",
      "Answer: ONCE\n",
      "---\n",
      "Word sequence S='the point of medical treatment'.\n",
      "Elements:\n",
      "Meaning phrase: the point\n",
      "Action words: treatment\n",
      "Proof: \n",
      "wordplay(\n",
      "  action('treatment')==ANAGRAM\n",
      "  literal('medical')==MEDICAL\n",
      ")==DECIMAL\n",
      "meaning('the point')==DECIMAL\n",
      "Answer: DECIMAL\n",
      "---\n",
      "Word sequence S='dependable about being under an obligation?'.\n",
      "Elements:\n",
      "Meaning phrase: dependable\n",
      "Action words: \n",
      "Proof: \n",
      "wordplay(\n",
      "  action('')==COMBINE\n",
      "  shorten('about')==RE\n",
      "  meaning('being under an obligation')==LIABLE\n",
      ")==RELIABLE\n",
      "meaning('dependable')==RELIABLE\n",
      "Answer: RELIABLE\n",
      "---\n",
      "Word sequence S='sketch produced by aileen and ted'.\n",
      "Elements:\n",
      "Meaning phrase: sketch\n",
      "Action words: produced by \n",
      "Proof: \n",
      "wordplay(\n",
      "  action('produced by')==ANAGRAM\n",
      "  literal('ailean', 'ted')==AILEENTED\n",
      ")==DELINEATE\n",
      "meaning('sketch')==DELINEATE\n",
      "Answer: DELINEATE\n",
      "---\n",
      "Word sequence S='arrived with an artist, to get optical device'.\n",
      "\n",
      "---\n",
      "Elements:\n",
      "Meaning phrase: optical device\n",
      "Action words: arrived with \n",
      "Proof: \n",
      "wordplay(\n",
      "  literal('artist')==ART\n",
      "  action('arrived with')==JOIN\n",
      "  literal('get')==ENTER\n",
      ")==ENTERART\n",
      "meaning('optical device')==ENTERART\n",
      "Answer: ENTERART\n"
     ]
    }
   ],
   "source": [
    "prompt_parts = [\n",
    "\"\"\"\n",
    "The following are examples of solving a puzzle:\n",
    "---\n",
    "Word sequence S='head decapitated long ago'.\n",
    "Elements:\n",
    "Meaning phrase: long ago\n",
    "Action words: decapitated\n",
    "Proof: \n",
    "meaning('long ago')==ONCE\n",
    "wordplay(\n",
    "  action('decapitated')==REMOVELETTER\n",
    "  meaning('head')==BONCE \n",
    ")==ONCE\n",
    "Answer: ONCE\n",
    "---\n",
    "Word sequence S='the point of medical treatment'.\n",
    "Elements:\n",
    "Meaning phrase: the point\n",
    "Action words: treatment\n",
    "Proof: \n",
    "wordplay(\n",
    "  action('treatment')==ANAGRAM\n",
    "  literal('medical')==MEDICAL\n",
    ")==DECIMAL\n",
    "meaning('the point')==DECIMAL\n",
    "Answer: DECIMAL\n",
    "---\n",
    "Word sequence S='dependable about being under an obligation?'.\n",
    "Elements:\n",
    "Meaning phrase: dependable\n",
    "Action words: \n",
    "Proof: \n",
    "wordplay(\n",
    "  action('')==COMBINE\n",
    "  shorten('about')==RE\n",
    "  meaning('being under an obligation')==LIABLE\n",
    ")==RELIABLE\n",
    "meaning('dependable')==RELIABLE\n",
    "Answer: RELIABLE\n",
    "---\n",
    "Word sequence S='sketch produced by aileen and ted'.\n",
    "Elements:\n",
    "Meaning phrase: sketch\n",
    "Action words: produced by \n",
    "Proof: \n",
    "wordplay(\n",
    "  action('produced by')==ANAGRAM\n",
    "  literal('ailean', 'ted')==AILEENTED\n",
    ")==DELINEATE\n",
    "meaning('sketch')==DELINEATE\n",
    "Answer: DELINEATE\n",
    "---\n",
    "Word sequence S='arrived with an artist, to get optical device'.\n",
    "\"\"\",   # CAMERA\n",
    "]\n",
    "print('\\n'.join(prompt_parts))\n",
    "print('---')\n",
    "response = model.generate_content(prompt_parts)\n",
    "print(response.text)"
   ]
  },
  {
   "cell_type": "code",
   "execution_count": 192,
   "id": "b3b3a9b7-5af5-4068-8dd3-42dad0a5e590",
   "metadata": {
    "lines_to_next_cell": 0
   },
   "outputs": [],
   "source": [
    "#import solver.corpora"
   ]
  },
  {
   "cell_type": "markdown",
   "id": "a5072f92-f076-4fd8-abfa-40817ecabca9",
   "metadata": {},
   "source": [
    "## Test standard models via Together API"
   ]
  },
  {
   "cell_type": "code",
   "execution_count": 87,
   "id": "7475621e-82a5-4cd9-bde7-e918198ba2ab",
   "metadata": {
    "lines_to_next_cell": 2
   },
   "outputs": [],
   "source": [
    "# https://docs.together.ai/docs/quickstart\n",
    "#  uv pip install together\n",
    "\n",
    "from omegaconf import OmegaConf\n",
    "conf = OmegaConf.load('config.yaml')"
   ]
  },
  {
   "cell_type": "code",
   "execution_count": 88,
   "id": "a0c378d8-84ad-42f4-9c77-3e15a9b94c6a",
   "metadata": {},
   "outputs": [],
   "source": [
    "import os, time\n",
    "from together import Together\n",
    "\n",
    "client = Together(api_key=conf.APIKey.TOGETHER_AI)"
   ]
  },
  {
   "cell_type": "code",
   "execution_count": 95,
   "id": "faef2f77-f35d-4793-802e-5866ab89b989",
   "metadata": {},
   "outputs": [
    {
     "data": {
      "text/plain": [
       "8965"
      ]
     },
     "execution_count": 95,
     "metadata": {},
     "output_type": "execute_result"
    }
   ],
   "source": [
    "q=\"A Cryptic crossword question involves using the words in the given clue to yield an answer that matches the letter pattern.  \\nThe clue will provide a definition of the answer, as well as some ‛wordplay‛ that can also be used to confirm the answer.  \\nExpert question solvers write informal ‛proofs‛ using a particular format.\\n\\nFor the definition, the original clue is annotated with ‛{}‛ to denote where the definition is to be found.\\nFor the wordplay, the following conventions are loosely used:\\n* The answer is assembled from the letters in CAPS\\n* Words in brackets show the origins of letters in CAPS, often being synonyms, or short forms \\n* Action words are annotated as illustrated:\\n  + (ETO N)* (*mad = anagram-signifier) = TONE\\n  + (FO OR)< (<back = reversal-signifier) = ROOF\\n  + [re]USE (missing = removal-signifier) = USE\\n* DD is a shorthand for ‛Double Definition‛\\n\\nFor example:\\n---\\nclue: \\\"arrived with an artist, to get optical device (6)\\\"\\ndefinition: arrived with an artist, to get {optical device}\\nanswer: CAMERA\\nwordplay: CAME (arrived) + RA (artist, short form)\\n---\\nclue: \\\"The island needs what travellers often pay (5)\\\"\\ndefinition: {The island} {needs what travellers often pay}\\nanswer: ATOLL\\nwordplay: DD: A TOLL (what travellers often pay)\\n---\\nclue: \\\"A cat that’s very small (4)\\\"\\ndefinition: A cat that’s {very small}\\nanswer: ATOM\\nwordplay: A + TOM (cat)\\n---\\nclue: \\\"Find fault with the fish (4)\\\"\\ndefinition: {Find fault with} the {fish}\\nanswer: CARP\\nwordplay: Double definition\\n---\\nclue: \\\"A bison developing little growth (6)\\\"\\ndefinition: A bison developing {little growth}\\nanswer: BONSAI\\nwordplay: *(A BISON) (*developing)\\n---\\nclue: \\\"Old soldier and deserter caught breaking code (7)\\\"\\ndefinition: {Old soldier} and deserter caught breaking code\\nanswer: REDCOAT\\nwordplay: *(CODE) (*breaking) in (caught) RAT (deserter)\\n---\\nclue: \\\"Four points given for intelligence (4)\\\"\\ndefinition: Four points given for {intelligence}\\nanswer: NEWS\\nwordplay: N E W S (four points, north, east, south and west)\\n---\\nclue: \\\"Party’s instruction to vote against? (5)\\\"\\ndefinition: {Party}’s instruction to vote against?\\nanswer: BEANO\\nwordplay: BE A NO (instruction to vote against)\\n---\\nclue: \\\"Judge returned hand tool to prospector (8)\\\"\\ndefinition: {Judge }returned hand tool to prospector\\nanswer: EXAMINER\\nwordplay: AXE< (hand tool, returned) + MINER (prospector)\\n---\\nclue: \\\"Aircraft commonly of metal gets hot inside (7)\\\"\\ndefinition: {Aircraft commonly} of metal gets hot inside\\nanswer: CHOPPER\\nwordplay: H (hot) inside COPPER (metal)\\n---\\nclue: \\\"A team’s words not for everyone to hear (6)\\\"\\ndefinition: A team’s words {not for everyone to hear}\\nanswer: ASIDES\\nwordplay: A SIDES (a team’s)\\n---\\nclue: \\\"Broadcasts put on by the pretentious (4)\\\"\\ndefinition: {Broadcasts} {put on by the pretentious}\\nanswer: AIRS\\nwordplay: Double definition\\n---\\nclue: \\\"I travel around with unknown Indian mystic (4)\\\"\\ndefinition: I travel around with unknown {Indian mystic}\\nanswer: YOGI\\nwordplay: Y (unknown) + (I + GO [travel])< (around)\\n---\\nclue: \\\"Cleaner working for ferry operator (6)\\\"\\ndefinition: Cleaner working for {ferry operator}\\nanswer: CHARON\\nwordplay: CHAR (cleaner) + ON (working)\\n---\\nclue: \\\"What proofreader does – some of them end spellbound! (6)\\\"\\ndefinition: {What proofreader does} – some of them end spellbound!\\nanswer: EMENDS\\nwordplay: [th]EM END S[pellbound] (some of)\\n---\\nclue: \\\"Catch out Tory leader and remove (4,2)\\\"\\ndefinition: {Catch out} Tory leader and remove\\nanswer: TRIP UP\\nwordplay: T[ory] + RIP UP (remove)\\n---\\nclue: \\\"A sphere that’s subject to mutation (7)\\\"\\ndefinition: A sphere that’s subject to {mutation}\\nanswer: RESHAPE\\nwordplay: *(A SPHERE) (*subject to mutation)\\n---\\nclue: \\\"Polish that is given to stones, primarily, like these? (6)\\\"\\ndefinition: Polish that is given to stones, primarily, like {these}?\\nanswer: RUBIES\\nwordplay: IE (that is) inside (given to) (RUB (polish) + S[tones] (primarily))\\n---\\nclue: \\\"Manager protects a number showing emaciation  (8)\\\"\\ndefinition: Manager protects a number showing {emaciation }\\nanswer: BONINESS\\nwordplay: BOSS (manager) around (protects) NINE (a number)\\n---\\n\\n\\nThe task is to produce a formal proof using python code, where the docstring will also include an informal proof as an aid.\\nThe following are functions that can be used in your output code:\\n\\n```python\\nAction = Enum(‛Action‛, ‛ANAGRAM,DELETE,REMOVE_FIRST,INITIALS,REMOVE_LAST,GOES_INSIDE,GOES_OUTSIDE,REVERSE,SUBSTRING,HOMOPHONE‛)\\n# External definitions\\ndef is_synonym(phrase:str, test_synonym:str, pattern:str=‛‛) -> bool:\\n  # Determines whether ‛test_synonym‛ is a reasonable synonym for ‛phrase‛, with letters optionally matching ‛pattern‛\\n  return True # defined elsewhere\\ndef is_abbreviation(phrase:str, test_abbreviation:str) -> bool:\\n  # Determines whether ‛test_abbreviation‛ is a valid abbreviation or short form for ‛phrase‛\\n  return True # defined elsewhere\\ndef action_type(phrase:str, action:Action) -> bool:\\n  # Determines whether ‛phrase‛ might signify the given ‛action‛\\n  return True # defined elsewhere\\ndef is_anagram(letters:str, word:str) -> bool:\\n  # Determines whether ‛word‛ can be formed from ‛letters‛ (i.e. is an anagram)\\n  return True # defined elsewhere\\ndef is_homophone(phrase:str, test_homophone:str) -> bool:\\n  # Determines whether ‛test_homophone‛ sounds like ‛phrase‛\\n  return True # defined elsewhere\\n```\\n\\nThe following are examples of simple functions that prove that each puzzle solution is correct:\\n\\n```python\\ndef proof(answer=\\\"ONCE\\\", clue=\\\"head decapitated long ago\\\", pattern=‛4‛):\\n  \\\"\\\"\\\"\\n  definition: head decapitated {long ago}\\n  wordplay: [b]ONCE (head decapitated = remove first letter of BONCE) \\n  \\\"\\\"\\\"\\n  assert is_synonym(\\\"head\\\", \\\"BONCE\\\")\\n  assert action_type(\\\"decapitated\\\", Action.REMOVE_FIRST) and \\\"BONCE\\\"[1:] == \\\"ONCE\\\"\\n  assert is_synonym(\\\"long ago\\\", \\\"ONCE\\\", pattern=‛4‛)\\nproof()\\n```\\n\\n```python\\ndef proof(answer=\\\"DECIMAL\\\", clue=\\\"the point of medical treatment\\\", pattern=‛7‛):\\n  \\\"\\\"\\\"\\n  definition: {the point} of medical treatment\\n  wordplay: (MEDICAL)* (*treatment = anagram) \\n  \\\"\\\"\\\"\\n  assert is_synonym(\\\"the point\\\", \\\"DECIMAL\\\", pattern=‛7‛)\\n  assert action_type(\\\"treatment\\\", Action.ANAGRAM)\\n  assert is_anagram(\\\"MEDICAL\\\", \\\"DECIMAL\\\")\\nproof()\\n```\\n\\n```python\\ndef proof(answer=\\\"YOKE\\\", clue=\\\"part of garment could be yellow, we hear\\\", pattern=‛4‛):\\n  \\\"\\\"\\\"\\n  definition: {part of garment} could be yellow, we hear\\n  wordplay: (we hear = homophone) of YOLK (which is yellow) \\n  \\\"\\\"\\\"\\n  assert is_synonym(\\\"part of garment\\\", \\\"YOKE\\\", pattern=‛4‛)\\n  assert is_synomym(\\\"yellow\\\", \\\"YOLK\\\")\\n  assert action_type(\\\"we hear\\\", Action.HOMOPHONE)\\n  assert is_homophone(\\\"YOLK\\\", \\\"YOKE\\\")\\nproof()\\n```\\n\\n```python\\ndef proof(answer=\\\"RELIABLE\\\", clue=\\\"dependable about being under an obligation?\\\", pattern=‛8‛):\\n  \\\"\\\"\\\"\\n  definition: {dependable} about being under an obligation?\\n  wordplay: RE (about) + LIABLE (being under an obligation) \\n  \\\"\\\"\\\"\\n  assert is_synonym(\\\"dependable\\\", \\\"RELIABLE\\\", pattern=‛8‛)\\n  assert is_abbreviation(\\\"about\\\", \\\"RE\\\")\\n  assert is_synonym(\\\"being under an obligation\\\", \\\"LIABLE\\\")\\n  assert \\\"RE\\\"+\\\"LIABLE\\\"==\\\"RELIABLE\\\"\\nproof()\\n```\\n\\n```python\\ndef proof(answer=\\\"DELINEATE\\\", clue=\\\"sketch produced by aileen and ted\\\", pattern=‛9‛):\\n  \\\"\\\"\\\"\\n  definition: {sketch} produced by aileen and ted\\n  wordplay: (AILEEN + TED)* (*produced by = anagram) \\n  \\\"\\\"\\\"\\n  assert is_synonym(\\\"sketch\\\", \\\"DELINEATE\\\", pattern=‛9‛)\\n  assert action_type(\\\"produced by\\\", Action.ANAGRAM)\\n  assert \\\"AILEEN\\\" + \\\"TED\\\" == \\\"AILEENTED\\\"\\n  assert is_anagram(\\\"AILEENTED\\\", \\\"DELINEATE\\\")\\nproof()\\n```\\n\\n```python\\ndef proof(answer=\\\"SUPERMARKET\\\", clue=\\\"fat bags for every brand that’s a big seller\\\", pattern=‛11‛):\\n  \\\"\\\"\\\"\\n  definition: fat bags for every brand that’s {a big seller}\\n  wordplay: SUET (fat) (bags = goes outside) of (PER (for every) + MARK (brand)) \\n  \\\"\\\"\\\"\\n  assert is_synomym(\\\"fat\\\", \\\"SUET\\\")\\n  assert action_type(\\\"bags\\\", Action.GOES_OUTSIDE)\\n  assert \\\"SUET\\\" == \\\"SU\\\" + \\\"ET\\\"\\n  assert is_abbreviation(\\\"for every\\\", \\\"PER\\\")\\n  assert is_synomym(\\\"brand\\\", \\\"MARK\\\")\\n  assert \\\"SU\\\" + \\\"PER\\\" + \\\"MARK\\\" + \\\"ET\\\" == \\\"SUPERMARKET\\\"\\n  assert is_synonym(\\\"a big seller\\\", \\\"SUPERMARKET\\\", pattern=‛11‛)\\nproof()\\n```\\n\\n```python\\ndef proof(answer=\\\"ENROL\\\", clue=\\\"Record single about maintaining resistance\\\", pattern=‛5‛):\\n  \\\"\\\"\\\"\\n  definition: {Record} single about maintaining resistance\\n  wordplay: (LONE)< (single, <about) maintaining R (resistance) \\n  \\\"\\\"\\\"\\n  assert is_synonym(\\\"record\\\", \\\"ENROL\\\", pattern=‛5‛)\\n  assert is_synomym(\\\"single\\\", \\\"LONE\\\")\\n  assert action_type(\\\"about\\\", Action.REVERSE) and \\\"LONE\\\"[::-1] == \\\"ENOL\\\"\\n  assert action_type(\\\"maintaining\\\", Action.GOES_OUTSIDE)\\n  assert is_abbreviation(\\\"resistance\\\", \\\"R\\\")\\n  assert \\\"ENOL\\\" == \\\"EN\\\" + \\\"OL\\\"\\n  assert \\\"EN\\\" + \\\"R\\\" + \\\"OL\\\" == \\\"ENROL\\\"\\nproof()\\n```\\n\\n# Please complete the following in a similar manner, and return the whole function:\\n```python\\ndef proof(answer=\\\"AFGHANISTAN\\\", clue=\\\"blanket is brown in this republic\\\", pattern=‛11‛):\\n  \\\"\\\"\\\"\\n  definition: blanket is brown in this {republic}\\n  wordplay: AFGHAN (blanket) + IS + TAN (brown)\\n  \\\"\\\"\\\"\\n\"\n",
    "len(q)"
   ]
  },
  {
   "cell_type": "code",
   "execution_count": 103,
   "id": "c279a726-d2a8-40b0-9225-0cd564c5c60e",
   "metadata": {},
   "outputs": [
    {
     "name": "stdout",
     "output_type": "stream",
     "text": [
      "Redis server is available and running.\n"
     ]
    }
   ],
   "source": [
    "import solver.llm"
   ]
  },
  {
   "cell_type": "code",
   "execution_count": 106,
   "id": "de9968e0-cbe9-49bd-8828-d461e6ccafe8",
   "metadata": {},
   "outputs": [],
   "source": [
    "prompts = solver.llm.gemma2it_prompt('', q, '', '', [])\n",
    "prompt_test = prompts['prompt_test']\n",
    "#prompt_test"
   ]
  },
  {
   "cell_type": "code",
   "execution_count": 110,
   "id": "70cee217-9af5-48b5-8ee9-9e385dc4031d",
   "metadata": {},
   "outputs": [
    {
     "name": "stdout",
     "output_type": "stream",
     "text": [
      "```python\n",
      "def proof(answer=\"AFGHANISTAN\", clue=\"blanket is brown in this republic\", pattern=‛11‛):\n",
      "  \"\"\"\n",
      "  definition: blanket is brown in this {republic}\n",
      "  wordplay: AFGHAN (blanket) + IS + TAN (brown)\n",
      "  \"\"\"\n",
      "  assert is_synonym(\"blanket\", \"AFGHAN\", pattern=‛11‛)\n",
      "  assert is_synonym(\"brown\", \"TAN\")\n",
      "  assert \"AFGHAN\" + \"IS\" + \"TAN\" == \"AFGHANISTAN\"\n",
      "  assert is_synonym(\"republic\", \"AFGHANISTAN\", pattern=‛11‛)\n",
      "proof()\n",
      "```\n",
      "2.22sec\n"
     ]
    }
   ],
   "source": [
    "t0=time.time()\n",
    "\n",
    "#stream = client.chat.completions.create(\n",
    "#response = client.chat.completions.create(\n",
    "response = client.completions.create(\n",
    "  #model=\"meta-llama/Meta-Llama-3.1-8B-Instruct-Turbo\",\n",
    "  model=\"google/gemma-2-9b-it\", \n",
    "  #messages=[{\"role\": \"user\", \"content\": \"What are some fun things to do in New York?\"}],\n",
    "  #messages=[{\"role\": \"user\", \"content\": q}],\n",
    "  prompt=prompt_test,\n",
    "  max_tokens=256,\n",
    "  temperature=0.5,\n",
    "  #top_p=0.7,\n",
    "  #top_k=50,\n",
    "  #repetition_penalty=1,\n",
    "  stop=[\"<end_of_turn>\",\"<eos>\"],  \n",
    "  #stream=True,\n",
    ")\n",
    "\n",
    "#for chunk in stream:\n",
    "#  print(chunk.choices[0].delta.content or \"\", end=\"\", flush=True)\n",
    "\n",
    "#print(response.choices[0].message.content)\n",
    "print(response.choices[0].text)\n",
    "print(f\"{(time.time()-t0):.2f}sec\")"
   ]
  },
  {
   "cell_type": "code",
   "execution_count": 3,
   "id": "89b79340-b71f-43ac-a72b-d6143936f027",
   "metadata": {
    "lines_to_next_cell": 0
   },
   "outputs": [],
   "source": [
    "#dir(client)\n",
    "#dir(response.choices[0])"
   ]
  },
  {
   "cell_type": "code",
   "execution_count": null,
   "id": "99274871-aec6-4745-8f03-fa4a5bfbf3c1",
   "metadata": {
    "lines_to_next_cell": 2
   },
   "outputs": [],
   "source": []
  }
 ],
 "metadata": {
  "jupytext": {
   "cell_metadata_filter": "-all",
   "formats": "cache-notebooks//ipynb,py:light"
  },
  "kernelspec": {
   "display_name": "Python 3 (ipykernel)",
   "language": "python",
   "name": "python3"
  },
  "language_info": {
   "codemirror_mode": {
    "name": "ipython",
    "version": 3
   },
   "file_extension": ".py",
   "mimetype": "text/x-python",
   "name": "python",
   "nbconvert_exporter": "python",
   "pygments_lexer": "ipython3",
   "version": "3.12.5"
  }
 },
 "nbformat": 4,
 "nbformat_minor": 5
}

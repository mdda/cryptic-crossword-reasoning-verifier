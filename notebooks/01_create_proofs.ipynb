{
 "cells": [
  {
   "cell_type": "code",
   "execution_count": 1,
   "id": "97cf589f",
   "metadata": {
    "editable": true,
    "lines_to_next_cell": 2,
    "slideshow": {
     "slide_type": ""
    },
    "tags": []
   },
   "outputs": [],
   "source": [
    "import os\n",
    "import json, re\n",
    "#import numpy as np\n",
    "import time, datetime, pytz\n",
    "\n",
    "tz = pytz.timezone('Asia/Singapore')"
   ]
  },
  {
   "cell_type": "code",
   "execution_count": 2,
   "id": "bc5b8dba-91a9-48e7-85aa-69cc6d31147a",
   "metadata": {
    "editable": true,
    "slideshow": {
     "slide_type": ""
    },
    "tags": []
   },
   "outputs": [],
   "source": [
    "%load_ext autoreload\n",
    "%autoreload 2"
   ]
  },
  {
   "cell_type": "code",
   "execution_count": 3,
   "id": "b7ef6c02-abff-499e-baf0-d2a2ed1f0fcd",
   "metadata": {},
   "outputs": [],
   "source": [
    "#from solver.corpora import Thesaurus\n",
    "#thesaurus = Thesaurus()"
   ]
  },
  {
   "cell_type": "code",
   "execution_count": 4,
   "id": "2675f31c-d906-491b-a509-b445b1caa191",
   "metadata": {},
   "outputs": [
    {
     "name": "stdout",
     "output_type": "stream",
     "text": [
      "Loading combined tsv took 11.2s\n"
     ]
    }
   ],
   "source": [
    "from solver.corpora import CrosswordQA\n",
    "crossword_qa = CrosswordQA()"
   ]
  },
  {
   "cell_type": "code",
   "execution_count": 5,
   "id": "0d38f74e-5a26-43c3-83fe-43d9bc7ee391",
   "metadata": {},
   "outputs": [
    {
     "name": "stdout",
     "output_type": "stream",
     "text": [
      "len(crossword_qa.combined)=4493721\n",
      "crossword_qa.combined['flirt']={'OGLER', 'TOYER', 'WINKER', 'CARRY ON', 'WINK', 'DALLY', 'TOY', 'COQUETTE', 'LADIESMAN', 'TEASE', 'MASH', 'GIVESOMEONETHEI', 'VAMP', 'CARRYON', 'EYER', 'MINNX', 'MINX', 'OGLE', 'TTTTT', 'COQUET', 'PITCH A LITTLE WOO', 'GIVESOMEONE THEI', 'PHILANDER', 'PITCHALITTLEWOO', 'LADIES MAN'}\n"
     ]
    }
   ],
   "source": [
    "print(f\"{len(crossword_qa.combined)=}\")\n",
    "print(f\"{crossword_qa.combined['flirt']=}\")\n",
    "#print(f\"{crossword_qa.combined['FLIRT']=}\")  # Key error"
   ]
  },
  {
   "cell_type": "code",
   "execution_count": 6,
   "id": "fc3b8405-b1f6-4111-81be-574f62fb82b8",
   "metadata": {},
   "outputs": [
    {
     "name": "stdout",
     "output_type": "stream",
     "text": [
      "True\n"
     ]
    }
   ],
   "source": [
    "print(f\"{crossword_qa.is_synonym('flirt','TEASE')}\")"
   ]
  },
  {
   "cell_type": "code",
   "execution_count": 7,
   "id": "39a7af94-3976-4a2d-a432-bc8f135ce5c6",
   "metadata": {
    "editable": true,
    "slideshow": {
     "slide_type": ""
    },
    "tags": []
   },
   "outputs": [],
   "source": [
    "from solver.corpora import Abbreviations\n",
    "abbreviations=Abbreviations()"
   ]
  },
  {
   "cell_type": "code",
   "execution_count": 8,
   "id": "51b5719b-73c2-4589-b9b8-8e5eae4142dc",
   "metadata": {
    "editable": true,
    "slideshow": {
     "slide_type": ""
    },
    "tags": []
   },
   "outputs": [
    {
     "name": "stdout",
     "output_type": "stream",
     "text": [
      "Loaded ./cc.en.100.bin\n"
     ]
    }
   ],
   "source": [
    "from solver.corpora import VectorEmbedder\n",
    "embedder = None # Free up memory\n",
    "embedder = VectorEmbedder()  # May take a while..."
   ]
  },
  {
   "cell_type": "code",
   "execution_count": 33,
   "id": "96763943-a3e9-4917-9a4c-3258fe838c18",
   "metadata": {
    "editable": true,
    "slideshow": {
     "slide_type": ""
    },
    "tags": []
   },
   "outputs": [
    {
     "name": "stdout",
     "output_type": "stream",
     "text": [
      "actions.action_to_phrase['ANAGRAM'][:4]=['abandoned', 'aberrant', 'abnormal', 'about']\n",
      "actions.phrase_to_action['briefly'][:4]=['REMOVE_LAST']\n",
      "len(actions.phrase_to_action)=1734, 10\n",
      "actions.phrase_emb.shape=(1734, 100)\n"
     ]
    }
   ],
   "source": [
    "from solver.corpora import Actions\n",
    "actions=Actions(embedder=embedder)  # Includes building ~2000 embeddings : Super quick!\n",
    "#print(actions.action_to_phrase['HOMOPHONE'][:4])\n",
    "print(f\"{actions.action_to_phrase['ANAGRAM'][:4]=}\")\n",
    "#Action.HOMOPHONE.name\n",
    "print(f\"{actions.phrase_to_action['briefly'][:4]=}\")\n",
    "print(f\"{len(actions.phrase_to_action)=}, {len(actions.action_to_phrase)}\")\n",
    "print(f\"{actions.phrase_emb.shape=}\")"
   ]
  },
  {
   "cell_type": "code",
   "execution_count": 35,
   "id": "b9810f37-f5db-4d17-ac2f-d8fb09065127",
   "metadata": {},
   "outputs": [
    {
     "name": "stdout",
     "output_type": "stream",
     "text": [
      "  phrase='talked of' score=1.00 match='talked of' ['HOMOPHONE']\n",
      "  phrase='talked of' score=0.78 match='made of' ['ANAGRAM']\n",
      "  phrase='talked of' score=0.73 match='talked about' ['HOMOPHONE']\n",
      "  phrase='talked of' score=0.72 match='start of' ['INITIALS']\n",
      "  phrase='talked of' score=0.71 match='talked' ['HOMOPHONE']\n",
      "  phrase='talked of' score=0.71 match='of' ['SUBSTRING']\n",
      "  phrase='talked of' score=0.70 match='brought about' ['REVERSE']\n"
     ]
    },
    {
     "data": {
      "text/plain": [
       "(['HOMOPHONE', 'ANAGRAM', 'INITIALS', 'SUBSTRING', 'REVERSE'], True)"
      ]
     },
     "execution_count": 35,
     "metadata": {},
     "output_type": "execute_result"
    }
   ],
   "source": [
    "# grep -h 'does not suggest Action.' experiments/wordplay_candidate_0/g2wordplay/000/* | sort | uniq\n",
    "\n",
    "#action_arr = actions.get_closest_actions('to admit', score_min=0.5, actions_max=5, debug=True)\n",
    "action_arr = actions.get_closest_actions('talked of', score_min=0.5, actions_max=5, debug=True)\n",
    "#action_arr = actions.get_closest_actions('goes inside', debug=True)\n",
    "#action_arr = actions.get_closest_actions('made by', debug=True)\n",
    "#action_arr = actions.get_closest_actions('variety of', score_min=0.5, actions_max=5, debug=True)\n",
    "#action_arr = actions.get_closest_actions('tumbled', debug=True)\n",
    "#action_arr = actions.get_closest_actions('eastern', debug=True)\n",
    "#action_arr = actions.get_closest_actions('on the radio', debug=True)\n",
    "action_arr, 'ANAGRAM' in action_arr"
   ]
  },
  {
   "cell_type": "code",
   "execution_count": 24,
   "id": "c5933312-b471-492e-b8f0-7fdce18f735c",
   "metadata": {},
   "outputs": [
    {
     "data": {
      "text/plain": [
       "False"
      ]
     },
     "execution_count": 24,
     "metadata": {},
     "output_type": "execute_result"
    }
   ],
   "source": [
    "from solver import Action\n",
    "Action.ANAGRAM in action_arr"
   ]
  },
  {
   "cell_type": "code",
   "execution_count": 14,
   "id": "87e93ded-4bc0-402b-95e3-b69c7fa90033",
   "metadata": {
    "editable": true,
    "slideshow": {
     "slide_type": ""
    },
    "tags": []
   },
   "outputs": [],
   "source": [
    "#from solver import Action, action_enums\n",
    "#dir(Action)\n",
    "#from solver.corpora import Actions\n",
    "#Actions.enums"
   ]
  },
  {
   "cell_type": "code",
   "execution_count": 9,
   "id": "7be8a9c5-cfec-4b1b-beef-cd2c55bcd855",
   "metadata": {
    "editable": true,
    "slideshow": {
     "slide_type": ""
    },
    "tags": []
   },
   "outputs": [
    {
     "name": "stdout",
     "output_type": "stream",
     "text": [
      "Redis server is available and running.\n"
     ]
    }
   ],
   "source": [
    "from solver.llm import get_model, RetryingLLM, CacheableLLM\n",
    "base_model = get_model() \n",
    "base_model = RetryingLLM( base_model )  # Robustify Gemini Model..."
   ]
  },
  {
   "cell_type": "code",
   "execution_count": 10,
   "id": "f06be1ee-f5c2-4411-9b11-877529892c04",
   "metadata": {},
   "outputs": [],
   "source": [
    "#from solver.llm import redis_server"
   ]
  },
  {
   "cell_type": "code",
   "execution_count": 11,
   "id": "39749c2b-1869-412e-a6de-74ff3f9b2f4c",
   "metadata": {
    "editable": true,
    "slideshow": {
     "slide_type": ""
    },
    "tags": []
   },
   "outputs": [],
   "source": [
    "solver_config=dict(\n",
    "  thesaurus=thesaurus,\n",
    "  abbreviations=abbreviations,\n",
    "  #model_synonym=CacheableLLM( base_model, ), \n",
    "  model_synonym=CacheableLLM( base_model, cache_prefix=\"SYN_\", ), \n",
    "  model_homophone=CacheableLLM( base_model, ), \n",
    "  #model_homophone=CacheableLLM( base_model, cache_prefix=\"HOM_\", ), \n",
    "  actions=actions,\n",
    ")"
   ]
  },
  {
   "cell_type": "code",
   "execution_count": null,
   "id": "8f3a293b-e551-4851-8908-d53a654246ae",
   "metadata": {},
   "outputs": [],
   "source": []
  },
  {
   "cell_type": "code",
   "execution_count": 12,
   "id": "230a3ca6-caaa-4e1e-a675-7704983ea6df",
   "metadata": {
    "editable": true,
    "slideshow": {
     "slide_type": ""
    },
    "tags": []
   },
   "outputs": [],
   "source": [
    "from solver import function_defs\n",
    "from solver import prompts\n",
    "#print(function_defs)"
   ]
  },
  {
   "cell_type": "code",
   "execution_count": 291,
   "id": "50631b2c-1b32-4f4c-96da-46f09fb5c606",
   "metadata": {
    "editable": true,
    "slideshow": {
     "slide_type": ""
    },
    "tags": []
   },
   "outputs": [
    {
     "name": "stdout",
     "output_type": "stream",
     "text": [
      "***\n",
      "```python\n",
      "def proof(answer=\"CAMERA\", clue=\"arrived with an artist, to get optical device\", pattern='6'):\n",
      "  \"\"\"\n",
      "  definition: arrived with an artist, to get {optical device}\n",
      "  wordplay: CAME (arrived) + RA (artist) \n",
      "  \"\"\"\n",
      "  assert is_synonym(\"optical device\", \"CAMERA\", pattern='6')\n",
      "  assert is_synonym(\"arrived\", \"CAME\")\n",
      "  assert is_abbreviation(\"artist\", \"RA\")\n",
      "  assert \"CAME\"+\"RA\"==\"CAMERA\"\n",
      "proof()\n",
      "```\n"
     ]
    }
   ],
   "source": [
    "prompt_parts = [\n",
    "  '''\n",
    "The following are functions that can be used in your output code:\\n''', \n",
    "  function_defs,\n",
    "  '''\n",
    "The following are examples of simple functions that prove that each puzzle solution is correct:''', \n",
    "  prompts.proof_example('ONCE'),\n",
    "  prompts.proof_example('DECIMAL'),\n",
    "  prompts.proof_example('RELIABLE'),\n",
    "  prompts.proof_example('DELINEATE'),\n",
    "  prompts.proof_example('SUPERMARKET'),\n",
    "  f'''\n",
    "# Please complete the following in a similar manner, and return the whole function:\n",
    "```python\n",
    "def proof(answer=\"CAMERA\", clue=\"arrived with an artist, to get optical device\", pattern='6'):\n",
    "  \"\"\"\n",
    "  definition: arrived with an artist, to get {{optical device}}\n",
    "  wordplay: ''', \n",
    "\n",
    "#def proof(answer=\"CAMERA\", clue=\"arrived with an artist, to get optical device\", pattern='6'):\n",
    "#  \"\"\"\n",
    "#  definition: arrived with an artist, to get {{optical device}}\n",
    "#def proof(answer=\"DELVE\", clue=\"research done, primarily, on most of magical beings\", pattern='5'):\n",
    "#  \"\"\"\n",
    "#  definition: {{research}} done, primarily, on most of magical beings\n",
    "\n",
    "# research done, primarily, on most of magical beings (5)  \n",
    "#  Plan:\n",
    "#  'arrived': wordplay\n",
    "#  'with an': nil\n",
    "#  'artist': wordplay\n",
    "#  'to get': nil\n",
    "]\n",
    "#print('\\n'.join(prompt_parts))\n",
    "print('***')\n",
    "if 1:\n",
    "  response = base_model.generate_content(prompt_parts)\n",
    "  print(response.text)"
   ]
  },
  {
   "cell_type": "markdown",
   "id": "eaa5b55a-9738-4112-8ebc-68f8abf35ce7",
   "metadata": {
    "editable": true,
    "slideshow": {
     "slide_type": ""
    },
    "tags": []
   },
   "source": [
    "### Parse out the returned function to get better warnings\n",
    "* If we simply run the function, we would only learn about 1 violation at a time...\n",
    "  * Better to parse out the function itself"
   ]
  },
  {
   "cell_type": "code",
   "execution_count": 292,
   "id": "49dafbb4-9815-4d08-b446-5924f8d26db8",
   "metadata": {},
   "outputs": [],
   "source": [
    "f'''\n",
    "def proof(clue='head decapitated long ago', answer='ONCE', pattern='4'):\n",
    "  informal_plan=\"\"\"\n",
    "  'head': wordplay\n",
    "  'decapitated': action\n",
    "  'long ago': definition\n",
    "  \"\"\"\n",
    "  assert( is_synonym('head', 'BONCE') )\n",
    "  assert( action_type('decapitated', Action.REMOVE_FIRST) && 'BONCE'[1:]=='ONCE' )\n",
    "  assert( is_synonym('long ago', 'ONCE', pattern=(4,)) )\n",
    "  return clue, informal_plan, answer\n",
    "proof()\n",
    "''';"
   ]
  },
  {
   "cell_type": "code",
   "execution_count": 293,
   "id": "6d16fd96-735f-4f31-bd13-f13ca2260af6",
   "metadata": {},
   "outputs": [
    {
     "name": "stdout",
     "output_type": "stream",
     "text": [
      "```python\n",
      "def proof(answer=\"CAMERA\", clue=\"arrived with an artist, to get optical device\", pattern='6'):\n",
      "  \"\"\"\n",
      "  definition: arrived with an artist, to get {optical device}\n",
      "  wordplay: CAME (arrived) + RA (artist) \n",
      "  \"\"\"\n",
      "  assert is_synonym(\"optical device\", \"CAMERA\", pattern='6')\n",
      "  assert is_synonym(\"arrived\", \"CAME\")\n",
      "  assert is_abbreviation(\"artist\", \"RA\")\n",
      "  assert \"CAME\"+\"RA\"==\"CAMERA\"\n",
      "proof()\n",
      "```\n"
     ]
    }
   ],
   "source": [
    "# ### Let's debug a python output\n",
    "content=response.text\n",
    "print(content)"
   ]
  },
  {
   "cell_type": "code",
   "execution_count": 294,
   "id": "6c2948e6-d9a9-4c52-b76f-24d8de09dd4f",
   "metadata": {},
   "outputs": [
    {
     "name": "stdout",
     "output_type": "stream",
     "text": [
      "def proof(answer=\"CAMERA\", clue=\"arrived with an artist, to get optical device\", pattern='6'):\n",
      "  \"\"\"\n",
      "  definition: arrived with an artist, to get {optical device}\n",
      "  wordplay: CAME (arrived) + RA (artist) \n",
      "  \"\"\"\n",
      "  assert is_synonym(\"optical device\", \"CAMERA\", pattern='6')\n",
      "  assert is_synonym(\"arrived\", \"CAME\")\n",
      "  assert is_abbreviation(\"artist\", \"RA\")\n",
      "  assert \"CAME\"+\"RA\"==\"CAMERA\"\n",
      "\n"
     ]
    }
   ],
   "source": [
    "py = content.strip()\n",
    "def strip_str(whole, s):\n",
    "  if whole.startswith(s): whole=whole[len(s):]\n",
    "  if whole.endswith(s):   whole=whole[:-len(s)]\n",
    "  return whole\n",
    "py = strip_str(py, '```python\\n')\n",
    "py = strip_str(py, 'proof()\\n```')\n",
    "print(py)"
   ]
  },
  {
   "cell_type": "code",
   "execution_count": 295,
   "id": "9d4c8c7e-a00e-4a71-845f-6e2773aa5ef4",
   "metadata": {},
   "outputs": [],
   "source": [
    "import ast\n",
    "parsed = ast.parse(py)"
   ]
  },
  {
   "cell_type": "code",
   "execution_count": 296,
   "id": "4a9f7878-55f2-4938-b5fe-ceea7a99a419",
   "metadata": {},
   "outputs": [
    {
     "name": "stdout",
     "output_type": "stream",
     "text": [
      "def proof(...) found\n",
      "FunctionDef(\n",
      "  name='proof',\n",
      "  args=arguments(\n",
      "    posonlyargs=[],\n",
      "    args=[\n",
      "      arg(arg='answer'),\n",
      "      arg(arg='clue'),\n",
      "      arg(arg='pattern')],\n",
      "    kwonlyargs=[],\n",
      "    kw_defaults=[],\n",
      "    defa\n"
     ]
    }
   ],
   "source": [
    "comments=ast.get_docstring(parsed)\n",
    "comments == None # No surrounding comments\n",
    "\n",
    "#print(ast.dump(parsed, indent=2))\n",
    "fn = parsed.body[0] \n",
    "if isinstance(fn, (ast.FunctionDef,)) and fn.name=='proof':\n",
    "  print('def proof(...) found')\n",
    "\n",
    "print(ast.dump(fn, indent=2)[:200])"
   ]
  },
  {
   "cell_type": "code",
   "execution_count": 297,
   "id": "01a92551",
   "metadata": {
    "editable": true,
    "slideshow": {
     "slide_type": ""
    },
    "tags": []
   },
   "outputs": [
    {
     "name": "stdout",
     "output_type": "stream",
     "text": [
      "Constant: \n",
      "  definition: arrived with an artist, to get {optical device}\n",
      "  wordplay: CAME (arrived) + RA (artist) \n",
      "  \n",
      "Assertion: is_synonym(\"optical device\", \"CAMERA\", pattern='6')\n",
      "Assertion: is_synonym(\"arrived\", \"CAME\")\n",
      "Assertion: is_abbreviation(\"artist\", \"RA\")\n",
      "Assertion: \"CAME\"+\"RA\"==\"CAMERA\"\n",
      "\n",
      "\n",
      "ASSERTIONS\n",
      "  is_synonym(\"optical device\", \"CAMERA\", pattern='6')\n",
      "  is_synonym(\"arrived\", \"CAME\")\n",
      "  is_abbreviation(\"artist\", \"RA\")\n",
      "  \"CAME\"+\"RA\"==\"CAMERA\"\n"
     ]
    }
   ],
   "source": [
    "assertions=[]\n",
    "\n",
    "for node in fn.body:  # This is a list of stuff\n",
    "  #print(ast.dump(node, indent=2))\n",
    "  if isinstance(node, ast.Expr):\n",
    "    if isinstance(node.value, ast.Constant):\n",
    "      print(f\"Constant: {node.value.value}\")\n",
    "      continue\n",
    "  if isinstance(node, ast.Assert):\n",
    "    #print(f\"Assertion: {ast.dump(node.test, indent=2)}\")\n",
    "    src=ast.get_source_segment(py, node.test)\n",
    "    print(f\"Assertion: {src}\")\n",
    "    assertions.append(src)\n",
    "    continue\n",
    "  print(\"Non-conforming line...\")\n",
    "print(\"\\n\\nASSERTIONS\\n  \"+'\\n  '.join(assertions))"
   ]
  },
  {
   "cell_type": "code",
   "execution_count": 298,
   "id": "1f278e01",
   "metadata": {
    "lines_to_next_cell": 0
   },
   "outputs": [],
   "source": [
    "#def add5(x): return x+5\n",
    "#eval('add5(2)==6')"
   ]
  },
  {
   "cell_type": "code",
   "execution_count": 299,
   "id": "b844cb45",
   "metadata": {
    "editable": true,
    "lines_to_next_cell": 2,
    "slideshow": {
     "slide_type": ""
    },
    "tags": []
   },
   "outputs": [],
   "source": [
    "if False:\n",
    "    from enum import Enum #, EnumMeta\n",
    "    from solver.corpora import Actions\n",
    "    #Action = Enum('Action', Actions.enums)\n",
    "    \n",
    "    # https://stackoverflow.com/a/60375664\n",
    "    #class ActionValidator(EnumMeta):\n",
    "    #Action = Enum('Action', Actions.enums, metaclass=ActionValidator)\n",
    "    \n",
    "    #class Action(Enum):\n",
    "    class Action2(object):\n",
    "      d={}\n",
    "      def __getattr__(self,  name):\n",
    "        print(f\"Trying to get '{name}'\")\n",
    "        try:\n",
    "          #return super().__getitem__(name)\n",
    "        #except (KeyError) as error:\n",
    "          return Actions.enums.index(name)\n",
    "        except (ValueError) as error:\n",
    "        #options = ', '.join(cls._member_map_.keys())\n",
    "          options = ', '.join(Actions.enums)\n",
    "          msg = f\"'{name}' is invalid, please choose one of {options}\"\n",
    "          raise ValueError(msg) from None\n",
    "    Action = Action2()\n",
    "      #pass\n",
    "      #Enum('Action', Actions.enums)\n",
    "      #def __new__(cls):\n",
    "      #  for v, name in enumerate(Actions.enums):\n",
    "      #    print(f\"setting {name}={v}\")\n",
    "      #    cls.name=v \n",
    "    print(Actions.enums)\n",
    "    Action.ANAGRAM, Action.HOMOPHONE, Action.sdsOMOPHONE"
   ]
  },
  {
   "cell_type": "code",
   "execution_count": 300,
   "id": "723b92c3",
   "metadata": {
    "editable": true,
    "slideshow": {
     "slide_type": ""
    },
    "tags": []
   },
   "outputs": [],
   "source": [
    "#from solver import (\n",
    "#  is_abbreviation, is_synonym, is_homonym, is_anagram, \n",
    "#  action_type, literal,\n",
    "#)\n",
    "from solver import SolverState"
   ]
  },
  {
   "cell_type": "code",
   "execution_count": 301,
   "id": "c515e440",
   "metadata": {
    "editable": true,
    "slideshow": {
     "slide_type": ""
    },
    "tags": []
   },
   "outputs": [
    {
     "name": "stdout",
     "output_type": "stream",
     "text": [
      "AssertionError: action_type('worked', Action.HOMONYM) : 'HOMONYM' is invalid, please choose one of ANAGRAM, REMOVE_FIRST, INITIALS, REMOVE_LAST, GOES_INSIDE, GOES_OUTSIDE, REVERSE, SUBSTRING, HOMOPHONE\n"
     ]
    }
   ],
   "source": [
    "if True:\n",
    "  ss=SolverState(**solver_config)\n",
    "  #ss.eval_assertion(\"\"\"'CAME'+'RA'=='CAMERA'\"\"\") # == True\n",
    "  #ss.eval_assertion(\"\"\"'CAM'+'RA'=='CAMERA'\"\"\") # == False\n",
    "  #ss.eval_assertion(\"\"\"is_synonym('arrived', 'CAME') and literal('CAME')=='CAME'\"\"\") # == True\n",
    "  #ss.eval_assertion(\"\"\"is_synonym('arrived', 'CAME')\"\"\")  # , pattern='5'\n",
    "  #ss.eval_assertion(\"\"\"is_synonym('arrived', 'CAM') and literal('CAM')=='CAME'\"\"\") # == False\n",
    "  #ss.eval_assertion(\"\"\"action_type('worked', Action.ANAGRAM)\"\"\") # == True\n",
    "  #ss.eval_assertion(\"\"\"action_type('to get', Action.ANAGRAM)\"\"\") # == NADA\n",
    "  #ss.eval_assertion(\"\"\"action_type('goes crazy', Action.ANAGRAM)\"\"\") # == NADA\n",
    "  #ss.eval_assertion(\"\"\"action_type('worked', Action.HOMOPHONE)\"\"\") # == offers alternative(s)\n",
    "  ss.eval_assertion(\"\"\"action_type('worked', Action.HOMONYM)\"\"\") # == does not exist : Specialised return\n",
    "  #ss.eval_assertion(\"\"\"action_type('to get', Action.ANAGsdM)\"\"\") # == Raises genuine error\n",
    "  #ss.eval_assertion(\"\"\"is_anagram('CAMERA', 'CAM')\"\"\") # == False\n",
    "  #ss.eval_assertion(\"\"\"is_abbreviation('an Artist', 'RA')\"\"\")\n",
    "  #ss.eval_assertion(\"\"\"is_abbreviation('tillery', 'RA')\"\"\")\n",
    "  #ss.eval_assertion(\"\"\"is_homophone('here', 'hear')\"\"\")  # True\n",
    "  #ss.eval_assertion(\"\"\"is_homophone('cow', 'hear')\"\"\")   # False\n",
    "  print(ss.debug_when_failed(''))"
   ]
  },
  {
   "cell_type": "code",
   "execution_count": null,
   "id": "070c247f",
   "metadata": {
    "editable": true,
    "slideshow": {
     "slide_type": ""
    },
    "tags": []
   },
   "outputs": [],
   "source": []
  },
  {
   "cell_type": "code",
   "execution_count": null,
   "id": "576c153e",
   "metadata": {
    "editable": true,
    "slideshow": {
     "slide_type": ""
    },
    "tags": []
   },
   "outputs": [],
   "source": []
  },
  {
   "cell_type": "code",
   "execution_count": 302,
   "id": "34502db2",
   "metadata": {},
   "outputs": [
    {
     "name": "stdout",
     "output_type": "stream",
     "text": [
      "SUCCESS!\n"
     ]
    }
   ],
   "source": [
    "# Let's go through the assertions above, and see what we get back...\n",
    "ss=SolverState(**solver_config)\n",
    "report=[]\n",
    "for a in assertions:\n",
    "  ss.trace=[]\n",
    "  res=ss.eval_assertion(a)\n",
    "  if not res:\n",
    "    report.append(ss.debug_when_failed(a))\n",
    "if len(report)==0:\n",
    "  print(\"SUCCESS!\")\n",
    "else:\n",
    "  print('\\n'.join(report))"
   ]
  },
  {
   "cell_type": "code",
   "execution_count": null,
   "id": "7e4f80d2-017e-4ada-b45b-6b02916f7113",
   "metadata": {
    "lines_to_next_cell": 2
   },
   "outputs": [],
   "source": []
  },
  {
   "cell_type": "code",
   "execution_count": 303,
   "id": "d4120f50-fe8a-4aab-86c0-00fa28c6a405",
   "metadata": {},
   "outputs": [
    {
     "data": {
      "text/plain": [
       "['s']"
      ]
     },
     "execution_count": 303,
     "metadata": {},
     "output_type": "execute_result"
    }
   ],
   "source": [
    "#abbreviations.short_to_phrase['ra']\n",
    "abbreviations.phrase_to_short['south']"
   ]
  },
  {
   "cell_type": "code",
   "execution_count": 304,
   "id": "d42cd51e-cf15-4d33-86d3-941de94f1e41",
   "metadata": {
    "lines_to_next_cell": 0
   },
   "outputs": [],
   "source": [
    "#thesaurus.refs.get('camera',[]) #  Quite a few integers...\n",
    "#thesaurus.refs.get('optical device',[]) #  None\n",
    "\n",
    "#thesaurus.refs.get('came',[]) # None!!!\n",
    "#thesaurus.refs.get('arrived',[]) # None!!!\n",
    "\n",
    "#thesaurus.refs.get('come',[]) # Many\n",
    "#thesaurus.refs.get('arrive',[]) # Many"
   ]
  },
  {
   "cell_type": "code",
   "execution_count": 305,
   "id": "c03ef221-dc02-4005-ae07-0dba91d1c5c8",
   "metadata": {
    "editable": true,
    "slideshow": {
     "slide_type": ""
    },
    "tags": []
   },
   "outputs": [
    {
     "name": "stdout",
     "output_type": "stream",
     "text": [
      "['blog', 'blg', 'blOg', 'BLOus', 'ereur', 'qqqhq']\n",
      "['BLOus', 'blOg', 'blg', 'blog', 'ereur', 'qqqhq']\n"
     ]
    }
   ],
   "source": [
    "arr='BLOus ereur qqqhq blOg blg blog'.split(' ')\n",
    "print(ss.levensthtein_sorted_list('blog', arr)[:])\n",
    "print(ss.levensthtein_sorted_list('BLOG', arr)[:])"
   ]
  },
  {
   "cell_type": "code",
   "execution_count": null,
   "id": "96ff6977-12d1-4892-a728-72c91c66b041",
   "metadata": {
    "editable": true,
    "lines_to_next_cell": 2,
    "slideshow": {
     "slide_type": ""
    },
    "tags": []
   },
   "outputs": [],
   "source": []
  },
  {
   "cell_type": "code",
   "execution_count": 306,
   "id": "0f9299ca-6eba-4361-aa76-52bf9c882131",
   "metadata": {
    "editable": true,
    "slideshow": {
     "slide_type": ""
    },
    "tags": []
   },
   "outputs": [
    {
     "name": "stdout",
     "output_type": "stream",
     "text": [
      "4 ^[a-zA-Z]{4}$\n",
      "4, ^[a-zA-Z]{4}$\n",
      "2,5 ^[a-zA-Z]{2}\\s[a-zA-Z]{5}$\n",
      "2-3 ^[a-zA-Z]{2}[\\-][a-zA-Z]{3}$\n"
     ]
    }
   ],
   "source": [
    "from solver import pattern_to_re\n",
    "for p in ['4', '4,', '2,5', '2-3', ]:\n",
    "  print( p, pattern_to_re(p) )"
   ]
  },
  {
   "cell_type": "code",
   "execution_count": 307,
   "id": "9a650c8a-05f2-4f29-8eba-81074e931cd2",
   "metadata": {
    "editable": true,
    "slideshow": {
     "slide_type": ""
    },
    "tags": []
   },
   "outputs": [
    {
     "name": "stdout",
     "output_type": "stream",
     "text": [
      "4\n",
      "3,4-3,5\n",
      "1,2\n"
     ]
    }
   ],
   "source": [
    "print( prompts.answer_to_pattern('ASDr') )\n",
    "print( prompts.answer_to_pattern('ASD OIWI-IEI UIddI') )\n",
    "print( prompts.answer_to_pattern('A SD') )"
   ]
  },
  {
   "cell_type": "code",
   "execution_count": 308,
   "id": "2c84701e-04ea-4e54-b79d-838b54bcd315",
   "metadata": {
    "editable": true,
    "slideshow": {
     "slide_type": ""
    },
    "tags": []
   },
   "outputs": [
    {
     "data": {
      "text/plain": [
       "'initially, a series of races encircling trees'"
      ]
     },
     "execution_count": 308,
     "metadata": {},
     "output_type": "execute_result"
    }
   ],
   "source": [
    "prompts.remove_enumeration_from('initially, a series of races encircling trees (2,5)')"
   ]
  },
  {
   "cell_type": "code",
   "execution_count": 309,
   "id": "afab3149-989f-4a29-b8d2-7bf89ce4fd9e",
   "metadata": {
    "editable": true,
    "slideshow": {
     "slide_type": ""
    },
    "tags": []
   },
   "outputs": [
    {
     "data": {
      "text/plain": [
       "['town regularly unlocked church for a small {sum}',\n",
       " 'town regularly unlocked church for a {small sum}']"
      ]
     },
     "execution_count": 309,
     "metadata": {},
     "output_type": "execute_result"
    }
   ],
   "source": [
    "prompts.get_potential_definitions('TWOPENCE', 'town regularly unlocked church for a small sum', embedder)"
   ]
  },
  {
   "cell_type": "code",
   "execution_count": null,
   "id": "47d2e85d-a9bf-4c81-bc16-cd26d449dde7",
   "metadata": {},
   "outputs": [],
   "source": []
  },
  {
   "cell_type": "markdown",
   "id": "f4ebe3b7-8615-4384-94d6-c409f76d6e3e",
   "metadata": {
    "editable": true,
    "lines_to_next_cell": 2,
    "slideshow": {
     "slide_type": ""
    },
    "tags": []
   },
   "source": [
    "## Bringing functions together"
   ]
  },
  {
   "cell_type": "code",
   "execution_count": 310,
   "id": "c62d7e1d-ed9d-4003-9960-eb27a24e6177",
   "metadata": {
    "editable": true,
    "slideshow": {
     "slide_type": ""
    },
    "tags": []
   },
   "outputs": [
    {
     "name": "stdout",
     "output_type": "stream",
     "text": [
      "\n",
      "The task is to produce a formal proof using python code, where the docstring will also include an informal proof as an aid.\n",
      "The following are functions that can be used in your output code:\n",
      "\n",
      "---PARTSEP---\n",
      "```python\n",
      "Action = Enum('Action', 'ANAGRAM,REMOVE_FIRST,INITIALS,REMOVE_LAST,GOES_INSIDE,GOES_OUTSIDE,REVERSE,SUBSTRING,HOMOPHONE')\n",
      "# External definitions\n",
      "def is_synonym(phrase:str, test_synonym:str, pattern:str='') -> bool:\n",
      "  # Determines whether 'test_synonym' is a reasonable synonym for 'phrase', with letters optionally matching 'pattern'\n",
      "  return True # defined elsewhere\n",
      "def is_abbreviation(phrase:str, test_abbreviation:str) -> bool:\n",
      "  # Determines whether 'test_abbreviation' is a valid abbreviation or short form for 'phrase'\n",
      "  return True # defined elsewhere\n",
      "def action_type(phrase:str, action:Action) -> bool:\n",
      "  # Determines whether 'phrase' might signify the given 'action'\n",
      "  return True # defined elsewhere\n",
      "def is_anagram(letters:str, word:str) -> bool:\n",
      "  # Determines whether 'word' can be formed from 'letters' (i.e. is an anagram)\n",
      "  return True # defined elsewhere\n",
      "def is_homophone(phrase:str, test_homophone:str) -> bool:\n",
      "  # Determines whether 'test_homophone' sounds like 'phrase'\n",
      "  return True # defined elsewhere\n",
      "```\n",
      "---PARTSEP---\n",
      "\n",
      "The following are examples of simple functions that prove that each puzzle solution is correct:\n",
      "---PARTSEP---\n",
      "\n",
      "```python\n",
      "def proof(answer=\"ONCE\", clue=\"head decapitated long ago\", pattern='4'):\n",
      "  \"\"\"\n",
      "  definition: head decapitated {long ago}\n",
      "  wordplay: [b]ONCE (head decapitated = remove first letter of BONCE) \n",
      "  \"\"\"\n",
      "  assert is_synonym(\"head\", \"BONCE\")\n",
      "  assert action_type(\"decapitated\", Action.REMOVE_FIRST) and \"BONCE\"[1:]==\"ONCE\"\n",
      "  assert is_synonym(\"long ago\", \"ONCE\", pattern='4')\n",
      "proof()\n",
      "```\n",
      "---PARTSEP---\n",
      "\n",
      "```python\n",
      "def proof(answer=\"DECIMAL\", clue=\"the point of medical treatment\", pattern='7'):\n",
      "  \"\"\"\n",
      "  definition: {the point} of medical treatment\n",
      "  wordplay: (MEDICAL)* (*treatment = anagram) \n",
      "  \"\"\"\n",
      "  assert is_synonym(\"the point\", \"DECIMAL\", pattern='7')\n",
      "  assert action_type(\"treatment\", Action.ANAGRAM)\n",
      "  assert is_anagram(\"MEDICAL\", \"DECIMAL\")\n",
      "proof()\n",
      "```\n",
      "---PARTSEP---\n",
      "\n",
      "```python\n",
      "def proof(answer=\"YOKE\", clue=\"part of garment could be yellow, we hear\", pattern='4'):\n",
      "  \"\"\"\n",
      "  definition: {part of garment} could be yellow, we hear\n",
      "  wordplay: (we hear = homophone) of YOLK (which is yellow) \n",
      "  \"\"\"\n",
      "  assert is_synonym(\"part of garment\", \"YOKE\", pattern='4')\n",
      "  assert is_synomym(\"yellow\", \"YOLK\")\n",
      "  assert action_type(\"we hear\", Action.HOMOPHONE)\n",
      "  assert is_homophone(\"YOLK\", \"YOKE\")\n",
      "proof()\n",
      "```\n",
      "---PARTSEP---\n",
      "\n",
      "```python\n",
      "def proof(answer=\"RELIABLE\", clue=\"dependable about being under an obligation?\", pattern='8'):\n",
      "  \"\"\"\n",
      "  definition: {dependable} about being under an obligation?\n",
      "  wordplay: RE (about) + LIABLE (being under an obligation) \n",
      "  \"\"\"\n",
      "  assert is_synonym(\"dependable\", \"RELIABLE\", pattern='8')\n",
      "  assert is_abbreviation(\"about\", \"RE\")\n",
      "  assert is_synonym(\"being under an obligation\", \"LIABLE\")\n",
      "  assert \"RE\"+\"LIABLE\"==\"RELIABLE\"\n",
      "proof()\n",
      "```\n",
      "---PARTSEP---\n",
      "\n",
      "```python\n",
      "def proof(answer=\"DELINEATE\", clue=\"sketch produced by aileen and ted\", pattern='9'):\n",
      "  \"\"\"\n",
      "  definition: {sketch} produced by aileen and ted\n",
      "  wordplay: (AILEEN + TED)* (*produced by = anagram) \n",
      "  \"\"\"\n",
      "  assert is_synonym(\"sketch\", \"DELINEATE\", pattern='9')\n",
      "  assert action_type(\"produced by\", Action.ANAGRAM)\n",
      "  assert \"AILEEN\"+\"TED\"==\"AILEENTED\"\n",
      "  assert is_anagram(\"AILEENTED\", \"DELINEATE\")\n",
      "proof()\n",
      "```\n",
      "---PARTSEP---\n",
      "\n",
      "```python\n",
      "def proof(answer=\"SUPERMARKET\", clue=\"fat bags for every brand that’s a big seller\", pattern='11'):\n",
      "  \"\"\"\n",
      "  definition: fat bags for every brand that’s {a big seller}\n",
      "  wordplay: SUET (fat) (bags = goes outside) of (PER (for every) + MARK (brand)) \n",
      "  \"\"\"\n",
      "  assert is_synomym(\"fat\", \"SUET\")\n",
      "  assert action_type(\"bags\", Action.IS_OUTSIDE)\n",
      "  assert \"SUET\" == \"SU\" + \"ET\"\n",
      "  assert is_abbreviation(\"for every\", \"PER\")\n",
      "  assert is_synomym(\"brand\", \"MARK\")\n",
      "  assert \"SU\"+\"PER\"+\"MARK\"+\"ET\" == \"SUPERMARKET\"\n",
      "  assert is_synonym(\"a big seller\", \"SUPERMARKET\", pattern='11')\n",
      "proof()\n",
      "```\n",
      "---PARTSEP---\n",
      "\n",
      "# Please complete the following in a similar manner, and return the whole function:\n",
      "```python\n",
      "def proof(answer=\"CAMERA\", clue=\"arrived with an artist, to get optical device\", pattern='6'):\n",
      "  \"\"\"\n",
      "  definition: arrived with an artist, to get {optical device}\n",
      "  wordplay: \n"
     ]
    }
   ],
   "source": [
    "solver_state_hinter=None\n",
    "#solver_state_hinter=ss  # Add wordplay hints\n",
    "prompt_base = prompts.get_proof_prompt_part0(solver_state_hinter=solver_state_hinter)\n",
    "prompt_question = prompts.get_proof_prompt_part1(\"arrived with an artist, to get {optical device}\", answer=\"CAMERA\", solver_state_hinter=solver_state_hinter)\n",
    "print('\\n---PARTSEP---\\n'.join(prompt_base + prompt_question))"
   ]
  },
  {
   "cell_type": "code",
   "execution_count": 311,
   "id": "f77f5638-955e-429b-aac4-905bb5b809e5",
   "metadata": {
    "editable": true,
    "slideshow": {
     "slide_type": ""
    },
    "tags": []
   },
   "outputs": [
    {
     "name": "stdout",
     "output_type": "stream",
     "text": [
      "```python\n",
      "def proof(answer=\"CAMERA\", clue=\"arrived with an artist, to get optical device\", pattern='6'):\n",
      "  \"\"\"\n",
      "  definition: arrived with an artist, to get {optical device}\n",
      "  wordplay: CAME (arrived) + RA (an artist) \n",
      "  \"\"\"\n",
      "  assert is_synonym(\"optical device\", \"CAMERA\", pattern='6')\n",
      "  assert is_synonym(\"arrived\", \"CAME\")\n",
      "  assert is_abbreviation(\"an artist\", \"RA\")\n",
      "  assert \"CAME\"+\"RA\"==\"CAMERA\"\n",
      "proof()\n",
      "```\n"
     ]
    }
   ],
   "source": [
    "response = base_model.generate_content(prompt_base + prompt_question)\n",
    "print(response.text)"
   ]
  },
  {
   "cell_type": "code",
   "execution_count": 312,
   "id": "fca07273-3e0e-4291-b425-098241bf9b09",
   "metadata": {},
   "outputs": [
    {
     "name": "stdout",
     "output_type": "stream",
     "text": [
      "def proof(answer=\"CAMERA\", clue=\"arrived with an artist, to get optical device\", pattern='6'):\n",
      "  \"\"\"\n",
      "  definition: arrived with an artist, to get {optical device}\n",
      "  wordplay: CAME (arrived) + RA (an artist) \n",
      "  \"\"\"\n",
      "  assert is_synonym(\"optical device\", \"CAMERA\", pattern='6')\n",
      "  assert is_synonym(\"arrived\", \"CAME\")\n",
      "  assert is_abbreviation(\"an artist\", \"RA\")\n",
      "  assert \"CAME\"+\"RA\"==\"CAMERA\"\n",
      "\n"
     ]
    }
   ],
   "source": [
    "py = prompts.extract_python_from_response(response.text)\n",
    "print(py)"
   ]
  },
  {
   "cell_type": "code",
   "execution_count": 313,
   "id": "9353f7a5-8ec8-40da-bd9a-615615e1a37b",
   "metadata": {},
   "outputs": [
    {
     "name": "stdout",
     "output_type": "stream",
     "text": [
      "AssertionError: assert: is_abbreviation('an artist', 'RA') : 'an artist' does not have a valid abbreviation; 'RA' is an abbreviation for : artist, artillery, Royal Artillery, gunners, painter\n"
     ]
    }
   ],
   "source": [
    "from solver import SolverState\n",
    "ss=SolverState(**solver_config)\n",
    "\n",
    "fn, err = ss.get_function_from_ast(py)\n",
    "report = ss.get_code_report(py, fn, err)\n",
    "\n",
    "if len(report)==0:\n",
    "  print(\"SUCCESS!\")\n",
    "else:\n",
    "  print('\\n'.join(report))"
   ]
  },
  {
   "cell_type": "code",
   "execution_count": 314,
   "id": "a49f2b3b-cc8c-4b45-90d1-46c1daee5294",
   "metadata": {
    "editable": true,
    "slideshow": {
     "slide_type": ""
    },
    "tags": []
   },
   "outputs": [
    {
     "name": "stdout",
     "output_type": "stream",
     "text": [
      "\n",
      "The task is to produce a formal proof using python code, where the docstring will also include an informal proof as an aid.\n",
      "The following are functions that can be used in your output code:\n",
      "\n",
      "---PARTSEP---\n",
      "```python\n",
      "Action = Enum('Action', 'ANAGRAM,REMOVE_FIRST,INITIALS,REMOVE_LAST,GOES_INSIDE,GOES_OUTSIDE,REVERSE,SUBSTRING,HOMOPHONE')\n",
      "# External definitions\n",
      "def is_synonym(phrase:str, test_synonym:str, pattern:str='') -> bool:\n",
      "  # Determines whether 'test_synonym' is a reasonable synonym for 'phrase', with letters optionally matching 'pattern'\n",
      "  return True # defined elsewhere\n",
      "def is_abbreviation(phrase:str, test_abbreviation:str) -> bool:\n",
      "  # Determines whether 'test_abbreviation' is a valid abbreviation or short form for 'phrase'\n",
      "  return True # defined elsewhere\n",
      "def action_type(phrase:str, action:Action) -> bool:\n",
      "  # Determines whether 'phrase' might signify the given 'action'\n",
      "  return True # defined elsewhere\n",
      "def is_anagram(letters:str, word:str) -> bool:\n",
      "  # Determines whether 'word' can be formed from 'letters' (i.e. is an anagram)\n",
      "  return True # defined elsewhere\n",
      "def is_homophone(phrase:str, test_homophone:str) -> bool:\n",
      "  # Determines whether 'test_homophone' sounds like 'phrase'\n",
      "  return True # defined elsewhere\n",
      "```\n",
      "---PARTSEP---\n",
      "\n",
      "The following are examples of simple functions that prove that each puzzle solution is correct:\n",
      "---PARTSEP---\n",
      "\n",
      "```python\n",
      "def proof(answer=\"ONCE\", clue=\"head decapitated long ago\", pattern='4'):\n",
      "  \"\"\"\n",
      "  definition: head decapitated {long ago}\n",
      "  wordplay: [b]ONCE (head decapitated = remove first letter of BONCE) \n",
      "  \"\"\"\n",
      "  assert is_synonym(\"head\", \"BONCE\")\n",
      "  assert action_type(\"decapitated\", Action.REMOVE_FIRST) and \"BONCE\"[1:]==\"ONCE\"\n",
      "  assert is_synonym(\"long ago\", \"ONCE\", pattern='4')\n",
      "proof()\n",
      "```\n",
      "---PARTSEP---\n",
      "\n",
      "```python\n",
      "def proof(answer=\"DECIMAL\", clue=\"the point of medical treatment\", pattern='7'):\n",
      "  \"\"\"\n",
      "  definition: {the point} of medical treatment\n",
      "  wordplay: (MEDICAL)* (*treatment = anagram) \n",
      "  \"\"\"\n",
      "  assert is_synonym(\"the point\", \"DECIMAL\", pattern='7')\n",
      "  assert action_type(\"treatment\", Action.ANAGRAM)\n",
      "  assert is_anagram(\"MEDICAL\", \"DECIMAL\")\n",
      "proof()\n",
      "```\n",
      "---PARTSEP---\n",
      "\n",
      "```python\n",
      "def proof(answer=\"YOKE\", clue=\"part of garment could be yellow, we hear\", pattern='4'):\n",
      "  \"\"\"\n",
      "  definition: {part of garment} could be yellow, we hear\n",
      "  wordplay: (we hear = homophone) of YOLK (which is yellow) \n",
      "  \"\"\"\n",
      "  assert is_synonym(\"part of garment\", \"YOKE\", pattern='4')\n",
      "  assert is_synomym(\"yellow\", \"YOLK\")\n",
      "  assert action_type(\"we hear\", Action.HOMOPHONE)\n",
      "  assert is_homophone(\"YOLK\", \"YOKE\")\n",
      "proof()\n",
      "```\n",
      "---PARTSEP---\n",
      "\n",
      "```python\n",
      "def proof(answer=\"RELIABLE\", clue=\"dependable about being under an obligation?\", pattern='8'):\n",
      "  \"\"\"\n",
      "  definition: {dependable} about being under an obligation?\n",
      "  wordplay: RE (about) + LIABLE (being under an obligation) \n",
      "  \"\"\"\n",
      "  assert is_synonym(\"dependable\", \"RELIABLE\", pattern='8')\n",
      "  assert is_abbreviation(\"about\", \"RE\")\n",
      "  assert is_synonym(\"being under an obligation\", \"LIABLE\")\n",
      "  assert \"RE\"+\"LIABLE\"==\"RELIABLE\"\n",
      "proof()\n",
      "```\n",
      "---PARTSEP---\n",
      "\n",
      "```python\n",
      "def proof(answer=\"DELINEATE\", clue=\"sketch produced by aileen and ted\", pattern='9'):\n",
      "  \"\"\"\n",
      "  definition: {sketch} produced by aileen and ted\n",
      "  wordplay: (AILEEN + TED)* (*produced by = anagram) \n",
      "  \"\"\"\n",
      "  assert is_synonym(\"sketch\", \"DELINEATE\", pattern='9')\n",
      "  assert action_type(\"produced by\", Action.ANAGRAM)\n",
      "  assert \"AILEEN\"+\"TED\"==\"AILEENTED\"\n",
      "  assert is_anagram(\"AILEENTED\", \"DELINEATE\")\n",
      "proof()\n",
      "```\n",
      "---PARTSEP---\n",
      "\n",
      "```python\n",
      "def proof(answer=\"SUPERMARKET\", clue=\"fat bags for every brand that’s a big seller\", pattern='11'):\n",
      "  \"\"\"\n",
      "  definition: fat bags for every brand that’s {a big seller}\n",
      "  wordplay: SUET (fat) (bags = goes outside) of (PER (for every) + MARK (brand)) \n",
      "  \"\"\"\n",
      "  assert is_synomym(\"fat\", \"SUET\")\n",
      "  assert action_type(\"bags\", Action.IS_OUTSIDE)\n",
      "  assert \"SUET\" == \"SU\" + \"ET\"\n",
      "  assert is_abbreviation(\"for every\", \"PER\")\n",
      "  assert is_synomym(\"brand\", \"MARK\")\n",
      "  assert \"SU\"+\"PER\"+\"MARK\"+\"ET\" == \"SUPERMARKET\"\n",
      "  assert is_synonym(\"a big seller\", \"SUPERMARKET\", pattern='11')\n",
      "proof()\n",
      "```\n",
      "---PARTSEP---\n",
      "\n",
      "# The following draft code SOLUTION was returned for a newly posed problem:\n",
      "```python\n",
      "def proof(answer=\"CAMERA\", clue=\"arrived with an artist, to get optical device\", pattern='6'):\n",
      "  \"\"\"\n",
      "  definition: arrived with an artist, to get {optical device}\n",
      "  wordplay: CAME (arrived) + RA (an artist) \n",
      "  \"\"\"\n",
      "  assert is_synonym(\"optical device\", \"CAMERA\", pattern='6')\n",
      "  assert is_synonym(\"arrived\", \"CAME\")\n",
      "  assert is_abbreviation(\"an artist\", \"RA\")\n",
      "  assert \"CAME\"+\"RA\"==\"CAMERA\"\n",
      "proof()\n",
      "```\n",
      "---PARTSEP---\n",
      "\n",
      "# PROBLEM : the SOLUTION above failed because of the following reported errors (python assertions without errors were valid):\n",
      "```\n",
      "AssertionError: assert: is_abbreviation('an artist', 'RA') : 'an artist' does not have a valid abbreviation; 'RA' is an abbreviation for : artist, artillery, Royal Artillery, gunners, painter\n",
      "```\n",
      "---PARTSEP---\n",
      "\n",
      "# Please re-implement the SOLUTION above (altering both the docstring and the python code as required), taking care to fix each of the problems identified, and return the whole function:\n",
      "```python\n",
      "def proof(answer=\"CAMERA\", clue=\"arrived with an artist, to get optical device\", pattern='6'):\n",
      "  \"\"\"\n",
      "  definition: arrived with an artist, to get {optical device}\n",
      "  wordplay: \n",
      "\n"
     ]
    }
   ],
   "source": [
    "# Assemble full new prompt:\n",
    "prompt_fix_errors = prompts.get_proof_prompt_part2(prompt_base, prompt_question, py, report)\n",
    "print( '\\n---PARTSEP---\\n'.join(prompt_fix_errors) )"
   ]
  },
  {
   "cell_type": "code",
   "execution_count": 315,
   "id": "b873c252-719a-48b0-a686-4f62303f3943",
   "metadata": {
    "editable": true,
    "slideshow": {
     "slide_type": ""
    },
    "tags": []
   },
   "outputs": [
    {
     "name": "stdout",
     "output_type": "stream",
     "text": [
      "```python\n",
      "def proof(answer=\"CAMERA\", clue=\"arrived with an artist, to get optical device\", pattern='6'):\n",
      "  \"\"\"\n",
      "  definition: arrived with an artist, to get {optical device}\n",
      "  wordplay: CAME (arrived) + RA (artist) \n",
      "  \"\"\"\n",
      "  assert is_synonym(\"optical device\", \"CAMERA\", pattern='6')\n",
      "  assert is_synonym(\"arrived\", \"CAME\")\n",
      "  assert is_abbreviation(\"artist\", \"RA\")\n",
      "  assert \"CAME\"+\"RA\"==\"CAMERA\"\n",
      "proof()\n",
      "```\n"
     ]
    }
   ],
   "source": [
    "response_fix_errors = base_model.generate_content(prompt_fix_errors)\n",
    "print(response_fix_errors.text)"
   ]
  },
  {
   "cell_type": "code",
   "execution_count": 316,
   "id": "8654dfcc-8e5d-49ac-bd71-f2b773ae0043",
   "metadata": {
    "editable": true,
    "slideshow": {
     "slide_type": ""
    },
    "tags": []
   },
   "outputs": [
    {
     "name": "stdout",
     "output_type": "stream",
     "text": [
      "SUCCESS!\n"
     ]
    }
   ],
   "source": [
    "py_fix_errors = prompts.extract_python_from_response(response_fix_errors.text)\n",
    "fn, err = ss.get_function_from_ast(py_fix_errors)\n",
    "report = ss.get_code_report(py_fix_errors, fn, err)\n",
    "\n",
    "if len(report)==0:\n",
    "  print(\"SUCCESS!\")\n",
    "else:\n",
    "  print('\\n'.join(report))"
   ]
  },
  {
   "cell_type": "markdown",
   "id": "f95c5830-6be6-4a54-a058-7222211560f0",
   "metadata": {},
   "source": [
    "### Check clue hints"
   ]
  },
  {
   "cell_type": "code",
   "execution_count": 48,
   "id": "4c97f0c3-079f-4993-8e39-f39495d17a06",
   "metadata": {},
   "outputs": [],
   "source": [
    "from solver import SolverState\n",
    "ss=SolverState(**solver_config)"
   ]
  },
  {
   "cell_type": "code",
   "execution_count": 49,
   "id": "675a1bb0-bf9c-45d6-9b95-e7175397b9b2",
   "metadata": {
    "editable": true,
    "slideshow": {
     "slide_type": ""
    },
    "tags": []
   },
   "outputs": [
    {
     "data": {
      "text/plain": [
       "[\"'with' : Potential abbreviation: CON\",\n",
       " \"'an' : Potential abbreviations: A I\",\n",
       " \"'artist' : Potential abbreviations: ARA ETTY LELY PRA RA\"]"
      ]
     },
     "execution_count": 49,
     "metadata": {},
     "output_type": "execute_result"
    }
   ],
   "source": [
    "ss.get_clue_hints('arrived with an artist, to get optical device')\n",
    "#ss.get_clue_hints('part of garment could be yellow, we hear')"
   ]
  },
  {
   "cell_type": "code",
   "execution_count": 50,
   "id": "b96fac67-6f7f-4bca-a2dd-43faafa1508a",
   "metadata": {
    "editable": true,
    "slideshow": {
     "slide_type": ""
    },
    "tags": []
   },
   "outputs": [
    {
     "data": {
      "text/plain": [
       "[('at heart', ['SUBSTRING']),\n",
       " ('disheartened', ['SUBSTRING']),\n",
       " ('heartless', ['SUBSTRING']),\n",
       " ('losing heart', ['SUBSTRING']),\n",
       " ('according to hearsay', ['HOMOPHONE']),\n",
       " ('as we hear', ['HOMOPHONE']),\n",
       " ('heard', ['HOMOPHONE']),\n",
       " ('hearing', ['HOMOPHONE']),\n",
       " ('overheard', ['HOMOPHONE']),\n",
       " ('we hear', ['HOMOPHONE'])]"
      ]
     },
     "execution_count": 50,
     "metadata": {},
     "output_type": "execute_result"
    }
   ],
   "source": [
    "[(k,arr) for k,arr in ss.actions.phrase_to_action.items() if 'hear' in k]"
   ]
  },
  {
   "cell_type": "code",
   "execution_count": null,
   "id": "6f4ed194-7f0e-4962-865b-09d021b81963",
   "metadata": {},
   "outputs": [],
   "source": []
  },
  {
   "cell_type": "markdown",
   "id": "354fde8c-55f1-4c4d-9260-d6793777d13b",
   "metadata": {
    "editable": true,
    "slideshow": {
     "slide_type": ""
    },
    "tags": []
   },
   "source": [
    "## Bringing all functions together"
   ]
  },
  {
   "cell_type": "code",
   "execution_count": 51,
   "id": "947d76dc-f3c2-4390-9644-f1ea3837e96e",
   "metadata": {
    "editable": true,
    "slideshow": {
     "slide_type": ""
    },
    "tags": []
   },
   "outputs": [
    {
     "name": "stdout",
     "output_type": "stream",
     "text": [
      "\n",
      "#REWRITE#:0:START::\n",
      "A Cryptic crossword question involves using the words in the given clue to yield an answer that matches the letter pattern.  \n",
      "The clue will provide a definition of the answer, as well as some 'wordplay' that can also be used to confirm the answer.  \n",
      "Expert question solvers write informal 'proofs' using a particular format.\n",
      "\n",
      "For the definition, the original clue is annotated with '{}' to denote where the definition is to be found.\n",
      "For the wordplay, the following conventions are loosely used:\n",
      "* The answer is assembled from the letters in CAPS\n",
      "* Words in brackets show the origins of letters in CAPS, often being synonyms, or short forms \n",
      "* Action words are annotated as illustrated:\n",
      "  + (ETO N)* (*mad = anagram-signifier) = TONE\n",
      "  + (FO OR)< (<back = reversal-signifier) = ROOF\n",
      "  + [re]USE (missing = removal-signifier) = USE\n",
      "* DD is a shorthand for 'Double Definition'\n",
      "\n",
      "For example:\n",
      "---\n",
      "clue: \"arrived with an artist, to get optical device (6)\"\n",
      "definition: arrived with an artist, to get {optical device}\n",
      "answer: CAMERA\n",
      "wordplay: CAME (arrived) + RA (artist, short form)\n",
      "---\n",
      "\n",
      "---PARTSEP---\n",
      "\n",
      "The task is to produce a formal proof using python code, where the docstring will also include an informal proof as an aid.\n",
      "The following are functions that can be used in your output code:\n",
      "\n",
      "---PARTSEP---\n",
      "```python\n",
      "Action = Enum('Action', 'ANAGRAM,REMOVE_FIRST,INITIALS,REMOVE_LAST,GOES_INSIDE,GOES_OUTSIDE,REVERSE,SUBSTRING,HOMOPHONE')\n",
      "# External definitions\n",
      "def is_synonym(phrase:str, test_synonym:str, pattern:str='') -> bool:\n",
      "  # Determines whether 'test_synonym' is a reasonable synonym for 'phrase', with letters optionally matching 'pattern'\n",
      "  return True # defined elsewhere\n",
      "def is_abbreviation(phrase:str, test_abbreviation:str) -> bool:\n",
      "  # Determines whether 'test_abbreviation' is a valid abbreviation or short form for 'phrase'\n",
      "  return True # defined elsewhere\n",
      "def action_type(phrase:str, action:Action) -> bool:\n",
      "  # Determines whether 'phrase' might signify the given 'action'\n",
      "  return True # defined elsewhere\n",
      "def is_anagram(letters:str, word:str) -> bool:\n",
      "  # Determines whether 'word' can be formed from 'letters' (i.e. is an anagram)\n",
      "  return True # defined elsewhere\n",
      "def is_homophone(phrase:str, test_homophone:str) -> bool:\n",
      "  # Determines whether 'test_homophone' sounds like 'phrase'\n",
      "  return True # defined elsewhere\n",
      "```\n",
      "---PARTSEP---\n",
      "\n",
      "The following are examples of simple functions that prove that each puzzle solution is correct:\n",
      "---PARTSEP---\n",
      "\n",
      "```python\n",
      "def proof(answer=\"ONCE\", clue=\"head decapitated long ago\", pattern='4'):\n",
      "  \"\"\"\n",
      "  definition: head decapitated {long ago}\n",
      "  wordplay: [b]ONCE (head decapitated = remove first letter of BONCE) \n",
      "  \"\"\"\n",
      "  assert is_synonym(\"head\", \"BONCE\")\n",
      "  assert action_type(\"decapitated\", Action.REMOVE_FIRST) and \"BONCE\"[1:]==\"ONCE\"\n",
      "  assert is_synonym(\"long ago\", \"ONCE\", pattern='4')\n",
      "proof()\n",
      "```\n",
      "---PARTSEP---\n",
      "\n",
      "```python\n",
      "def proof(answer=\"DECIMAL\", clue=\"the point of medical treatment\", pattern='7'):\n",
      "  \"\"\"\n",
      "  definition: {the point} of medical treatment\n",
      "  wordplay: (MEDICAL)* (*treatment = anagram) \n",
      "  \"\"\"\n",
      "  assert is_synonym(\"the point\", \"DECIMAL\", pattern='7')\n",
      "  assert action_type(\"treatment\", Action.ANAGRAM)\n",
      "  assert is_anagram(\"MEDICAL\", \"DECIMAL\")\n",
      "proof()\n",
      "```\n",
      "---PARTSEP---\n",
      "\n",
      "```python\n",
      "def proof(answer=\"YOKE\", clue=\"part of garment could be yellow, we hear\", pattern='4'):\n",
      "  \"\"\"\n",
      "  definition: {part of garment} could be yellow, we hear\n",
      "  wordplay: (we hear = homophone) of YOLK (which is yellow) \n",
      "  \"\"\"\n",
      "  assert is_synonym(\"part of garment\", \"YOKE\", pattern='4')\n",
      "  assert is_synomym(\"yellow\", \"YOLK\")\n",
      "  assert action_type(\"we hear\", Action.HOMOPHONE)\n",
      "  assert is_homophone(\"YOLK\", \"YOKE\")\n",
      "proof()\n",
      "```\n",
      "---PARTSEP---\n",
      "\n",
      "```python\n",
      "def proof(answer=\"RELIABLE\", clue=\"dependable about being under an obligation?\", pattern='8'):\n",
      "  \"\"\"\n",
      "  definition: {dependable} about being under an obligation?\n",
      "  wordplay: RE (about) + LIABLE (being under an obligation) \n",
      "  \"\"\"\n",
      "  assert is_synonym(\"dependable\", \"RELIABLE\", pattern='8')\n",
      "  assert is_abbreviation(\"about\", \"RE\")\n",
      "  assert is_synonym(\"being under an obligation\", \"LIABLE\")\n",
      "  assert \"RE\"+\"LIABLE\"==\"RELIABLE\"\n",
      "proof()\n",
      "```\n",
      "---PARTSEP---\n",
      "\n",
      "```python\n",
      "def proof(answer=\"DELINEATE\", clue=\"sketch produced by aileen and ted\", pattern='9'):\n",
      "  \"\"\"\n",
      "  definition: {sketch} produced by aileen and ted\n",
      "  wordplay: (AILEEN + TED)* (*produced by = anagram) \n",
      "  \"\"\"\n",
      "  assert is_synonym(\"sketch\", \"DELINEATE\", pattern='9')\n",
      "  assert action_type(\"produced by\", Action.ANAGRAM)\n",
      "  assert \"AILEEN\"+\"TED\"==\"AILEENTED\"\n",
      "  assert is_anagram(\"AILEENTED\", \"DELINEATE\")\n",
      "proof()\n",
      "```\n",
      "---PARTSEP---\n",
      "\n",
      "```python\n",
      "def proof(answer=\"SUPERMARKET\", clue=\"fat bags for every brand that’s a big seller\", pattern='11'):\n",
      "  \"\"\"\n",
      "  definition: fat bags for every brand that’s {a big seller}\n",
      "  wordplay: SUET (fat) (bags = goes outside) of (PER (for every) + MARK (brand)) \n",
      "  \"\"\"\n",
      "  assert is_synomym(\"fat\", \"SUET\")\n",
      "  assert action_type(\"bags\", Action.IS_OUTSIDE)\n",
      "  assert \"SUET\" == \"SU\" + \"ET\"\n",
      "  assert is_abbreviation(\"for every\", \"PER\")\n",
      "  assert is_synomym(\"brand\", \"MARK\")\n",
      "  assert \"SU\"+\"PER\"+\"MARK\"+\"ET\" == \"SUPERMARKET\"\n",
      "  assert is_synonym(\"a big seller\", \"SUPERMARKET\", pattern='11')\n",
      "proof()\n",
      "```\n",
      "---PARTSEP---\n",
      "\n",
      "# Please complete the following in a similar manner, and return the whole function:\n",
      "```python\n",
      "def proof(answer=\"CAMERA\", clue=\"arrived with an artist, to get optical device\", pattern='6'):\n",
      "  \"\"\"\n",
      "  definition: arrived with an artist, to get {optical device}\n",
      "  wordplay: \n",
      "#END#\n",
      "#REWRITE#:0:RESPONSE:(WHOLE)::\n",
      "```python\n",
      "def proof(answer=\"CAMERA\", clue=\"arrived with an artist, to get optical device\", pattern='6'):\n",
      "  \"\"\"\n",
      "  definition: arrived with an artist, to get {optical device}\n",
      "  wordplay: CAME (arrived) + RA (artist, short form)\n",
      "  \"\"\"\n",
      "  assert is_synonym(\"arrived\", \"CAME\")\n",
      "  assert is_abbreviation(\"artist\", \"RA\")\n",
      "  assert \"CAME\"+\"RA\" == \"CAMERA\"\n",
      "  assert is_synonym(\"optical device\", \"CAMERA\", pattern='6')\n",
      "proof()\n",
      "```\n",
      "#END#\n",
      "#REWRITE#:0:RESPONSE:(PY)::\n",
      "def proof(answer=\"CAMERA\", clue=\"arrived with an artist, to get optical device\", pattern='6'):\n",
      "  \"\"\"\n",
      "  definition: arrived with an artist, to get {optical device}\n",
      "  wordplay: CAME (arrived) + RA (artist, short form)\n",
      "  \"\"\"\n",
      "  assert is_synonym(\"arrived\", \"CAME\")\n",
      "  assert is_abbreviation(\"artist\", \"RA\")\n",
      "  assert \"CAME\"+\"RA\" == \"CAMERA\"\n",
      "  assert is_synonym(\"optical device\", \"CAMERA\", pattern='6')\n",
      "\n",
      "#END#\n",
      "#REWRITE#:0:ERROR TRACE ::\n",
      "AssertionError: is_synonym(\"arrived\", \"CAME\") : Error 111 connecting to localhost:6379. Connection refused.\n",
      "AssertionError: is_synonym(\"optical device\", \"CAMERA\", pattern='6') : Error 111 connecting to localhost:6379. Connection refused.\n",
      "#END#\n",
      "#REWRITE#:0:END\n",
      "#REWRITE#:1:START::\n",
      "A Cryptic crossword question involves using the words in the given clue to yield an answer that matches the letter pattern.  \n",
      "The clue will provide a definition of the answer, as well as some 'wordplay' that can also be used to confirm the answer.  \n",
      "Expert question solvers write informal 'proofs' using a particular format.\n",
      "\n",
      "For the definition, the original clue is annotated with '{}' to denote where the definition is to be found.\n",
      "For the wordplay, the following conventions are loosely used:\n",
      "* The answer is assembled from the letters in CAPS\n",
      "* Words in brackets show the origins of letters in CAPS, often being synonyms, or short forms \n",
      "* Action words are annotated as illustrated:\n",
      "  + (ETO N)* (*mad = anagram-signifier) = TONE\n",
      "  + (FO OR)< (<back = reversal-signifier) = ROOF\n",
      "  + [re]USE (missing = removal-signifier) = USE\n",
      "* DD is a shorthand for 'Double Definition'\n",
      "\n",
      "For example:\n",
      "---\n",
      "clue: \"arrived with an artist, to get optical device (6)\"\n",
      "definition: arrived with an artist, to get {optical device}\n",
      "answer: CAMERA\n",
      "wordplay: CAME (arrived) + RA (artist, short form)\n",
      "---\n",
      "\n",
      "---PARTSEP---\n",
      "\n",
      "The task is to produce a formal proof using python code, where the docstring will also include an informal proof as an aid.\n",
      "The following are functions that can be used in your output code:\n",
      "\n",
      "---PARTSEP---\n",
      "```python\n",
      "Action = Enum('Action', 'ANAGRAM,REMOVE_FIRST,INITIALS,REMOVE_LAST,GOES_INSIDE,GOES_OUTSIDE,REVERSE,SUBSTRING,HOMOPHONE')\n",
      "# External definitions\n",
      "def is_synonym(phrase:str, test_synonym:str, pattern:str='') -> bool:\n",
      "  # Determines whether 'test_synonym' is a reasonable synonym for 'phrase', with letters optionally matching 'pattern'\n",
      "  return True # defined elsewhere\n",
      "def is_abbreviation(phrase:str, test_abbreviation:str) -> bool:\n",
      "  # Determines whether 'test_abbreviation' is a valid abbreviation or short form for 'phrase'\n",
      "  return True # defined elsewhere\n",
      "def action_type(phrase:str, action:Action) -> bool:\n",
      "  # Determines whether 'phrase' might signify the given 'action'\n",
      "  return True # defined elsewhere\n",
      "def is_anagram(letters:str, word:str) -> bool:\n",
      "  # Determines whether 'word' can be formed from 'letters' (i.e. is an anagram)\n",
      "  return True # defined elsewhere\n",
      "def is_homophone(phrase:str, test_homophone:str) -> bool:\n",
      "  # Determines whether 'test_homophone' sounds like 'phrase'\n",
      "  return True # defined elsewhere\n",
      "```\n",
      "---PARTSEP---\n",
      "\n",
      "The following are examples of simple functions that prove that each puzzle solution is correct:\n",
      "---PARTSEP---\n",
      "\n",
      "```python\n",
      "def proof(answer=\"ONCE\", clue=\"head decapitated long ago\", pattern='4'):\n",
      "  \"\"\"\n",
      "  definition: head decapitated {long ago}\n",
      "  wordplay: [b]ONCE (head decapitated = remove first letter of BONCE) \n",
      "  \"\"\"\n",
      "  assert is_synonym(\"head\", \"BONCE\")\n",
      "  assert action_type(\"decapitated\", Action.REMOVE_FIRST) and \"BONCE\"[1:]==\"ONCE\"\n",
      "  assert is_synonym(\"long ago\", \"ONCE\", pattern='4')\n",
      "proof()\n",
      "```\n",
      "---PARTSEP---\n",
      "\n",
      "```python\n",
      "def proof(answer=\"DECIMAL\", clue=\"the point of medical treatment\", pattern='7'):\n",
      "  \"\"\"\n",
      "  definition: {the point} of medical treatment\n",
      "  wordplay: (MEDICAL)* (*treatment = anagram) \n",
      "  \"\"\"\n",
      "  assert is_synonym(\"the point\", \"DECIMAL\", pattern='7')\n",
      "  assert action_type(\"treatment\", Action.ANAGRAM)\n",
      "  assert is_anagram(\"MEDICAL\", \"DECIMAL\")\n",
      "proof()\n",
      "```\n",
      "---PARTSEP---\n",
      "\n",
      "```python\n",
      "def proof(answer=\"YOKE\", clue=\"part of garment could be yellow, we hear\", pattern='4'):\n",
      "  \"\"\"\n",
      "  definition: {part of garment} could be yellow, we hear\n",
      "  wordplay: (we hear = homophone) of YOLK (which is yellow) \n",
      "  \"\"\"\n",
      "  assert is_synonym(\"part of garment\", \"YOKE\", pattern='4')\n",
      "  assert is_synomym(\"yellow\", \"YOLK\")\n",
      "  assert action_type(\"we hear\", Action.HOMOPHONE)\n",
      "  assert is_homophone(\"YOLK\", \"YOKE\")\n",
      "proof()\n",
      "```\n",
      "---PARTSEP---\n",
      "\n",
      "```python\n",
      "def proof(answer=\"RELIABLE\", clue=\"dependable about being under an obligation?\", pattern='8'):\n",
      "  \"\"\"\n",
      "  definition: {dependable} about being under an obligation?\n",
      "  wordplay: RE (about) + LIABLE (being under an obligation) \n",
      "  \"\"\"\n",
      "  assert is_synonym(\"dependable\", \"RELIABLE\", pattern='8')\n",
      "  assert is_abbreviation(\"about\", \"RE\")\n",
      "  assert is_synonym(\"being under an obligation\", \"LIABLE\")\n",
      "  assert \"RE\"+\"LIABLE\"==\"RELIABLE\"\n",
      "proof()\n",
      "```\n",
      "---PARTSEP---\n",
      "\n",
      "```python\n",
      "def proof(answer=\"DELINEATE\", clue=\"sketch produced by aileen and ted\", pattern='9'):\n",
      "  \"\"\"\n",
      "  definition: {sketch} produced by aileen and ted\n",
      "  wordplay: (AILEEN + TED)* (*produced by = anagram) \n",
      "  \"\"\"\n",
      "  assert is_synonym(\"sketch\", \"DELINEATE\", pattern='9')\n",
      "  assert action_type(\"produced by\", Action.ANAGRAM)\n",
      "  assert \"AILEEN\"+\"TED\"==\"AILEENTED\"\n",
      "  assert is_anagram(\"AILEENTED\", \"DELINEATE\")\n",
      "proof()\n",
      "```\n",
      "---PARTSEP---\n",
      "\n",
      "```python\n",
      "def proof(answer=\"SUPERMARKET\", clue=\"fat bags for every brand that’s a big seller\", pattern='11'):\n",
      "  \"\"\"\n",
      "  definition: fat bags for every brand that’s {a big seller}\n",
      "  wordplay: SUET (fat) (bags = goes outside) of (PER (for every) + MARK (brand)) \n",
      "  \"\"\"\n",
      "  assert is_synomym(\"fat\", \"SUET\")\n",
      "  assert action_type(\"bags\", Action.IS_OUTSIDE)\n",
      "  assert \"SUET\" == \"SU\" + \"ET\"\n",
      "  assert is_abbreviation(\"for every\", \"PER\")\n",
      "  assert is_synomym(\"brand\", \"MARK\")\n",
      "  assert \"SU\"+\"PER\"+\"MARK\"+\"ET\" == \"SUPERMARKET\"\n",
      "  assert is_synonym(\"a big seller\", \"SUPERMARKET\", pattern='11')\n",
      "proof()\n",
      "```\n",
      "---PARTSEP---\n",
      "\n",
      "# The following draft code SOLUTION was returned for a newly posed problem:\n",
      "```python\n",
      "def proof(answer=\"CAMERA\", clue=\"arrived with an artist, to get optical device\", pattern='6'):\n",
      "  \"\"\"\n",
      "  definition: arrived with an artist, to get {optical device}\n",
      "  wordplay: CAME (arrived) + RA (artist, short form)\n",
      "  \"\"\"\n",
      "  assert is_synonym(\"arrived\", \"CAME\")\n",
      "  assert is_abbreviation(\"artist\", \"RA\")\n",
      "  assert \"CAME\"+\"RA\" == \"CAMERA\"\n",
      "  assert is_synonym(\"optical device\", \"CAMERA\", pattern='6')\n",
      "proof()\n",
      "```\n",
      "---PARTSEP---\n",
      "\n",
      "# PROBLEM : the SOLUTION above failed because of the following reported errors (python assertions without errors were valid):\n",
      "```\n",
      "AssertionError: is_synonym(\"arrived\", \"CAME\") : Error 111 connecting to localhost:6379. Connection refused.\n",
      "AssertionError: is_synonym(\"optical device\", \"CAMERA\", pattern='6') : Error 111 connecting to localhost:6379. Connection refused.\n",
      "```\n",
      "---PARTSEP---\n",
      "\n",
      "# Please re-implement the SOLUTION above (altering both the docstring and the python code as required), taking care to fix each of the problems identified, and return the whole function:\n",
      "```python\n",
      "def proof(answer=\"CAMERA\", clue=\"arrived with an artist, to get optical device\", pattern='6'):\n",
      "  \"\"\"\n",
      "  definition: arrived with an artist, to get {optical device}\n",
      "  wordplay: \n",
      "\n",
      "#END#\n",
      "#REWRITE#:1:RESPONSE:(WHOLE)::\n",
      "```python\n",
      "def proof(answer=\"CAMERA\", clue=\"arrived with an artist, to get optical device\", pattern='6'):\n",
      "  \"\"\"\n",
      "  definition: arrived with an artist, to get {optical device}\n",
      "  wordplay: CAME (arrived) + RA (artist, short form)\n",
      "  \"\"\"\n",
      "  assert is_synonym(\"arrived\", \"CAME\")\n",
      "  assert is_abbreviation(\"artist\", \"RA\")\n",
      "  assert \"CAME\"+\"RA\" == \"CAMERA\"\n",
      "  assert is_synonym(\"optical device\", \"CAMERA\", pattern='6')\n",
      "proof()\n",
      "```\n",
      "#END#\n",
      "#REWRITE#:1:RESPONSE:(PY)::\n",
      "def proof(answer=\"CAMERA\", clue=\"arrived with an artist, to get optical device\", pattern='6'):\n",
      "  \"\"\"\n",
      "  definition: arrived with an artist, to get {optical device}\n",
      "  wordplay: CAME (arrived) + RA (artist, short form)\n",
      "  \"\"\"\n",
      "  assert is_synonym(\"arrived\", \"CAME\")\n",
      "  assert is_abbreviation(\"artist\", \"RA\")\n",
      "  assert \"CAME\"+\"RA\" == \"CAMERA\"\n",
      "  assert is_synonym(\"optical device\", \"CAMERA\", pattern='6')\n",
      "\n",
      "#END#\n",
      "#REWRITE#:1:ERROR TRACE ::\n",
      "AssertionError: is_synonym(\"arrived\", \"CAME\") : Error 111 connecting to localhost:6379. Connection refused.\n",
      "AssertionError: is_synonym(\"optical device\", \"CAMERA\", pattern='6') : Error 111 connecting to localhost:6379. Connection refused.\n",
      "#END#\n",
      "#REWRITE#:1:END\n",
      "#REWRITE#:2:START::\n",
      "A Cryptic crossword question involves using the words in the given clue to yield an answer that matches the letter pattern.  \n",
      "The clue will provide a definition of the answer, as well as some 'wordplay' that can also be used to confirm the answer.  \n",
      "Expert question solvers write informal 'proofs' using a particular format.\n",
      "\n",
      "For the definition, the original clue is annotated with '{}' to denote where the definition is to be found.\n",
      "For the wordplay, the following conventions are loosely used:\n",
      "* The answer is assembled from the letters in CAPS\n",
      "* Words in brackets show the origins of letters in CAPS, often being synonyms, or short forms \n",
      "* Action words are annotated as illustrated:\n",
      "  + (ETO N)* (*mad = anagram-signifier) = TONE\n",
      "  + (FO OR)< (<back = reversal-signifier) = ROOF\n",
      "  + [re]USE (missing = removal-signifier) = USE\n",
      "* DD is a shorthand for 'Double Definition'\n",
      "\n",
      "For example:\n",
      "---\n",
      "clue: \"arrived with an artist, to get optical device (6)\"\n",
      "definition: arrived with an artist, to get {optical device}\n",
      "answer: CAMERA\n",
      "wordplay: CAME (arrived) + RA (artist, short form)\n",
      "---\n",
      "\n",
      "---PARTSEP---\n",
      "\n",
      "The task is to produce a formal proof using python code, where the docstring will also include an informal proof as an aid.\n",
      "The following are functions that can be used in your output code:\n",
      "\n",
      "---PARTSEP---\n",
      "```python\n",
      "Action = Enum('Action', 'ANAGRAM,REMOVE_FIRST,INITIALS,REMOVE_LAST,GOES_INSIDE,GOES_OUTSIDE,REVERSE,SUBSTRING,HOMOPHONE')\n",
      "# External definitions\n",
      "def is_synonym(phrase:str, test_synonym:str, pattern:str='') -> bool:\n",
      "  # Determines whether 'test_synonym' is a reasonable synonym for 'phrase', with letters optionally matching 'pattern'\n",
      "  return True # defined elsewhere\n",
      "def is_abbreviation(phrase:str, test_abbreviation:str) -> bool:\n",
      "  # Determines whether 'test_abbreviation' is a valid abbreviation or short form for 'phrase'\n",
      "  return True # defined elsewhere\n",
      "def action_type(phrase:str, action:Action) -> bool:\n",
      "  # Determines whether 'phrase' might signify the given 'action'\n",
      "  return True # defined elsewhere\n",
      "def is_anagram(letters:str, word:str) -> bool:\n",
      "  # Determines whether 'word' can be formed from 'letters' (i.e. is an anagram)\n",
      "  return True # defined elsewhere\n",
      "def is_homophone(phrase:str, test_homophone:str) -> bool:\n",
      "  # Determines whether 'test_homophone' sounds like 'phrase'\n",
      "  return True # defined elsewhere\n",
      "```\n",
      "---PARTSEP---\n",
      "\n",
      "The following are examples of simple functions that prove that each puzzle solution is correct:\n",
      "---PARTSEP---\n",
      "\n",
      "```python\n",
      "def proof(answer=\"ONCE\", clue=\"head decapitated long ago\", pattern='4'):\n",
      "  \"\"\"\n",
      "  definition: head decapitated {long ago}\n",
      "  wordplay: [b]ONCE (head decapitated = remove first letter of BONCE) \n",
      "  \"\"\"\n",
      "  assert is_synonym(\"head\", \"BONCE\")\n",
      "  assert action_type(\"decapitated\", Action.REMOVE_FIRST) and \"BONCE\"[1:]==\"ONCE\"\n",
      "  assert is_synonym(\"long ago\", \"ONCE\", pattern='4')\n",
      "proof()\n",
      "```\n",
      "---PARTSEP---\n",
      "\n",
      "```python\n",
      "def proof(answer=\"DECIMAL\", clue=\"the point of medical treatment\", pattern='7'):\n",
      "  \"\"\"\n",
      "  definition: {the point} of medical treatment\n",
      "  wordplay: (MEDICAL)* (*treatment = anagram) \n",
      "  \"\"\"\n",
      "  assert is_synonym(\"the point\", \"DECIMAL\", pattern='7')\n",
      "  assert action_type(\"treatment\", Action.ANAGRAM)\n",
      "  assert is_anagram(\"MEDICAL\", \"DECIMAL\")\n",
      "proof()\n",
      "```\n",
      "---PARTSEP---\n",
      "\n",
      "```python\n",
      "def proof(answer=\"YOKE\", clue=\"part of garment could be yellow, we hear\", pattern='4'):\n",
      "  \"\"\"\n",
      "  definition: {part of garment} could be yellow, we hear\n",
      "  wordplay: (we hear = homophone) of YOLK (which is yellow) \n",
      "  \"\"\"\n",
      "  assert is_synonym(\"part of garment\", \"YOKE\", pattern='4')\n",
      "  assert is_synomym(\"yellow\", \"YOLK\")\n",
      "  assert action_type(\"we hear\", Action.HOMOPHONE)\n",
      "  assert is_homophone(\"YOLK\", \"YOKE\")\n",
      "proof()\n",
      "```\n",
      "---PARTSEP---\n",
      "\n",
      "```python\n",
      "def proof(answer=\"RELIABLE\", clue=\"dependable about being under an obligation?\", pattern='8'):\n",
      "  \"\"\"\n",
      "  definition: {dependable} about being under an obligation?\n",
      "  wordplay: RE (about) + LIABLE (being under an obligation) \n",
      "  \"\"\"\n",
      "  assert is_synonym(\"dependable\", \"RELIABLE\", pattern='8')\n",
      "  assert is_abbreviation(\"about\", \"RE\")\n",
      "  assert is_synonym(\"being under an obligation\", \"LIABLE\")\n",
      "  assert \"RE\"+\"LIABLE\"==\"RELIABLE\"\n",
      "proof()\n",
      "```\n",
      "---PARTSEP---\n",
      "\n",
      "```python\n",
      "def proof(answer=\"DELINEATE\", clue=\"sketch produced by aileen and ted\", pattern='9'):\n",
      "  \"\"\"\n",
      "  definition: {sketch} produced by aileen and ted\n",
      "  wordplay: (AILEEN + TED)* (*produced by = anagram) \n",
      "  \"\"\"\n",
      "  assert is_synonym(\"sketch\", \"DELINEATE\", pattern='9')\n",
      "  assert action_type(\"produced by\", Action.ANAGRAM)\n",
      "  assert \"AILEEN\"+\"TED\"==\"AILEENTED\"\n",
      "  assert is_anagram(\"AILEENTED\", \"DELINEATE\")\n",
      "proof()\n",
      "```\n",
      "---PARTSEP---\n",
      "\n",
      "```python\n",
      "def proof(answer=\"SUPERMARKET\", clue=\"fat bags for every brand that’s a big seller\", pattern='11'):\n",
      "  \"\"\"\n",
      "  definition: fat bags for every brand that’s {a big seller}\n",
      "  wordplay: SUET (fat) (bags = goes outside) of (PER (for every) + MARK (brand)) \n",
      "  \"\"\"\n",
      "  assert is_synomym(\"fat\", \"SUET\")\n",
      "  assert action_type(\"bags\", Action.IS_OUTSIDE)\n",
      "  assert \"SUET\" == \"SU\" + \"ET\"\n",
      "  assert is_abbreviation(\"for every\", \"PER\")\n",
      "  assert is_synomym(\"brand\", \"MARK\")\n",
      "  assert \"SU\"+\"PER\"+\"MARK\"+\"ET\" == \"SUPERMARKET\"\n",
      "  assert is_synonym(\"a big seller\", \"SUPERMARKET\", pattern='11')\n",
      "proof()\n",
      "```\n",
      "---PARTSEP---\n",
      "\n",
      "# The following draft code SOLUTION was returned for a newly posed problem:\n",
      "```python\n",
      "def proof(answer=\"CAMERA\", clue=\"arrived with an artist, to get optical device\", pattern='6'):\n",
      "  \"\"\"\n",
      "  definition: arrived with an artist, to get {optical device}\n",
      "  wordplay: CAME (arrived) + RA (artist, short form)\n",
      "  \"\"\"\n",
      "  assert is_synonym(\"arrived\", \"CAME\")\n",
      "  assert is_abbreviation(\"artist\", \"RA\")\n",
      "  assert \"CAME\"+\"RA\" == \"CAMERA\"\n",
      "  assert is_synonym(\"optical device\", \"CAMERA\", pattern='6')\n",
      "proof()\n",
      "```\n",
      "---PARTSEP---\n",
      "\n",
      "# PROBLEM : the SOLUTION above failed because of the following reported errors (python assertions without errors were valid):\n",
      "```\n",
      "AssertionError: is_synonym(\"arrived\", \"CAME\") : Error 111 connecting to localhost:6379. Connection refused.\n",
      "AssertionError: is_synonym(\"optical device\", \"CAMERA\", pattern='6') : Error 111 connecting to localhost:6379. Connection refused.\n",
      "```\n",
      "---PARTSEP---\n",
      "\n",
      "# Please re-implement the SOLUTION above (altering both the docstring and the python code as required), taking care to fix each of the problems identified, and return the whole function:\n",
      "```python\n",
      "def proof(answer=\"CAMERA\", clue=\"arrived with an artist, to get optical device\", pattern='6'):\n",
      "  \"\"\"\n",
      "  definition: arrived with an artist, to get {optical device}\n",
      "  wordplay: \n",
      "\n",
      "#END#\n",
      "#REWRITE#:2:RESPONSE:(WHOLE)::\n",
      "```python\n",
      "def proof(answer=\"CAMERA\", clue=\"arrived with an artist, to get optical device\", pattern='6'):\n",
      "  \"\"\"\n",
      "  definition: arrived with an artist, to get {optical device}\n",
      "  wordplay: CAME (arrived) + RA (artist, short form)\n",
      "  \"\"\"\n",
      "  assert is_synonym(\"arrived\", \"CAME\")\n",
      "  assert is_abbreviation(\"artist\", \"RA\")\n",
      "  assert \"CAME\"+\"RA\" == \"CAMERA\"\n",
      "  assert is_synonym(\"optical device\", \"CAMERA\", pattern='6')\n",
      "proof()\n",
      "```\n",
      "#END#\n",
      "#REWRITE#:2:RESPONSE:(PY)::\n",
      "def proof(answer=\"CAMERA\", clue=\"arrived with an artist, to get optical device\", pattern='6'):\n",
      "  \"\"\"\n",
      "  definition: arrived with an artist, to get {optical device}\n",
      "  wordplay: CAME (arrived) + RA (artist, short form)\n",
      "  \"\"\"\n",
      "  assert is_synonym(\"arrived\", \"CAME\")\n",
      "  assert is_abbreviation(\"artist\", \"RA\")\n",
      "  assert \"CAME\"+\"RA\" == \"CAMERA\"\n",
      "  assert is_synonym(\"optical device\", \"CAMERA\", pattern='6')\n",
      "\n",
      "#END#\n",
      "#REWRITE#:2:ERROR TRACE ::\n",
      "AssertionError: is_synonym(\"arrived\", \"CAME\") : Error 111 connecting to localhost:6379. Connection refused.\n",
      "AssertionError: is_synonym(\"optical device\", \"CAMERA\", pattern='6') : Error 111 connecting to localhost:6379. Connection refused.\n",
      "#END#\n",
      "#REWRITE#:2:END"
     ]
    },
    {
     "data": {
      "text/plain": [
       "-1"
      ]
     },
     "execution_count": 51,
     "metadata": {},
     "output_type": "execute_result"
    }
   ],
   "source": [
    "prompts.iteratively_answer(base_model, solver_config, \n",
    "                           \"arrived with an artist, to get {optical device}\", answer=\"CAMERA\",\n",
    "                           #\"{research} done, primarily, on most of magical beings\", answer=\"DELVE\",\n",
    "                           #wordplay=\"D[one] (primarily) (most of) ELVE[s] (magical beings)\",\n",
    "                           max_rewrites=2, add_wordplay_hints=False,\n",
    "                           wordplay_rubric='./wordplay/rubric-and-single-ex.txt',\n",
    "                          )"
   ]
  },
  {
   "cell_type": "code",
   "execution_count": null,
   "id": "19886688-4a53-4dcb-b1b5-00abbe28450c",
   "metadata": {
    "editable": true,
    "slideshow": {
     "slide_type": ""
    },
    "tags": []
   },
   "outputs": [],
   "source": []
  },
  {
   "cell_type": "markdown",
   "id": "6468ec55-7956-49e0-ba68-1b1b668e05a7",
   "metadata": {
    "editable": true,
    "slideshow": {
     "slide_type": ""
    },
    "tags": []
   },
   "source": [
    "## Ready for the main experimental runs"
   ]
  },
  {
   "cell_type": "code",
   "execution_count": 54,
   "id": "038632c3-4746-4ac1-a9f8-296ebf5c6fe4",
   "metadata": {
    "editable": true,
    "slideshow": {
     "slide_type": ""
    },
    "tags": []
   },
   "outputs": [
    {
     "data": {
      "text/plain": [
       "'DONE'"
      ]
     },
     "execution_count": 54,
     "metadata": {},
     "output_type": "execute_result"
    }
   ],
   "source": [
    "#def load_dataset(split): # train, val, test\n",
    "#  d=[]\n",
    "#  with open(f'./data_orig/cryptonite-{split}.jsonl', 'rt') as f:\n",
    "#    for l in f.readlines():\n",
    "#      d.append(json.loads(l))\n",
    "#  return d\n",
    "#from solver.dataset import load_cryptonite_dataset, get_shuffled_idx\n",
    "import solver.dataset\n",
    "data_train = solver.dataset.load_cryptonite_dataset('train')   \n",
    "\"DONE\""
   ]
  },
  {
   "cell_type": "code",
   "execution_count": 55,
   "id": "a1e98780-a2eb-4f59-b582-6be7a10f1d90",
   "metadata": {
    "editable": true,
    "slideshow": {
     "slide_type": ""
    },
    "tags": []
   },
   "outputs": [
    {
     "data": {
      "text/plain": [
       "('DONE', [411481, 73840, 90496, 331723, 393135])"
      ]
     },
     "execution_count": 55,
     "metadata": {},
     "output_type": "execute_result"
    }
   ],
   "source": [
    "shuffled_idx_train = solver.dataset.get_shuffled_idx(data_train, seed=1234)\n",
    "\"DONE\", shuffled_idx_train[:5]"
   ]
  },
  {
   "cell_type": "code",
   "execution_count": 13,
   "id": "b7d06829-57dd-4b2a-ac10-f1dab954adaa",
   "metadata": {
    "editable": true,
    "incorrectly_encoded_metadata": "{name}/{train,val}/{idx // 1000}/{idx mod 1000}_{iter}.txt",
    "slideshow": {
     "slide_type": ""
    },
    "tags": [],
    "title": "File structure: ./experiments/"
   },
   "outputs": [],
   "source": [
    "def log_file_name(name='base', split='train', idx=0, iter=0):  \n",
    "  pth=f\"./experiments/{name}/{split}/{(idx//1000):03d}\"\n",
    "  os.makedirs(pth, exist_ok=True)\n",
    "  return f'{pth}/{(idx % 1000):03d}_{iter:02d}.log'"
   ]
  },
  {
   "cell_type": "code",
   "execution_count": 57,
   "id": "38aae700-31bc-407b-afd6-7b78b1f6d3a5",
   "metadata": {
    "editable": true,
    "slideshow": {
     "slide_type": ""
    },
    "tags": []
   },
   "outputs": [
    {
     "data": {
      "text/plain": [
       "'DONE'"
      ]
     },
     "execution_count": 57,
     "metadata": {},
     "output_type": "execute_result"
    }
   ],
   "source": [
    "def run_experiment(name, data, shuffled_idx, split, samples=1, examples=10):\n",
    "  experiment_names_1 = '|norewrites|1rewrite|norewrites-manywordplay|1rewrite-manywordplay|'.split('|')\n",
    "  experiment_names_2 = '|1rewrite-manywordplay-guessdef|'.split('|')\n",
    "  experiment_names_3 = '|norewrites-manywordplay-usewordplay|1rewrite-manywordplay-usewordplay|5rewrites-manywordplay-usewordplay|'.split('|')\n",
    "  if not name in experiment_names_1 + experiment_names_2 + experiment_names_3: \n",
    "    print(f\"Bad experiment name={name}\")\n",
    "    return\n",
    "  cnt, cnt_all = 0,0\n",
    "  for iter in range(0, samples):\n",
    "    for idx in range(0, examples):\n",
    "      cnt_all+=1\n",
    "      log_file = log_file_name(name=name, split=split, idx=idx, iter=iter)\n",
    "      if os.path.isfile(log_file):\n",
    "        cnt+=1\n",
    "  print(f\"Starting with {cnt}/{cnt_all} done\")\n",
    "\n",
    "  cnt_start, pos = cnt, 0\n",
    "  t0=time.time()\n",
    "  for iter in range(0, samples):\n",
    "    for idx in range(0, examples):\n",
    "      log_file = log_file_name(name=name, split=split, idx=idx, iter=iter)\n",
    "      if os.path.isfile(log_file):\n",
    "        continue # Skip this one : it's done already\n",
    "        \n",
    "      flog = open(log_file, 'w')\n",
    "      question = data[shuffled_idx[idx]]\n",
    "      if name in experiment_names_1 + experiment_names_2 + experiment_names_3:\n",
    "        max_rewrites=0\n",
    "        if '1rewrite' in name: \n",
    "          max_rewrites=1\n",
    "        if '5rewrites' in name: \n",
    "          max_rewrites=5\n",
    "          \n",
    "        wordplay_rubric='./wordplay/rubric-and-single-ex.txt'\n",
    "        if 'manywordplay' in name: \n",
    "          wordplay_rubric='./wordplay/manyshot_train.txt'\n",
    "\n",
    "        clue = prompts.remove_enumeration_from(question['clue'])\n",
    "        answer = question['answer']\n",
    "        if 'guessdef' in name: # Pick a random decent bracketing (if asked)\n",
    "          clues_with_defs = prompts.get_potential_definitions(answer, clue, embedder)\n",
    "          clues_with_def_idx = random.randrange(len(clues_with_defs))\n",
    "          #print(answer.upper(), clues_with_defs)\n",
    "          clue = clues_with_defs[ clues_with_def_idx ]\n",
    "\n",
    "        wordplay=None\n",
    "        if 'usewordplay' in name:\n",
    "          wordplay=question['wordplay']  # Must be there\n",
    "        \n",
    "        success_rewrite = prompts.iteratively_answer(base_model, solver_config, \n",
    "                                    clue, answer=answer, pattern=question['enumeration'], wordplay=wordplay, \n",
    "                                    max_rewrites=max_rewrites, add_wordplay_hints=False, \n",
    "                                    wordplay_rubric=wordplay_rubric,\n",
    "                                    flog=flog)\n",
    "      # ... other experiment names\n",
    "      if success_rewrite>=0:\n",
    "        pos+=1\n",
    "      flog.close()\n",
    "      cnt+=1\n",
    "\n",
    "      cnt_done = cnt-cnt_start\n",
    "      elapsed  =(time.time()-t0)\n",
    "      per_iter =elapsed/cnt_done\n",
    "      remaining=per_iter*(cnt_all-cnt)\n",
    "      eta_local=datetime.datetime.now(tz)+datetime.timedelta(seconds=remaining)\n",
    "      print(f\"idx.iter={idx:4d}.{iter:02d} : {pos:4d}/{cnt_done: <4d} success={100.*pos/cnt_done:5.2f}% \"+\n",
    "            f\"({per_iter:5.2f}s/iter ETA:{eta_local.strftime('%Y-%m-%d %H:%M:%S %Z')})\") # Remaining:{remaining:5.0f}s \n",
    "  print(f\"Done '{log_file}'\")\n",
    "\n",
    "#run_experiment('norewrites', data_train, shuffled_idx_train, 'train', samples=10, examples=100)\n",
    "#run_experiment('1rewrite', data_train, shuffled_idx_train, 'train', samples=10, examples=100)\n",
    "#run_experiment('norewrites-manywordplay', data_train, shuffled_idx_train, 'train', samples=10, examples=100)\n",
    "#run_experiment('1rewrite-manywordplay', data_train, shuffled_idx_train, 'train', samples=10, examples=100)\n",
    "#run_experiment('1rewrite-manywordplay-guessdef', data_train, shuffled_idx_train, 'train', samples=10, examples=100)\n",
    "\"DONE\""
   ]
  },
  {
   "cell_type": "markdown",
   "id": "5435677e-c00c-4539-a8ce-80514210ae84",
   "metadata": {
    "editable": true,
    "slideshow": {
     "slide_type": ""
    },
    "tags": []
   },
   "source": [
    "### Now do extra experiments, but with the human wordplay annotations"
   ]
  },
  {
   "cell_type": "code",
   "execution_count": 58,
   "id": "5a39f817-b12c-4080-b45b-a43da986f6a4",
   "metadata": {
    "editable": true,
    "slideshow": {
     "slide_type": ""
    },
    "tags": []
   },
   "outputs": [
    {
     "data": {
      "text/plain": [
       "('DONE', [4967, 1507, 2316, 4112, 1217])"
      ]
     },
     "execution_count": 58,
     "metadata": {},
     "output_type": "execute_result"
    }
   ],
   "source": [
    "#import yaml\n",
    "#def get_wordplay_data_and_shuffle(split):\n",
    "#  with open(f\"./wordplay/fifteensquared/teacow/author_aggregate_{split}.yaml\", 'r') as infile:\n",
    "#    wordplay_loaded = yaml.safe_load(infile)\n",
    "#  wordplay_clues=wordplay_loaded['clues']\n",
    "#  for question in wordplay_clues:\n",
    "#    question['enumeration']=question['pattern']\n",
    "#  shuffled_idx = get_shuffled_idx(wordplay_clues, seed=1234)\n",
    "#  return wordplay_clues, shuffled_idx\n",
    "wordplay_train, shuffled_idx_wordplay_train = solver.dataset.get_wordplay_data_and_shuffle('train')\n",
    "\"DONE\", shuffled_idx_wordplay_train[:5]"
   ]
  },
  {
   "cell_type": "code",
   "execution_count": 59,
   "id": "a3a3514d-76a7-41da-9af1-ef62b5f2807d",
   "metadata": {},
   "outputs": [
    {
     "data": {
      "text/plain": [
       "'DONE'"
      ]
     },
     "execution_count": 59,
     "metadata": {},
     "output_type": "execute_result"
    }
   ],
   "source": [
    "#run_experiment('1rewrite-manywordplay-usewordplay', wordplay_train, shuffled_idx_wordplay_train, 'train', samples=10, examples=100)\n",
    "#run_experiment('norewrites-manywordplay-usewordplay', wordplay_train, shuffled_idx_wordplay_train, 'train', samples=10, examples=100)\n",
    "#run_experiment('5rewrites-manywordplay-usewordplay', wordplay_train, shuffled_idx_wordplay_train, 'train', samples=10, examples=100)\n",
    "\"DONE\""
   ]
  },
  {
   "cell_type": "markdown",
   "id": "af7e37dd-7c4a-4082-9f4e-9ac0389665af",
   "metadata": {},
   "source": [
    "### Analyse Re-Sampling vs Iterating for different runs\n",
    "\n",
    "Need to have:\n",
    "* For all the files in the experiment, look for 'SUCCESS', and store by example and sample\n",
    "  + Soon : Capture the successful python entry for given example/sample, for dataset creation\n",
    "\n",
    "Nice to have: \n",
    "* Estimate of how long the run took : Have modification times (but what if we restarted?)\n",
    "  + Maybe get a sorted array of all modification times, find the differences, discard those >1min\n",
    "  + Sum up remaining differences to get total (... and average) time taken\n",
    "  + Also look at file sizes vs iterations (and average time taken)\n"
   ]
  },
  {
   "cell_type": "code",
   "execution_count": 260,
   "id": "17343c99-7401-4566-b6b3-d3f87ea30b5b",
   "metadata": {
    "editable": true,
    "slideshow": {
     "slide_type": ""
    },
    "tags": []
   },
   "outputs": [
    {
     "data": {
      "text/plain": [
       "(100, [-1, 1, -1, 1, 0, -1, 4, 4, 0, 1])"
      ]
     },
     "execution_count": 260,
     "metadata": {},
     "output_type": "execute_result"
    }
   ],
   "source": [
    "def get_solves_matrix(name, split, rewrite_last_check=None):\n",
    "  solves=[]\n",
    "  idx=0\n",
    "  while True:\n",
    "    iter, solves_idx=0, []\n",
    "    while True:\n",
    "      log_file = log_file_name(name=name, split=split, idx=idx, iter=iter)\n",
    "      if not os.path.isfile(log_file):\n",
    "        break # We ran out of iters for this idx\n",
    "      success_rewrite, rewrite_last = -1, -1\n",
    "      with open(log_file, 'r') as fin:\n",
    "        for line in fin.readlines():\n",
    "          if line.startswith('#REWRITE#'):\n",
    "            if \"SUCCESS!\" in line:\n",
    "              # #REWRITE#:3:SUCCESS!\n",
    "              _, success_rewrite, _ = line.split(':')\n",
    "              success_rewrite=int(success_rewrite)\n",
    "            else:\n",
    "              if \"ERROR TRACE ::\" in line:\n",
    "                split_arr = line.split(':')\n",
    "                # \"#REWRITE#:5:ERROR TRACE ::\"\n",
    "                rewrite_last = int(split_arr[1])\n",
    "      if success_rewrite<0 and rewrite_last_check is not None:\n",
    "        if rewrite_last!=rewrite_last_check:\n",
    "          print(f\"File incomplete {rewrite_last=} for '{log_file}'\")\n",
    "      solves_idx.append(success_rewrite)\n",
    "      iter+=1\n",
    "    if iter==0: \n",
    "      break # We didn't find the first file for this idx    \n",
    "    solves.append(solves_idx)  # at [idx]\n",
    "    idx+=1\n",
    "  return solves\n",
    "solves = get_solves_matrix(name='5rewrites-manywordplay-usewordplay', split='train', rewrite_last_check=5)\n",
    "len(solves), solves[30] # Seems like problem idx=30 is fairly easy"
   ]
  },
  {
   "cell_type": "code",
   "execution_count": 69,
   "id": "f812c394-d302-4ddb-8a8a-af174a763397",
   "metadata": {},
   "outputs": [],
   "source": [
    "# Let's sum up across all (idx=examples) of 'what max iter to use' vs how many independent samples to take\n",
    "import numpy as np\n",
    "def get_scores_counts(solves):\n",
    "  solves_np = np.array(solves)\n",
    "  #solves_np.shape # (100, 10)\n",
    "  iter_max=solves_np.max()\n",
    "  \n",
    "  score_counts=np.zeros(shape=(1+iter_max+1, solves_np.shape[1]), dtype=np.float32)\n",
    "  for iter_level in range(-1, iter_max+1):  # SUCCESS:iter_level:\n",
    "    for samples in range(1, solves_np.shape[1]+1):  # 1 .. 10 inclusive\n",
    "      score_counts[iter_level][samples-1] = int(np.sum( solves_np[:,:samples]==iter_level )/samples*10)/10.\n",
    "  return score_counts\n",
    "score_counts = get_scores_counts(solves)"
   ]
  },
  {
   "cell_type": "code",
   "execution_count": 71,
   "id": "d577c421-c2ef-4a9e-b155-2e1762833500",
   "metadata": {
    "editable": true,
    "slideshow": {
     "slide_type": ""
    },
    "tags": []
   },
   "outputs": [
    {
     "data": {
      "text/plain": [
       "array([ 5.7,  3.3,  3.8,  2.8,  2.9,  2. , 79.5], dtype=float32)"
      ]
     },
     "execution_count": 71,
     "metadata": {},
     "output_type": "execute_result"
    }
   ],
   "source": [
    "#score_counts  # Each row is a different number of rewrites (starting at 0.  Last row is -1==FAIL), each column is cumulative average\n",
    "# Last column is \n",
    "score_counts[:,-1:].flatten() # .sum()=100"
   ]
  },
  {
   "cell_type": "code",
   "execution_count": 72,
   "id": "8ab924e3-8da9-49bc-96b2-360396843877",
   "metadata": {
    "editable": true,
    "slideshow": {
     "slide_type": ""
    },
    "tags": []
   },
   "outputs": [
    {
     "data": {
      "text/plain": [
       "'10 10 10 9 9 8 7 7 6 6 6 6 5 5 5 5 4 4 4 4 4 4 4 4 3 3 3 3 3 3 3 3 3 2 2 2 2 2 2 2 1 1 1 1 1 1 1 1 1 1 1 1 1 1 1 1 1 1 0 0 0 0 0 0 0 0 0 0 0 0 0 0 0 0 0 0 0 0 0 0 0 0 0 0 0 0 0 0 0 0 0 0 0 0 0 0 0 0 0 0'"
      ]
     },
     "execution_count": 72,
     "metadata": {},
     "output_type": "execute_result"
    }
   ],
   "source": [
    "solves_np = np.array(solves)\n",
    "solves_count_per_clue=(solves_np>=0).sum(axis=-1) # Counts of solves for each clue\n",
    "' '.join([str(cnt) for cnt in sorted(solves_count_per_clue, reverse=True)])  # Easy=10 solves, hard=0"
   ]
  },
  {
   "cell_type": "code",
   "execution_count": 73,
   "id": "5c72dd1a-7f5c-4129-b478-aea4219a1571",
   "metadata": {
    "editable": true,
    "slideshow": {
     "slide_type": ""
    },
    "tags": []
   },
   "outputs": [
    {
     "data": {
      "text/plain": [
       "array([[  0,   0,   0,   0,   0,   0, 420],\n",
       "       [  2,   3,   3,   3,   5,   2, 162],\n",
       "       [  0,   5,   2,   1,   5,   1,  56],\n",
       "       [  0,   6,   6,   6,   4,   5,  63],\n",
       "       [ 10,   4,   6,   7,   2,   3,  48],\n",
       "       [  2,   1,   6,   4,   4,   3,  20],\n",
       "       [  3,   2,   4,   4,   6,   5,  16],\n",
       "       [  2,   5,   2,   2,   3,   0,   6],\n",
       "       [  6,   1,   1,   0,   0,   0,   2],\n",
       "       [  9,   2,   6,   1,   0,   0,   2],\n",
       "       [ 23,   4,   2,   0,   0,   1,   0]], dtype=int32)"
      ]
     },
     "execution_count": 73,
     "metadata": {},
     "output_type": "execute_result"
    }
   ],
   "source": [
    "iter_max=solves_np.max()\n",
    "solve_distribution=np.zeros(shape=(solves_np.shape[1]+1, 1+iter_max+1), dtype=np.int32)\n",
    "for idx in range(solves_np.shape[0]):  # For every clue\n",
    "  for iter_level in range(-1, iter_max+1):  # SUCCESS:iter_level:\n",
    "    solve_distribution[ solves_count_per_clue[idx] ][iter_level] += (solves_np[idx]==iter_level).sum()\n",
    "solve_distribution  # Each row is how many (of 10 samples) got solved, with each column being how many rewrites required"
   ]
  },
  {
   "cell_type": "code",
   "execution_count": 74,
   "id": "62f7fbb3-cd14-42e1-b68f-334abb55b499",
   "metadata": {},
   "outputs": [
    {
     "data": {
      "text/plain": [
       "array([ 57,  33,  38,  28,  29,  20, 795])"
      ]
     },
     "execution_count": 74,
     "metadata": {},
     "output_type": "execute_result"
    }
   ],
   "source": [
    "solve_distribution.sum(axis=0)  # == score_counts essentially transposed"
   ]
  },
  {
   "cell_type": "code",
   "execution_count": 75,
   "id": "d427edd9-8c83-4301-a791-7e101362d8cd",
   "metadata": {},
   "outputs": [
    {
     "data": {
      "text/plain": [
       "array([420, 180,  70,  90,  80,  40,  40,  20,  10,  20,  30])"
      ]
     },
     "execution_count": 75,
     "metadata": {},
     "output_type": "execute_result"
    }
   ],
   "source": [
    "solve_distribution.sum(axis=1)  # == difficulty of problems (left=super hard, right=super easy)"
   ]
  },
  {
   "cell_type": "code",
   "execution_count": 76,
   "id": "0786c497-a56d-4d4e-8ad1-5ceaab41e360",
   "metadata": {},
   "outputs": [
    {
     "data": {
      "text/plain": [
       "array([[11, 16, 16, 16, 27, 11],\n",
       "       [ 0, 35, 14,  7, 35,  7],\n",
       "       [ 0, 22, 22, 22, 14, 18],\n",
       "       [31, 12, 18, 21,  6,  9],\n",
       "       [10,  5, 30, 20, 20, 15],\n",
       "       [12,  8, 16, 16, 25, 20],\n",
       "       [14, 35, 14, 14, 21,  0],\n",
       "       [75, 12, 12,  0,  0,  0],\n",
       "       [50, 11, 33,  5,  0,  0],\n",
       "       [76, 13,  6,  0,  0,  3]], dtype=int32)"
      ]
     },
     "execution_count": 76,
     "metadata": {},
     "output_type": "execute_result"
    }
   ],
   "source": [
    "# For all the solves, where/when did they occur (lower=easy problems, right=more-rewrites)\n",
    "density=(solve_distribution[1:, :-1]/solve_distribution[1:, :-1].sum(axis=1, keepdims=True)*100).astype(np.int32)\n",
    "density"
   ]
  },
  {
   "cell_type": "code",
   "execution_count": 79,
   "id": "d4b30a7b-4f44-4ea7-b5d2-3d109d57887d",
   "metadata": {},
   "outputs": [
    {
     "data": {
      "image/png": "[encoded data removed]",
      "text/plain": [
       "<Figure size 640x480 with 1 Axes>"
      ]
     },
     "metadata": {},
     "output_type": "display_data"
    }
   ],
   "source": [
    "import matplotlib\n",
    "import matplotlib.pyplot as plt\n",
    "\n",
    "def density_histogram_plain(density):\n",
    "  fig, ax = plt.subplots()\n",
    "  im = ax.imshow(density)\n",
    "  \n",
    "  rewrites='0 1 2 3 4 5'.split(' ')\n",
    "  successful_samples = [ f'{i+1}/10' for i in range(10) ]\n",
    "  # Show all ticks and label them with the respective list entries\n",
    "  ax.set_xticks(np.arange(len(rewrites)), labels=rewrites)\n",
    "  ax.set_yticks(np.arange(len(successful_samples)), labels=successful_samples)\n",
    "  \n",
    "  # Rotate the tick labels and set their alignment.\n",
    "  #plt.setp(ax.get_xticklabels(), rotation=45, ha=\"right\", rotation_mode=\"anchor\")\n",
    "  \n",
    "  # Loop over data dimensions and create text annotations.\n",
    "  for i in range(len(successful_samples)):\n",
    "      for j in range(len(rewrites)):\n",
    "          text = ax.text(j, i, density[i, j], ha=\"center\", va=\"center\", color=\"w\")\n",
    "  \n",
    "  #ax.set_title(\"Density of rewrites required vs solution rate\")\n",
    "  fig.tight_layout()\n",
    "  return plt\n",
    "\n",
    "latex_pdf_graphic = {\n",
    "  \"pgf.texsystem\": \"pdflatex\",\n",
    "  'font.family': 'serif',\n",
    "  'font.size' : 11,\n",
    "  'text.usetex': True,\n",
    "  'pgf.rcfonts': False,\n",
    "}\n",
    "\n",
    "# https://matplotlib.org/stable/api/matplotlib_configuration_api.html ??\n",
    "with matplotlib.rc_context():\n",
    "  matplotlib.rcParams.update(latex_pdf_graphic)\n",
    "  plt = density_histogram_plain(density)  \n",
    "  plt.show()"
   ]
  },
  {
   "cell_type": "code",
   "execution_count": 78,
   "id": "db75be87-d73d-453a-8d42-24f039cf76fc",
   "metadata": {},
   "outputs": [
    {
     "data": {
      "image/png": "[encoded data removed]",
      "text/plain": [
       "<Figure size 640x480 with 2 Axes>"
      ]
     },
     "metadata": {},
     "output_type": "display_data"
    }
   ],
   "source": [
    "#%matplotlib inline\n",
    "import matplotlib\n",
    "import matplotlib.pyplot as plt\n",
    "\n",
    "def make_histogram(density, plt):\n",
    "  fig, ax = plt.subplots()\n",
    "  im = ax.imshow(density.T,  cmap='Purples')\n",
    "  \n",
    "  rewrites='0 1 2 3 4 5'.split(' ')\n",
    "  successful_samples = [ f'{i+1}/10' for i in range(10) ]\n",
    "  # Show all ticks and label them with the respective list entries\n",
    "  ax.set_yticks(np.arange(len(rewrites)), labels=rewrites)\n",
    "  ax.set_xticks(np.arange(len(successful_samples)), labels=successful_samples)\n",
    "  \n",
    "  ax.set_xlabel(\"Formalisations `proved' over 10 samples - simplest on right\")\n",
    "  ax.set_ylabel(\"Number of rewrites performed\")\n",
    "  \n",
    "  # Rotate the tick labels and set their alignment.\n",
    "  #plt.setp(ax.get_xticklabels(), rotation=45, ha=\"right\", rotation_mode=\"anchor\")\n",
    "  \n",
    "  cbar = fig.colorbar(im, fraction=0.046*0.6, pad=0.04) #  **cbar_kw ax=ax, \n",
    "  #cbar = plt.colorbar(im, fraction=0.046, pad=0.04) #  **cbar_kw ax=ax, \n",
    "  cbar.ax.set_ylabel(\"% proved at this rewrite step\", rotation=-90, va=\"bottom\")\n",
    "  \n",
    "  # Loop over data dimensions and create text annotations.\n",
    "  for i in range(len(successful_samples)):\n",
    "      for j in range(len(rewrites)):\n",
    "          text = ax.text(i, j, density[i, j], ha=\"center\", va=\"center\", \n",
    "                         #color=\"w\")\n",
    "                         color=\"w\" if density[i,j]>40 else 'k')\n",
    "  \n",
    "  #ax.spines[:].set_visible(False)\n",
    "  \n",
    "  #ax.set_title(\"Density of rewrites required vs solution rate\")\n",
    "  fig.tight_layout()\n",
    "  return plt\n",
    "\n",
    "with matplotlib.rc_context():\n",
    "  matplotlib.rcParams.update(latex_pdf_graphic)\n",
    "  plt = make_histogram(density, plt)\n",
    "  plt.savefig('./experiments/formalisation_heatmap.pdf', \n",
    "              bbox_inches='tight', pad_inches=0.1,\n",
    "             )\n",
    "  plt.show()\n",
    "  plt.close('all')\n"
   ]
  },
  {
   "cell_type": "code",
   "execution_count": 70,
   "id": "5fb20ceb-208c-409c-bd58-bfd1e35e93ed",
   "metadata": {},
   "outputs": [],
   "source": [
    "NOPE\n",
    "#https://blog.timodenk.com/exporting-matplotlib-plots-to-latex/\n",
    "import matplotlib\n",
    "%matplotlib.use(\"pgf\")\n",
    "matplotlib.rcParams.update({\n",
    "  \"pgf.texsystem\": \"pdflatex\",\n",
    "  'font.family': 'serif',\n",
    "  'font.size' : 11,\n",
    "  'text.usetex': True,\n",
    "  'pgf.rcfonts': False,\n",
    "})\n",
    "import matplotlib.pyplot as plt\n",
    "plt = make_histogram(plt)\n",
    "plt.savefig('./experiments/formalisation_heatmap.pgf')\n",
    "plt.close('all')\n",
    "%matplotlib inline"
   ]
  },
  {
   "cell_type": "code",
   "execution_count": 262,
   "id": "dd778685-927d-448c-abb2-30330177cba7",
   "metadata": {
    "editable": true,
    "slideshow": {
     "slide_type": ""
    },
    "tags": []
   },
   "outputs": [
    {
     "name": "stdout",
     "output_type": "stream",
     "text": [
      "norewrites\n",
      "[ 1. 99.] = 100.0\n",
      "1rewrite\n",
      "[ 0.3  0.9 98.8] = 100.0\n",
      "norewrites-manywordplay\n",
      "[ 1.1 98.9] = 100.0\n",
      "1rewrite-manywordplay\n",
      "[ 1.3  1.2 97.5] = 100.0\n",
      "1rewrite-manywordplay-guessdef\n",
      "[ 2.7  1.9 95.4] = 100.0\n"
     ]
    }
   ],
   "source": [
    "for exp_name in [ 'norewrites', '1rewrite', 'norewrites-manywordplay', '1rewrite-manywordplay', '1rewrite-manywordplay-guessdef']:\n",
    "  rewrite_last_check=0 if 'norewrites' in exp_name else 1\n",
    "  solves = get_solves_matrix(name=exp_name, split='train', rewrite_last_check=rewrite_last_check)  \n",
    "  score_counts = get_scores_counts(solves)\n",
    "  #print(f\"{exp_name:s}\\n{score_counts}\") # .flatten()\n",
    "  print(f\"{exp_name:s}\\n{score_counts[:,-1:].flatten()} = {score_counts[:,-1:].sum()}\")   "
   ]
  },
  {
   "cell_type": "code",
   "execution_count": null,
   "id": "8e0c3149-0f1c-4e23-b20c-a36f25992b92",
   "metadata": {},
   "outputs": [],
   "source": []
  },
  {
   "cell_type": "code",
   "execution_count": 5,
   "id": "18358bdd-03e9-4bf2-a333-53043035888d",
   "metadata": {
    "editable": true,
    "lines_to_next_cell": 2,
    "slideshow": {
     "slide_type": ""
    },
    "tags": []
   },
   "outputs": [
    {
     "name": "stdout",
     "output_type": "stream",
     "text": [
      "pct=   3.6% +/-  0.1% : Julia cryptonite test - whole set\n",
      "pct=   8.6% +/-  0.2% : Julia enum cryptonite test - whole set\n",
      "pct=   4.9% +/-  0.1% : T5 cryptonite test - whole set\n",
      "pct=   7.6% +/-  0.2% : T5 enum cryptonite test - whole set\n",
      "pct=   3.0% +/-  0.5% : Gemini cryptonite test\n",
      "pct=  14.3% +/-  1.1% : LLaMa 3 cryptonite test\n",
      "pct=  25.0% +/-  1.4% : LLaMa 3 cryptonite test\n",
      "pct=  31.0% +/-  3.3% : Formaliser cryptonite test\n"
     ]
    }
   ],
   "source": [
    "import numpy as np\n",
    "def get_confidence_intervals(pct, n, z=1.0, name=''):  #  z=1.96 for 95% confidence, z=1.65 for 90% conf\n",
    "  p = pct/100.\n",
    "  SE = np.sqrt(p*(1.-p)/n)\n",
    "  ME = z*SE\n",
    "  ME*=100.\n",
    "  print(f\"{pct=:6.1f}% +/- {ME:4.1f}% : {name}\")\n",
    "\n",
    "c_test = 26157\n",
    "get_confidence_intervals(3.6, c_test, name='Julia cryptonite test - whole set')\n",
    "get_confidence_intervals(8.6, c_test, name='Julia enum cryptonite test - whole set')\n",
    "\n",
    "get_confidence_intervals(4.9, c_test, name='T5 cryptonite test - whole set')\n",
    "get_confidence_intervals(7.6, c_test, name='T5 enum cryptonite test - whole set')\n",
    "\n",
    "get_confidence_intervals(3.0, 1000, name='Gemini cryptonite test')\n",
    "get_confidence_intervals(14.3, 1000, name='LLaMa 3 cryptonite test')\n",
    "\n",
    "get_confidence_intervals(25.0, 1000, name='LLaMa 3 cryptonite test - a check') \n",
    "\n",
    "get_confidence_intervals(31.0, 200, name='Formaliser cryptonite test')"
   ]
  },
  {
   "cell_type": "markdown",
   "id": "6aeab852-d854-438a-a82a-2e8faad269d1",
   "metadata": {},
   "source": [
    "### Runs for Test Hinting Effectiveness\n",
    "\n",
    "* Essentially for the ICML Workshop : AI for Math"
   ]
  },
  {
   "cell_type": "code",
   "execution_count": 321,
   "id": "20986081-5bb8-4d81-84fb-38f6df0e08bf",
   "metadata": {},
   "outputs": [
    {
     "name": "stdout",
     "output_type": "stream",
     "text": [
      "Starting with 0/1000 done\n",
      "idx.iter=   0.00 :    1/1    success=100.00% ( 8.25s/iter ETA:2024-06-10 20:51:20 +08)\n",
      "idx.iter=   1.00 :    1/2    success=50.00% ( 8.70s/iter ETA:2024-06-10 20:58:57 +08)\n",
      "idx.iter=   2.00 :    2/3    success=66.67% ( 6.41s/iter ETA:2024-06-10 20:20:47 +08)\n",
      "idx.iter=   3.00 :    3/4    success=75.00% ( 5.18s/iter ETA:2024-06-10 20:00:13 +08)\n",
      "idx.iter=   4.00 :    3/5    success=60.00% ( 6.05s/iter ETA:2024-06-10 20:14:45 +08)\n",
      "idx.iter=   5.00 :    3/6    success=50.00% ( 7.33s/iter ETA:2024-06-10 20:36:08 +08)\n",
      "idx.iter=   6.00 :    3/7    success=42.86% ( 8.14s/iter ETA:2024-06-10 20:49:33 +08)\n",
      "idx.iter=   7.00 :    3/8    success=37.50% ( 8.45s/iter ETA:2024-06-10 20:54:40 +08)\n",
      "idx.iter=   8.00 :    4/9    success=44.44% ( 7.95s/iter ETA:2024-06-10 20:46:23 +08)\n",
      "idx.iter=   9.00 :    4/10   success=40.00% ( 8.19s/iter ETA:2024-06-10 20:50:19 +08)\n",
      "idx.iter=  10.00 :    4/11   success=36.36% ( 8.61s/iter ETA:2024-06-10 20:57:21 +08)\n",
      "idx.iter=  11.00 :    4/12   success=33.33% ( 8.88s/iter ETA:2024-06-10 21:01:53 +08)\n",
      "idx.iter=  12.00 :    4/13   success=30.77% ( 9.20s/iter ETA:2024-06-10 21:07:14 +08)\n",
      "idx.iter=  13.00 :    4/14   success=28.57% ( 9.39s/iter ETA:2024-06-10 21:10:26 +08)\n",
      "idx.iter=  14.00 :    4/15   success=26.67% ( 9.55s/iter ETA:2024-06-10 21:13:03 +08)\n",
      "idx.iter=  15.00 :    4/16   success=25.00% ( 9.66s/iter ETA:2024-06-10 21:14:57 +08)\n",
      "idx.iter=  16.00 :    4/17   success=23.53% ( 9.62s/iter ETA:2024-06-10 21:14:14 +08)\n",
      "idx.iter=  17.00 :    5/18   success=27.78% ( 9.19s/iter ETA:2024-06-10 21:07:01 +08)\n",
      "Action rethink : 'applied round' does not suggest Action.GOES_OUTSIDE, but these parts could : 'round'\n",
      "Action rethink : 'applied round' does not suggest Action.GOES_OUTSIDE, but these parts could : 'round'\n",
      "Action rethink : 'applied round' does not suggest Action.GOES_OUTSIDE, but these parts could : 'round'\n",
      "Action rethink : 'applied round' does not suggest Action.GOES_OUTSIDE, but these parts could : 'round'\n",
      "idx.iter=  18.00 :    5/19   success=26.32% ( 9.47s/iter ETA:2024-06-10 21:11:45 +08)\n",
      "idx.iter=  19.00 :    5/20   success=25.00% ( 9.64s/iter ETA:2024-06-10 21:14:29 +08)\n",
      "idx.iter=  20.00 :    5/21   success=23.81% ( 9.68s/iter ETA:2024-06-10 21:15:12 +08)\n",
      "Action rethink : 'regularly collected' does not suggest Action.SUBSTRING, but these parts could : 'regularly'\n",
      "idx.iter=  21.00 :    5/22   success=22.73% ( 9.73s/iter ETA:2024-06-10 21:16:02 +08)\n",
      "idx.iter=  22.00 :    5/23   success=21.74% ( 9.78s/iter ETA:2024-06-10 21:16:55 +08)\n",
      "idx.iter=  23.00 :    5/24   success=20.83% ( 9.84s/iter ETA:2024-06-10 21:17:51 +08)\n",
      "idx.iter=  24.00 :    5/25   success=20.00% ( 9.83s/iter ETA:2024-06-10 21:17:41 +08)\n",
      "idx.iter=  25.00 :    5/26   success=19.23% ( 9.93s/iter ETA:2024-06-10 21:19:21 +08)\n",
      "idx.iter=  26.00 :    5/27   success=18.52% (10.04s/iter ETA:2024-06-10 21:21:12 +08)\n",
      "idx.iter=  27.00 :    6/28   success=21.43% ( 9.75s/iter ETA:2024-06-10 21:16:22 +08)\n",
      "idx.iter=  28.00 :    6/29   success=20.69% ( 9.77s/iter ETA:2024-06-10 21:16:38 +08)\n",
      "idx.iter=  29.00 :    6/30   success=20.00% ( 9.88s/iter ETA:2024-06-10 21:18:34 +08)\n",
      "idx.iter=  30.00 :    7/31   success=22.58% ( 9.62s/iter ETA:2024-06-10 21:14:15 +08)\n",
      "Action rethink : 'picked up' does not suggest Action.REVERSE, but these parts could : 'up'\n",
      "Action rethink : 'picked up' does not suggest Action.REVERSE, but these parts could : 'up'\n",
      "Action rethink : 'picked up' does not suggest Action.REVERSE, but these parts could : 'up'\n",
      "Action rethink : 'picked up' does not suggest Action.REVERSE, but these parts could : 'up'\n",
      "idx.iter=  31.00 :    7/32   success=21.88% ( 9.75s/iter ETA:2024-06-10 21:16:21 +08)\n",
      "idx.iter=  32.00 :    7/33   success=21.21% ( 9.79s/iter ETA:2024-06-10 21:16:59 +08)\n",
      "idx.iter=  33.00 :    7/34   success=20.59% ( 9.78s/iter ETA:2024-06-10 21:16:52 +08)\n",
      "idx.iter=  34.00 :    7/35   success=20.00% ( 9.86s/iter ETA:2024-06-10 21:18:11 +08)\n",
      "idx.iter=  35.00 :    7/36   success=19.44% ( 9.87s/iter ETA:2024-06-10 21:18:21 +08)\n",
      "idx.iter=  36.00 :    7/37   success=18.92% ( 9.84s/iter ETA:2024-06-10 21:17:50 +08)\n",
      "idx.iter=  37.00 :    7/38   success=18.42% ( 9.93s/iter ETA:2024-06-10 21:19:26 +08)\n",
      "idx.iter=  38.00 :    8/39   success=20.51% ( 9.72s/iter ETA:2024-06-10 21:15:53 +08)\n",
      "idx.iter=  39.00 :    9/40   success=22.50% ( 9.54s/iter ETA:2024-06-10 21:12:52 +08)\n",
      "Action rethink : 'lead on' does not suggest Action.REMOVE_LAST, but these parts could : 'lead'\n",
      "Action rethink : 'lead on' does not suggest Action.REMOVE_LAST, but these parts could : 'lead'\n",
      "Action rethink : 'lead on' does not suggest Action.REMOVE_LAST, but these parts could : 'lead'\n",
      "Action rethink : 'lead on' does not suggest Action.REMOVE_LAST, but these parts could : 'lead'\n",
      "Action rethink : 'lead on' does not suggest Action.REMOVE_LAST, but these parts could : 'lead'\n",
      "Action rethink : 'lead on' does not suggest Action.REMOVE_LAST, but these parts could : 'lead'\n",
      "idx.iter=  40.00 :    9/41   success=21.95% ( 9.58s/iter ETA:2024-06-10 21:13:38 +08)\n",
      "idx.iter=  41.00 :   10/42   success=23.81% ( 9.40s/iter ETA:2024-06-10 21:10:38 +08)\n",
      "idx.iter=  42.00 :   11/43   success=25.58% ( 9.30s/iter ETA:2024-06-10 21:08:54 +08)\n",
      "idx.iter=  43.00 :   11/44   success=25.00% ( 9.34s/iter ETA:2024-06-10 21:09:34 +08)\n",
      "idx.iter=  44.00 :   11/45   success=24.44% ( 9.36s/iter ETA:2024-06-10 21:09:55 +08)\n",
      "idx.iter=  45.00 :   11/46   success=23.91% ( 9.36s/iter ETA:2024-06-10 21:09:57 +08)\n",
      "idx.iter=  46.00 :   11/47   success=23.40% ( 9.41s/iter ETA:2024-06-10 21:10:41 +08)\n",
      "idx.iter=  47.00 :   11/48   success=22.92% ( 9.44s/iter ETA:2024-06-10 21:11:14 +08)\n",
      "idx.iter=  48.00 :   12/49   success=24.49% ( 9.29s/iter ETA:2024-06-10 21:08:42 +08)\n",
      "idx.iter=  49.00 :   12/50   success=24.00% ( 9.35s/iter ETA:2024-06-10 21:09:43 +08)\n",
      "idx.iter=  50.00 :   12/51   success=23.53% ( 9.35s/iter ETA:2024-06-10 21:09:44 +08)\n",
      "No definition found in clue 'The occident’s fatal day, right?'...  Not adding provided wordplay \n",
      "idx.iter=  51.00 :   12/52   success=23.08% ( 9.39s/iter ETA:2024-06-10 21:10:26 +08)\n",
      "idx.iter=  52.00 :   13/53   success=24.53% ( 9.34s/iter ETA:2024-06-10 21:09:35 +08)\n",
      "Action rethink : 'taken in by' does not suggest Action.GOES_INSIDE, but these parts could : 'in', 'taken in'\n",
      "idx.iter=  53.00 :   14/54   success=25.93% ( 9.33s/iter ETA:2024-06-10 21:09:24 +08)\n",
      "idx.iter=  54.00 :   14/55   success=25.45% ( 9.30s/iter ETA:2024-06-10 21:08:56 +08)\n",
      "idx.iter=  55.00 :   15/56   success=26.79% ( 9.19s/iter ETA:2024-06-10 21:07:08 +08)\n",
      "idx.iter=  56.00 :   16/57   success=28.07% ( 9.10s/iter ETA:2024-06-10 21:05:30 +08)\n",
      "idx.iter=  57.00 :   16/58   success=27.59% ( 9.14s/iter ETA:2024-06-10 21:06:10 +08)\n",
      "idx.iter=  58.00 :   17/59   success=28.81% ( 9.02s/iter ETA:2024-06-10 21:04:11 +08)\n",
      "idx.iter=  59.00 :   18/60   success=30.00% ( 8.89s/iter ETA:2024-06-10 21:02:05 +08)\n",
      "idx.iter=  60.00 :   18/61   success=29.51% ( 8.92s/iter ETA:2024-06-10 21:02:38 +08)\n",
      "idx.iter=  61.00 :   18/62   success=29.03% ( 8.97s/iter ETA:2024-06-10 21:03:27 +08)\n",
      "idx.iter=  62.00 :   19/63   success=30.16% ( 8.85s/iter ETA:2024-06-10 21:01:27 +08)\n",
      "idx.iter=  63.00 :   19/64   success=29.69% ( 8.88s/iter ETA:2024-06-10 21:01:55 +08)\n",
      "idx.iter=  64.00 :   20/65   success=30.77% ( 8.77s/iter ETA:2024-06-10 21:00:03 +08)\n",
      "idx.iter=  65.00 :   21/66   success=31.82% ( 8.68s/iter ETA:2024-06-10 20:58:31 +08)\n",
      "idx.iter=  66.00 :   22/67   success=32.84% ( 8.57s/iter ETA:2024-06-10 20:56:44 +08)\n",
      "idx.iter=  67.00 :   22/68   success=32.35% ( 8.60s/iter ETA:2024-06-10 20:57:14 +08)\n",
      "idx.iter=  68.00 :   23/69   success=33.33% ( 8.50s/iter ETA:2024-06-10 20:55:33 +08)\n",
      "idx.iter=  69.00 :   23/70   success=32.86% ( 8.53s/iter ETA:2024-06-10 20:56:04 +08)\n",
      "idx.iter=  70.00 :   23/71   success=32.39% ( 8.53s/iter ETA:2024-06-10 20:56:07 +08)\n",
      "Action rethink : 'short aggressive' does not suggest Action.REMOVE_LAST, but these parts could : 'short'\n",
      "Action rethink : 'short aggressive dog' does not suggest Action.REMOVE_LAST, but these parts could : 'short'\n",
      "idx.iter=  71.00 :   23/72   success=31.94% ( 8.55s/iter ETA:2024-06-10 20:56:27 +08)\n",
      "idx.iter=  72.00 :   24/73   success=32.88% ( 8.46s/iter ETA:2024-06-10 20:54:52 +08)\n",
      "idx.iter=  73.00 :   25/74   success=33.78% ( 8.37s/iter ETA:2024-06-10 20:53:22 +08)\n",
      "idx.iter=  74.00 :   25/75   success=33.33% ( 8.46s/iter ETA:2024-06-10 20:54:52 +08)\n",
      "idx.iter=  75.00 :   25/76   success=32.89% ( 8.50s/iter ETA:2024-06-10 20:55:31 +08)\n",
      "idx.iter=  76.00 :   26/77   success=33.77% ( 8.42s/iter ETA:2024-06-10 20:54:09 +08)\n",
      "idx.iter=  77.00 :   27/78   success=34.62% ( 8.33s/iter ETA:2024-06-10 20:52:41 +08)\n",
      "idx.iter=  78.00 :   27/79   success=34.18% ( 8.37s/iter ETA:2024-06-10 20:53:23 +08)\n",
      "idx.iter=  79.00 :   28/80   success=35.00% ( 8.31s/iter ETA:2024-06-10 20:52:24 +08)\n",
      "idx.iter=  80.00 :   29/81   success=35.80% ( 8.23s/iter ETA:2024-06-10 20:51:03 +08)\n",
      "idx.iter=  81.00 :   29/82   success=35.37% ( 8.29s/iter ETA:2024-06-10 20:52:02 +08)\n",
      "idx.iter=  82.00 :   29/83   success=34.94% ( 8.33s/iter ETA:2024-06-10 20:52:42 +08)\n",
      "idx.iter=  83.00 :   29/84   success=34.52% ( 8.34s/iter ETA:2024-06-10 20:52:57 +08)\n",
      "idx.iter=  84.00 :   29/85   success=34.12% ( 8.35s/iter ETA:2024-06-10 20:53:06 +08)\n",
      "idx.iter=  85.00 :   29/86   success=33.72% ( 8.41s/iter ETA:2024-06-10 20:54:00 +08)\n",
      "idx.iter=  86.00 :   29/87   success=33.33% ( 8.44s/iter ETA:2024-06-10 20:54:38 +08)\n",
      "idx.iter=  87.00 :   29/88   success=32.95% ( 8.46s/iter ETA:2024-06-10 20:54:53 +08)\n",
      "idx.iter=  88.00 :   30/89   success=33.71% ( 8.40s/iter ETA:2024-06-10 20:53:55 +08)\n",
      "idx.iter=  89.00 :   30/90   success=33.33% ( 8.42s/iter ETA:2024-06-10 20:54:16 +08)\n",
      "idx.iter=  90.00 :   30/91   success=32.97% ( 8.45s/iter ETA:2024-06-10 20:54:46 +08)\n",
      "idx.iter=  91.00 :   30/92   success=32.61% ( 8.49s/iter ETA:2024-06-10 20:55:25 +08)\n",
      "Action rethink : 'pushed into' does not suggest Action.ANAGRAM, but these parts could : 'into'\n",
      "idx.iter=  92.00 :   31/93   success=33.33% ( 8.46s/iter ETA:2024-06-10 20:54:52 +08)\n",
      "idx.iter=  93.00 :   31/94   success=32.98% ( 8.47s/iter ETA:2024-06-10 20:55:03 +08)\n",
      "idx.iter=  94.00 :   31/95   success=32.63% ( 8.50s/iter ETA:2024-06-10 20:55:33 +08)\n",
      "idx.iter=  95.00 :   32/96   success=33.33% ( 8.43s/iter ETA:2024-06-10 20:54:21 +08)\n",
      "idx.iter=  96.00 :   32/97   success=32.99% ( 8.46s/iter ETA:2024-06-10 20:54:55 +08)\n",
      "idx.iter=  97.00 :   32/98   success=32.65% ( 8.48s/iter ETA:2024-06-10 20:55:15 +08)\n",
      "idx.iter=  98.00 :   32/99   success=32.32% ( 8.53s/iter ETA:2024-06-10 20:56:01 +08)\n",
      "idx.iter=  99.00 :   33/100  success=33.00% ( 8.46s/iter ETA:2024-06-10 20:54:55 +08)\n",
      "idx.iter=   0.01 :   34/101  success=33.66% ( 8.45s/iter ETA:2024-06-10 20:54:48 +08)\n",
      "idx.iter=   1.01 :   34/102  success=33.33% ( 8.46s/iter ETA:2024-06-10 20:54:50 +08)\n",
      "idx.iter=   2.01 :   35/103  success=33.98% ( 8.39s/iter ETA:2024-06-10 20:53:42 +08)\n",
      "idx.iter=   3.01 :   36/104  success=34.62% ( 8.32s/iter ETA:2024-06-10 20:52:36 +08)\n",
      "idx.iter=   4.01 :   36/105  success=34.29% ( 8.34s/iter ETA:2024-06-10 20:52:56 +08)\n",
      "idx.iter=   5.01 :   36/106  success=33.96% ( 8.40s/iter ETA:2024-06-10 20:53:52 +08)\n",
      "idx.iter=   6.01 :   36/107  success=33.64% ( 8.44s/iter ETA:2024-06-10 20:54:36 +08)\n",
      "idx.iter=   7.01 :   36/108  success=33.33% ( 8.48s/iter ETA:2024-06-10 20:55:16 +08)\n",
      "idx.iter=   8.01 :   36/109  success=33.03% ( 8.51s/iter ETA:2024-06-10 20:55:39 +08)\n",
      "idx.iter=   9.01 :   36/110  success=32.73% ( 8.51s/iter ETA:2024-06-10 20:55:42 +08)\n",
      "idx.iter=  10.01 :   36/111  success=32.43% ( 8.55s/iter ETA:2024-06-10 20:56:19 +08)\n",
      "idx.iter=  11.01 :   36/112  success=32.14% ( 8.57s/iter ETA:2024-06-10 20:56:40 +08)\n",
      "idx.iter=  12.01 :   36/113  success=31.86% ( 8.58s/iter ETA:2024-06-10 20:56:58 +08)\n",
      "idx.iter=  13.01 :   36/114  success=31.58% ( 8.66s/iter ETA:2024-06-10 20:58:11 +08)\n",
      "idx.iter=  14.01 :   36/115  success=31.30% ( 8.68s/iter ETA:2024-06-10 20:58:32 +08)\n",
      "idx.iter=  15.01 :   36/116  success=31.03% ( 8.70s/iter ETA:2024-06-10 20:58:54 +08)\n",
      "idx.iter=  16.01 :   36/117  success=30.77% ( 8.70s/iter ETA:2024-06-10 20:58:57 +08)\n",
      "idx.iter=  17.01 :   37/118  success=31.36% ( 8.64s/iter ETA:2024-06-10 20:57:58 +08)\n",
      "Action rethink : 'applied round' does not suggest Action.GOES_INSIDE, but these parts could : 'round'\n",
      "Action rethink : 'applied round' does not suggest Action.GOES_INSIDE, but these parts could : 'round'\n",
      "Action rethink : 'applied round' does not suggest Action.GOES_INSIDE, but these parts could : 'round'\n",
      "Action rethink : 'applied round' does not suggest Action.GOES_INSIDE, but these parts could : 'round'\n",
      "Action rethink : 'applied round' does not suggest Action.GOES_INSIDE, but these parts could : 'round'\n",
      "Action rethink : 'applied round' does not suggest Action.GOES_OUTSIDE, but these parts could : 'round'\n",
      "idx.iter=  18.01 :   37/119  success=31.09% ( 8.70s/iter ETA:2024-06-10 20:58:53 +08)\n",
      "idx.iter=  19.01 :   37/120  success=30.83% ( 8.73s/iter ETA:2024-06-10 20:59:26 +08)\n",
      "idx.iter=  20.01 :   37/121  success=30.58% ( 8.75s/iter ETA:2024-06-10 20:59:43 +08)\n",
      "Action rethink : 'regularly collected' does not suggest Action.SUBSTRING, but these parts could : 'regularly'\n",
      "idx.iter=  21.01 :   37/122  success=30.33% ( 8.77s/iter ETA:2024-06-10 21:00:00 +08)\n",
      "idx.iter=  22.01 :   37/123  success=30.08% ( 8.79s/iter ETA:2024-06-10 21:00:22 +08)\n",
      "idx.iter=  23.01 :   37/124  success=29.84% ( 8.80s/iter ETA:2024-06-10 21:00:38 +08)\n",
      "idx.iter=  24.01 :   37/125  success=29.60% ( 8.82s/iter ETA:2024-06-10 21:00:57 +08)\n",
      "idx.iter=  25.01 :   37/126  success=29.37% ( 8.84s/iter ETA:2024-06-10 21:01:15 +08)\n",
      "idx.iter=  26.01 :   37/127  success=29.13% ( 8.88s/iter ETA:2024-06-10 21:01:56 +08)\n",
      "idx.iter=  27.01 :   38/128  success=29.69% ( 8.83s/iter ETA:2024-06-10 21:01:05 +08)\n",
      "idx.iter=  28.01 :   38/129  success=29.46% ( 8.84s/iter ETA:2024-06-10 21:01:09 +08)\n",
      "idx.iter=  29.01 :   38/130  success=29.23% ( 8.85s/iter ETA:2024-06-10 21:01:26 +08)\n",
      "idx.iter=  30.01 :   39/131  success=29.77% ( 8.80s/iter ETA:2024-06-10 21:00:31 +08)\n",
      "Action rethink : 'Picked up' does not suggest Action.REVERSE, but these parts could : 'up'\n",
      "Action rethink : 'Picked up' does not suggest Action.REVERSE, but these parts could : 'up'\n",
      "idx.iter=  31.01 :   39/132  success=29.55% ( 8.82s/iter ETA:2024-06-10 21:00:50 +08)\n",
      "idx.iter=  32.01 :   39/133  success=29.32% ( 8.82s/iter ETA:2024-06-10 21:00:55 +08)\n",
      "idx.iter=  33.01 :   39/134  success=29.10% ( 8.83s/iter ETA:2024-06-10 21:01:06 +08)\n",
      "idx.iter=  34.01 :   39/135  success=28.89% ( 8.87s/iter ETA:2024-06-10 21:01:43 +08)\n",
      "idx.iter=  35.01 :   39/136  success=28.68% ( 8.88s/iter ETA:2024-06-10 21:01:53 +08)\n",
      "idx.iter=  36.01 :   39/137  success=28.47% ( 8.88s/iter ETA:2024-06-10 21:01:51 +08)\n",
      "idx.iter=  37.01 :   39/138  success=28.26% ( 8.90s/iter ETA:2024-06-10 21:02:16 +08)\n",
      "idx.iter=  38.01 :   40/139  success=28.78% ( 8.86s/iter ETA:2024-06-10 21:01:37 +08)\n",
      "idx.iter=  39.01 :   41/140  success=29.29% ( 8.81s/iter ETA:2024-06-10 21:00:45 +08)\n",
      "Action rethink : 'lead on' does not suggest Action.REMOVE_LAST, but these parts could : 'lead'\n",
      "Action rethink : 'lead on' does not suggest Action.REMOVE_LAST, but these parts could : 'lead'\n",
      "Action rethink : 'lead on' does not suggest Action.REMOVE_LAST, but these parts could : 'lead'\n",
      "Action rethink : 'lead on' does not suggest Action.REMOVE_LAST, but these parts could : 'lead'\n",
      "Action rethink : 'lead on' does not suggest Action.REMOVE_LAST, but these parts could : 'lead'\n",
      "Action rethink : 'lead on' does not suggest Action.REMOVE_LAST, but these parts could : 'lead'\n",
      "idx.iter=  40.01 :   41/141  success=29.08% ( 8.84s/iter ETA:2024-06-10 21:01:09 +08)\n",
      "idx.iter=  41.01 :   42/142  success=29.58% ( 8.78s/iter ETA:2024-06-10 21:00:18 +08)\n",
      "idx.iter=  42.01 :   43/143  success=30.07% ( 8.76s/iter ETA:2024-06-10 20:59:52 +08)\n",
      "idx.iter=  43.01 :   43/144  success=29.86% ( 8.76s/iter ETA:2024-06-10 20:59:54 +08)\n",
      "idx.iter=  44.01 :   43/145  success=29.66% ( 8.77s/iter ETA:2024-06-10 20:59:59 +08)\n",
      "idx.iter=  45.01 :   43/146  success=29.45% ( 8.77s/iter ETA:2024-06-10 21:00:00 +08)\n",
      "idx.iter=  46.01 :   43/147  success=29.25% ( 8.79s/iter ETA:2024-06-10 21:00:26 +08)\n",
      "idx.iter=  47.01 :   43/148  success=29.05% ( 8.81s/iter ETA:2024-06-10 21:00:44 +08)\n",
      "idx.iter=  48.01 :   44/149  success=29.53% ( 8.76s/iter ETA:2024-06-10 20:59:54 +08)\n",
      "idx.iter=  49.01 :   44/150  success=29.33% ( 8.78s/iter ETA:2024-06-10 21:00:09 +08)\n",
      "idx.iter=  50.01 :   44/151  success=29.14% ( 8.79s/iter ETA:2024-06-10 21:00:20 +08)\n",
      "No definition found in clue 'The occident’s fatal day, right?'...  Not adding provided wordplay \n",
      "idx.iter=  51.01 :   44/152  success=28.95% ( 8.82s/iter ETA:2024-06-10 21:00:56 +08)\n",
      "idx.iter=  52.01 :   44/153  success=28.76% ( 8.83s/iter ETA:2024-06-10 21:01:02 +08)\n",
      "Action rethink : 'taken in by' does not suggest Action.GOES_INSIDE, but these parts could : 'in', 'taken in'\n",
      "Action rethink : 'taken in by' does not suggest Action.GOES_INSIDE, but these parts could : 'in', 'taken in'\n",
      "Action rethink : 'taken in by' does not suggest Action.GOES_INSIDE, but these parts could : 'in', 'taken in'\n",
      "Action rethink : 'taken in by' does not suggest Action.GOES_INSIDE, but these parts could : 'in', 'taken in'\n",
      "idx.iter=  53.01 :   44/154  success=28.57% ( 8.86s/iter ETA:2024-06-10 21:01:35 +08)\n",
      "idx.iter=  54.01 :   44/155  success=28.39% ( 8.85s/iter ETA:2024-06-10 21:01:28 +08)\n",
      "idx.iter=  55.01 :   45/156  success=28.85% ( 8.82s/iter ETA:2024-06-10 21:00:53 +08)\n",
      "idx.iter=  56.01 :   45/157  success=28.66% ( 8.83s/iter ETA:2024-06-10 21:01:05 +08)\n",
      "Action rethink : 'losing energy, about' does not suggest Action.ANAGRAM, but these parts could : 'about'\n",
      "idx.iter=  57.01 :   45/158  success=28.48% ( 8.85s/iter ETA:2024-06-10 21:01:23 +08)\n",
      "idx.iter=  58.01 :   45/159  success=28.30% ( 8.88s/iter ETA:2024-06-10 21:01:53 +08)\n",
      "idx.iter=  59.01 :   46/160  success=28.75% ( 8.83s/iter ETA:2024-06-10 21:01:07 +08)\n",
      "idx.iter=  60.01 :   46/161  success=28.57% ( 8.86s/iter ETA:2024-06-10 21:01:29 +08)\n",
      "idx.iter=  61.01 :   46/162  success=28.40% ( 8.87s/iter ETA:2024-06-10 21:01:44 +08)\n",
      "idx.iter=  62.01 :   47/163  success=28.83% ( 8.83s/iter ETA:2024-06-10 21:00:59 +08)\n",
      "idx.iter=  63.01 :   47/164  success=28.66% ( 8.84s/iter ETA:2024-06-10 21:01:09 +08)\n",
      "idx.iter=  64.01 :   47/165  success=28.48% ( 8.86s/iter ETA:2024-06-10 21:01:33 +08)\n",
      "idx.iter=  65.01 :   48/166  success=28.92% ( 8.82s/iter ETA:2024-06-10 21:00:49 +08)\n",
      "idx.iter=  66.01 :   49/167  success=29.34% ( 8.77s/iter ETA:2024-06-10 21:00:05 +08)\n",
      "idx.iter=  67.01 :   50/168  success=29.76% ( 8.74s/iter ETA:2024-06-10 20:59:33 +08)\n",
      "idx.iter=  68.01 :   51/169  success=30.18% ( 8.70s/iter ETA:2024-06-10 20:58:55 +08)\n",
      "idx.iter=  69.01 :   51/170  success=30.00% ( 8.72s/iter ETA:2024-06-10 20:59:18 +08)\n",
      "idx.iter=  70.01 :   51/171  success=29.82% ( 8.72s/iter ETA:2024-06-10 20:59:17 +08)\n",
      "idx.iter=  71.01 :   52/172  success=30.23% ( 8.68s/iter ETA:2024-06-10 20:58:36 +08)\n",
      "idx.iter=  72.01 :   53/173  success=30.64% ( 8.64s/iter ETA:2024-06-10 20:57:54 +08)\n",
      "idx.iter=  73.01 :   54/174  success=31.03% ( 8.60s/iter ETA:2024-06-10 20:57:13 +08)\n",
      "idx.iter=  74.01 :   54/175  success=30.86% ( 8.62s/iter ETA:2024-06-10 20:57:34 +08)\n",
      "idx.iter=  75.01 :   54/176  success=30.68% ( 8.63s/iter ETA:2024-06-10 20:57:48 +08)\n",
      "idx.iter=  76.01 :   55/177  success=31.07% ( 8.60s/iter ETA:2024-06-10 20:57:09 +08)\n",
      "idx.iter=  77.01 :   56/178  success=31.46% ( 8.56s/iter ETA:2024-06-10 20:56:30 +08)\n",
      "idx.iter=  78.01 :   56/179  success=31.28% ( 8.58s/iter ETA:2024-06-10 20:56:51 +08)\n",
      "idx.iter=  79.01 :   57/180  success=31.67% ( 8.55s/iter ETA:2024-06-10 20:56:21 +08)\n",
      "idx.iter=  80.01 :   58/181  success=32.04% ( 8.55s/iter ETA:2024-06-10 20:56:21 +08)\n",
      "idx.iter=  81.01 :   58/182  success=31.87% ( 8.59s/iter ETA:2024-06-10 20:56:59 +08)\n",
      "idx.iter=  82.01 :   58/183  success=31.69% ( 8.61s/iter ETA:2024-06-10 20:57:19 +08)\n",
      "idx.iter=  83.01 :   58/184  success=31.52% ( 8.62s/iter ETA:2024-06-10 20:57:30 +08)\n",
      "idx.iter=  84.01 :   58/185  success=31.35% ( 8.62s/iter ETA:2024-06-10 20:57:31 +08)\n",
      "idx.iter=  85.01 :   58/186  success=31.18% ( 8.63s/iter ETA:2024-06-10 20:57:47 +08)\n",
      "idx.iter=  86.01 :   58/187  success=31.02% ( 8.64s/iter ETA:2024-06-10 20:57:56 +08)\n",
      "idx.iter=  87.01 :   58/188  success=30.85% ( 8.66s/iter ETA:2024-06-10 20:58:11 +08)\n",
      "idx.iter=  88.01 :   58/189  success=30.69% ( 8.67s/iter ETA:2024-06-10 20:58:22 +08)\n",
      "idx.iter=  89.01 :   58/190  success=30.53% ( 8.68s/iter ETA:2024-06-10 20:58:31 +08)\n",
      "idx.iter=  90.01 :   58/191  success=30.37% ( 8.69s/iter ETA:2024-06-10 20:58:40 +08)\n",
      "idx.iter=  91.01 :   58/192  success=30.21% ( 8.71s/iter ETA:2024-06-10 20:59:00 +08)\n",
      "idx.iter=  92.01 :   58/193  success=30.05% ( 8.72s/iter ETA:2024-06-10 20:59:09 +08)\n",
      "idx.iter=  93.01 :   58/194  success=29.90% ( 8.72s/iter ETA:2024-06-10 20:59:16 +08)\n",
      "idx.iter=  94.01 :   58/195  success=29.74% ( 8.74s/iter ETA:2024-06-10 20:59:34 +08)\n",
      "idx.iter=  95.01 :   59/196  success=30.10% ( 8.71s/iter ETA:2024-06-10 20:59:07 +08)\n",
      "idx.iter=  96.01 :   59/197  success=29.95% ( 8.74s/iter ETA:2024-06-10 20:59:33 +08)\n",
      "idx.iter=  97.01 :   59/198  success=29.80% ( 8.75s/iter ETA:2024-06-10 20:59:39 +08)\n",
      "idx.iter=  98.01 :   59/199  success=29.65% ( 8.77s/iter ETA:2024-06-10 21:00:03 +08)\n",
      "idx.iter=  99.01 :   60/200  success=30.00% ( 8.73s/iter ETA:2024-06-10 20:59:26 +08)\n",
      "idx.iter=   0.02 :   60/201  success=29.85% ( 8.75s/iter ETA:2024-06-10 20:59:39 +08)\n",
      "idx.iter=   1.02 :   60/202  success=29.70% ( 8.75s/iter ETA:2024-06-10 20:59:39 +08)\n",
      "idx.iter=   2.02 :   61/203  success=30.05% ( 8.71s/iter ETA:2024-06-10 20:59:03 +08)\n",
      "idx.iter=   3.02 :   62/204  success=30.39% ( 8.68s/iter ETA:2024-06-10 20:58:29 +08)\n",
      "idx.iter=   4.02 :   62/205  success=30.24% ( 8.68s/iter ETA:2024-06-10 20:58:33 +08)\n",
      "idx.iter=   5.02 :   62/206  success=30.10% ( 8.70s/iter ETA:2024-06-10 20:58:53 +08)\n",
      "idx.iter=   6.02 :   62/207  success=29.95% ( 8.71s/iter ETA:2024-06-10 20:59:05 +08)\n",
      "idx.iter=   7.02 :   62/208  success=29.81% ( 8.72s/iter ETA:2024-06-10 20:59:09 +08)\n",
      "idx.iter=   8.02 :   62/209  success=29.67% ( 8.73s/iter ETA:2024-06-10 20:59:19 +08)\n",
      "idx.iter=   9.02 :   62/210  success=29.52% ( 8.72s/iter ETA:2024-06-10 20:59:14 +08)\n",
      "idx.iter=  10.02 :   62/211  success=29.38% ( 8.73s/iter ETA:2024-06-10 20:59:26 +08)\n",
      "idx.iter=  11.02 :   62/212  success=29.25% ( 8.74s/iter ETA:2024-06-10 20:59:37 +08)\n",
      "idx.iter=  12.02 :   62/213  success=29.11% ( 8.75s/iter ETA:2024-06-10 20:59:45 +08)\n",
      "idx.iter=  13.02 :   63/214  success=29.44% ( 8.75s/iter ETA:2024-06-10 20:59:47 +08)\n",
      "idx.iter=  14.02 :   63/215  success=29.30% ( 8.76s/iter ETA:2024-06-10 20:59:57 +08)\n",
      "idx.iter=  15.02 :   63/216  success=29.17% ( 8.78s/iter ETA:2024-06-10 21:00:09 +08)\n",
      "idx.iter=  16.02 :   63/217  success=29.03% ( 8.78s/iter ETA:2024-06-10 21:00:10 +08)\n",
      "idx.iter=  17.02 :   64/218  success=29.36% ( 8.74s/iter ETA:2024-06-10 20:59:37 +08)\n",
      "Action rethink : 'applied round' does not suggest Action.GOES_INSIDE, but these parts could : 'round'\n",
      "idx.iter=  18.02 :   64/219  success=29.22% ( 8.77s/iter ETA:2024-06-10 21:00:02 +08)\n",
      "idx.iter=  19.02 :   64/220  success=29.09% ( 8.78s/iter ETA:2024-06-10 21:00:13 +08)\n",
      "idx.iter=  20.02 :   64/221  success=28.96% ( 8.79s/iter ETA:2024-06-10 21:00:23 +08)\n",
      "Action rethink : 'regularly collected' does not suggest Action.SUBSTRING, but these parts could : 'regularly'\n",
      "Action rethink : 'regularly collected' does not suggest Action.SUBSTRING, but these parts could : 'regularly'\n",
      "Action rethink : 'regularly collected' does not suggest Action.SUBSTRING, but these parts could : 'regularly'\n",
      "Action rethink : 'regularly collected' does not suggest Action.SUBSTRING, but these parts could : 'regularly'\n",
      "idx.iter=  21.02 :   64/222  success=28.83% ( 8.80s/iter ETA:2024-06-10 21:00:36 +08)\n",
      "idx.iter=  22.02 :   64/223  success=28.70% ( 8.81s/iter ETA:2024-06-10 21:00:48 +08)\n",
      "idx.iter=  23.02 :   64/224  success=28.57% ( 8.82s/iter ETA:2024-06-10 21:00:58 +08)\n",
      "idx.iter=  24.02 :   64/225  success=28.44% ( 8.84s/iter ETA:2024-06-10 21:01:15 +08)\n",
      "idx.iter=  25.02 :   64/226  success=28.32% ( 8.86s/iter ETA:2024-06-10 21:01:31 +08)\n",
      "idx.iter=  26.02 :   64/227  success=28.19% ( 8.87s/iter ETA:2024-06-10 21:01:46 +08)\n",
      "idx.iter=  27.02 :   65/228  success=28.51% ( 8.84s/iter ETA:2024-06-10 21:01:14 +08)\n",
      "idx.iter=  28.02 :   65/229  success=28.38% ( 8.85s/iter ETA:2024-06-10 21:01:21 +08)\n",
      "idx.iter=  29.02 :   65/230  success=28.26% ( 8.86s/iter ETA:2024-06-10 21:01:31 +08)\n",
      "idx.iter=  30.02 :   66/231  success=28.57% ( 8.83s/iter ETA:2024-06-10 21:01:00 +08)\n",
      "idx.iter=  31.02 :   66/232  success=28.45% ( 8.83s/iter ETA:2024-06-10 21:01:07 +08)\n",
      "idx.iter=  32.02 :   67/233  success=28.76% ( 8.80s/iter ETA:2024-06-10 21:00:36 +08)\n",
      "idx.iter=  33.02 :   67/234  success=28.63% ( 8.81s/iter ETA:2024-06-10 21:00:40 +08)\n",
      "idx.iter=  34.02 :   67/235  success=28.51% ( 8.83s/iter ETA:2024-06-10 21:01:03 +08)\n",
      "idx.iter=  35.02 :   67/236  success=28.39% ( 8.83s/iter ETA:2024-06-10 21:01:07 +08)\n",
      "idx.iter=  36.02 :   67/237  success=28.27% ( 8.84s/iter ETA:2024-06-10 21:01:13 +08)\n",
      "Action rethink : 'problem for' does not suggest Action.ANAGRAM, but these parts could : 'problem'\n",
      "idx.iter=  37.02 :   67/238  success=28.15% ( 8.85s/iter ETA:2024-06-10 21:01:25 +08)\n",
      "idx.iter=  38.02 :   68/239  success=28.45% ( 8.82s/iter ETA:2024-06-10 21:00:54 +08)\n",
      "idx.iter=  39.02 :   69/240  success=28.75% ( 8.79s/iter ETA:2024-06-10 21:00:24 +08)\n",
      "Action rethink : 'lead on' does not suggest Action.REMOVE_LAST, but these parts could : 'lead'\n",
      "0 503 502:Bad Gateway\n",
      "Retry attempt 1\n",
      "Action rethink : 'lead on' does not suggest Action.REMOVE_LAST, but these parts could : 'lead'\n",
      "Action rethink : 'lead on' does not suggest Action.REMOVE_LAST, but these parts could : 'lead'\n",
      "Action rethink : 'lead on' does not suggest Action.REMOVE_LAST, but these parts could : 'lead'\n",
      "Action rethink : 'lead on' does not suggest Action.REMOVE_LAST, but these parts could : 'lead'\n",
      "Action rethink : 'lead on' does not suggest Action.REMOVE_LAST, but these parts could : 'lead'\n",
      "idx.iter=  40.02 :   69/241  success=28.63% ( 9.00s/iter ETA:2024-06-10 21:03:49 +08)\n",
      "idx.iter=  41.02 :   70/242  success=28.93% ( 8.97s/iter ETA:2024-06-10 21:03:18 +08)\n",
      "idx.iter=  42.02 :   70/243  success=28.81% ( 8.98s/iter ETA:2024-06-10 21:03:29 +08)\n",
      "idx.iter=  43.02 :   70/244  success=28.69% ( 8.98s/iter ETA:2024-06-10 21:03:37 +08)\n",
      "idx.iter=  44.02 :   70/245  success=28.57% ( 8.98s/iter ETA:2024-06-10 21:03:38 +08)\n",
      "idx.iter=  45.02 :   70/246  success=28.46% ( 8.99s/iter ETA:2024-06-10 21:03:40 +08)\n",
      "idx.iter=  46.02 :   70/247  success=28.34% ( 9.00s/iter ETA:2024-06-10 21:03:51 +08)\n",
      "idx.iter=  47.02 :   70/248  success=28.23% ( 9.01s/iter ETA:2024-06-10 21:04:05 +08)\n",
      "idx.iter=  48.02 :   71/249  success=28.51% ( 8.98s/iter ETA:2024-06-10 21:03:35 +08)\n",
      "idx.iter=  49.02 :   71/250  success=28.40% ( 9.00s/iter ETA:2024-06-10 21:03:51 +08)\n",
      "idx.iter=  50.02 :   71/251  success=28.29% ( 9.00s/iter ETA:2024-06-10 21:03:53 +08)\n",
      "No definition found in clue 'The occident’s fatal day, right?'...  Not adding provided wordplay \n",
      "idx.iter=  51.02 :   71/252  success=28.17% ( 9.02s/iter ETA:2024-06-10 21:04:10 +08)\n",
      "idx.iter=  52.02 :   72/253  success=28.46% ( 8.99s/iter ETA:2024-06-10 21:03:48 +08)\n",
      "Action rethink : 'taken in by' does not suggest Action.GOES_INSIDE, but these parts could : 'in', 'taken in'\n",
      "Action rethink : 'taken in by' does not suggest Action.GOES_INSIDE, but these parts could : 'in', 'taken in'\n",
      "Action rethink : 'taken in by' does not suggest Action.GOES_INSIDE, but these parts could : 'in', 'taken in'\n",
      "Action rethink : 'taken in by' does not suggest Action.GOES_INSIDE, but these parts could : 'in', 'taken in'\n",
      "Action rethink : 'taken in by' does not suggest Action.GOES_INSIDE, but these parts could : 'in', 'taken in'\n",
      "idx.iter=  53.02 :   72/254  success=28.35% ( 9.01s/iter ETA:2024-06-10 21:04:04 +08)\n",
      "idx.iter=  54.02 :   72/255  success=28.24% ( 9.01s/iter ETA:2024-06-10 21:04:00 +08)\n",
      "Action rethink : 'made by' does not suggest Action.ANAGRAM, but these parts could : 'made'\n",
      "idx.iter=  55.02 :   73/256  success=28.52% ( 9.00s/iter ETA:2024-06-10 21:03:53 +08)\n",
      "idx.iter=  56.02 :   73/257  success=28.40% ( 9.00s/iter ETA:2024-06-10 21:03:55 +08)\n",
      "idx.iter=  57.02 :   73/258  success=28.29% ( 9.01s/iter ETA:2024-06-10 21:04:01 +08)\n",
      "idx.iter=  58.02 :   73/259  success=28.19% ( 9.02s/iter ETA:2024-06-10 21:04:14 +08)\n",
      "idx.iter=  59.02 :   73/260  success=28.08% ( 9.02s/iter ETA:2024-06-10 21:04:16 +08)\n",
      "idx.iter=  60.02 :   73/261  success=27.97% ( 9.03s/iter ETA:2024-06-10 21:04:19 +08)\n",
      "idx.iter=  61.02 :   73/262  success=27.86% ( 9.03s/iter ETA:2024-06-10 21:04:25 +08)\n",
      "idx.iter=  62.02 :   73/263  success=27.76% ( 9.04s/iter ETA:2024-06-10 21:04:32 +08)\n",
      "Action rethink : 'start to' does not suggest Action.REMOVE_LAST, but these parts could : 'start'\n",
      "Action rethink : 'start to' does not suggest Action.REMOVE_LAST, but these parts could : 'start'\n",
      "Action rethink : 'start to' does not suggest Action.REMOVE_LAST, but these parts could : 'start'\n",
      "Action rethink : 'start to' does not suggest Action.REMOVE_LAST, but these parts could : 'start'\n",
      "Action rethink : 'start to' does not suggest Action.REMOVE_LAST, but these parts could : 'start'\n",
      "Action rethink : 'start to' does not suggest Action.REMOVE_LAST, but these parts could : 'start'\n",
      "idx.iter=  63.02 :   73/264  success=27.65% ( 9.05s/iter ETA:2024-06-10 21:04:39 +08)\n",
      "idx.iter=  64.02 :   74/265  success=27.92% ( 9.02s/iter ETA:2024-06-10 21:04:12 +08)\n",
      "idx.iter=  65.02 :   75/266  success=28.20% ( 8.99s/iter ETA:2024-06-10 21:03:43 +08)\n",
      "idx.iter=  66.02 :   76/267  success=28.46% ( 8.96s/iter ETA:2024-06-10 21:03:16 +08)\n",
      "idx.iter=  67.02 :   76/268  success=28.36% ( 8.97s/iter ETA:2024-06-10 21:03:22 +08)\n",
      "idx.iter=  68.02 :   77/269  success=28.62% ( 8.95s/iter ETA:2024-06-10 21:03:08 +08)\n",
      "idx.iter=  69.02 :   77/270  success=28.52% ( 8.96s/iter ETA:2024-06-10 21:03:15 +08)\n",
      "idx.iter=  70.02 :   77/271  success=28.41% ( 8.96s/iter ETA:2024-06-10 21:03:14 +08)\n",
      "idx.iter=  71.02 :   77/272  success=28.31% ( 8.96s/iter ETA:2024-06-10 21:03:15 +08)\n",
      "idx.iter=  72.02 :   78/273  success=28.57% ( 8.93s/iter ETA:2024-06-10 21:02:48 +08)\n",
      "idx.iter=  73.02 :   79/274  success=28.83% ( 8.91s/iter ETA:2024-06-10 21:02:21 +08)\n",
      "idx.iter=  74.02 :   79/275  success=28.73% ( 8.92s/iter ETA:2024-06-10 21:02:31 +08)\n",
      "idx.iter=  75.02 :   79/276  success=28.62% ( 8.92s/iter ETA:2024-06-10 21:02:38 +08)\n",
      "idx.iter=  76.02 :   80/277  success=28.88% ( 8.90s/iter ETA:2024-06-10 21:02:12 +08)\n",
      "idx.iter=  77.02 :   81/278  success=29.14% ( 8.87s/iter ETA:2024-06-10 21:01:46 +08)\n",
      "idx.iter=  78.02 :   81/279  success=29.03% ( 8.88s/iter ETA:2024-06-10 21:01:54 +08)\n",
      "idx.iter=  79.02 :   82/280  success=29.29% ( 8.87s/iter ETA:2024-06-10 21:01:40 +08)\n",
      "idx.iter=  80.02 :   82/281  success=29.18% ( 8.88s/iter ETA:2024-06-10 21:01:50 +08)\n",
      "idx.iter=  81.02 :   82/282  success=29.08% ( 8.89s/iter ETA:2024-06-10 21:02:04 +08)\n",
      "idx.iter=  82.02 :   83/283  success=29.33% ( 8.88s/iter ETA:2024-06-10 21:01:57 +08)\n",
      "idx.iter=  83.02 :   83/284  success=29.23% ( 8.89s/iter ETA:2024-06-10 21:01:59 +08)\n",
      "idx.iter=  84.02 :   83/285  success=29.12% ( 8.89s/iter ETA:2024-06-10 21:01:58 +08)\n",
      "idx.iter=  85.02 :   83/286  success=29.02% ( 8.90s/iter ETA:2024-06-10 21:02:10 +08)\n",
      "idx.iter=  86.02 :   83/287  success=28.92% ( 8.90s/iter ETA:2024-06-10 21:02:13 +08)\n",
      "idx.iter=  87.02 :   83/288  success=28.82% ( 8.90s/iter ETA:2024-06-10 21:02:15 +08)\n",
      "idx.iter=  88.02 :   83/289  success=28.72% ( 8.91s/iter ETA:2024-06-10 21:02:20 +08)\n",
      "idx.iter=  89.02 :   83/290  success=28.62% ( 8.91s/iter ETA:2024-06-10 21:02:25 +08)\n",
      "idx.iter=  90.02 :   83/291  success=28.52% ( 8.92s/iter ETA:2024-06-10 21:02:31 +08)\n",
      "idx.iter=  91.02 :   83/292  success=28.42% ( 8.93s/iter ETA:2024-06-10 21:02:44 +08)\n",
      "Action rethink : 'pushed into' does not suggest Action.ANAGRAM, but these parts could : 'into'\n",
      "idx.iter=  92.02 :   83/293  success=28.33% ( 8.94s/iter ETA:2024-06-10 21:02:49 +08)\n",
      "idx.iter=  93.02 :   83/294  success=28.23% ( 8.94s/iter ETA:2024-06-10 21:02:51 +08)\n",
      "idx.iter=  94.02 :   83/295  success=28.14% ( 8.94s/iter ETA:2024-06-10 21:02:55 +08)\n",
      "idx.iter=  95.02 :   84/296  success=28.38% ( 8.93s/iter ETA:2024-06-10 21:02:43 +08)\n",
      "idx.iter=  96.02 :   84/297  success=28.28% ( 8.94s/iter ETA:2024-06-10 21:02:56 +08)\n",
      "idx.iter=  97.02 :   84/298  success=28.19% ( 8.95s/iter ETA:2024-06-10 21:02:59 +08)\n",
      "idx.iter=  98.02 :   84/299  success=28.09% ( 8.96s/iter ETA:2024-06-10 21:03:14 +08)\n",
      "idx.iter=  99.02 :   85/300  success=28.33% ( 8.94s/iter ETA:2024-06-10 21:02:49 +08)\n",
      "idx.iter=   0.03 :   85/301  success=28.24% ( 8.94s/iter ETA:2024-06-10 21:02:54 +08)\n",
      "idx.iter=   1.03 :   85/302  success=28.15% ( 8.94s/iter ETA:2024-06-10 21:02:53 +08)\n",
      "idx.iter=   2.03 :   86/303  success=28.38% ( 8.92s/iter ETA:2024-06-10 21:02:29 +08)\n",
      "idx.iter=   3.03 :   87/304  success=28.62% ( 8.89s/iter ETA:2024-06-10 21:02:04 +08)\n",
      "idx.iter=   4.03 :   87/305  success=28.52% ( 8.89s/iter ETA:2024-06-10 21:02:08 +08)\n",
      "idx.iter=   5.03 :   87/306  success=28.43% ( 8.91s/iter ETA:2024-06-10 21:02:24 +08)\n",
      "idx.iter=   6.03 :   87/307  success=28.34% ( 8.92s/iter ETA:2024-06-10 21:02:32 +08)\n",
      "idx.iter=   7.03 :   87/308  success=28.25% ( 8.92s/iter ETA:2024-06-10 21:02:38 +08)\n",
      "idx.iter=   8.03 :   87/309  success=28.16% ( 8.93s/iter ETA:2024-06-10 21:02:42 +08)\n",
      "idx.iter=   9.03 :   87/310  success=28.06% ( 8.93s/iter ETA:2024-06-10 21:02:40 +08)\n",
      "idx.iter=  10.03 :   87/311  success=27.97% ( 8.94s/iter ETA:2024-06-10 21:02:50 +08)\n",
      "idx.iter=  11.03 :   87/312  success=27.88% ( 8.95s/iter ETA:2024-06-10 21:02:59 +08)\n",
      "idx.iter=  12.03 :   87/313  success=27.80% ( 8.95s/iter ETA:2024-06-10 21:03:05 +08)\n",
      "idx.iter=  13.03 :   87/314  success=27.71% ( 8.96s/iter ETA:2024-06-10 21:03:14 +08)\n",
      "idx.iter=  14.03 :   87/315  success=27.62% ( 8.97s/iter ETA:2024-06-10 21:03:20 +08)\n",
      "idx.iter=  15.03 :   87/316  success=27.53% ( 8.98s/iter ETA:2024-06-10 21:03:32 +08)\n",
      "idx.iter=  16.03 :   87/317  success=27.44% ( 8.98s/iter ETA:2024-06-10 21:03:33 +08)\n",
      "idx.iter=  17.03 :   88/318  success=27.67% ( 8.96s/iter ETA:2024-06-10 21:03:09 +08)\n",
      "Action rethink : 'applied round' does not suggest Action.GOES_INSIDE, but these parts could : 'round'\n",
      "Action rethink : 'applied round' does not suggest Action.GOES_INSIDE, but these parts could : 'round'\n",
      "idx.iter=  18.03 :   88/319  success=27.59% ( 8.97s/iter ETA:2024-06-10 21:03:24 +08)\n",
      "idx.iter=  19.03 :   88/320  success=27.50% ( 8.97s/iter ETA:2024-06-10 21:03:28 +08)\n",
      "idx.iter=  20.03 :   88/321  success=27.41% ( 8.98s/iter ETA:2024-06-10 21:03:30 +08)\n",
      "Action rethink : 'regularly collected' does not suggest Action.SUBSTRING, but these parts could : 'regularly'\n",
      "Action rethink : 'regularly collected' does not suggest Action.SUBSTRING, but these parts could : 'regularly'\n",
      "Action rethink : 'regularly collected' does not suggest Action.SUBSTRING, but these parts could : 'regularly'\n",
      "idx.iter=  21.03 :   88/322  success=27.33% ( 8.99s/iter ETA:2024-06-10 21:03:41 +08)\n",
      "idx.iter=  22.03 :   88/323  success=27.24% ( 9.00s/iter ETA:2024-06-10 21:03:51 +08)\n",
      "idx.iter=  23.03 :   88/324  success=27.16% ( 9.00s/iter ETA:2024-06-10 21:03:57 +08)\n",
      "idx.iter=  24.03 :   88/325  success=27.08% ( 9.01s/iter ETA:2024-06-10 21:04:00 +08)\n",
      "idx.iter=  25.03 :   88/326  success=26.99% ( 9.02s/iter ETA:2024-06-10 21:04:11 +08)\n",
      "idx.iter=  26.03 :   88/327  success=26.91% ( 9.02s/iter ETA:2024-06-10 21:04:17 +08)\n",
      "idx.iter=  27.03 :   89/328  success=27.13% ( 9.00s/iter ETA:2024-06-10 21:03:55 +08)\n",
      "idx.iter=  28.03 :   89/329  success=27.05% ( 9.00s/iter ETA:2024-06-10 21:03:57 +08)\n",
      "idx.iter=  29.03 :   89/330  success=26.97% ( 9.01s/iter ETA:2024-06-10 21:04:03 +08)\n",
      "idx.iter=  30.03 :   90/331  success=27.19% ( 8.99s/iter ETA:2024-06-10 21:03:41 +08)\n",
      "Action rethink : 'picked up' does not suggest Action.REVERSE, but these parts could : 'up'\n",
      "Action rethink : 'picked up' does not suggest Action.REVERSE, but these parts could : 'up'\n",
      "Action rethink : 'picked up' does not suggest Action.REVERSE, but these parts could : 'up'\n",
      "Action rethink : 'picked up' does not suggest Action.REVERSE, but these parts could : 'up'\n",
      "Action rethink : 'picked up' does not suggest Action.REVERSE, but these parts could : 'up'\n",
      "idx.iter=  31.03 :   90/332  success=27.11% ( 9.00s/iter ETA:2024-06-10 21:03:49 +08)\n",
      "idx.iter=  32.03 :   90/333  success=27.03% ( 9.00s/iter ETA:2024-06-10 21:03:51 +08)\n",
      "idx.iter=  33.03 :   90/334  success=26.95% ( 9.00s/iter ETA:2024-06-10 21:03:55 +08)\n",
      "idx.iter=  34.03 :   90/335  success=26.87% ( 9.01s/iter ETA:2024-06-10 21:04:05 +08)\n",
      "idx.iter=  35.03 :   90/336  success=26.79% ( 9.01s/iter ETA:2024-06-10 21:04:07 +08)\n",
      "idx.iter=  36.03 :   90/337  success=26.71% ( 9.01s/iter ETA:2024-06-10 21:04:07 +08)\n",
      "idx.iter=  37.03 :   90/338  success=26.63% ( 9.02s/iter ETA:2024-06-10 21:04:15 +08)\n",
      "idx.iter=  38.03 :   91/339  success=26.84% ( 9.01s/iter ETA:2024-06-10 21:04:05 +08)\n",
      "idx.iter=  39.03 :   92/340  success=27.06% ( 8.99s/iter ETA:2024-06-10 21:03:43 +08)\n",
      "idx.iter=  40.03 :   92/341  success=26.98% ( 9.00s/iter ETA:2024-06-10 21:03:50 +08)\n",
      "idx.iter=  41.03 :   93/342  success=27.19% ( 8.98s/iter ETA:2024-06-10 21:03:29 +08)\n",
      "idx.iter=  42.03 :   93/343  success=27.11% ( 8.98s/iter ETA:2024-06-10 21:03:33 +08)\n",
      "idx.iter=  43.03 :   93/344  success=27.03% ( 8.98s/iter ETA:2024-06-10 21:03:35 +08)\n",
      "idx.iter=  44.03 :   93/345  success=26.96% ( 8.98s/iter ETA:2024-06-10 21:03:36 +08)\n",
      "idx.iter=  45.03 :   93/346  success=26.88% ( 8.98s/iter ETA:2024-06-10 21:03:36 +08)\n",
      "idx.iter=  46.03 :   93/347  success=26.80% ( 8.99s/iter ETA:2024-06-10 21:03:47 +08)\n",
      "idx.iter=  47.03 :   93/348  success=26.72% ( 9.00s/iter ETA:2024-06-10 21:03:52 +08)\n",
      "idx.iter=  48.03 :   94/349  success=26.93% ( 8.98s/iter ETA:2024-06-10 21:03:30 +08)\n",
      "idx.iter=  49.03 :   94/350  success=26.86% ( 8.99s/iter ETA:2024-06-10 21:03:39 +08)\n",
      "idx.iter=  50.03 :   94/351  success=26.78% ( 8.99s/iter ETA:2024-06-10 21:03:41 +08)\n",
      "No definition found in clue 'The occident’s fatal day, right?'...  Not adding provided wordplay \n",
      "idx.iter=  51.03 :   95/352  success=26.99% ( 8.97s/iter ETA:2024-06-10 21:03:21 +08)\n",
      "idx.iter=  52.03 :   96/353  success=27.20% ( 8.95s/iter ETA:2024-06-10 21:03:04 +08)\n",
      "Action rethink : 'taken in by' does not suggest Action.GOES_INSIDE, but these parts could : 'in', 'taken in'\n",
      "Action rethink : 'taken in by' does not suggest Action.GOES_INSIDE, but these parts could : 'in', 'taken in'\n",
      "Action rethink : 'taken in by' does not suggest Action.GOES_INSIDE, but these parts could : 'in', 'taken in'\n",
      "idx.iter=  53.03 :   96/354  success=27.12% ( 8.97s/iter ETA:2024-06-10 21:03:20 +08)\n",
      "idx.iter=  54.03 :   96/355  success=27.04% ( 8.97s/iter ETA:2024-06-10 21:03:19 +08)\n",
      "idx.iter=  55.03 :   97/356  success=27.25% ( 8.95s/iter ETA:2024-06-10 21:03:05 +08)\n",
      "idx.iter=  56.03 :   98/357  success=27.45% ( 8.95s/iter ETA:2024-06-10 21:03:04 +08)\n",
      "idx.iter=  57.03 :   98/358  success=27.37% ( 8.96s/iter ETA:2024-06-10 21:03:11 +08)\n",
      "idx.iter=  58.03 :   99/359  success=27.58% ( 8.95s/iter ETA:2024-06-10 21:02:59 +08)\n",
      "idx.iter=  59.03 :  100/360  success=27.78% ( 8.92s/iter ETA:2024-06-10 21:02:38 +08)\n",
      "idx.iter=  60.03 :  100/361  success=27.70% ( 8.93s/iter ETA:2024-06-10 21:02:45 +08)\n",
      "idx.iter=  61.03 :  100/362  success=27.62% ( 8.94s/iter ETA:2024-06-10 21:02:51 +08)\n",
      "idx.iter=  62.03 :  100/363  success=27.55% ( 8.95s/iter ETA:2024-06-10 21:03:01 +08)\n",
      "idx.iter=  63.03 :  100/364  success=27.47% ( 8.95s/iter ETA:2024-06-10 21:03:05 +08)\n",
      "idx.iter=  64.03 :  101/365  success=27.67% ( 8.93s/iter ETA:2024-06-10 21:02:45 +08)\n",
      "idx.iter=  65.03 :  102/366  success=27.87% ( 8.91s/iter ETA:2024-06-10 21:02:26 +08)\n",
      "idx.iter=  66.03 :  103/367  success=28.07% ( 8.89s/iter ETA:2024-06-10 21:02:06 +08)\n",
      "idx.iter=  67.03 :  104/368  success=28.26% ( 8.88s/iter ETA:2024-06-10 21:01:51 +08)\n",
      "idx.iter=  68.03 :  105/369  success=28.46% ( 8.86s/iter ETA:2024-06-10 21:01:31 +08)\n",
      "idx.iter=  69.03 :  105/370  success=28.38% ( 8.86s/iter ETA:2024-06-10 21:01:35 +08)\n",
      "idx.iter=  70.03 :  105/371  success=28.30% ( 8.86s/iter ETA:2024-06-10 21:01:34 +08)\n",
      "Action rethink : 'short aggressive' does not suggest Action.REMOVE_LAST, but these parts could : 'short'\n",
      "Action rethink : 'short aggressive' does not suggest Action.REMOVE_LAST, but these parts could : 'short'\n",
      "idx.iter=  71.03 :  106/372  success=28.49% ( 8.85s/iter ETA:2024-06-10 21:01:24 +08)\n",
      "idx.iter=  72.03 :  107/373  success=28.69% ( 8.83s/iter ETA:2024-06-10 21:01:04 +08)\n",
      "idx.iter=  73.03 :  108/374  success=28.88% ( 8.81s/iter ETA:2024-06-10 21:00:45 +08)\n",
      "idx.iter=  74.03 :  108/375  success=28.80% ( 8.82s/iter ETA:2024-06-10 21:00:52 +08)\n",
      "idx.iter=  75.03 :  108/376  success=28.72% ( 8.82s/iter ETA:2024-06-10 21:00:58 +08)\n",
      "idx.iter=  76.03 :  109/377  success=28.91% ( 8.81s/iter ETA:2024-06-10 21:00:40 +08)\n",
      "idx.iter=  77.03 :  110/378  success=29.10% ( 8.79s/iter ETA:2024-06-10 21:00:20 +08)\n",
      "idx.iter=  78.03 :  110/379  success=29.02% ( 8.79s/iter ETA:2024-06-10 21:00:27 +08)\n",
      "idx.iter=  79.03 :  111/380  success=29.21% ( 8.78s/iter ETA:2024-06-10 21:00:12 +08)\n",
      "idx.iter=  80.03 :  112/381  success=29.40% ( 8.76s/iter ETA:2024-06-10 20:59:58 +08)\n",
      "idx.iter=  81.03 :  112/382  success=29.32% ( 8.78s/iter ETA:2024-06-10 21:00:09 +08)\n",
      "idx.iter=  82.03 :  112/383  success=29.24% ( 8.78s/iter ETA:2024-06-10 21:00:16 +08)\n",
      "idx.iter=  83.03 :  112/384  success=29.17% ( 8.79s/iter ETA:2024-06-10 21:00:19 +08)\n",
      "idx.iter=  84.03 :  112/385  success=29.09% ( 8.79s/iter ETA:2024-06-10 21:00:19 +08)\n",
      "idx.iter=  85.03 :  112/386  success=29.02% ( 8.79s/iter ETA:2024-06-10 21:00:26 +08)\n",
      "idx.iter=  86.03 :  112/387  success=28.94% ( 8.80s/iter ETA:2024-06-10 21:00:31 +08)\n",
      "idx.iter=  87.03 :  112/388  success=28.87% ( 8.80s/iter ETA:2024-06-10 21:00:34 +08)\n",
      "idx.iter=  88.03 :  112/389  success=28.79% ( 8.81s/iter ETA:2024-06-10 21:00:41 +08)\n",
      "idx.iter=  89.03 :  113/390  success=28.97% ( 8.81s/iter ETA:2024-06-10 21:00:45 +08)\n",
      "idx.iter=  90.03 :  113/391  success=28.90% ( 8.82s/iter ETA:2024-06-10 21:00:55 +08)\n",
      "idx.iter=  91.03 :  113/392  success=28.83% ( 8.83s/iter ETA:2024-06-10 21:01:03 +08)\n",
      "idx.iter=  92.03 :  113/393  success=28.75% ( 8.84s/iter ETA:2024-06-10 21:01:08 +08)\n",
      "idx.iter=  93.03 :  113/394  success=28.68% ( 8.84s/iter ETA:2024-06-10 21:01:10 +08)\n",
      "idx.iter=  94.03 :  113/395  success=28.61% ( 8.84s/iter ETA:2024-06-10 21:01:15 +08)\n",
      "idx.iter=  95.03 :  114/396  success=28.79% ( 8.82s/iter ETA:2024-06-10 21:00:57 +08)\n",
      "idx.iter=  96.03 :  114/397  success=28.72% ( 8.83s/iter ETA:2024-06-10 21:01:05 +08)\n",
      "idx.iter=  97.03 :  114/398  success=28.64% ( 8.83s/iter ETA:2024-06-10 21:01:06 +08)\n",
      "idx.iter=  98.03 :  115/399  success=28.82% ( 8.82s/iter ETA:2024-06-10 21:00:54 +08)\n",
      "idx.iter=  99.03 :  116/400  success=29.00% ( 8.80s/iter ETA:2024-06-10 21:00:36 +08)\n",
      "idx.iter=   0.04 :  116/401  success=28.93% ( 8.81s/iter ETA:2024-06-10 21:00:44 +08)\n",
      "idx.iter=   1.04 :  116/402  success=28.86% ( 8.81s/iter ETA:2024-06-10 21:00:43 +08)\n",
      "idx.iter=   2.04 :  117/403  success=29.03% ( 8.79s/iter ETA:2024-06-10 21:00:25 +08)\n",
      "idx.iter=   3.04 :  118/404  success=29.21% ( 8.77s/iter ETA:2024-06-10 21:00:07 +08)\n",
      "idx.iter=   4.04 :  118/405  success=29.14% ( 8.78s/iter ETA:2024-06-10 21:00:09 +08)\n",
      "idx.iter=   5.04 :  118/406  success=29.06% ( 8.79s/iter ETA:2024-06-10 21:00:18 +08)\n",
      "idx.iter=   6.04 :  118/407  success=28.99% ( 8.79s/iter ETA:2024-06-10 21:00:25 +08)\n",
      "idx.iter=   7.04 :  118/408  success=28.92% ( 8.79s/iter ETA:2024-06-10 21:00:28 +08)\n",
      "idx.iter=   8.04 :  118/409  success=28.85% ( 8.80s/iter ETA:2024-06-10 21:00:32 +08)\n",
      "idx.iter=   9.04 :  118/410  success=28.78% ( 8.80s/iter ETA:2024-06-10 21:00:34 +08)\n",
      "idx.iter=  10.04 :  118/411  success=28.71% ( 8.81s/iter ETA:2024-06-10 21:00:41 +08)\n",
      "idx.iter=  11.04 :  118/412  success=28.64% ( 8.81s/iter ETA:2024-06-10 21:00:47 +08)\n",
      "idx.iter=  12.04 :  118/413  success=28.57% ( 8.82s/iter ETA:2024-06-10 21:00:49 +08)\n",
      "idx.iter=  13.04 :  118/414  success=28.50% ( 8.83s/iter ETA:2024-06-10 21:01:03 +08)\n",
      "idx.iter=  14.04 :  118/415  success=28.43% ( 8.83s/iter ETA:2024-06-10 21:01:07 +08)\n",
      "idx.iter=  15.04 :  118/416  success=28.37% ( 8.84s/iter ETA:2024-06-10 21:01:15 +08)\n",
      "idx.iter=  16.04 :  118/417  success=28.30% ( 8.84s/iter ETA:2024-06-10 21:01:16 +08)\n",
      "idx.iter=  17.04 :  119/418  success=28.47% ( 8.83s/iter ETA:2024-06-10 21:00:59 +08)\n",
      "Action rethink : 'applied round' does not suggest Action.GOES_INSIDE, but these parts could : 'round'\n",
      "Action rethink : 'applied round' does not suggest Action.GOES_INSIDE, but these parts could : 'round'\n",
      "Action rethink : 'applied round' does not suggest Action.GOES_INSIDE, but these parts could : 'round'\n",
      "Action rethink : 'applied round' does not suggest Action.GOES_INSIDE, but these parts could : 'round'\n",
      "idx.iter=  18.04 :  119/419  success=28.40% ( 8.84s/iter ETA:2024-06-10 21:01:09 +08)\n",
      "idx.iter=  19.04 :  119/420  success=28.33% ( 8.84s/iter ETA:2024-06-10 21:01:14 +08)\n",
      "idx.iter=  20.04 :  119/421  success=28.27% ( 8.84s/iter ETA:2024-06-10 21:01:17 +08)\n",
      "Action rethink : 'regularly collected' does not suggest Action.SUBSTRING, but these parts could : 'regularly'\n",
      "idx.iter=  21.04 :  119/422  success=28.20% ( 8.85s/iter ETA:2024-06-10 21:01:19 +08)\n",
      "idx.iter=  22.04 :  119/423  success=28.13% ( 8.85s/iter ETA:2024-06-10 21:01:25 +08)\n",
      "idx.iter=  23.04 :  119/424  success=28.07% ( 8.86s/iter ETA:2024-06-10 21:01:29 +08)\n",
      "idx.iter=  24.04 :  119/425  success=28.00% ( 8.86s/iter ETA:2024-06-10 21:01:32 +08)\n",
      "idx.iter=  25.04 :  119/426  success=27.93% ( 8.87s/iter ETA:2024-06-10 21:01:39 +08)\n",
      "idx.iter=  26.04 :  119/427  success=27.87% ( 8.87s/iter ETA:2024-06-10 21:01:47 +08)\n",
      "idx.iter=  27.04 :  120/428  success=28.04% ( 8.86s/iter ETA:2024-06-10 21:01:30 +08)\n",
      "idx.iter=  28.04 :  120/429  success=27.97% ( 8.86s/iter ETA:2024-06-10 21:01:32 +08)\n",
      "idx.iter=  29.04 :  120/430  success=27.91% ( 8.87s/iter ETA:2024-06-10 21:01:39 +08)\n",
      "idx.iter=  30.04 :  121/431  success=28.07% ( 8.85s/iter ETA:2024-06-10 21:01:22 +08)\n",
      "Action rethink : 'picked up' does not suggest Action.REVERSE, but these parts could : 'up'\n",
      "idx.iter=  31.04 :  121/432  success=28.01% ( 8.85s/iter ETA:2024-06-10 21:01:24 +08)\n",
      "idx.iter=  32.04 :  121/433  success=27.94% ( 8.86s/iter ETA:2024-06-10 21:01:29 +08)\n",
      "idx.iter=  33.04 :  121/434  success=27.88% ( 8.86s/iter ETA:2024-06-10 21:01:30 +08)\n",
      "idx.iter=  34.04 :  121/435  success=27.82% ( 8.87s/iter ETA:2024-06-10 21:01:39 +08)\n",
      "idx.iter=  35.04 :  121/436  success=27.75% ( 8.87s/iter ETA:2024-06-10 21:01:41 +08)\n",
      "idx.iter=  36.04 :  121/437  success=27.69% ( 8.87s/iter ETA:2024-06-10 21:01:41 +08)\n",
      "idx.iter=  37.04 :  121/438  success=27.63% ( 8.87s/iter ETA:2024-06-10 21:01:47 +08)\n",
      "idx.iter=  38.04 :  122/439  success=27.79% ( 8.87s/iter ETA:2024-06-10 21:01:43 +08)\n",
      "idx.iter=  39.04 :  123/440  success=27.95% ( 8.85s/iter ETA:2024-06-10 21:01:26 +08)\n",
      "idx.iter=  40.04 :  123/441  success=27.89% ( 8.86s/iter ETA:2024-06-10 21:01:31 +08)\n",
      "idx.iter=  41.04 :  124/442  success=28.05% ( 8.84s/iter ETA:2024-06-10 21:01:14 +08)\n",
      "idx.iter=  42.04 :  124/443  success=27.99% ( 8.85s/iter ETA:2024-06-10 21:01:19 +08)\n",
      "idx.iter=  43.04 :  124/444  success=27.93% ( 8.85s/iter ETA:2024-06-10 21:01:19 +08)\n",
      "idx.iter=  44.04 :  124/445  success=27.87% ( 8.85s/iter ETA:2024-06-10 21:01:21 +08)\n",
      "idx.iter=  45.04 :  124/446  success=27.80% ( 8.85s/iter ETA:2024-06-10 21:01:27 +08)\n",
      "idx.iter=  46.04 :  124/447  success=27.74% ( 8.86s/iter ETA:2024-06-10 21:01:35 +08)\n",
      "idx.iter=  47.04 :  124/448  success=27.68% ( 8.87s/iter ETA:2024-06-10 21:01:40 +08)\n",
      "idx.iter=  48.04 :  125/449  success=27.84% ( 8.85s/iter ETA:2024-06-10 21:01:23 +08)\n",
      "idx.iter=  49.04 :  125/450  success=27.78% ( 8.86s/iter ETA:2024-06-10 21:01:30 +08)\n",
      "idx.iter=  50.04 :  125/451  success=27.72% ( 8.86s/iter ETA:2024-06-10 21:01:32 +08)\n",
      "No definition found in clue 'The occident’s fatal day, right?'...  Not adding provided wordplay \n",
      "idx.iter=  51.04 :  126/452  success=27.88% ( 8.84s/iter ETA:2024-06-10 21:01:16 +08)\n",
      "idx.iter=  52.04 :  126/453  success=27.81% ( 8.84s/iter ETA:2024-06-10 21:01:17 +08)\n",
      "Action rethink : 'taken in by' does not suggest Action.GOES_INSIDE, but these parts could : 'in', 'taken in'\n",
      "Action rethink : 'taken in by' does not suggest Action.GOES_INSIDE, but these parts could : 'in', 'taken in'\n",
      "Action rethink : 'taken in by' does not suggest Action.GOES_INSIDE, but these parts could : 'in', 'taken in'\n",
      "Action rethink : 'taken in by' does not suggest Action.GOES_INSIDE, but these parts could : 'in', 'taken in'\n",
      "idx.iter=  53.04 :  126/454  success=27.75% ( 8.85s/iter ETA:2024-06-10 21:01:26 +08)\n",
      "idx.iter=  54.04 :  126/455  success=27.69% ( 8.85s/iter ETA:2024-06-10 21:01:25 +08)\n",
      "Action rethink : 'made by ... during ' does not suggest Action.ANAGRAM, but these parts could : 'made'\n",
      "idx.iter=  55.04 :  127/456  success=27.85% ( 8.85s/iter ETA:2024-06-10 21:01:20 +08)\n",
      "idx.iter=  56.04 :  127/457  success=27.79% ( 8.85s/iter ETA:2024-06-10 21:01:25 +08)\n",
      "idx.iter=  57.04 :  127/458  success=27.73% ( 8.86s/iter ETA:2024-06-10 21:01:30 +08)\n",
      "idx.iter=  58.04 :  127/459  success=27.67% ( 8.87s/iter ETA:2024-06-10 21:01:39 +08)\n",
      "idx.iter=  59.04 :  128/460  success=27.83% ( 8.85s/iter ETA:2024-06-10 21:01:23 +08)\n",
      "idx.iter=  60.04 :  128/461  success=27.77% ( 8.85s/iter ETA:2024-06-10 21:01:28 +08)\n",
      "idx.iter=  61.04 :  128/462  success=27.71% ( 8.86s/iter ETA:2024-06-10 21:01:32 +08)\n",
      "idx.iter=  62.04 :  128/463  success=27.65% ( 8.86s/iter ETA:2024-06-10 21:01:38 +08)\n",
      "idx.iter=  63.04 :  128/464  success=27.59% ( 8.87s/iter ETA:2024-06-10 21:01:46 +08)\n",
      "idx.iter=  64.04 :  129/465  success=27.74% ( 8.87s/iter ETA:2024-06-10 21:01:45 +08)\n",
      "idx.iter=  65.04 :  130/466  success=27.90% ( 8.86s/iter ETA:2024-06-10 21:01:36 +08)\n",
      "idx.iter=  66.04 :  131/467  success=28.05% ( 8.85s/iter ETA:2024-06-10 21:01:21 +08)\n",
      "idx.iter=  67.04 :  131/468  success=27.99% ( 8.85s/iter ETA:2024-06-10 21:01:27 +08)\n",
      "idx.iter=  68.04 :  132/469  success=28.14% ( 8.84s/iter ETA:2024-06-10 21:01:12 +08)\n",
      "idx.iter=  69.04 :  132/470  success=28.09% ( 8.84s/iter ETA:2024-06-10 21:01:16 +08)\n",
      "idx.iter=  70.04 :  132/471  success=28.03% ( 8.85s/iter ETA:2024-06-10 21:01:18 +08)\n",
      "0 500 Internal error encountered.\n",
      "Retry attempt 1\n",
      "idx.iter=  71.04 :  132/472  success=27.97% ( 8.86s/iter ETA:2024-06-10 21:01:35 +08)\n",
      "idx.iter=  72.04 :  133/473  success=28.12% ( 8.85s/iter ETA:2024-06-10 21:01:20 +08)\n",
      "idx.iter=  73.04 :  134/474  success=28.27% ( 8.83s/iter ETA:2024-06-10 21:01:04 +08)\n",
      "idx.iter=  74.04 :  134/475  success=28.21% ( 8.84s/iter ETA:2024-06-10 21:01:10 +08)\n",
      "idx.iter=  75.04 :  134/476  success=28.15% ( 8.84s/iter ETA:2024-06-10 21:01:16 +08)\n",
      "idx.iter=  76.04 :  135/477  success=28.30% ( 8.83s/iter ETA:2024-06-10 21:01:01 +08)\n",
      "idx.iter=  77.04 :  136/478  success=28.45% ( 8.81s/iter ETA:2024-06-10 21:00:45 +08)\n",
      "idx.iter=  78.04 :  136/479  success=28.39% ( 8.82s/iter ETA:2024-06-10 21:00:52 +08)\n",
      "idx.iter=  79.04 :  137/480  success=28.54% ( 8.81s/iter ETA:2024-06-10 21:00:40 +08)\n",
      "idx.iter=  80.04 :  138/481  success=28.69% ( 8.81s/iter ETA:2024-06-10 21:00:44 +08)\n",
      "idx.iter=  81.04 :  138/482  success=28.63% ( 8.82s/iter ETA:2024-06-10 21:00:56 +08)\n",
      "idx.iter=  82.04 :  138/483  success=28.57% ( 8.83s/iter ETA:2024-06-10 21:01:01 +08)\n",
      "idx.iter=  83.04 :  138/484  success=28.51% ( 8.83s/iter ETA:2024-06-10 21:01:04 +08)\n",
      "idx.iter=  84.04 :  138/485  success=28.45% ( 8.83s/iter ETA:2024-06-10 21:01:04 +08)\n",
      "idx.iter=  85.04 :  138/486  success=28.40% ( 8.84s/iter ETA:2024-06-10 21:01:10 +08)\n",
      "idx.iter=  86.04 :  138/487  success=28.34% ( 8.84s/iter ETA:2024-06-10 21:01:14 +08)\n",
      "idx.iter=  87.04 :  138/488  success=28.28% ( 8.85s/iter ETA:2024-06-10 21:01:20 +08)\n",
      "idx.iter=  88.04 :  139/489  success=28.43% ( 8.85s/iter ETA:2024-06-10 21:01:24 +08)\n",
      "idx.iter=  89.04 :  139/490  success=28.37% ( 8.85s/iter ETA:2024-06-10 21:01:27 +08)\n",
      "idx.iter=  90.04 :  139/491  success=28.31% ( 8.86s/iter ETA:2024-06-10 21:01:32 +08)\n",
      "idx.iter=  91.04 :  139/492  success=28.25% ( 8.87s/iter ETA:2024-06-10 21:01:41 +08)\n",
      "idx.iter=  92.04 :  139/493  success=28.19% ( 8.87s/iter ETA:2024-06-10 21:01:46 +08)\n",
      "idx.iter=  93.04 :  139/494  success=28.14% ( 8.87s/iter ETA:2024-06-10 21:01:47 +08)\n",
      "Action rethink : 'made by' does not suggest Action.ANAGRAM, but these parts could : 'made'\n",
      "idx.iter=  94.04 :  139/495  success=28.08% ( 8.88s/iter ETA:2024-06-10 21:01:50 +08)\n",
      "idx.iter=  95.04 :  140/496  success=28.23% ( 8.86s/iter ETA:2024-06-10 21:01:36 +08)\n",
      "idx.iter=  96.04 :  140/497  success=28.17% ( 8.87s/iter ETA:2024-06-10 21:01:43 +08)\n",
      "idx.iter=  97.04 :  140/498  success=28.11% ( 8.87s/iter ETA:2024-06-10 21:01:44 +08)\n",
      "idx.iter=  98.04 :  140/499  success=28.06% ( 8.88s/iter ETA:2024-06-10 21:01:52 +08)\n",
      "idx.iter=  99.04 :  141/500  success=28.20% ( 8.86s/iter ETA:2024-06-10 21:01:37 +08)\n",
      "idx.iter=   0.05 :  141/501  success=28.14% ( 8.87s/iter ETA:2024-06-10 21:01:43 +08)\n",
      "idx.iter=   1.05 :  141/502  success=28.09% ( 8.87s/iter ETA:2024-06-10 21:01:44 +08)\n",
      "idx.iter=   2.05 :  142/503  success=28.23% ( 8.86s/iter ETA:2024-06-10 21:01:29 +08)\n",
      "idx.iter=   3.05 :  143/504  success=28.37% ( 8.84s/iter ETA:2024-06-10 21:01:15 +08)\n",
      "idx.iter=   4.05 :  143/505  success=28.32% ( 8.84s/iter ETA:2024-06-10 21:01:16 +08)\n",
      "idx.iter=   5.05 :  143/506  success=28.26% ( 8.85s/iter ETA:2024-06-10 21:01:27 +08)\n",
      "idx.iter=   6.05 :  143/507  success=28.21% ( 8.86s/iter ETA:2024-06-10 21:01:33 +08)\n",
      "idx.iter=   7.05 :  143/508  success=28.15% ( 8.86s/iter ETA:2024-06-10 21:01:38 +08)\n",
      "idx.iter=   8.05 :  143/509  success=28.09% ( 8.87s/iter ETA:2024-06-10 21:01:42 +08)\n",
      "idx.iter=   9.05 :  143/510  success=28.04% ( 8.87s/iter ETA:2024-06-10 21:01:40 +08)\n",
      "idx.iter=  10.05 :  143/511  success=27.98% ( 8.87s/iter ETA:2024-06-10 21:01:45 +08)\n",
      "idx.iter=  11.05 :  143/512  success=27.93% ( 8.88s/iter ETA:2024-06-10 21:01:49 +08)\n",
      "idx.iter=  12.05 :  143/513  success=27.88% ( 8.88s/iter ETA:2024-06-10 21:01:53 +08)\n",
      "idx.iter=  13.05 :  143/514  success=27.82% ( 8.89s/iter ETA:2024-06-10 21:01:59 +08)\n",
      "idx.iter=  14.05 :  143/515  success=27.77% ( 8.89s/iter ETA:2024-06-10 21:02:04 +08)\n",
      "idx.iter=  15.05 :  144/516  success=27.91% ( 8.88s/iter ETA:2024-06-10 21:01:53 +08)\n",
      "idx.iter=  16.05 :  144/517  success=27.85% ( 8.88s/iter ETA:2024-06-10 21:01:55 +08)\n",
      "idx.iter=  17.05 :  145/518  success=27.99% ( 8.87s/iter ETA:2024-06-10 21:01:41 +08)\n",
      "Action rethink : 'applied round' does not suggest Action.GOES_INSIDE, but these parts could : 'round'\n",
      "Action rethink : 'applied round' does not suggest Action.GOES_INSIDE, but these parts could : 'round'\n",
      "Action rethink : 'applied round' does not suggest Action.GOES_INSIDE, but these parts could : 'round'\n",
      "Action rethink : 'applied round' does not suggest Action.GOES_INSIDE, but these parts could : 'round'\n",
      "Action rethink : 'applied round' does not suggest Action.GOES_INSIDE, but these parts could : 'round'\n",
      "Action rethink : 'applied round' does not suggest Action.GOES_INSIDE, but these parts could : 'round'\n",
      "idx.iter=  18.05 :  145/519  success=27.94% ( 8.88s/iter ETA:2024-06-10 21:01:52 +08)\n",
      "idx.iter=  19.05 :  145/520  success=27.88% ( 8.88s/iter ETA:2024-06-10 21:01:57 +08)\n",
      "idx.iter=  20.05 :  145/521  success=27.83% ( 8.89s/iter ETA:2024-06-10 21:02:02 +08)\n",
      "Action rethink : 'regularly collected' does not suggest Action.SUBSTRING, but these parts could : 'regularly'\n",
      "Action rethink : 'regularly collected' does not suggest Action.SUBSTRING, but these parts could : 'regularly'\n",
      "idx.iter=  21.05 :  145/522  success=27.78% ( 8.89s/iter ETA:2024-06-10 21:02:05 +08)\n",
      "idx.iter=  22.05 :  145/523  success=27.72% ( 8.90s/iter ETA:2024-06-10 21:02:11 +08)\n",
      "idx.iter=  23.05 :  145/524  success=27.67% ( 8.90s/iter ETA:2024-06-10 21:02:16 +08)\n",
      "idx.iter=  24.05 :  145/525  success=27.62% ( 8.91s/iter ETA:2024-06-10 21:02:21 +08)\n",
      "idx.iter=  25.05 :  145/526  success=27.57% ( 8.91s/iter ETA:2024-06-10 21:02:27 +08)\n",
      "idx.iter=  26.05 :  146/527  success=27.70% ( 8.90s/iter ETA:2024-06-10 21:02:18 +08)\n",
      "idx.iter=  27.05 :  147/528  success=27.84% ( 8.89s/iter ETA:2024-06-10 21:02:04 +08)\n",
      "idx.iter=  28.05 :  147/529  success=27.79% ( 8.89s/iter ETA:2024-06-10 21:02:05 +08)\n",
      "idx.iter=  29.05 :  147/530  success=27.74% ( 8.90s/iter ETA:2024-06-10 21:02:09 +08)\n",
      "idx.iter=  30.05 :  148/531  success=27.87% ( 8.88s/iter ETA:2024-06-10 21:01:55 +08)\n",
      "idx.iter=  31.05 :  148/532  success=27.82% ( 8.89s/iter ETA:2024-06-10 21:02:02 +08)\n",
      "idx.iter=  32.05 :  148/533  success=27.77% ( 8.89s/iter ETA:2024-06-10 21:02:07 +08)\n",
      "idx.iter=  33.05 :  148/534  success=27.72% ( 8.90s/iter ETA:2024-06-10 21:02:10 +08)\n",
      "idx.iter=  34.05 :  148/535  success=27.66% ( 8.90s/iter ETA:2024-06-10 21:02:17 +08)\n",
      "idx.iter=  35.05 :  148/536  success=27.61% ( 8.91s/iter ETA:2024-06-10 21:02:19 +08)\n",
      "idx.iter=  36.05 :  148/537  success=27.56% ( 8.91s/iter ETA:2024-06-10 21:02:18 +08)\n",
      "idx.iter=  37.05 :  148/538  success=27.51% ( 8.91s/iter ETA:2024-06-10 21:02:22 +08)\n",
      "idx.iter=  38.05 :  149/539  success=27.64% ( 8.90s/iter ETA:2024-06-10 21:02:09 +08)\n",
      "idx.iter=  39.05 :  150/540  success=27.78% ( 8.88s/iter ETA:2024-06-10 21:01:55 +08)\n",
      "idx.iter=  40.05 :  150/541  success=27.73% ( 8.89s/iter ETA:2024-06-10 21:02:00 +08)\n",
      "idx.iter=  41.05 :  151/542  success=27.86% ( 8.87s/iter ETA:2024-06-10 21:01:46 +08)\n",
      "idx.iter=  42.05 :  152/543  success=27.99% ( 8.87s/iter ETA:2024-06-10 21:01:43 +08)\n",
      "idx.iter=  43.05 :  152/544  success=27.94% ( 8.87s/iter ETA:2024-06-10 21:01:45 +08)\n",
      "idx.iter=  44.05 :  152/545  success=27.89% ( 8.87s/iter ETA:2024-06-10 21:01:46 +08)\n",
      "idx.iter=  45.05 :  152/546  success=27.84% ( 8.87s/iter ETA:2024-06-10 21:01:47 +08)\n",
      "idx.iter=  46.05 :  152/547  success=27.79% ( 8.88s/iter ETA:2024-06-10 21:01:54 +08)\n",
      "idx.iter=  47.05 :  152/548  success=27.74% ( 8.89s/iter ETA:2024-06-10 21:02:00 +08)\n",
      "idx.iter=  48.05 :  153/549  success=27.87% ( 8.87s/iter ETA:2024-06-10 21:01:47 +08)\n",
      "idx.iter=  49.05 :  153/550  success=27.82% ( 8.88s/iter ETA:2024-06-10 21:01:53 +08)\n",
      "idx.iter=  50.05 :  153/551  success=27.77% ( 8.88s/iter ETA:2024-06-10 21:01:56 +08)\n",
      "No definition found in clue 'The occident’s fatal day, right?'...  Not adding provided wordplay \n",
      "idx.iter=  51.05 :  153/552  success=27.72% ( 8.89s/iter ETA:2024-06-10 21:02:03 +08)\n",
      "idx.iter=  52.05 :  154/553  success=27.85% ( 8.88s/iter ETA:2024-06-10 21:01:53 +08)\n",
      "idx.iter=  53.05 :  155/554  success=27.98% ( 8.87s/iter ETA:2024-06-10 21:01:48 +08)\n",
      "idx.iter=  54.05 :  155/555  success=27.93% ( 8.87s/iter ETA:2024-06-10 21:01:47 +08)\n",
      "idx.iter=  55.05 :  156/556  success=28.06% ( 8.86s/iter ETA:2024-06-10 21:01:37 +08)\n",
      "idx.iter=  56.05 :  156/557  success=28.01% ( 8.87s/iter ETA:2024-06-10 21:01:41 +08)\n",
      "idx.iter=  57.05 :  157/558  success=28.14% ( 8.86s/iter ETA:2024-06-10 21:01:31 +08)\n",
      "idx.iter=  58.05 :  157/559  success=28.09% ( 8.87s/iter ETA:2024-06-10 21:01:40 +08)\n",
      "idx.iter=  59.05 :  158/560  success=28.21% ( 8.85s/iter ETA:2024-06-10 21:01:27 +08)\n",
      "Action rethink : 'instigator of' does not suggest Action.SUBSTRING, but these parts could : 'of'\n",
      "idx.iter=  60.05 :  158/561  success=28.16% ( 8.86s/iter ETA:2024-06-10 21:01:31 +08)\n",
      "idx.iter=  61.05 :  158/562  success=28.11% ( 8.86s/iter ETA:2024-06-10 21:01:36 +08)\n",
      "idx.iter=  62.05 :  158/563  success=28.06% ( 8.87s/iter ETA:2024-06-10 21:01:48 +08)\n",
      "Action rethink : 'start to' does not suggest Action.REMOVE_LAST, but these parts could : 'start'\n",
      "idx.iter=  63.05 :  158/564  success=28.01% ( 8.88s/iter ETA:2024-06-10 21:01:50 +08)\n",
      "idx.iter=  64.05 :  158/565  success=27.96% ( 8.88s/iter ETA:2024-06-10 21:01:57 +08)\n",
      "idx.iter=  65.05 :  159/566  success=28.09% ( 8.87s/iter ETA:2024-06-10 21:01:44 +08)\n",
      "idx.iter=  66.05 :  160/567  success=28.22% ( 8.86s/iter ETA:2024-06-10 21:01:32 +08)\n",
      "idx.iter=  67.05 :  160/568  success=28.17% ( 8.86s/iter ETA:2024-06-10 21:01:35 +08)\n",
      "idx.iter=  68.05 :  161/569  success=28.30% ( 8.85s/iter ETA:2024-06-10 21:01:23 +08)\n",
      "idx.iter=  69.05 :  161/570  success=28.25% ( 8.86s/iter ETA:2024-06-10 21:01:29 +08)\n",
      "idx.iter=  70.05 :  161/571  success=28.20% ( 8.86s/iter ETA:2024-06-10 21:01:29 +08)\n",
      "Action rethink : 'short aggressive' does not suggest Action.REMOVE_LAST, but these parts could : 'short'\n",
      "Action rethink : 'short aggressive' does not suggest Action.REMOVE_LAST, but these parts could : 'short'\n",
      "Action rethink : 'short aggressive' does not suggest Action.REMOVE_LAST, but these parts could : 'short'\n",
      "idx.iter=  71.05 :  161/572  success=28.15% ( 8.86s/iter ETA:2024-06-10 21:01:33 +08)\n",
      "idx.iter=  72.05 :  162/573  success=28.27% ( 8.85s/iter ETA:2024-06-10 21:01:20 +08)\n",
      "idx.iter=  73.05 :  163/574  success=28.40% ( 8.83s/iter ETA:2024-06-10 21:01:08 +08)\n",
      "idx.iter=  74.05 :  163/575  success=28.35% ( 8.84s/iter ETA:2024-06-10 21:01:12 +08)\n",
      "idx.iter=  75.05 :  163/576  success=28.30% ( 8.84s/iter ETA:2024-06-10 21:01:18 +08)\n",
      "idx.iter=  76.05 :  164/577  success=28.42% ( 8.83s/iter ETA:2024-06-10 21:01:07 +08)\n",
      "idx.iter=  77.05 :  165/578  success=28.55% ( 8.82s/iter ETA:2024-06-10 21:00:55 +08)\n",
      "idx.iter=  78.05 :  166/579  success=28.67% ( 8.82s/iter ETA:2024-06-10 21:00:54 +08)\n",
      "idx.iter=  79.05 :  167/580  success=28.79% ( 8.81s/iter ETA:2024-06-10 21:00:44 +08)\n",
      "idx.iter=  80.05 :  167/581  success=28.74% ( 8.82s/iter ETA:2024-06-10 21:00:49 +08)\n",
      "idx.iter=  81.05 :  167/582  success=28.69% ( 8.82s/iter ETA:2024-06-10 21:00:57 +08)\n",
      "idx.iter=  82.05 :  167/583  success=28.64% ( 8.83s/iter ETA:2024-06-10 21:00:59 +08)\n",
      "idx.iter=  83.05 :  167/584  success=28.60% ( 8.83s/iter ETA:2024-06-10 21:01:02 +08)\n",
      "idx.iter=  84.05 :  167/585  success=28.55% ( 8.83s/iter ETA:2024-06-10 21:01:05 +08)\n",
      "idx.iter=  85.05 :  167/586  success=28.50% ( 8.84s/iter ETA:2024-06-10 21:01:11 +08)\n",
      "idx.iter=  86.05 :  167/587  success=28.45% ( 8.84s/iter ETA:2024-06-10 21:01:14 +08)\n",
      "idx.iter=  87.05 :  167/588  success=28.40% ( 8.84s/iter ETA:2024-06-10 21:01:16 +08)\n",
      "idx.iter=  88.05 :  168/589  success=28.52% ( 8.84s/iter ETA:2024-06-10 21:01:12 +08)\n",
      "idx.iter=  89.05 :  168/590  success=28.47% ( 8.84s/iter ETA:2024-06-10 21:01:14 +08)\n",
      "idx.iter=  90.05 :  168/591  success=28.43% ( 8.84s/iter ETA:2024-06-10 21:01:18 +08)\n",
      "idx.iter=  91.05 :  168/592  success=28.38% ( 8.85s/iter ETA:2024-06-10 21:01:23 +08)\n",
      "Action rethink : 'pushed into' does not suggest Action.ANAGRAM, but these parts could : 'into'\n",
      "idx.iter=  92.05 :  169/593  success=28.50% ( 8.84s/iter ETA:2024-06-10 21:01:18 +08)\n",
      "idx.iter=  93.05 :  169/594  success=28.45% ( 8.85s/iter ETA:2024-06-10 21:01:24 +08)\n",
      "idx.iter=  94.05 :  169/595  success=28.40% ( 8.85s/iter ETA:2024-06-10 21:01:27 +08)\n",
      "idx.iter=  95.05 :  170/596  success=28.52% ( 8.84s/iter ETA:2024-06-10 21:01:15 +08)\n",
      "idx.iter=  96.05 :  170/597  success=28.48% ( 8.85s/iter ETA:2024-06-10 21:01:22 +08)\n",
      "idx.iter=  97.05 :  170/598  success=28.43% ( 8.85s/iter ETA:2024-06-10 21:01:24 +08)\n",
      "idx.iter=  98.05 :  170/599  success=28.38% ( 8.86s/iter ETA:2024-06-10 21:01:31 +08)\n",
      "idx.iter=  99.05 :  171/600  success=28.50% ( 8.85s/iter ETA:2024-06-10 21:01:21 +08)\n",
      "idx.iter=   0.06 :  172/601  success=28.62% ( 8.84s/iter ETA:2024-06-10 21:01:17 +08)\n",
      "idx.iter=   1.06 :  172/602  success=28.57% ( 8.84s/iter ETA:2024-06-10 21:01:18 +08)\n",
      "idx.iter=   2.06 :  173/603  success=28.69% ( 8.83s/iter ETA:2024-06-10 21:01:06 +08)\n",
      "idx.iter=   3.06 :  174/604  success=28.81% ( 8.82s/iter ETA:2024-06-10 21:00:54 +08)\n",
      "idx.iter=   4.06 :  174/605  success=28.76% ( 8.82s/iter ETA:2024-06-10 21:00:58 +08)\n",
      "idx.iter=   5.06 :  174/606  success=28.71% ( 8.83s/iter ETA:2024-06-10 21:01:05 +08)\n",
      "idx.iter=   6.06 :  174/607  success=28.67% ( 8.84s/iter ETA:2024-06-10 21:01:11 +08)\n",
      "idx.iter=   7.06 :  174/608  success=28.62% ( 8.85s/iter ETA:2024-06-10 21:01:22 +08)\n",
      "idx.iter=   8.06 :  174/609  success=28.57% ( 8.85s/iter ETA:2024-06-10 21:01:24 +08)\n",
      "idx.iter=   9.06 :  174/610  success=28.52% ( 8.85s/iter ETA:2024-06-10 21:01:25 +08)\n",
      "idx.iter=  10.06 :  174/611  success=28.48% ( 8.86s/iter ETA:2024-06-10 21:01:32 +08)\n",
      "idx.iter=  11.06 :  174/612  success=28.43% ( 8.86s/iter ETA:2024-06-10 21:01:36 +08)\n",
      "idx.iter=  12.06 :  174/613  success=28.38% ( 8.87s/iter ETA:2024-06-10 21:01:41 +08)\n",
      "idx.iter=  13.06 :  175/614  success=28.50% ( 8.87s/iter ETA:2024-06-10 21:01:41 +08)\n",
      "idx.iter=  14.06 :  175/615  success=28.46% ( 8.87s/iter ETA:2024-06-10 21:01:46 +08)\n",
      "idx.iter=  15.06 :  175/616  success=28.41% ( 8.88s/iter ETA:2024-06-10 21:01:52 +08)\n",
      "idx.iter=  16.06 :  175/617  success=28.36% ( 8.88s/iter ETA:2024-06-10 21:01:53 +08)\n",
      "idx.iter=  17.06 :  176/618  success=28.48% ( 8.87s/iter ETA:2024-06-10 21:01:41 +08)\n",
      "Action rethink : 'applied round' does not suggest Action.GOES_OUTSIDE, but these parts could : 'round'\n",
      "Action rethink : 'applied round' does not suggest Action.GOES_OUTSIDE, but these parts could : 'round'\n",
      "idx.iter=  18.06 :  176/619  success=28.43% ( 8.88s/iter ETA:2024-06-10 21:01:49 +08)\n",
      "idx.iter=  19.06 :  176/620  success=28.39% ( 8.88s/iter ETA:2024-06-10 21:01:52 +08)\n",
      "idx.iter=  20.06 :  176/621  success=28.34% ( 8.88s/iter ETA:2024-06-10 21:01:56 +08)\n",
      "Action rethink : 'regularly collected' does not suggest Action.SUBSTRING, but these parts could : 'regularly'\n",
      "Action rethink : 'regularly collected' does not suggest Action.SUBSTRING, but these parts could : 'regularly'\n",
      "Action rethink : 'regularly collected' does not suggest Action.SUBSTRING, but these parts could : 'regularly'\n",
      "Action rethink : 'regularly collected' does not suggest Action.SUBSTRING, but these parts could : 'regularly'\n",
      "Action rethink : 'regularly collected' does not suggest Action.SUBSTRING, but these parts could : 'regularly'\n",
      "Action rethink : 'regularly collected' does not suggest Action.SUBSTRING, but these parts could : 'regularly'\n",
      "idx.iter=  21.06 :  176/622  success=28.30% ( 8.89s/iter ETA:2024-06-10 21:01:59 +08)\n",
      "idx.iter=  22.06 :  176/623  success=28.25% ( 8.89s/iter ETA:2024-06-10 21:02:03 +08)\n",
      "idx.iter=  23.06 :  176/624  success=28.21% ( 8.89s/iter ETA:2024-06-10 21:02:06 +08)\n",
      "idx.iter=  24.06 :  176/625  success=28.16% ( 8.89s/iter ETA:2024-06-10 21:02:07 +08)\n",
      "idx.iter=  25.06 :  176/626  success=28.12% ( 8.90s/iter ETA:2024-06-10 21:02:15 +08)\n",
      "idx.iter=  26.06 :  176/627  success=28.07% ( 8.91s/iter ETA:2024-06-10 21:02:21 +08)\n",
      "idx.iter=  27.06 :  177/628  success=28.18% ( 8.90s/iter ETA:2024-06-10 21:02:10 +08)\n",
      "idx.iter=  28.06 :  177/629  success=28.14% ( 8.90s/iter ETA:2024-06-10 21:02:12 +08)\n",
      "idx.iter=  29.06 :  177/630  success=28.10% ( 8.90s/iter ETA:2024-06-10 21:02:15 +08)\n",
      "idx.iter=  30.06 :  177/631  success=28.05% ( 8.90s/iter ETA:2024-06-10 21:02:18 +08)\n",
      "Action rethink : 'picked up' does not suggest Action.REVERSE, but these parts could : 'up'\n",
      "Action rethink : 'picked up' does not suggest Action.REVERSE, but these parts could : 'up'\n",
      "Action rethink : 'picked up' does not suggest Action.REVERSE, but these parts could : 'up'\n",
      "Action rethink : 'picked up' does not suggest Action.REVERSE, but these parts could : 'up'\n",
      "idx.iter=  31.06 :  177/632  success=28.01% ( 8.91s/iter ETA:2024-06-10 21:02:22 +08)\n",
      "idx.iter=  32.06 :  177/633  success=27.96% ( 8.91s/iter ETA:2024-06-10 21:02:25 +08)\n",
      "idx.iter=  33.06 :  177/634  success=27.92% ( 8.91s/iter ETA:2024-06-10 21:02:27 +08)\n",
      "idx.iter=  34.06 :  177/635  success=27.87% ( 8.92s/iter ETA:2024-06-10 21:02:33 +08)\n",
      "idx.iter=  35.06 :  177/636  success=27.83% ( 8.92s/iter ETA:2024-06-10 21:02:37 +08)\n",
      "idx.iter=  36.06 :  177/637  success=27.79% ( 8.93s/iter ETA:2024-06-10 21:02:38 +08)\n",
      "idx.iter=  37.06 :  177/638  success=27.74% ( 8.93s/iter ETA:2024-06-10 21:02:42 +08)\n",
      "idx.iter=  38.06 :  178/639  success=27.86% ( 8.92s/iter ETA:2024-06-10 21:02:33 +08)\n",
      "idx.iter=  39.06 :  179/640  success=27.97% ( 8.91s/iter ETA:2024-06-10 21:02:21 +08)\n",
      "idx.iter=  40.06 :  179/641  success=27.93% ( 8.91s/iter ETA:2024-06-10 21:02:27 +08)\n",
      "idx.iter=  41.06 :  180/642  success=28.04% ( 8.90s/iter ETA:2024-06-10 21:02:16 +08)\n",
      "idx.iter=  42.06 :  180/643  success=27.99% ( 8.90s/iter ETA:2024-06-10 21:02:18 +08)\n",
      "idx.iter=  43.06 :  180/644  success=27.95% ( 8.91s/iter ETA:2024-06-10 21:02:19 +08)\n",
      "idx.iter=  44.06 :  180/645  success=27.91% ( 8.91s/iter ETA:2024-06-10 21:02:24 +08)\n",
      "idx.iter=  45.06 :  180/646  success=27.86% ( 8.91s/iter ETA:2024-06-10 21:02:24 +08)\n",
      "idx.iter=  46.06 :  180/647  success=27.82% ( 8.92s/iter ETA:2024-06-10 21:02:31 +08)\n",
      "idx.iter=  47.06 :  180/648  success=27.78% ( 8.92s/iter ETA:2024-06-10 21:02:34 +08)\n",
      "idx.iter=  48.06 :  181/649  success=27.89% ( 8.91s/iter ETA:2024-06-10 21:02:22 +08)\n",
      "idx.iter=  49.06 :  181/650  success=27.85% ( 8.91s/iter ETA:2024-06-10 21:02:28 +08)\n",
      "idx.iter=  50.06 :  181/651  success=27.80% ( 8.92s/iter ETA:2024-06-10 21:02:30 +08)\n",
      "No definition found in clue 'The occident’s fatal day, right?'...  Not adding provided wordplay \n",
      "idx.iter=  51.06 :  181/652  success=27.76% ( 8.92s/iter ETA:2024-06-10 21:02:37 +08)\n",
      "idx.iter=  52.06 :  181/653  success=27.72% ( 8.93s/iter ETA:2024-06-10 21:02:39 +08)\n",
      "Action rethink : 'taken in by' does not suggest Action.GOES_INSIDE, but these parts could : 'in', 'taken in'\n",
      "Action rethink : 'taken in by' does not suggest Action.GOES_INSIDE, but these parts could : 'in', 'taken in'\n",
      "Action rethink : 'taken in by' does not suggest Action.GOES_INSIDE, but these parts could : 'in', 'taken in'\n",
      "Action rethink : 'taken in by' does not suggest Action.GOES_INSIDE, but these parts could : 'in', 'taken in'\n",
      "idx.iter=  53.06 :  181/654  success=27.68% ( 8.93s/iter ETA:2024-06-10 21:02:45 +08)\n",
      "idx.iter=  54.06 :  181/655  success=27.63% ( 8.93s/iter ETA:2024-06-10 21:02:44 +08)\n",
      "idx.iter=  55.06 :  182/656  success=27.74% ( 8.92s/iter ETA:2024-06-10 21:02:35 +08)\n",
      "idx.iter=  56.06 :  182/657  success=27.70% ( 8.92s/iter ETA:2024-06-10 21:02:38 +08)\n",
      "idx.iter=  57.06 :  182/658  success=27.66% ( 8.93s/iter ETA:2024-06-10 21:02:41 +08)\n",
      "idx.iter=  58.06 :  183/659  success=27.77% ( 8.92s/iter ETA:2024-06-10 21:02:35 +08)\n",
      "idx.iter=  59.06 :  184/660  success=27.88% ( 8.91s/iter ETA:2024-06-10 21:02:24 +08)\n",
      "idx.iter=  60.06 :  184/661  success=27.84% ( 8.91s/iter ETA:2024-06-10 21:02:26 +08)\n",
      "idx.iter=  61.06 :  184/662  success=27.79% ( 8.92s/iter ETA:2024-06-10 21:02:29 +08)\n",
      "idx.iter=  62.06 :  185/663  success=27.90% ( 8.90s/iter ETA:2024-06-10 21:02:18 +08)\n",
      "idx.iter=  63.06 :  185/664  success=27.86% ( 8.91s/iter ETA:2024-06-10 21:02:20 +08)\n",
      "idx.iter=  64.06 :  185/665  success=27.82% ( 8.91s/iter ETA:2024-06-10 21:02:23 +08)\n",
      "idx.iter=  65.06 :  186/666  success=27.93% ( 8.90s/iter ETA:2024-06-10 21:02:12 +08)\n",
      "idx.iter=  66.06 :  187/667  success=28.04% ( 8.89s/iter ETA:2024-06-10 21:02:02 +08)\n",
      "idx.iter=  67.06 :  188/668  success=28.14% ( 8.88s/iter ETA:2024-06-10 21:01:53 +08)\n",
      "idx.iter=  68.06 :  189/669  success=28.25% ( 8.87s/iter ETA:2024-06-10 21:01:43 +08)\n",
      "idx.iter=  69.06 :  189/670  success=28.21% ( 8.87s/iter ETA:2024-06-10 21:01:47 +08)\n",
      "idx.iter=  70.06 :  189/671  success=28.17% ( 8.87s/iter ETA:2024-06-10 21:01:46 +08)\n",
      "Action rethink : 'short aggressive' does not suggest Action.REMOVE_LAST, but these parts could : 'short'\n",
      "Action rethink : 'short aggressive' does not suggest Action.REMOVE_LAST, but these parts could : 'short'\n",
      "idx.iter=  71.06 :  189/672  success=28.12% ( 8.87s/iter ETA:2024-06-10 21:01:48 +08)\n",
      "idx.iter=  72.06 :  190/673  success=28.23% ( 8.86s/iter ETA:2024-06-10 21:01:37 +08)\n",
      "idx.iter=  73.06 :  191/674  success=28.34% ( 8.85s/iter ETA:2024-06-10 21:01:26 +08)\n",
      "idx.iter=  74.06 :  191/675  success=28.30% ( 8.86s/iter ETA:2024-06-10 21:01:31 +08)\n",
      "idx.iter=  75.06 :  191/676  success=28.25% ( 8.86s/iter ETA:2024-06-10 21:01:33 +08)\n",
      "idx.iter=  76.06 :  192/677  success=28.36% ( 8.85s/iter ETA:2024-06-10 21:01:23 +08)\n",
      "idx.iter=  77.06 :  193/678  success=28.47% ( 8.84s/iter ETA:2024-06-10 21:01:13 +08)\n",
      "idx.iter=  78.06 :  193/679  success=28.42% ( 8.84s/iter ETA:2024-06-10 21:01:17 +08)\n",
      "idx.iter=  79.06 :  194/680  success=28.53% ( 8.84s/iter ETA:2024-06-10 21:01:09 +08)\n",
      "idx.iter=  80.06 :  194/681  success=28.49% ( 8.84s/iter ETA:2024-06-10 21:01:14 +08)\n",
      "idx.iter=  81.06 :  194/682  success=28.45% ( 8.85s/iter ETA:2024-06-10 21:01:21 +08)\n",
      "idx.iter=  82.06 :  194/683  success=28.40% ( 8.85s/iter ETA:2024-06-10 21:01:24 +08)\n",
      "idx.iter=  83.06 :  194/684  success=28.36% ( 8.85s/iter ETA:2024-06-10 21:01:25 +08)\n",
      "idx.iter=  84.06 :  194/685  success=28.32% ( 8.85s/iter ETA:2024-06-10 21:01:25 +08)\n",
      "idx.iter=  85.06 :  194/686  success=28.28% ( 8.86s/iter ETA:2024-06-10 21:01:32 +08)\n",
      "idx.iter=  86.06 :  194/687  success=28.24% ( 8.87s/iter ETA:2024-06-10 21:01:39 +08)\n",
      "idx.iter=  87.06 :  194/688  success=28.20% ( 8.87s/iter ETA:2024-06-10 21:01:41 +08)\n",
      "idx.iter=  88.06 :  194/689  success=28.16% ( 8.87s/iter ETA:2024-06-10 21:01:45 +08)\n",
      "idx.iter=  89.06 :  194/690  success=28.12% ( 8.87s/iter ETA:2024-06-10 21:01:46 +08)\n",
      "idx.iter=  90.06 :  194/691  success=28.08% ( 8.88s/iter ETA:2024-06-10 21:01:50 +08)\n",
      "idx.iter=  91.06 :  194/692  success=28.03% ( 8.88s/iter ETA:2024-06-10 21:01:55 +08)\n",
      "idx.iter=  92.06 :  194/693  success=27.99% ( 8.89s/iter ETA:2024-06-10 21:02:01 +08)\n",
      "idx.iter=  93.06 :  194/694  success=27.95% ( 8.89s/iter ETA:2024-06-10 21:02:03 +08)\n",
      "idx.iter=  94.06 :  194/695  success=27.91% ( 8.89s/iter ETA:2024-06-10 21:02:07 +08)\n",
      "idx.iter=  95.06 :  195/696  success=28.02% ( 8.88s/iter ETA:2024-06-10 21:01:57 +08)\n",
      "idx.iter=  96.06 :  195/697  success=27.98% ( 8.89s/iter ETA:2024-06-10 21:02:01 +08)\n",
      "idx.iter=  97.06 :  195/698  success=27.94% ( 8.89s/iter ETA:2024-06-10 21:02:02 +08)\n",
      "idx.iter=  98.06 :  196/699  success=28.04% ( 8.89s/iter ETA:2024-06-10 21:02:04 +08)\n",
      "idx.iter=  99.06 :  197/700  success=28.14% ( 8.88s/iter ETA:2024-06-10 21:01:53 +08)\n",
      "idx.iter=   0.07 :  198/701  success=28.25% ( 8.88s/iter ETA:2024-06-10 21:01:52 +08)\n",
      "idx.iter=   1.07 :  198/702  success=28.21% ( 8.88s/iter ETA:2024-06-10 21:01:53 +08)\n",
      "idx.iter=   2.07 :  199/703  success=28.31% ( 8.87s/iter ETA:2024-06-10 21:01:42 +08)\n",
      "idx.iter=   3.07 :  200/704  success=28.41% ( 8.86s/iter ETA:2024-06-10 21:01:32 +08)\n",
      "idx.iter=   4.07 :  201/705  success=28.51% ( 8.86s/iter ETA:2024-06-10 21:01:33 +08)\n",
      "idx.iter=   5.07 :  201/706  success=28.47% ( 8.86s/iter ETA:2024-06-10 21:01:38 +08)\n",
      "idx.iter=   6.07 :  201/707  success=28.43% ( 8.87s/iter ETA:2024-06-10 21:01:42 +08)\n",
      "idx.iter=   7.07 :  201/708  success=28.39% ( 8.87s/iter ETA:2024-06-10 21:01:45 +08)\n",
      "idx.iter=   8.07 :  201/709  success=28.35% ( 8.87s/iter ETA:2024-06-10 21:01:48 +08)\n",
      "idx.iter=   9.07 :  201/710  success=28.31% ( 8.87s/iter ETA:2024-06-10 21:01:48 +08)\n",
      "idx.iter=  10.07 :  201/711  success=28.27% ( 8.88s/iter ETA:2024-06-10 21:01:53 +08)\n",
      "idx.iter=  11.07 :  201/712  success=28.23% ( 8.88s/iter ETA:2024-06-10 21:01:57 +08)\n",
      "idx.iter=  12.07 :  201/713  success=28.19% ( 8.88s/iter ETA:2024-06-10 21:01:58 +08)\n",
      "idx.iter=  13.07 :  202/714  success=28.29% ( 8.89s/iter ETA:2024-06-10 21:01:59 +08)\n",
      "idx.iter=  14.07 :  202/715  success=28.25% ( 8.89s/iter ETA:2024-06-10 21:02:03 +08)\n",
      "idx.iter=  15.07 :  203/716  success=28.35% ( 8.88s/iter ETA:2024-06-10 21:01:56 +08)\n",
      "idx.iter=  16.07 :  203/717  success=28.31% ( 8.88s/iter ETA:2024-06-10 21:01:56 +08)\n",
      "idx.iter=  17.07 :  204/718  success=28.41% ( 8.87s/iter ETA:2024-06-10 21:01:46 +08)\n",
      "Action rethink : 'applied round' does not suggest Action.GOES_INSIDE, but these parts could : 'round'\n",
      "Action rethink : 'applied round' does not suggest Action.GOES_INSIDE, but these parts could : 'round'\n",
      "Action rethink : 'applied round' does not suggest Action.GOES_OUTSIDE, but these parts could : 'round'\n",
      "Action rethink : 'applied round' does not suggest Action.GOES_INSIDE, but these parts could : 'round'\n",
      "Action rethink : 'applied round' does not suggest Action.GOES_OUTSIDE, but these parts could : 'round'\n",
      "Action rethink : 'applied round' does not suggest Action.GOES_INSIDE, but these parts could : 'round'\n",
      "idx.iter=  18.07 :  204/719  success=28.37% ( 8.88s/iter ETA:2024-06-10 21:01:56 +08)\n",
      "Action rethink : 'tuck into' does not suggest Action.ANAGRAM, but these parts could : 'into'\n",
      "idx.iter=  19.07 :  204/720  success=28.33% ( 8.89s/iter ETA:2024-06-10 21:02:00 +08)\n",
      "idx.iter=  20.07 :  204/721  success=28.29% ( 8.89s/iter ETA:2024-06-10 21:02:03 +08)\n",
      "idx.iter=  21.07 :  204/722  success=28.25% ( 8.89s/iter ETA:2024-06-10 21:02:07 +08)\n",
      "idx.iter=  22.07 :  204/723  success=28.22% ( 8.90s/iter ETA:2024-06-10 21:02:12 +08)\n",
      "idx.iter=  23.07 :  204/724  success=28.18% ( 8.90s/iter ETA:2024-06-10 21:02:16 +08)\n",
      "idx.iter=  24.07 :  204/725  success=28.14% ( 8.91s/iter ETA:2024-06-10 21:02:20 +08)\n",
      "idx.iter=  25.07 :  204/726  success=28.10% ( 8.91s/iter ETA:2024-06-10 21:02:25 +08)\n",
      "idx.iter=  26.07 :  204/727  success=28.06% ( 8.92s/iter ETA:2024-06-10 21:02:32 +08)\n",
      "idx.iter=  27.07 :  205/728  success=28.16% ( 8.91s/iter ETA:2024-06-10 21:02:22 +08)\n",
      "idx.iter=  28.07 :  205/729  success=28.12% ( 8.91s/iter ETA:2024-06-10 21:02:23 +08)\n",
      "idx.iter=  29.07 :  205/730  success=28.08% ( 8.91s/iter ETA:2024-06-10 21:02:28 +08)\n",
      "idx.iter=  30.07 :  206/731  success=28.18% ( 8.90s/iter ETA:2024-06-10 21:02:18 +08)\n",
      "idx.iter=  31.07 :  206/732  success=28.14% ( 8.91s/iter ETA:2024-06-10 21:02:22 +08)\n",
      "idx.iter=  32.07 :  206/733  success=28.10% ( 8.91s/iter ETA:2024-06-10 21:02:24 +08)\n",
      "idx.iter=  33.07 :  206/734  success=28.07% ( 8.91s/iter ETA:2024-06-10 21:02:25 +08)\n",
      "idx.iter=  34.07 :  206/735  success=28.03% ( 8.92s/iter ETA:2024-06-10 21:02:30 +08)\n",
      "idx.iter=  35.07 :  206/736  success=27.99% ( 8.92s/iter ETA:2024-06-10 21:02:32 +08)\n",
      "idx.iter=  36.07 :  206/737  success=27.95% ( 8.92s/iter ETA:2024-06-10 21:02:32 +08)\n",
      "idx.iter=  37.07 :  206/738  success=27.91% ( 8.92s/iter ETA:2024-06-10 21:02:34 +08)\n",
      "idx.iter=  38.07 :  207/739  success=28.01% ( 8.91s/iter ETA:2024-06-10 21:02:26 +08)\n",
      "idx.iter=  39.07 :  208/740  success=28.11% ( 8.90s/iter ETA:2024-06-10 21:02:17 +08)\n",
      "Action rethink : 'lead on' does not suggest Action.REMOVE_LAST, but these parts could : 'lead'\n",
      "Action rethink : 'lead on' does not suggest Action.REMOVE_LAST, but these parts could : 'lead'\n",
      "Action rethink : 'lead on' does not suggest Action.REMOVE_LAST, but these parts could : 'lead'\n",
      "Action rethink : 'lead on' does not suggest Action.REMOVE_LAST, but these parts could : 'lead'\n",
      "Action rethink : 'lead on' does not suggest Action.REMOVE_LAST, but these parts could : 'lead'\n",
      "Action rethink : 'lead on' does not suggest Action.REMOVE_LAST, but these parts could : 'lead'\n",
      "idx.iter=  40.07 :  208/741  success=28.07% ( 8.91s/iter ETA:2024-06-10 21:02:23 +08)\n",
      "idx.iter=  41.07 :  209/742  success=28.17% ( 8.90s/iter ETA:2024-06-10 21:02:13 +08)\n",
      "idx.iter=  42.07 :  209/743  success=28.13% ( 8.90s/iter ETA:2024-06-10 21:02:16 +08)\n",
      "idx.iter=  43.07 :  209/744  success=28.09% ( 8.90s/iter ETA:2024-06-10 21:02:16 +08)\n",
      "idx.iter=  44.07 :  209/745  success=28.05% ( 8.90s/iter ETA:2024-06-10 21:02:18 +08)\n",
      "idx.iter=  45.07 :  209/746  success=28.02% ( 8.90s/iter ETA:2024-06-10 21:02:18 +08)\n",
      "idx.iter=  46.07 :  209/747  success=27.98% ( 8.91s/iter ETA:2024-06-10 21:02:23 +08)\n",
      "idx.iter=  47.07 :  209/748  success=27.94% ( 8.91s/iter ETA:2024-06-10 21:02:27 +08)\n",
      "idx.iter=  48.07 :  210/749  success=28.04% ( 8.90s/iter ETA:2024-06-10 21:02:17 +08)\n",
      "idx.iter=  49.07 :  210/750  success=28.00% ( 8.91s/iter ETA:2024-06-10 21:02:22 +08)\n",
      "idx.iter=  50.07 :  210/751  success=27.96% ( 8.91s/iter ETA:2024-06-10 21:02:23 +08)\n",
      "No definition found in clue 'The occident’s fatal day, right?'...  Not adding provided wordplay \n",
      "idx.iter=  51.07 :  210/752  success=27.93% ( 8.92s/iter ETA:2024-06-10 21:02:29 +08)\n",
      "idx.iter=  52.07 :  211/753  success=28.02% ( 8.91s/iter ETA:2024-06-10 21:02:22 +08)\n",
      "Action rethink : 'taken in by' does not suggest Action.GOES_INSIDE, but these parts could : 'in', 'taken in'\n",
      "idx.iter=  53.07 :  212/754  success=28.12% ( 8.91s/iter ETA:2024-06-10 21:02:20 +08)\n",
      "idx.iter=  54.07 :  212/755  success=28.08% ( 8.91s/iter ETA:2024-06-10 21:02:20 +08)\n",
      "idx.iter=  55.07 :  213/756  success=28.17% ( 8.90s/iter ETA:2024-06-10 21:02:13 +08)\n",
      "idx.iter=  56.07 :  213/757  success=28.14% ( 8.90s/iter ETA:2024-06-10 21:02:14 +08)\n",
      "idx.iter=  57.07 :  214/758  success=28.23% ( 8.89s/iter ETA:2024-06-10 21:02:07 +08)\n",
      "idx.iter=  58.07 :  215/759  success=28.33% ( 8.89s/iter ETA:2024-06-10 21:02:00 +08)\n",
      "idx.iter=  59.07 :  216/760  success=28.42% ( 8.88s/iter ETA:2024-06-10 21:01:51 +08)\n",
      "idx.iter=  60.07 :  216/761  success=28.38% ( 8.88s/iter ETA:2024-06-10 21:01:53 +08)\n",
      "idx.iter=  61.07 :  216/762  success=28.35% ( 8.88s/iter ETA:2024-06-10 21:01:56 +08)\n",
      "idx.iter=  62.07 :  217/763  success=28.44% ( 8.87s/iter ETA:2024-06-10 21:01:46 +08)\n",
      "idx.iter=  63.07 :  217/764  success=28.40% ( 8.88s/iter ETA:2024-06-10 21:01:50 +08)\n",
      "idx.iter=  64.07 :  218/765  success=28.50% ( 8.87s/iter ETA:2024-06-10 21:01:42 +08)\n",
      "idx.iter=  65.07 :  219/766  success=28.59% ( 8.86s/iter ETA:2024-06-10 21:01:32 +08)\n",
      "idx.iter=  66.07 :  220/767  success=28.68% ( 8.85s/iter ETA:2024-06-10 21:01:23 +08)\n",
      "idx.iter=  67.07 :  220/768  success=28.65% ( 8.85s/iter ETA:2024-06-10 21:01:26 +08)\n",
      "idx.iter=  68.07 :  221/769  success=28.74% ( 8.84s/iter ETA:2024-06-10 21:01:17 +08)\n",
      "idx.iter=  69.07 :  221/770  success=28.70% ( 8.85s/iter ETA:2024-06-10 21:01:20 +08)\n",
      "idx.iter=  70.07 :  221/771  success=28.66% ( 8.85s/iter ETA:2024-06-10 21:01:21 +08)\n",
      "idx.iter=  71.07 :  221/772  success=28.63% ( 8.85s/iter ETA:2024-06-10 21:01:23 +08)\n",
      "idx.iter=  72.07 :  222/773  success=28.72% ( 8.84s/iter ETA:2024-06-10 21:01:14 +08)\n",
      "idx.iter=  73.07 :  223/774  success=28.81% ( 8.83s/iter ETA:2024-06-10 21:01:04 +08)\n",
      "idx.iter=  74.07 :  223/775  success=28.77% ( 8.84s/iter ETA:2024-06-10 21:01:09 +08)\n",
      "idx.iter=  75.07 :  223/776  success=28.74% ( 8.84s/iter ETA:2024-06-10 21:01:12 +08)\n",
      "idx.iter=  76.07 :  224/777  success=28.83% ( 8.83s/iter ETA:2024-06-10 21:01:03 +08)\n",
      "idx.iter=  77.07 :  225/778  success=28.92% ( 8.82s/iter ETA:2024-06-10 21:00:54 +08)\n",
      "idx.iter=  78.07 :  226/779  success=29.01% ( 8.81s/iter ETA:2024-06-10 21:00:45 +08)\n",
      "idx.iter=  79.07 :  227/780  success=29.10% ( 8.80s/iter ETA:2024-06-10 21:00:38 +08)\n",
      "idx.iter=  80.07 :  228/781  success=29.19% ( 8.80s/iter ETA:2024-06-10 21:00:37 +08)\n",
      "idx.iter=  81.07 :  228/782  success=29.16% ( 8.81s/iter ETA:2024-06-10 21:00:43 +08)\n",
      "idx.iter=  82.07 :  228/783  success=29.12% ( 8.81s/iter ETA:2024-06-10 21:00:45 +08)\n",
      "idx.iter=  83.07 :  228/784  success=29.08% ( 8.81s/iter ETA:2024-06-10 21:00:47 +08)\n",
      "idx.iter=  84.07 :  228/785  success=29.04% ( 8.81s/iter ETA:2024-06-10 21:00:48 +08)\n",
      "idx.iter=  85.07 :  228/786  success=29.01% ( 8.82s/iter ETA:2024-06-10 21:00:52 +08)\n",
      "idx.iter=  86.07 :  228/787  success=28.97% ( 8.82s/iter ETA:2024-06-10 21:00:55 +08)\n",
      "idx.iter=  87.07 :  228/788  success=28.93% ( 8.82s/iter ETA:2024-06-10 21:00:58 +08)\n",
      "idx.iter=  88.07 :  229/789  success=29.02% ( 8.82s/iter ETA:2024-06-10 21:00:58 +08)\n",
      "idx.iter=  89.07 :  229/790  success=28.99% ( 8.83s/iter ETA:2024-06-10 21:00:59 +08)\n",
      "idx.iter=  90.07 :  229/791  success=28.95% ( 8.83s/iter ETA:2024-06-10 21:01:05 +08)\n",
      "idx.iter=  91.07 :  229/792  success=28.91% ( 8.84s/iter ETA:2024-06-10 21:01:09 +08)\n",
      "idx.iter=  92.07 :  230/793  success=29.00% ( 8.84s/iter ETA:2024-06-10 21:01:12 +08)\n",
      "idx.iter=  93.07 :  230/794  success=28.97% ( 8.84s/iter ETA:2024-06-10 21:01:14 +08)\n",
      "idx.iter=  94.07 :  230/795  success=28.93% ( 8.84s/iter ETA:2024-06-10 21:01:16 +08)\n",
      "idx.iter=  95.07 :  231/796  success=29.02% ( 8.83s/iter ETA:2024-06-10 21:01:07 +08)\n",
      "idx.iter=  96.07 :  231/797  success=28.98% ( 8.84s/iter ETA:2024-06-10 21:01:11 +08)\n",
      "idx.iter=  97.07 :  231/798  success=28.95% ( 8.84s/iter ETA:2024-06-10 21:01:13 +08)\n",
      "idx.iter=  98.07 :  232/799  success=29.04% ( 8.83s/iter ETA:2024-06-10 21:01:07 +08)\n",
      "idx.iter=  99.07 :  233/800  success=29.12% ( 8.82s/iter ETA:2024-06-10 21:00:58 +08)\n",
      "idx.iter=   0.08 :  234/801  success=29.21% ( 8.82s/iter ETA:2024-06-10 21:00:54 +08)\n",
      "idx.iter=   1.08 :  234/802  success=29.18% ( 8.82s/iter ETA:2024-06-10 21:00:56 +08)\n",
      "idx.iter=   2.08 :  235/803  success=29.27% ( 8.81s/iter ETA:2024-06-10 21:00:47 +08)\n",
      "idx.iter=   3.08 :  236/804  success=29.35% ( 8.80s/iter ETA:2024-06-10 21:00:38 +08)\n",
      "idx.iter=   4.08 :  236/805  success=29.32% ( 8.81s/iter ETA:2024-06-10 21:00:39 +08)\n",
      "idx.iter=   5.08 :  236/806  success=29.28% ( 8.81s/iter ETA:2024-06-10 21:00:44 +08)\n",
      "idx.iter=   6.08 :  236/807  success=29.24% ( 8.81s/iter ETA:2024-06-10 21:00:48 +08)\n",
      "idx.iter=   7.08 :  236/808  success=29.21% ( 8.82s/iter ETA:2024-06-10 21:00:50 +08)\n",
      "idx.iter=   8.08 :  236/809  success=29.17% ( 8.82s/iter ETA:2024-06-10 21:00:54 +08)\n",
      "idx.iter=   9.08 :  236/810  success=29.14% ( 8.82s/iter ETA:2024-06-10 21:00:54 +08)\n",
      "idx.iter=  10.08 :  236/811  success=29.10% ( 8.82s/iter ETA:2024-06-10 21:00:57 +08)\n",
      "idx.iter=  11.08 :  236/812  success=29.06% ( 8.83s/iter ETA:2024-06-10 21:01:02 +08)\n",
      "idx.iter=  12.08 :  236/813  success=29.03% ( 8.83s/iter ETA:2024-06-10 21:01:05 +08)\n",
      "idx.iter=  13.08 :  236/814  success=28.99% ( 8.84s/iter ETA:2024-06-10 21:01:12 +08)\n",
      "idx.iter=  14.08 :  236/815  success=28.96% ( 8.84s/iter ETA:2024-06-10 21:01:17 +08)\n",
      "idx.iter=  15.08 :  237/816  success=29.04% ( 8.84s/iter ETA:2024-06-10 21:01:09 +08)\n",
      "idx.iter=  16.08 :  237/817  success=29.01% ( 8.84s/iter ETA:2024-06-10 21:01:09 +08)\n",
      "idx.iter=  17.08 :  238/818  success=29.10% ( 8.83s/iter ETA:2024-06-10 21:01:00 +08)\n",
      "Action rethink : 'applied round' does not suggest Action.GOES_INSIDE, but these parts could : 'round'\n",
      "Action rethink : 'applied round' does not suggest Action.GOES_INSIDE, but these parts could : 'round'\n",
      "Action rethink : 'applied round' does not suggest Action.GOES_INSIDE, but these parts could : 'round'\n",
      "idx.iter=  18.08 :  238/819  success=29.06% ( 8.83s/iter ETA:2024-06-10 21:01:06 +08)\n",
      "idx.iter=  19.08 :  238/820  success=29.02% ( 8.84s/iter ETA:2024-06-10 21:01:10 +08)\n",
      "idx.iter=  20.08 :  238/821  success=28.99% ( 8.84s/iter ETA:2024-06-10 21:01:12 +08)\n",
      "Action rethink : 'regularly collected' does not suggest Action.SUBSTRING, but these parts could : 'regularly'\n",
      "Action rethink : 'regularly collected' does not suggest Action.SUBSTRING, but these parts could : 'regularly'\n",
      "Action rethink : 'regularly collected' does not suggest Action.SUBSTRING, but these parts could : 'regularly'\n",
      "idx.iter=  21.08 :  238/822  success=28.95% ( 8.84s/iter ETA:2024-06-10 21:01:14 +08)\n",
      "idx.iter=  22.08 :  238/823  success=28.92% ( 8.84s/iter ETA:2024-06-10 21:01:17 +08)\n",
      "idx.iter=  23.08 :  238/824  success=28.88% ( 8.85s/iter ETA:2024-06-10 21:01:22 +08)\n",
      "idx.iter=  24.08 :  238/825  success=28.85% ( 8.85s/iter ETA:2024-06-10 21:01:23 +08)\n",
      "idx.iter=  25.08 :  238/826  success=28.81% ( 8.85s/iter ETA:2024-06-10 21:01:28 +08)\n",
      "idx.iter=  26.08 :  239/827  success=28.90% ( 8.85s/iter ETA:2024-06-10 21:01:28 +08)\n",
      "idx.iter=  27.08 :  240/828  success=28.99% ( 8.85s/iter ETA:2024-06-10 21:01:19 +08)\n",
      "idx.iter=  28.08 :  240/829  success=28.95% ( 8.85s/iter ETA:2024-06-10 21:01:20 +08)\n",
      "idx.iter=  29.08 :  240/830  success=28.92% ( 8.85s/iter ETA:2024-06-10 21:01:23 +08)\n",
      "idx.iter=  30.08 :  241/831  success=29.00% ( 8.84s/iter ETA:2024-06-10 21:01:14 +08)\n",
      "0 503 502:Bad Gateway\n",
      "Retry attempt 1\n",
      "Action rethink : 'picked up' does not suggest Action.REVERSE, but these parts could : 'up'\n",
      "idx.iter=  31.08 :  241/832  success=28.97% ( 9.01s/iter ETA:2024-06-10 21:04:02 +08)\n",
      "idx.iter=  32.08 :  241/833  success=28.93% ( 9.01s/iter ETA:2024-06-10 21:04:04 +08)\n",
      "idx.iter=  33.08 :  241/834  success=28.90% ( 9.01s/iter ETA:2024-06-10 21:04:06 +08)\n",
      "idx.iter=  34.08 :  241/835  success=28.86% ( 9.02s/iter ETA:2024-06-10 21:04:13 +08)\n",
      "idx.iter=  35.08 :  241/836  success=28.83% ( 9.02s/iter ETA:2024-06-10 21:04:15 +08)\n",
      "idx.iter=  36.08 :  241/837  success=28.79% ( 9.02s/iter ETA:2024-06-10 21:04:15 +08)\n",
      "idx.iter=  37.08 :  241/838  success=28.76% ( 9.02s/iter ETA:2024-06-10 21:04:16 +08)\n",
      "idx.iter=  38.08 :  241/839  success=28.72% ( 9.02s/iter ETA:2024-06-10 21:04:18 +08)\n",
      "idx.iter=  39.08 :  242/840  success=28.81% ( 9.02s/iter ETA:2024-06-10 21:04:09 +08)\n",
      "idx.iter=  40.08 :  242/841  success=28.78% ( 9.02s/iter ETA:2024-06-10 21:04:13 +08)\n",
      "idx.iter=  41.08 :  243/842  success=28.86% ( 9.01s/iter ETA:2024-06-10 21:04:04 +08)\n",
      "idx.iter=  42.08 :  243/843  success=28.83% ( 9.01s/iter ETA:2024-06-10 21:04:08 +08)\n",
      "idx.iter=  43.08 :  243/844  success=28.79% ( 9.01s/iter ETA:2024-06-10 21:04:08 +08)\n",
      "idx.iter=  44.08 :  243/845  success=28.76% ( 9.01s/iter ETA:2024-06-10 21:04:08 +08)\n",
      "idx.iter=  45.08 :  243/846  success=28.72% ( 9.02s/iter ETA:2024-06-10 21:04:09 +08)\n",
      "idx.iter=  46.08 :  243/847  success=28.69% ( 9.02s/iter ETA:2024-06-10 21:04:13 +08)\n",
      "idx.iter=  47.08 :  243/848  success=28.66% ( 9.02s/iter ETA:2024-06-10 21:04:16 +08)\n",
      "idx.iter=  48.08 :  244/849  success=28.74% ( 9.01s/iter ETA:2024-06-10 21:04:08 +08)\n",
      "idx.iter=  49.08 :  244/850  success=28.71% ( 9.02s/iter ETA:2024-06-10 21:04:11 +08)\n",
      "idx.iter=  50.08 :  244/851  success=28.67% ( 9.02s/iter ETA:2024-06-10 21:04:13 +08)\n",
      "No definition found in clue 'The occident’s fatal day, right?'...  Not adding provided wordplay \n",
      "idx.iter=  51.08 :  244/852  success=28.64% ( 9.02s/iter ETA:2024-06-10 21:04:18 +08)\n",
      "idx.iter=  52.08 :  244/853  success=28.60% ( 9.03s/iter ETA:2024-06-10 21:04:18 +08)\n",
      "Action rethink : 'taken in by' does not suggest Action.GOES_INSIDE, but these parts could : 'in', 'taken in'\n",
      "Action rethink : 'taken in by' does not suggest Action.GOES_INSIDE, but these parts could : 'in', 'taken in'\n",
      "idx.iter=  53.08 :  245/854  success=28.69% ( 9.03s/iter ETA:2024-06-10 21:04:19 +08)\n",
      "idx.iter=  54.08 :  245/855  success=28.65% ( 9.02s/iter ETA:2024-06-10 21:04:17 +08)\n",
      "Action rethink : 'made by' does not suggest Action.ANAGRAM, but these parts could : 'made'\n",
      "idx.iter=  55.08 :  246/856  success=28.74% ( 9.02s/iter ETA:2024-06-10 21:04:15 +08)\n",
      "idx.iter=  56.08 :  247/857  success=28.82% ( 9.02s/iter ETA:2024-06-10 21:04:11 +08)\n",
      "idx.iter=  57.08 :  247/858  success=28.79% ( 9.02s/iter ETA:2024-06-10 21:04:15 +08)\n",
      "idx.iter=  58.08 :  247/859  success=28.75% ( 9.03s/iter ETA:2024-06-10 21:04:20 +08)\n",
      "idx.iter=  59.08 :  248/860  success=28.84% ( 9.02s/iter ETA:2024-06-10 21:04:12 +08)\n",
      "idx.iter=  60.08 :  248/861  success=28.80% ( 9.02s/iter ETA:2024-06-10 21:04:13 +08)\n",
      "idx.iter=  61.08 :  248/862  success=28.77% ( 9.02s/iter ETA:2024-06-10 21:04:15 +08)\n",
      "idx.iter=  62.08 :  249/863  success=28.85% ( 9.01s/iter ETA:2024-06-10 21:04:06 +08)\n",
      "idx.iter=  63.08 :  249/864  success=28.82% ( 9.01s/iter ETA:2024-06-10 21:04:08 +08)\n",
      "idx.iter=  64.08 :  250/865  success=28.90% ( 9.01s/iter ETA:2024-06-10 21:04:00 +08)\n",
      "idx.iter=  65.08 :  251/866  success=28.98% ( 9.00s/iter ETA:2024-06-10 21:03:52 +08)\n",
      "idx.iter=  66.08 :  252/867  success=29.07% ( 8.99s/iter ETA:2024-06-10 21:03:44 +08)\n",
      "idx.iter=  67.08 :  253/868  success=29.15% ( 8.98s/iter ETA:2024-06-10 21:03:37 +08)\n",
      "idx.iter=  68.08 :  254/869  success=29.23% ( 8.98s/iter ETA:2024-06-10 21:03:33 +08)\n",
      "idx.iter=  69.08 :  254/870  success=29.20% ( 8.98s/iter ETA:2024-06-10 21:03:35 +08)\n",
      "idx.iter=  70.08 :  254/871  success=29.16% ( 8.98s/iter ETA:2024-06-10 21:03:37 +08)\n",
      "Action rethink : 'short aggressive' does not suggest Action.REMOVE_LAST, but these parts could : 'short'\n",
      "Action rethink : 'short aggressive' does not suggest Action.REMOVE_LAST, but these parts could : 'short'\n",
      "idx.iter=  71.08 :  255/872  success=29.24% ( 8.98s/iter ETA:2024-06-10 21:03:32 +08)\n",
      "idx.iter=  72.08 :  256/873  success=29.32% ( 8.97s/iter ETA:2024-06-10 21:03:24 +08)\n",
      "idx.iter=  73.08 :  257/874  success=29.41% ( 8.96s/iter ETA:2024-06-10 21:03:15 +08)\n",
      "idx.iter=  74.08 :  257/875  success=29.37% ( 8.97s/iter ETA:2024-06-10 21:03:19 +08)\n",
      "idx.iter=  75.08 :  257/876  success=29.34% ( 8.97s/iter ETA:2024-06-10 21:03:23 +08)\n",
      "idx.iter=  76.08 :  258/877  success=29.42% ( 8.96s/iter ETA:2024-06-10 21:03:14 +08)\n",
      "idx.iter=  77.08 :  259/878  success=29.50% ( 8.95s/iter ETA:2024-06-10 21:03:06 +08)\n",
      "idx.iter=  78.08 :  260/879  success=29.58% ( 8.94s/iter ETA:2024-06-10 21:02:58 +08)\n",
      "idx.iter=  79.08 :  261/880  success=29.66% ( 8.94s/iter ETA:2024-06-10 21:02:52 +08)\n",
      "idx.iter=  80.08 :  261/881  success=29.63% ( 8.94s/iter ETA:2024-06-10 21:02:55 +08)\n",
      "idx.iter=  81.08 :  261/882  success=29.59% ( 8.95s/iter ETA:2024-06-10 21:03:00 +08)\n",
      "idx.iter=  82.08 :  261/883  success=29.56% ( 8.95s/iter ETA:2024-06-10 21:03:04 +08)\n",
      "idx.iter=  83.08 :  261/884  success=29.52% ( 8.95s/iter ETA:2024-06-10 21:03:04 +08)\n",
      "idx.iter=  84.08 :  261/885  success=29.49% ( 8.95s/iter ETA:2024-06-10 21:03:04 +08)\n",
      "idx.iter=  85.08 :  261/886  success=29.46% ( 8.95s/iter ETA:2024-06-10 21:03:08 +08)\n",
      "idx.iter=  86.08 :  261/887  success=29.43% ( 8.96s/iter ETA:2024-06-10 21:03:09 +08)\n",
      "idx.iter=  87.08 :  261/888  success=29.39% ( 8.96s/iter ETA:2024-06-10 21:03:12 +08)\n",
      "idx.iter=  88.08 :  262/889  success=29.47% ( 8.96s/iter ETA:2024-06-10 21:03:12 +08)\n",
      "idx.iter=  89.08 :  262/890  success=29.44% ( 8.96s/iter ETA:2024-06-10 21:03:13 +08)\n",
      "idx.iter=  90.08 :  262/891  success=29.41% ( 8.96s/iter ETA:2024-06-10 21:03:17 +08)\n",
      "idx.iter=  91.08 :  262/892  success=29.37% ( 8.97s/iter ETA:2024-06-10 21:03:21 +08)\n",
      "idx.iter=  92.08 :  263/893  success=29.45% ( 8.96s/iter ETA:2024-06-10 21:03:12 +08)\n",
      "idx.iter=  93.08 :  263/894  success=29.42% ( 8.96s/iter ETA:2024-06-10 21:03:14 +08)\n",
      "idx.iter=  94.08 :  263/895  success=29.39% ( 8.96s/iter ETA:2024-06-10 21:03:16 +08)\n",
      "idx.iter=  95.08 :  264/896  success=29.46% ( 8.96s/iter ETA:2024-06-10 21:03:14 +08)\n",
      "idx.iter=  96.08 :  264/897  success=29.43% ( 8.97s/iter ETA:2024-06-10 21:03:20 +08)\n",
      "idx.iter=  97.08 :  264/898  success=29.40% ( 8.97s/iter ETA:2024-06-10 21:03:21 +08)\n",
      "idx.iter=  98.08 :  264/899  success=29.37% ( 8.97s/iter ETA:2024-06-10 21:03:25 +08)\n",
      "idx.iter=  99.08 :  265/900  success=29.44% ( 8.96s/iter ETA:2024-06-10 21:03:17 +08)\n",
      "idx.iter=   0.09 :  266/901  success=29.52% ( 8.97s/iter ETA:2024-06-10 21:03:18 +08)\n",
      "idx.iter=   1.09 :  266/902  success=29.49% ( 8.96s/iter ETA:2024-06-10 21:03:18 +08)\n",
      "idx.iter=   2.09 :  267/903  success=29.57% ( 8.96s/iter ETA:2024-06-10 21:03:09 +08)\n",
      "idx.iter=   3.09 :  268/904  success=29.65% ( 8.95s/iter ETA:2024-06-10 21:03:02 +08)\n",
      "idx.iter=   4.09 :  268/905  success=29.61% ( 8.95s/iter ETA:2024-06-10 21:03:03 +08)\n",
      "idx.iter=   5.09 :  268/906  success=29.58% ( 8.95s/iter ETA:2024-06-10 21:03:06 +08)\n",
      "idx.iter=   6.09 :  268/907  success=29.55% ( 8.95s/iter ETA:2024-06-10 21:03:08 +08)\n",
      "idx.iter=   7.09 :  268/908  success=29.52% ( 8.96s/iter ETA:2024-06-10 21:03:12 +08)\n",
      "idx.iter=   8.09 :  268/909  success=29.48% ( 8.96s/iter ETA:2024-06-10 21:03:14 +08)\n",
      "idx.iter=   9.09 :  268/910  success=29.45% ( 8.96s/iter ETA:2024-06-10 21:03:15 +08)\n",
      "idx.iter=  10.09 :  268/911  success=29.42% ( 8.96s/iter ETA:2024-06-10 21:03:18 +08)\n",
      "idx.iter=  11.09 :  268/912  success=29.39% ( 8.97s/iter ETA:2024-06-10 21:03:21 +08)\n",
      "idx.iter=  12.09 :  268/913  success=29.35% ( 8.97s/iter ETA:2024-06-10 21:03:22 +08)\n",
      "idx.iter=  13.09 :  269/914  success=29.43% ( 8.96s/iter ETA:2024-06-10 21:03:16 +08)\n",
      "idx.iter=  14.09 :  269/915  success=29.40% ( 8.97s/iter ETA:2024-06-10 21:03:20 +08)\n",
      "idx.iter=  15.09 :  269/916  success=29.37% ( 8.97s/iter ETA:2024-06-10 21:03:25 +08)\n",
      "idx.iter=  16.09 :  269/917  success=29.33% ( 8.97s/iter ETA:2024-06-10 21:03:26 +08)\n",
      "idx.iter=  17.09 :  270/918  success=29.41% ( 8.96s/iter ETA:2024-06-10 21:03:18 +08)\n",
      "Action rethink : 'applied round' does not suggest Action.GOES_INSIDE, but these parts could : 'round'\n",
      "Action rethink : 'applied round' does not suggest Action.GOES_INSIDE, but these parts could : 'round'\n",
      "Action rethink : 'applied round' does not suggest Action.GOES_OUTSIDE, but these parts could : 'round'\n",
      "Action rethink : 'GOES INSIDE' does not suggest Action.GOES_INSIDE, but these parts could : 'inside'\n",
      "idx.iter=  18.09 :  270/919  success=29.38% ( 8.97s/iter ETA:2024-06-10 21:03:21 +08)\n",
      "idx.iter=  19.09 :  270/920  success=29.35% ( 8.97s/iter ETA:2024-06-10 21:03:25 +08)\n",
      "idx.iter=  20.09 :  270/921  success=29.32% ( 8.97s/iter ETA:2024-06-10 21:03:27 +08)\n",
      "Action rethink : 'regularly collected' does not suggest Action.SUBSTRING, but these parts could : 'regularly'\n",
      "Action rethink : 'regularly collected' does not suggest Action.SUBSTRING, but these parts could : 'regularly'\n",
      "Action rethink : 'regularly collected' does not suggest Action.SUBSTRING, but these parts could : 'regularly'\n",
      "idx.iter=  21.09 :  270/922  success=29.28% ( 8.98s/iter ETA:2024-06-10 21:03:31 +08)\n",
      "idx.iter=  22.09 :  270/923  success=29.25% ( 8.98s/iter ETA:2024-06-10 21:03:33 +08)\n",
      "idx.iter=  23.09 :  270/924  success=29.22% ( 8.98s/iter ETA:2024-06-10 21:03:35 +08)\n",
      "idx.iter=  24.09 :  270/925  success=29.19% ( 8.98s/iter ETA:2024-06-10 21:03:37 +08)\n",
      "idx.iter=  25.09 :  270/926  success=29.16% ( 8.99s/iter ETA:2024-06-10 21:03:42 +08)\n",
      "idx.iter=  26.09 :  270/927  success=29.13% ( 8.99s/iter ETA:2024-06-10 21:03:44 +08)\n",
      "idx.iter=  27.09 :  271/928  success=29.20% ( 8.98s/iter ETA:2024-06-10 21:03:37 +08)\n",
      "idx.iter=  28.09 :  271/929  success=29.17% ( 8.98s/iter ETA:2024-06-10 21:03:38 +08)\n",
      "idx.iter=  29.09 :  271/930  success=29.14% ( 8.99s/iter ETA:2024-06-10 21:03:41 +08)\n",
      "idx.iter=  30.09 :  272/931  success=29.22% ( 8.98s/iter ETA:2024-06-10 21:03:33 +08)\n",
      "Action rethink : 'picked up' does not suggest Action.REVERSE, but these parts could : 'up'\n",
      "Action rethink : 'picked up' does not suggest Action.REVERSE, but these parts could : 'up'\n",
      "idx.iter=  31.09 :  272/932  success=29.18% ( 8.98s/iter ETA:2024-06-10 21:03:37 +08)\n",
      "idx.iter=  32.09 :  272/933  success=29.15% ( 8.99s/iter ETA:2024-06-10 21:03:39 +08)\n",
      "idx.iter=  33.09 :  272/934  success=29.12% ( 8.99s/iter ETA:2024-06-10 21:03:41 +08)\n",
      "idx.iter=  34.09 :  272/935  success=29.09% ( 8.99s/iter ETA:2024-06-10 21:03:45 +08)\n",
      "idx.iter=  35.09 :  272/936  success=29.06% ( 8.99s/iter ETA:2024-06-10 21:03:46 +08)\n",
      "idx.iter=  36.09 :  272/937  success=29.03% ( 8.99s/iter ETA:2024-06-10 21:03:46 +08)\n",
      "idx.iter=  37.09 :  272/938  success=29.00% ( 9.00s/iter ETA:2024-06-10 21:03:50 +08)\n",
      "idx.iter=  38.09 :  273/939  success=29.07% ( 9.00s/iter ETA:2024-06-10 21:03:50 +08)\n",
      "idx.iter=  39.09 :  274/940  success=29.15% ( 8.99s/iter ETA:2024-06-10 21:03:43 +08)\n",
      "Action rethink : 'lead on' does not suggest Action.REMOVE_LAST, but these parts could : 'lead'\n",
      "Action rethink : 'lead on' does not suggest Action.REMOVE_LAST, but these parts could : 'lead'\n",
      "Action rethink : 'lead on' does not suggest Action.REMOVE_LAST, but these parts could : 'lead'\n",
      "Action rethink : 'lead on' does not suggest Action.REMOVE_LAST, but these parts could : 'lead'\n",
      "Action rethink : 'lead on' does not suggest Action.REMOVE_LAST, but these parts could : 'lead'\n",
      "Action rethink : 'lead on' does not suggest Action.REMOVE_LAST, but these parts could : 'lead'\n",
      "idx.iter=  40.09 :  274/941  success=29.12% ( 8.99s/iter ETA:2024-06-10 21:03:45 +08)\n",
      "idx.iter=  41.09 :  275/942  success=29.19% ( 8.98s/iter ETA:2024-06-10 21:03:38 +08)\n",
      "idx.iter=  42.09 :  275/943  success=29.16% ( 8.99s/iter ETA:2024-06-10 21:03:41 +08)\n",
      "idx.iter=  43.09 :  275/944  success=29.13% ( 8.99s/iter ETA:2024-06-10 21:03:41 +08)\n",
      "idx.iter=  44.09 :  275/945  success=29.10% ( 8.99s/iter ETA:2024-06-10 21:03:41 +08)\n",
      "idx.iter=  45.09 :  275/946  success=29.07% ( 8.99s/iter ETA:2024-06-10 21:03:41 +08)\n",
      "idx.iter=  46.09 :  275/947  success=29.04% ( 8.99s/iter ETA:2024-06-10 21:03:44 +08)\n",
      "idx.iter=  47.09 :  275/948  success=29.01% ( 8.99s/iter ETA:2024-06-10 21:03:47 +08)\n",
      "idx.iter=  48.09 :  276/949  success=29.08% ( 8.99s/iter ETA:2024-06-10 21:03:39 +08)\n",
      "idx.iter=  49.09 :  276/950  success=29.05% ( 8.99s/iter ETA:2024-06-10 21:03:45 +08)\n",
      "idx.iter=  50.09 :  276/951  success=29.02% ( 8.99s/iter ETA:2024-06-10 21:03:46 +08)\n",
      "No definition found in clue 'The occident’s fatal day, right?'...  Not adding provided wordplay \n",
      "idx.iter=  51.09 :  277/952  success=29.10% ( 9.00s/iter ETA:2024-06-10 21:03:52 +08)\n",
      "idx.iter=  52.09 :  278/953  success=29.17% ( 8.99s/iter ETA:2024-06-10 21:03:46 +08)\n",
      "Action rethink : 'taken in by' does not suggest Action.GOES_INSIDE, but these parts could : 'in', 'taken in'\n",
      "Action rethink : 'taken in by' does not suggest Action.GOES_INSIDE, but these parts could : 'in', 'taken in'\n",
      "Action rethink : 'taken in by' does not suggest Action.GOES_INSIDE, but these parts could : 'in', 'taken in'\n",
      "Action rethink : 'taken in by' does not suggest Action.GOES_INSIDE, but these parts could : 'in', 'taken in'\n",
      "Action rethink : 'taken in by' does not suggest Action.GOES_INSIDE, but these parts could : 'in', 'taken in'\n",
      "idx.iter=  53.09 :  278/954  success=29.14% ( 9.00s/iter ETA:2024-06-10 21:03:51 +08)\n",
      "idx.iter=  54.09 :  278/955  success=29.11% ( 9.00s/iter ETA:2024-06-10 21:03:50 +08)\n",
      "Action rethink : 'made by' does not suggest Action.ANAGRAM, but these parts could : 'made'\n",
      "idx.iter=  55.09 :  278/956  success=29.08% ( 9.00s/iter ETA:2024-06-10 21:03:52 +08)\n",
      "idx.iter=  56.09 :  279/957  success=29.15% ( 9.00s/iter ETA:2024-06-10 21:03:53 +08)\n",
      "idx.iter=  57.09 :  279/958  success=29.12% ( 9.00s/iter ETA:2024-06-10 21:03:55 +08)\n",
      "idx.iter=  58.09 :  279/959  success=29.09% ( 9.01s/iter ETA:2024-06-10 21:03:59 +08)\n",
      "idx.iter=  59.09 :  280/960  success=29.17% ( 9.00s/iter ETA:2024-06-10 21:03:52 +08)\n",
      "idx.iter=  60.09 :  280/961  success=29.14% ( 9.00s/iter ETA:2024-06-10 21:03:54 +08)\n",
      "idx.iter=  61.09 :  280/962  success=29.11% ( 9.00s/iter ETA:2024-06-10 21:03:57 +08)\n",
      "idx.iter=  62.09 :  281/963  success=29.18% ( 9.00s/iter ETA:2024-06-10 21:03:50 +08)\n",
      "idx.iter=  63.09 :  281/964  success=29.15% ( 9.00s/iter ETA:2024-06-10 21:03:52 +08)\n",
      "idx.iter=  64.09 :  282/965  success=29.22% ( 8.99s/iter ETA:2024-06-10 21:03:44 +08)\n",
      "idx.iter=  65.09 :  283/966  success=29.30% ( 8.98s/iter ETA:2024-06-10 21:03:37 +08)\n",
      "idx.iter=  66.09 :  284/967  success=29.37% ( 8.98s/iter ETA:2024-06-10 21:03:29 +08)\n",
      "idx.iter=  67.09 :  284/968  success=29.34% ( 8.98s/iter ETA:2024-06-10 21:03:30 +08)\n",
      "idx.iter=  68.09 :  285/969  success=29.41% ( 8.97s/iter ETA:2024-06-10 21:03:23 +08)\n",
      "idx.iter=  69.09 :  285/970  success=29.38% ( 8.97s/iter ETA:2024-06-10 21:03:27 +08)\n",
      "idx.iter=  70.09 :  285/971  success=29.35% ( 8.97s/iter ETA:2024-06-10 21:03:27 +08)\n",
      "idx.iter=  71.09 :  286/972  success=29.42% ( 8.97s/iter ETA:2024-06-10 21:03:20 +08)\n",
      "idx.iter=  72.09 :  287/973  success=29.50% ( 8.96s/iter ETA:2024-06-10 21:03:13 +08)\n",
      "idx.iter=  73.09 :  288/974  success=29.57% ( 8.95s/iter ETA:2024-06-10 21:03:05 +08)\n",
      "idx.iter=  74.09 :  288/975  success=29.54% ( 8.96s/iter ETA:2024-06-10 21:03:09 +08)\n",
      "idx.iter=  75.09 :  288/976  success=29.51% ( 8.96s/iter ETA:2024-06-10 21:03:12 +08)\n",
      "idx.iter=  76.09 :  289/977  success=29.58% ( 8.95s/iter ETA:2024-06-10 21:03:05 +08)\n",
      "idx.iter=  77.09 :  290/978  success=29.65% ( 8.94s/iter ETA:2024-06-10 21:02:58 +08)\n",
      "idx.iter=  78.09 :  290/979  success=29.62% ( 8.95s/iter ETA:2024-06-10 21:03:01 +08)\n",
      "idx.iter=  79.09 :  291/980  success=29.69% ( 8.94s/iter ETA:2024-06-10 21:02:55 +08)\n",
      "idx.iter=  80.09 :  292/981  success=29.77% ( 8.94s/iter ETA:2024-06-10 21:02:50 +08)\n",
      "idx.iter=  81.09 :  292/982  success=29.74% ( 8.94s/iter ETA:2024-06-10 21:02:54 +08)\n",
      "idx.iter=  82.09 :  293/983  success=29.81% ( 8.94s/iter ETA:2024-06-10 21:02:54 +08)\n",
      "idx.iter=  83.09 :  293/984  success=29.78% ( 8.94s/iter ETA:2024-06-10 21:02:55 +08)\n",
      "idx.iter=  84.09 :  293/985  success=29.75% ( 8.94s/iter ETA:2024-06-10 21:02:55 +08)\n",
      "idx.iter=  85.09 :  293/986  success=29.72% ( 8.95s/iter ETA:2024-06-10 21:03:00 +08)\n",
      "idx.iter=  86.09 :  293/987  success=29.69% ( 8.95s/iter ETA:2024-06-10 21:03:01 +08)\n",
      "Action rethink : 'that’s come up' does not suggest Action.REVERSE, but these parts could : 'come up', 'up'\n",
      "idx.iter=  87.09 :  293/988  success=29.66% ( 8.95s/iter ETA:2024-06-10 21:03:03 +08)\n",
      "idx.iter=  88.09 :  294/989  success=29.73% ( 8.95s/iter ETA:2024-06-10 21:03:01 +08)\n",
      "idx.iter=  89.09 :  294/990  success=29.70% ( 8.95s/iter ETA:2024-06-10 21:03:03 +08)\n",
      "idx.iter=  90.09 :  294/991  success=29.67% ( 8.95s/iter ETA:2024-06-10 21:03:05 +08)\n",
      "idx.iter=  91.09 :  294/992  success=29.64% ( 8.96s/iter ETA:2024-06-10 21:03:09 +08)\n",
      "idx.iter=  92.09 :  294/993  success=29.61% ( 8.96s/iter ETA:2024-06-10 21:03:12 +08)\n",
      "idx.iter=  93.09 :  294/994  success=29.58% ( 8.96s/iter ETA:2024-06-10 21:03:14 +08)\n",
      "idx.iter=  94.09 :  294/995  success=29.55% ( 8.96s/iter ETA:2024-06-10 21:03:17 +08)\n",
      "idx.iter=  95.09 :  295/996  success=29.62% ( 8.96s/iter ETA:2024-06-10 21:03:11 +08)\n",
      "idx.iter=  96.09 :  295/997  success=29.59% ( 8.96s/iter ETA:2024-06-10 21:03:16 +08)\n",
      "idx.iter=  97.09 :  295/998  success=29.56% ( 8.96s/iter ETA:2024-06-10 21:03:17 +08)\n",
      "idx.iter=  98.09 :  296/999  success=29.63% ( 8.96s/iter ETA:2024-06-10 21:03:17 +08)\n",
      "idx.iter=  99.09 :  297/1000 success=29.70% ( 8.96s/iter ETA:2024-06-10 21:03:09 +08)\n",
      "Done './experiments/5rewrites-manywordplay-usewordplay/train-flash_one_err2/000/099_09.log'\n"
     ]
    }
   ],
   "source": [
    "## Original case (copied down from cell above)\n",
    "#run_experiment('5rewrites-manywordplay-usewordplay', wordplay_train, shuffled_idx_wordplay_train, 'train', samples=10, examples=100)\n",
    "#run_experiment('5rewrites-manywordplay-usewordplay', wordplay_train, shuffled_idx_wordplay_train, 'train_with_hints', samples=2, examples=100)\n",
    "\n",
    "#run_experiment('5rewrites-manywordplay-usewordplay', wordplay_train, shuffled_idx_wordplay_train, 'train-flash', samples=2, examples=100)\n",
    "#run_experiment('5rewrites-manywordplay-usewordplay', wordplay_train, shuffled_idx_wordplay_train, 'train-flash', samples=10, examples=100)\n",
    "\n",
    "## NB: REVERT ICML changes in  debug_when_failed\n",
    "#run_experiment('5rewrites-manywordplay-usewordplay', wordplay_train, shuffled_idx_wordplay_train, 'train_no_hint', samples=2, examples=10)\n",
    "#run_experiment('5rewrites-manywordplay-usewordplay', wordplay_train, shuffled_idx_wordplay_train, 'train_no_hint', samples=10, examples=100)\n",
    "#run_experiment('5rewrites-manywordplay-usewordplay', wordplay_train, shuffled_idx_wordplay_train, 'train_no_hint2', samples=10, examples=100)\n",
    "\n",
    "#run_experiment('5rewrites-manywordplay-usewordplay', wordplay_train, shuffled_idx_wordplay_train, 'train-flash_no_hint2', samples=10, examples=100)\n",
    "\n",
    "## NB: REVERT ICML changes in  debug_when_failed\n",
    "#run_experiment('5rewrites-manywordplay-usewordplay', wordplay_train, shuffled_idx_wordplay_train, 'train_one_err', samples=2, examples=2)\n",
    "#run_experiment('5rewrites-manywordplay-usewordplay', wordplay_train, shuffled_idx_wordplay_train, 'train_one_err', samples=10, examples=100)\n",
    "#run_experiment('5rewrites-manywordplay-usewordplay', wordplay_train, shuffled_idx_wordplay_train, 'train_one_err2', samples=2, examples=100)\n",
    "#run_experiment('5rewrites-manywordplay-usewordplay', wordplay_train, shuffled_idx_wordplay_train, 'train_one_err2', samples=10, examples=100)\n",
    "\n",
    "run_experiment('5rewrites-manywordplay-usewordplay', wordplay_train, shuffled_idx_wordplay_train, 'train-flash_one_err2', samples=10, examples=100)\n",
    "## NB: REVERT ICML changes in  debug_when_failed"
   ]
  },
  {
   "cell_type": "code",
   "execution_count": 322,
   "id": "2872c3bf-79c7-4a9c-9498-7492ca83a8bc",
   "metadata": {},
   "outputs": [
    {
     "name": "stdout",
     "output_type": "stream",
     "text": [
      "5rewrites-manywordplay-usewordplay : train_one_err\n",
      "  [ 2.9  1.7  1.5  1.3  1.6  1.3 89.7] = 100.0\n",
      "    solves[30]=[1, -1, -1, -1, 0, -1, -1, -1, -1, -1]\n",
      "5rewrites-manywordplay-usewordplay : train_no_hint\n",
      "  [ 2.3  1.8  2.5  2.1  1.4  2.  87.9] = 100.0\n",
      "    solves[30]=[-1, -1, 2, -1, -1, -1, 0, -1, -1, -1]\n",
      "5rewrites-manywordplay-usewordplay : train\n",
      "  [ 5.7  3.3  3.8  2.8  2.9  2.  79.5] = 100.0\n",
      "    solves[30]=[-1, 1, -1, 1, 0, -1, 4, 4, 0, 1]\n",
      "5rewrites-manywordplay-usewordplay : train_one_err2\n",
      "  [ 6.7  2.1  3.2  2.5  2.5  2.3 80.7] = 100.0\n",
      "    solves[30]=[1, 0, 3, -1, -1, 2, 0, -1, 2, 4]\n",
      "5rewrites-manywordplay-usewordplay : train_no_hint2\n",
      "  [ 5.8  3.1  4.4  3.5  2.4  2.4 78.4] = 100.0\n",
      "    solves[30]=[0, -1, -1, -1, -1, -1, 0, 2, 2, 0]\n",
      "5rewrites-manywordplay-usewordplay : train_with_hints\n",
      "  [ 6.   4.5  4.5  2.   0.5  1.5 81. ] = 100.0\n",
      "    solves[30]=[-1, -1]\n",
      "5rewrites-manywordplay-usewordplay : train-flash_one_err2\n",
      "  [19.7  4.5  1.8  2.1  1.1  0.5 70.3] = 100.0\n",
      "    solves[30]=[0, 0, 0, 0, 0, 0, -1, 0, 0, 0]\n",
      "5rewrites-manywordplay-usewordplay : train-flash_no_hint2\n",
      "  [20.1  4.2  2.9  1.5  1.5  0.9 68.9] = 100.0\n",
      "    solves[30]=[0, 0, 0, 0, 0, 0, 0, 0, 0, 0]\n",
      "5rewrites-manywordplay-usewordplay : train-flash\n",
      "  [20.6  9.3  2.6  1.6  1.7  1.7 62.5] = 100.0\n",
      "    solves[30]=[0, 0, 0, 0, 0, 0, 0, 0, 0, 0]\n"
     ]
    }
   ],
   "source": [
    "exp_name='5rewrites-manywordplay-usewordplay'\n",
    "score_totals_arr=[]\n",
    "for split in [ 'train_one_err',  'train_no_hint',  'train', \n",
    "               'train_one_err2', 'train_no_hint2', 'train_with_hints',  \n",
    "               'train-flash_one_err2', 'train-flash_no_hint2', 'train-flash', \n",
    "             ]:\n",
    "  solves = get_solves_matrix(name=exp_name, split=split, rewrite_last_check=5)\n",
    "  score_counts = get_scores_counts(solves)\n",
    "  #print(f\"{exp_name:s}\\n{score_counts}\") # .flatten()\n",
    "  score_totals=score_counts[:,-1:].flatten()\n",
    "  print(f\"{exp_name:s} : {split:s}\\n  {score_totals} = {score_totals.sum()}\")   \n",
    "  print(f\"    {solves[30]=}\")\n",
    "  score_totals_arr.append(score_totals)"
   ]
  },
  {
   "cell_type": "code",
   "execution_count": null,
   "id": "524ab383-a26c-46db-9914-86b0f3fd9f88",
   "metadata": {},
   "outputs": [],
   "source": [
    "## Submitted to workshop:  (includes adjustment for first-draft limited precision)\n",
    "# Single error &  5.9 &  1.7 &  1.5 &  1.3 & 1.6 & 1.3 \\\\\n",
    "# Multi-error  &  5.5 &  1.8 &  2.5 &  2.1 & 1.4 & 2.0\\\\ \n",
    "# DSL Hinting  &  5.7 &  3.3 &  3.8 &  2.8 & 2.9 & 2.0 \\\\"
   ]
  },
  {
   "cell_type": "code",
   "execution_count": 325,
   "id": "9530475a-eefb-473a-8ad4-13491d709f63",
   "metadata": {
    "lines_to_next_cell": 0
   },
   "outputs": [
    {
     "data": {
      "image/png": "[encoded data removed]",
      "text/plain": [
       "<Figure size 640x480 with 1 Axes>"
      ]
     },
     "metadata": {},
     "output_type": "display_data"
    }
   ],
   "source": [
    "# https://matplotlib.org/stable/gallery/lines_bars_and_markers/barchart.html\n",
    "width = 0.25  # the width of the bars\n",
    "multiplier = 0\n",
    "\n",
    "labels= [ 'Single-error', 'Multi-error', 'Full Hinting',  ]\n",
    "x = np.arange(6)  # the label locations\n",
    "\n",
    "#for score_totals in score_totals_arr:\n",
    "#  #plt.bar(height=score_totals, x=np.arange(0,7))\n",
    "#  plt.bar(height=score_totals[:-1], x=np.arange(0,6))\n",
    "\n",
    "fig, ax = plt.subplots(layout='constrained')\n",
    "\n",
    "for idx, score_totals in enumerate(score_totals_arr[6:9]):\n",
    "  offset = width * multiplier\n",
    "  rects = ax.bar(x+offset, score_totals[:-1], width, label=labels[idx])\n",
    "  ax.bar_label(rects, padding=3)\n",
    "  multiplier += 1\n",
    "\n",
    "# Add some text for labels, title and custom x-axis tick labels, etc.\n",
    "ax.set_ylabel('% success')\n",
    "ax.set_title('Number of re-writes')\n",
    "ax.set_xticks(x+width, x)\n",
    "ax.legend(loc='upper left', ncols=3)\n",
    "ax.set_ylim(0, 25.0)\n",
    "\n",
    "plt.show()"
   ]
  },
  {
   "cell_type": "code",
   "execution_count": null,
   "id": "95845cfc-53bf-4040-b4a9-4f6379344373",
   "metadata": {},
   "outputs": [],
   "source": []
  },
  {
   "cell_type": "code",
   "execution_count": null,
   "id": "6d816d98-9659-469a-848c-a0280d90f069",
   "metadata": {},
   "outputs": [],
   "source": []
  },
  {
   "cell_type": "code",
   "execution_count": null,
   "id": "98cc0add-d2d9-4b33-ac93-dbaf128b12e7",
   "metadata": {},
   "outputs": [],
   "source": []
  },
  {
   "cell_type": "code",
   "execution_count": null,
   "id": "ccb38706-6fe1-4314-bf8e-a3d8b707c351",
   "metadata": {},
   "outputs": [],
   "source": []
  },
  {
   "cell_type": "code",
   "execution_count": null,
   "id": "ecc3c8ec-dd9f-4e6f-9400-fb5fa3cad4b1",
   "metadata": {},
   "outputs": [],
   "source": []
  },
  {
   "cell_type": "markdown",
   "id": "86c53b3e-d51e-46f8-8350-d2fb3b69eaa1",
   "metadata": {},
   "source": [
    "### Generate for 1000 human wordplay to generate (hundreds of) python solutions"
   ]
  },
  {
   "cell_type": "code",
   "execution_count": 82,
   "id": "b49c0e44-968c-4b90-aa3c-d31ee12f1219",
   "metadata": {
    "editable": true,
    "lines_to_next_cell": 0,
    "slideshow": {
     "slide_type": ""
    },
    "tags": []
   },
   "outputs": [
    {
     "name": "stdout",
     "output_type": "stream",
     "text": [
      "Starting with 1000/1000 done\n"
     ]
    },
    {
     "data": {
      "text/plain": [
       "'DONE'"
      ]
     },
     "execution_count": 82,
     "metadata": {},
     "output_type": "execute_result"
    }
   ],
   "source": [
    "def run_solves_stealthily(name, data, shuffled_idx, split, samples_max=10, examples=10):  # examples is number of clues\n",
    "  experiment_names_4 = '|stealthy_iter.div.2|'.split('|')\n",
    "  if not name in experiment_names_4: \n",
    "    print(f\"Bad experiment name={name}\")\n",
    "    return\n",
    "  cnt, cnt_all = 0,0\n",
    "  for idx in range(0, examples):\n",
    "    cnt_all+=1\n",
    "    log_file = log_file_name(name=name, split=split, idx=idx, iter=0) # Just check whether we've started at all on this one\n",
    "    if os.path.isfile(log_file):\n",
    "      cnt+=1\n",
    "  print(f\"Starting with {cnt}/{cnt_all} done\")\n",
    "\n",
    "  cnt_start, pos = cnt, 0\n",
    "  t0=time.time()\n",
    "  for idx in range(0, examples):\n",
    "    log_file = log_file_name(name=name, split=split, idx=idx, iter=0)\n",
    "    if os.path.isfile(log_file):\n",
    "      continue # Skip this one : it's done already\n",
    "\n",
    "    iter=0\n",
    "    while iter<samples_max:\n",
    "      log_file = log_file_name(name=name, split=split, idx=idx, iter=iter)\n",
    "      flog = open(log_file, 'w')\n",
    "      question = data[shuffled_idx[idx]]\n",
    "      if name in experiment_names_4:\n",
    "        max_rewrites=5\n",
    "        wordplay_rubric='./wordplay/manyshot_train.txt'\n",
    "\n",
    "        clue = prompts.remove_enumeration_from(question['clue'])\n",
    "        answer = question['answer']\n",
    "        wordplay=question['wordplay']  # Must be there\n",
    "\n",
    "        max_rewrites = 0 # Bad default\n",
    "        if 'iter.div.2' in name:\n",
    "          max_rewrites = iter//2  # This is a guess at the right kind of schedule\n",
    "        \n",
    "        success_rewrite = prompts.iteratively_answer(base_model, solver_config, \n",
    "                                    clue, answer=answer, pattern=question['enumeration'], wordplay=wordplay, \n",
    "                                    max_rewrites=max_rewrites, add_wordplay_hints=False, \n",
    "                                    wordplay_rubric=wordplay_rubric,\n",
    "                                    flog=flog)\n",
    "      flog.close()\n",
    "      if success_rewrite>=0:\n",
    "        pos+=1\n",
    "        break\n",
    "      #print(f\"  idx.iter={idx:4d}.{iter:02d} {max_rewrites=}\")\n",
    "      iter+=1\n",
    "      \n",
    "    cnt+=1\n",
    "    cnt_done = cnt-cnt_start\n",
    "    elapsed  =(time.time()-t0)\n",
    "    per_iter =elapsed/cnt_done\n",
    "    remaining=per_iter*(cnt_all-cnt)\n",
    "    eta_local=datetime.datetime.now(tz)+datetime.timedelta(seconds=remaining)\n",
    "    print(f\"idx.iter={idx:4d}.{iter:02d} : {pos:4d}/{cnt_done: <4d} success={100.*pos/cnt_done:5.2f}% \"+\n",
    "          f\"({per_iter:5.2f}s/iter ETA:{eta_local.strftime('%Y-%m-%d %H:%M:%S %Z')})\") # Remaining:{remaining:5.0f}s \n",
    "\n",
    "run_solves_stealthily('stealthy_iter.div.2', wordplay_train, shuffled_idx_wordplay_train, 'train', samples_max=10, examples=1000)\n",
    "\"DONE\""
   ]
  },
  {
   "cell_type": "code",
   "execution_count": null,
   "id": "dddc3be6-a933-4c09-89cc-1c56f2cedbda",
   "metadata": {
    "editable": true,
    "lines_to_next_cell": 2,
    "slideshow": {
     "slide_type": ""
    },
    "tags": []
   },
   "outputs": [],
   "source": []
  },
  {
   "cell_type": "code",
   "execution_count": 84,
   "id": "ce1c098b-958b-4a63-85da-dde250b99916",
   "metadata": {},
   "outputs": [
    {
     "data": {
      "text/plain": [
       "('DONE', [57, 99, 64, 186, 154])"
      ]
     },
     "execution_count": 84,
     "metadata": {},
     "output_type": "execute_result"
    }
   ],
   "source": [
    "wordplay_val, shuffled_idx_wordplay_val = solver.dataset.get_wordplay_data_and_shuffle('val')\n",
    "\"DONE\", shuffled_idx_wordplay_val[:5]"
   ]
  },
  {
   "cell_type": "code",
   "execution_count": 85,
   "id": "480e150d-f345-4936-8a97-ef36e9338409",
   "metadata": {
    "editable": true,
    "slideshow": {
     "slide_type": ""
    },
    "tags": []
   },
   "outputs": [
    {
     "name": "stdout",
     "output_type": "stream",
     "text": [
      "Starting with 100/100 done\n"
     ]
    },
    {
     "data": {
      "text/plain": [
       "'DONE'"
      ]
     },
     "execution_count": 85,
     "metadata": {},
     "output_type": "execute_result"
    }
   ],
   "source": [
    "run_solves_stealthily('stealthy_iter.div.2', wordplay_val, shuffled_idx_wordplay_val, 'val', samples_max=10, examples=100)\n",
    "\"DONE\""
   ]
  },
  {
   "cell_type": "markdown",
   "id": "d9c73c38-3774-4510-b5c9-125106e3dbad",
   "metadata": {
    "editable": true,
    "slideshow": {
     "slide_type": ""
    },
    "tags": []
   },
   "source": [
    "### Gather the SUCCESS python segments into a dataset..."
   ]
  },
  {
   "cell_type": "code",
   "execution_count": 334,
   "id": "26beab7c-07f2-48ed-b374-1d1f8106d35e",
   "metadata": {},
   "outputs": [
    {
     "data": {
      "text/plain": [
       "42"
      ]
     },
     "execution_count": 334,
     "metadata": {},
     "output_type": "execute_result"
    }
   ],
   "source": [
    "def gather_success_python(name='stealthy_iter.div.2', split='train', samples_max=10, examples=100):\n",
    "  # Step 1:Go through idx, iter to find SUCCESS runs (and spit out list of unfinished ones)\n",
    "  # Step 2: Go through the SUCCESS run itself to extract the python solution, and store the important info\n",
    "  solutions=[]\n",
    "  for idx in range(examples):\n",
    "    iter, found=0, False\n",
    "    while iter<samples_max:\n",
    "      log_file = log_file_name(name=name, split=split, idx=idx, iter=iter)\n",
    "      if not os.path.isfile(log_file):\n",
    "        # We ran out of iters for this idx - but iter<samples_max : This is unfinished!\n",
    "        print(f\"Unfinished solution attempt: {log_file}\")\n",
    "        break \n",
    "      success_rewrite=-1\n",
    "      with open(log_file, 'r') as fin:\n",
    "        for line in fin.readlines():\n",
    "          if \"SUCCESS!\" in line and \"#REWRITE#\" in line:\n",
    "            # flog.write(f\"\\n#REWRITE#:{rewrite:d}:SUCCESS!\\n\")\n",
    "            _, success_rewrite, _ = line.split(':')\n",
    "            #success_rewrite=int(success_rewrite)\n",
    "            found=True\n",
    "      if found:\n",
    "        started, py=False, []\n",
    "        with open(log_file, 'r') as fin:\n",
    "          for line in fin.readlines():\n",
    "            if started:\n",
    "              if line.startswith('#END#'):\n",
    "                break\n",
    "              py.append(line)\n",
    "            if not started and f\"#REWRITE#:{success_rewrite}:RESPONSE:(PY)::\" in line:\n",
    "              started=True\n",
    "        #solves_idx.append(success_rewrite)\n",
    "        solutions.append(dict(\n",
    "          idx=idx, iter=iter, success_rewrite=success_rewrite,\n",
    "          py=''.join(py),\n",
    "        ))\n",
    "        break\n",
    "      iter+=1\n",
    "  return solutions      \n",
    "solutions_val = gather_success_python('stealthy_iter.div.2', split='val', samples_max=10, examples=100)\n",
    "len(solutions_val)"
   ]
  },
  {
   "cell_type": "code",
   "execution_count": 335,
   "id": "a031cf41-33e3-48f1-b3a9-19b5d3eb8faf",
   "metadata": {},
   "outputs": [
    {
     "name": "stdout",
     "output_type": "stream",
     "text": [
      "def proof(answer=\"TOUCH\", clue=\"Drop Tory leader? That’s a sore point!\", pattern='5'):\n",
      "  \"\"\"\n",
      "  definition: {Drop} Tory leader? That’s a sore point!\n",
      "  wordplay: T[ory] (leader) + OUCH (that’s a sore point!)\n",
      "  \"\"\"\n",
      "  assert is_synonym(\"drop\", \"TOUCH\", pattern='5')\n",
      "  assert action_type(\"leader\", Action.INITIALS)\n",
      "  assert \"T\"+\"OUCH\"==\"TOUCH\"\n",
      "  assert is_synonym(\"that’s a sore point!\", \"OUCH!\") # corrected the wordplay\n",
      "\n",
      "\n",
      "452\n"
     ]
    }
   ],
   "source": [
    "solutions_train = gather_success_python('stealthy_iter.div.2', split='train', samples_max=10, examples=1000)\n",
    "print(solutions_train[0]['py'])\n",
    "print(len(solutions_train))"
   ]
  },
  {
   "cell_type": "code",
   "execution_count": 82,
   "id": "d9a450b6-171d-4145-a5b4-79279207666b",
   "metadata": {
    "editable": true,
    "slideshow": {
     "slide_type": ""
    },
    "tags": []
   },
   "outputs": [],
   "source": [
    "import pandas as pd\n",
    "from datasets import Dataset, DatasetDict\n",
    "os.makedirs('./datasets', exist_ok=True)"
   ]
  },
  {
   "cell_type": "code",
   "execution_count": 336,
   "id": "83274544-0b42-46c5-ab6c-2aa885917ee8",
   "metadata": {
    "editable": true,
    "lines_to_next_cell": 0,
    "slideshow": {
     "slide_type": ""
    },
    "tags": []
   },
   "outputs": [
    {
     "name": "stdout",
     "output_type": "stream",
     "text": [
      "{'idx': 1, 'iter': 8, 'success_rewrite': '3', 'py': 'def proof(answer=\"TOUCH\", clue=\"Drop Tory leader? That’s a sore point!\", pattern=\\'5\\'):\\n  \"\"\"\\n  definition: {Drop} Tory leader? That’s a sore point!\\n  wordplay: T[ory] (leader) + OUCH (that’s a sore point!)\\n  \"\"\"\\n  assert is_synonym(\"drop\", \"TOUCH\", pattern=\\'5\\')\\n  assert action_type(\"leader\", Action.INITIALS)\\n  assert \"T\"+\"OUCH\"==\"TOUCH\"\\n  assert is_synonym(\"that’s a sore point!\", \"OUCH!\") # corrected the wordplay\\n\\n'}\n"
     ]
    },
    {
     "data": {
      "application/vnd.jupyter.widget-view+json": {
       "model_id": "b5eabb0e2b5e40c3ba153b2198b2fa5e",
       "version_major": 2,
       "version_minor": 0
      },
      "text/plain": [
       "Creating json from Arrow format:   0%|          | 0/1 [00:00<?, ?ba/s]"
      ]
     },
     "metadata": {},
     "output_type": "display_data"
    },
    {
     "name": "stdout",
     "output_type": "stream",
     "text": [
      "{'idx': 0, 'iter': 0, 'success_rewrite': '0', 'py': 'def proof(answer=\"SHADDOCK\", clue=\"We have fruit and fish by the harbour\", pattern=\\'8\\'):\\n  \"\"\"\\n  definition: We have {fruit} and fish by the harbour\\n  wordplay: SHAD (fish) by the DOCK (harbour)\\n  \"\"\"\\n  assert is_synonym(\"fruit\", \"SHADDOCK\", pattern=\\'8\\')\\n  assert is_synonym(\"fish\", \"SHAD\")\\n  assert is_synonym(\"by the harbour\", \"DOCK\")\\n  assert \"SHAD\"+\"DOCK\" == \"SHADDOCK\"\\n\\n'}\n"
     ]
    },
    {
     "data": {
      "application/vnd.jupyter.widget-view+json": {
       "model_id": "b9ca73efa74846688ad0af0638668be1",
       "version_major": 2,
       "version_minor": 0
      },
      "text/plain": [
       "Creating json from Arrow format:   0%|          | 0/1 [00:00<?, ?ba/s]"
      ]
     },
     "metadata": {},
     "output_type": "display_data"
    },
    {
     "data": {
      "text/plain": [
       "'DONE'"
      ]
     },
     "execution_count": 336,
     "metadata": {},
     "output_type": "execute_result"
    }
   ],
   "source": [
    "ver='2024-05-19'\n",
    "def save_solutions_as_dataset(solutions, split):\n",
    "  print( solutions[0] )\n",
    "  # Save the dataset to disk\n",
    "  Dataset.from_pandas(pd.DataFrame(solutions)).to_json(f'./datasets/solutions_{ver}_{split}.json')\n",
    "\n",
    "save_solutions_as_dataset(solutions_train, 'train')\n",
    "save_solutions_as_dataset(solutions_val, 'val')\n",
    "\"DONE\""
   ]
  },
  {
   "cell_type": "code",
   "execution_count": null,
   "id": "5e61f01a-f0ae-4c1c-8393-8ded93dbafdb",
   "metadata": {
    "lines_to_next_cell": 2
   },
   "outputs": [],
   "source": []
  },
  {
   "cell_type": "markdown",
   "id": "b1d617cf-fb3e-4974-b606-75d00ab0fc66",
   "metadata": {},
   "source": [
    "## Try to prove answer&candidate from wordplays saved from LLaMa\n",
    "\n",
    "* Essentially for the ICML Workshop : Cognitive LLMs"
   ]
  },
  {
   "cell_type": "code",
   "execution_count": 12,
   "id": "fa7a46d4-0688-4316-9a67-4b87aa69acd2",
   "metadata": {},
   "outputs": [],
   "source": [
    "#import solver.dataset\n",
    "#definitions_found = solver.dataset.read_log_results([\n",
    "#  './experiments/definitions/reddragonai_transformed_definitions_wraptokens_model_3_epochs_19_05_24/val_2024-05-28_17-57-23.log',\n",
    "#])\n",
    "#len(definitions_found)"
   ]
  },
  {
   "cell_type": "code",
   "execution_count": 15,
   "id": "33fe8cfd-f04e-40d6-abf6-e8a0940899c7",
   "metadata": {},
   "outputs": [
    {
     "data": {
      "text/plain": [
       "282"
      ]
     },
     "execution_count": 15,
     "metadata": {},
     "output_type": "execute_result"
    }
   ],
   "source": [
    "import solver.dataset\n",
    "wordplays_found = solver.dataset.read_log_results([\n",
    "  #'./experiments/wordplay/reddragonai_transformed_wordplay_wraptokens_model_3_epochs_19_05_24/val_2024-05-29_06-35-33.log',\n",
    "  #'./experiments/wordplay/reddragonai_transformed_wordplay_wraptokens_model_3_epochs_19_05_24/val_2024-05-29_06-50-10.log',\n",
    "  #'./experiments/wordplay/reddragonai_transformed_wordplay_wraptokens_model_3_epochs_19_05_24/val_2024-05-29_09-15-25.log', # has clue_with_def\n",
    "  # ICML cognitive orig # 5 wordplays each \n",
    "  #'./experiments/wordplay/reddragonai_transformed_wordplay_wraptokens_model_3_epochs_19_05_24/val_2024-05-30_19-08-38.log', \n",
    "  # ICML cognitive redo (def+wordplay generation)\n",
    "  './experiments/wordplay/._llama3-it_def_and_wordplay_guesser_4_epoch_noex/val_2024-06-25_16-41-55.log',\n",
    "])\n",
    "len(wordplays_found)  # Each entry has an array of result dicts in it..."
   ]
  },
  {
   "cell_type": "code",
   "execution_count": 16,
   "id": "49270f29-1ad1-4fd6-95d6-0a99fd1ae2da",
   "metadata": {},
   "outputs": [
    {
     "data": {
      "text/plain": [
       "[{'answer': 'TRIPE',\n",
       "  'candidate': 0,\n",
       "  'clue': 'Son out of line? Rubbish!',\n",
       "  'clue_with_def': 'son out of line? {rubbish}!',\n",
       "  'is_gold': True,\n",
       "  'pattern': '5',\n",
       "  'wordplay': 'T (son) + R (out of) + IPE (line)'},\n",
       " {'answer': 'DODGY',\n",
       "  'candidate': 1,\n",
       "  'clue': 'Son out of line? Rubbish!',\n",
       "  'clue_with_def': 'son out of line? {rubbish}!',\n",
       "  'is_gold': False,\n",
       "  'pattern': '5',\n",
       "  'wordplay': 'D (son) + O (out) + DG (line)'},\n",
       " {'answer': 'TRIPE',\n",
       "  'candidate': 0,\n",
       "  'clue': 'Son out of line? Rubbish!',\n",
       "  'clue_with_def': 'son out of line? {rubbish}!',\n",
       "  'is_gold': True,\n",
       "  'pattern': '5',\n",
       "  'wordplay': 'T (son) + R (out of) + IPE (line)'},\n",
       " {'answer': 'DODGY',\n",
       "  'candidate': 1,\n",
       "  'clue': 'Son out of line? Rubbish!',\n",
       "  'clue_with_def': 'son out of line? {rubbish}!',\n",
       "  'is_gold': False,\n",
       "  'pattern': '5',\n",
       "  'wordplay': 'D (son) + O (out) + DG (line)'},\n",
       " {'answer': 'TRIPE',\n",
       "  'candidate': 0,\n",
       "  'clue': 'Son out of line? Rubbish!',\n",
       "  'clue_with_def': 'son out of line? {rubbish}!',\n",
       "  'is_gold': True,\n",
       "  'pattern': '5',\n",
       "  'wordplay': 'T (son) + RIP[e] (out of line)'},\n",
       " {'answer': 'DODGY',\n",
       "  'candidate': 1,\n",
       "  'clue': 'Son out of line? Rubbish!',\n",
       "  'clue_with_def': '{son out of line? rubbish}!',\n",
       "  'is_gold': False,\n",
       "  'pattern': '5',\n",
       "  'wordplay': 'Cryptic definition'},\n",
       " {'answer': 'TRIPE',\n",
       "  'candidate': 0,\n",
       "  'clue': 'Son out of line? Rubbish!',\n",
       "  'clue_with_def': 'son out of line? {rubbish}!',\n",
       "  'is_gold': True,\n",
       "  'pattern': '5',\n",
       "  'wordplay': 'TRIP (son out of line)'},\n",
       " {'answer': 'DODGY',\n",
       "  'candidate': 1,\n",
       "  'clue': 'Son out of line? Rubbish!',\n",
       "  'clue_with_def': '{son out of line?} rubbish!',\n",
       "  'is_gold': False,\n",
       "  'pattern': '5',\n",
       "  'wordplay': 'Cryptic definition'},\n",
       " {'answer': 'TRIPE',\n",
       "  'candidate': 0,\n",
       "  'clue': 'Son out of line? Rubbish!',\n",
       "  'clue_with_def': 'son out of line? {rubbish}!',\n",
       "  'is_gold': True,\n",
       "  'pattern': '5',\n",
       "  'wordplay': 'T (son) out of TRIPE (line)'},\n",
       " {'answer': 'DODGY',\n",
       "  'candidate': 1,\n",
       "  'clue': 'Son out of line? Rubbish!',\n",
       "  'clue_with_def': 'son out of line? {rubbish}!',\n",
       "  'is_gold': False,\n",
       "  'pattern': '5',\n",
       "  'wordplay': 'D (son) + O (out) + DG (line)'}]"
      ]
     },
     "execution_count": 16,
     "metadata": {},
     "output_type": "execute_result"
    }
   ],
   "source": [
    "#wordplays_found[0]\n",
    "wordplays_found[91]"
   ]
  },
  {
   "cell_type": "code",
   "execution_count": 19,
   "id": "81de6166-87a3-450b-a415-92c350b404a8",
   "metadata": {},
   "outputs": [
    {
     "data": {
      "text/plain": [
       "[57, 99, 64, 186, 154, 151, 173, 264, 108, 113, 94, 243, 208, 156, 263]"
      ]
     },
     "execution_count": 19,
     "metadata": {},
     "output_type": "execute_result"
    }
   ],
   "source": [
    "wordplay_val, shuffled_idx_wordplay_val = solver.dataset.get_wordplay_data_and_shuffle('val')\n",
    "shuffled_idx_wordplay_val[:15]"
   ]
  },
  {
   "cell_type": "code",
   "execution_count": 20,
   "id": "8bb31ac2-9cf4-407b-92dc-3f46c2791bd8",
   "metadata": {},
   "outputs": [
    {
     "name": "stdout",
     "output_type": "stream",
     "text": [
      "Starting with 100/100 done\n"
     ]
    },
    {
     "data": {
      "text/plain": [
       "'DONE'"
      ]
     },
     "execution_count": 20,
     "metadata": {},
     "output_type": "execute_result"
    }
   ],
   "source": [
    "# Go through the wordplays, running the prover for 'samples' iterations\n",
    "start_wordplay_result='---#WORDPLAY_RESULT#---'\n",
    "\n",
    "def run_wordplays_for_candidates(name, data, shuffled_idx, split, samples_max=10, examples=10):  # examples is number of wordplay arrays\n",
    "  experiment_names_5 = '|wordplays_1_candidate|wordplays5_1_candidate|def-and-wordplays5|'.split('|')\n",
    "  if not name in experiment_names_5: \n",
    "    print(f\"Bad experiment name={name}\")\n",
    "    return\n",
    "  cnt, cnt_all = 0,0  \n",
    "  for idx in range(0, examples):\n",
    "    cnt_all+=1\n",
    "    log_file = log_file_name(name=name, split=split, idx=idx, iter=0) # Just check whether we've started at all on this one\n",
    "    if os.path.isfile(log_file):\n",
    "      cnt+=1\n",
    "  print(f\"Starting with {cnt}/{cnt_all} done\")\n",
    "\n",
    "  cnt_start, pos_g, pos_o = cnt, 0, 0  # pos_g=GOLD correct, pos_a=OTHER (non-GOLD) correct\n",
    "  t0=time.time()\n",
    "  for idx in range(0, examples):\n",
    "    log_file = log_file_name(name=name, split=split, idx=idx, iter=0)\n",
    "    if os.path.isfile(log_file):\n",
    "      continue # Skip this one : it's done already\n",
    "\n",
    "    iter=0\n",
    "    while iter<samples_max:\n",
    "      log_file = log_file_name(name=name, split=split, idx=idx, iter=iter)\n",
    "      flog = open(log_file, 'w')\n",
    "      question = data[shuffled_idx[idx]]\n",
    "      if name in experiment_names_5:\n",
    "        max_rewrites=5\n",
    "        wordplay_rubric='./wordplay/manyshot_train.txt'\n",
    "\n",
    "        #clue = prompts.remove_enumeration_from(question['clue'])\n",
    "        for wordplay_example in wordplays_found[shuffled_idx[idx]]:\n",
    "          clue_with_def=wordplay_example['clue_with_def']\n",
    "          pattern = wordplay_example['pattern']\n",
    "          answer = wordplay_example['answer']\n",
    "          wordplay=wordplay_example['wordplay']\n",
    "\n",
    "          max_rewrites = 5\n",
    "          success_rewrite = prompts.iteratively_answer(base_model, solver_config, \n",
    "                                    clue_with_def, answer=answer, pattern=pattern, wordplay=wordplay, \n",
    "                                    max_rewrites=max_rewrites, add_wordplay_hints=False, \n",
    "                                    wordplay_rubric=wordplay_rubric,\n",
    "                                    flog=flog)\n",
    "          \n",
    "          # NEED TO WRITE A RESULT of SOME KIND THAT'S DEPENDENT ON wordplay_example\n",
    "          solver.dataset.write_log_result(flog, question['idx_shuffled'], question['idx_orig'], dict(\n",
    "            success_rewrite=success_rewrite,\n",
    "            **wordplay_example,\n",
    "          ), start=start_wordplay_result)\n",
    "\n",
    "          if success_rewrite>=0:\n",
    "            if wordplay_example['is_gold']:\n",
    "              pos_g+=1\n",
    "            else:\n",
    "              pos_o+=1\n",
    "        #pos+=1\n",
    "\n",
    "      flog.close()\n",
    "      #  break\n",
    "      #print(f\"  idx.iter={idx:4d}.{iter:02d} {max_rewrites=}\")\n",
    "      iter+=1\n",
    "      \n",
    "    cnt+=1\n",
    "    cnt_done = cnt-cnt_start\n",
    "    elapsed  =(time.time()-t0)\n",
    "    per_iter =elapsed/cnt_done\n",
    "    remaining=per_iter*(cnt_all-cnt)\n",
    "    eta_local=datetime.datetime.now(tz)+datetime.timedelta(seconds=remaining)\n",
    "    print(f\"idx.iter={idx:4d}.{iter:02d} : {pos_g+pos_o:4d}/{cnt_done: <4d} \"+\n",
    "          f\"gold%={100.*pos_g/cnt_done:5.2f}% other%={100.*pos_o/cnt_done:5.2f}% \"+\n",
    "          f\"({per_iter:5.2f}s/iter ETA:{eta_local.strftime('%Y-%m-%d %H:%M:%S %Z')})\") # Remaining:{remaining:5.0f}s \n",
    "    \n",
    "#run_wordplays_for_candidates('wordplays_1_candidate', wordplay_val, shuffled_idx_wordplay_val, 'val', samples_max=5, examples=2)\n",
    "#run_wordplays_for_candidates('wordplays_1_candidate', wordplay_val, shuffled_idx_wordplay_val, 'val', samples_max=5, examples=100)\n",
    "#run_wordplays_for_candidates('wordplays_1_candidate', wordplay_val, shuffled_idx_wordplay_val, 'val-flash', samples_max=5, examples=10)\n",
    "\n",
    "shuffled_idx_wordplay_val_filtered = [ shuf for shuf in shuffled_idx_wordplay_val if shuf<len(wordplays_found) ]\n",
    "# ICML Cognitive submission: = Gemini 1.0:\n",
    "#run_wordplays_for_candidates('wordplays5_1_candidate', wordplay_val, shuffled_idx_wordplay_val_filtered, 'val-filtered', samples_max=1, examples=100)\n",
    "# ICML Cognitive submission: = Gemini-Flash 1.5:\n",
    "#run_wordplays_for_candidates('wordplays5_1_candidate', wordplay_val, shuffled_idx_wordplay_val_filtered, 'val-filtered-flash', samples_max=1, examples=100)\n",
    "# ICML Cognitive submission: = Gemini-Flash 1.5:\n",
    "run_wordplays_for_candidates('def-and-wordplays5', wordplay_val, shuffled_idx_wordplay_val_filtered, 'val-filtered-flash', samples_max=1, examples=100)\n",
    "\"DONE\"  # gemini-1.0 = 200sec/iter, gemini-flash-1.5 = 120sec/iter"
   ]
  },
  {
   "cell_type": "code",
   "execution_count": 20,
   "id": "8739c492-a319-4777-bfea-93a6686afa54",
   "metadata": {},
   "outputs": [
    {
     "data": {
      "text/plain": [
       "[246, 105, 222]"
      ]
     },
     "execution_count": 20,
     "metadata": {},
     "output_type": "execute_result"
    }
   ],
   "source": [
    "#shuffled_idx_wordplay_val_filtered[:10]\n",
    "shuffled_idx_wordplay_val_filtered[34:37]"
   ]
  },
  {
   "cell_type": "code",
   "execution_count": 30,
   "id": "cebdf0bb-3a0d-4e92-9f01-e17ff3e79966",
   "metadata": {},
   "outputs": [
    {
     "data": {
      "text/plain": [
       "(100, [[-1, -1, -1, -1, -1], [0, 0, -1, -1, -1]])"
      ]
     },
     "execution_count": 30,
     "metadata": {},
     "output_type": "execute_result"
    }
   ],
   "source": [
    "# Now let's compute the percentage correct from the log-file itself\n",
    "def get_solves_for_example(name, split, idx, max_candidates=2, debug=False):\n",
    "  iter=0\n",
    "  by_candidate=[ [] for _ in range(max_candidates) ]\n",
    "  #print( max_candidates, by_candidate )\n",
    "  while True:\n",
    "    log_file = log_file_name(name=name, split=split, idx=idx, iter=iter)\n",
    "    if not os.path.isfile(log_file):\n",
    "      break # We ran out of iters for this idx\n",
    "    overlaid = solver.dataset.read_log_results([log_file], start=start_wordplay_result)\n",
    "    for idx_ex, wordplay_result_arr in overlaid.items():\n",
    "      #assert idx_ex == idx\n",
    "      for example in wordplay_result_arr:\n",
    "        if debug:\n",
    "          print(example)\n",
    "        candidate=example.get('candidate', 0 if example['is_gold'] else 1)\n",
    "        success_rewrite = example['success_rewrite']\n",
    "        by_candidate[candidate].append(success_rewrite)\n",
    "    iter+=1\n",
    "  return by_candidate\n",
    "  \n",
    "def get_solves_matrices_for_candidates(name, split, max_candidates=2):\n",
    "  solves_by_candidate=[]\n",
    "  idx=0\n",
    "  while True:\n",
    "    by_candidate = get_solves_for_example(name, split, idx, max_candidates=max_candidates)\n",
    "    if len(by_candidate[0])==0:\n",
    "      break # We didn't find the first file for this idx    \n",
    "    solves_by_candidate.append(by_candidate)  # at [idx]\n",
    "    idx+=1\n",
    "  return solves_by_candidate\n",
    "\n",
    "# ICML Cognitive submission: (gemini 1.0 pro) - val not filtered?  Maybe in error somehow...\n",
    "#solves_by_candidate = get_solves_matrices_for_candidates(name='wordplays_1_candidate', split='val')\n",
    "\n",
    "# ICML Cognitive submission: (gemini 1.0 pro)\n",
    "#solves_by_candidate = get_solves_matrices_for_candidates(name='wordplays5_1_candidate', split='val-filtered')\n",
    "# ICML Cognitive addition: ( Same, but with flash )\n",
    "#solves_by_candidate = get_solves_matrices_for_candidates(name='wordplays5_1_candidate', split='val-filtered-flash')\n",
    "# ICML Cognitive addition (with def+word):\n",
    "solves_by_candidate = get_solves_matrices_for_candidates(name='def-and-wordplays5', split='val-filtered-flash')\n",
    "\n",
    "len(solves_by_candidate), solves_by_candidate[20] #  20 !\n",
    "#len(solves_by_candidate), solves_by_candidate[11] #  20 !"
   ]
  },
  {
   "cell_type": "code",
   "execution_count": 31,
   "id": "ef9126a2-4849-49d1-81b7-755f1015dd7e",
   "metadata": {},
   "outputs": [],
   "source": [
    "#idx=20\n",
    "#get_solves_for_example(name='wordplays_1_candidate', split='val', idx=idx, max_candidates=2, debug=True)"
   ]
  },
  {
   "cell_type": "code",
   "execution_count": 32,
   "id": "f98a3d47-c2b5-4f79-829f-2b7109fa6a9b",
   "metadata": {
    "lines_to_next_cell": 0,
    "scrolled": true
   },
   "outputs": [
    {
     "name": "stdout",
     "output_type": "stream",
     "text": [
      "& 40\\% & 55\\% &  5\\% \\\n",
      "& 40\\% & 55\\% &  5\\% \\\n",
      "& 42\\% & 53\\% &  5\\% \\\n"
     ]
    }
   ],
   "source": [
    "def score_solves_by_candidate(solves_by_candidate, fn):\n",
    "  win_0,win_1,draw,cnt = 0,0,0,0\n",
    "  for s in solves_by_candidate:\n",
    "    scores=[ 0 for _ in range(len(s)) ]\n",
    "    for i, side in enumerate(s):\n",
    "      scores[i] = fn(side)\n",
    "    score = scores[0] - scores[1]\n",
    "    if score>0: win_0+=1\n",
    "    elif score<0: win_1+=1\n",
    "    else: draw+=1\n",
    "    cnt+=1\n",
    "  score_arr = win_0/cnt, draw/cnt, win_1/cnt\n",
    "  print(f\"& {score_arr[0]*100:2.0f}\\% & {score_arr[1]*100:2.0f}\\% & {score_arr[2]*100:2.0f}\\% \\\\\")\n",
    "  return score_arr\n",
    "def count_solves(side):\n",
    "  return sum([ (1 if run>-1 else 0) for run in side ])\n",
    "def fastest_solve(side):\n",
    "  #return sum([ (5-run if run>-1 else 0) for run in side ])\n",
    "  return -min([ (run if run>-1 else 6) for run in side+[-1] ] )\n",
    "def mean_solve(side):\n",
    "  return sum([ (6-run if run>-1 else 0) for run in side ])\n",
    "  \n",
    "score_arr=score_solves_by_candidate(solves_by_candidate, count_solves) \n",
    "score_arr=score_solves_by_candidate(solves_by_candidate, fastest_solve)\n",
    "score_arr=score_solves_by_candidate(solves_by_candidate, mean_solve)   \n",
    "\n",
    "# Original ICML Cognitive submission (also...)  WHAT IS THE DIFFERENCE?\n",
    "# 500 files done...\n",
    "# wordplays_1_candidate', split='val' gemini-1.0-pro\n",
    "# & 27\\% & 61\\% & 12\\% \\\n",
    "# & 29\\% & 55\\% & 16\\% \\\n",
    "# & 32\\% & 52\\% & 16\\% \\\n",
    "#   WILL KILL THIS ONE for -camera-ready\n",
    "\n",
    "# Original ICML Cognitive submission... Gemini-1.0-Pro\n",
    "# 'wordplays5_1_candidate', split='val-filtered' (confirmed)\n",
    "# & 38\\% & 59\\% &  3\\% \\\n",
    "# & 38\\% & 56\\% &  6\\% \\\n",
    "# & 38\\% & 56\\% &  6\\% \\\n",
    "#   Here we did llama def (no ans), then llama wordplay (with def+ans)\n",
    "#   Keep this in -camera-ready"
   ]
  },
  {
   "cell_type": "code",
   "execution_count": 33,
   "id": "c3287e8c-5877-4277-8d46-6dab7923122d",
   "metadata": {
    "lines_to_next_cell": 0
   },
   "outputs": [],
   "source": [
    "# 'wordplays5_1_candidate', split='val-filtered-flash' (confirmed)\n",
    "# & 21\\% & 78\\% &  1\\% \\\n",
    "# & 22\\% & 75\\% &  3\\% \\\n",
    "# & 24\\% & 72\\% &  4\\% \\\n",
    "#   Here we did llama def (no ans), then llama wordplay (with def+ans)\n",
    "# Puzzling : slightly better ratio, but perhaps 1.5-flash is better at coding / doesn't fake it?\n",
    "\n",
    "# 'def-and-wordplays5', split='val-filtered-flash' (confirmed)\n",
    "# & 40\\% & 55\\% &  5\\% \\\n",
    "# & 40\\% & 55\\% &  5\\% \\\n",
    "# & 42\\% & 53\\% &  5\\% \\\n",
    "# Good result for flash-1.5, using diverse llama (using answer => def+word)\n",
    "#   Add this to -camera-ready"
   ]
  },
  {
   "cell_type": "code",
   "execution_count": null,
   "id": "ef3335bf-4e0b-4eae-add5-f6b042e7bc66",
   "metadata": {},
   "outputs": [],
   "source": []
  },
  {
   "cell_type": "code",
   "execution_count": null,
   "id": "d72a7fee",
   "metadata": {},
   "outputs": [],
   "source": []
  }
 ],
 "metadata": {
  "jupytext": {
   "cell_metadata_filter": "incorrectly_encoded_metadata,title,-all",
   "cell_metadata_json": true,
   "formats": "cache-notebooks//ipynb,py:light"
  },
  "kernelspec": {
   "display_name": "Python 3 (ipykernel)",
   "language": "python",
   "name": "python3"
  },
  "language_info": {
   "codemirror_mode": {
    "name": "ipython",
    "version": 3
   },
   "file_extension": ".py",
   "mimetype": "text/x-python",
   "name": "python",
   "nbconvert_exporter": "python",
   "pygments_lexer": "ipython3",
   "version": "3.12.5"
  }
 },
 "nbformat": 4,
 "nbformat_minor": 5
}
